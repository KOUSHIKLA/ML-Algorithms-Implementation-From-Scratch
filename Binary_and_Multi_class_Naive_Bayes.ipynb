{
  "nbformat": 4,
  "nbformat_minor": 0,
  "metadata": {
    "colab": {
      "provenance": []
    },
    "kernelspec": {
      "name": "python3",
      "display_name": "Python 3"
    },
    "language_info": {
      "name": "python"
    }
  },
  "cells": [
    {
      "cell_type": "markdown",
      "source": [
        "# **NAME-KOUSHIK LAYEK**\n",
        "#**STUDENT ID-SC23M007**"
      ],
      "metadata": {
        "id": "da1FLGcXgMml"
      }
    },
    {
      "cell_type": "markdown",
      "source": [
        "# **(2)Check whether the email containing the sentence ”Good, nice, little stars.” is spam or ham**"
      ],
      "metadata": {
        "id": "H-Omd-YUb7th"
      }
    },
    {
      "cell_type": "code",
      "execution_count": null,
      "metadata": {
        "id": "pLGLjIEEG2XR",
        "colab": {
          "base_uri": "https://localhost:8080/"
        },
        "outputId": "43599766-7010-4afc-d686-ad4520e18bd1"
      },
      "outputs": [
        {
          "output_type": "stream",
          "name": "stdout",
          "text": [
            "The given Email is in spam\n"
          ]
        }
      ],
      "source": [
        "#The given training data\n",
        "docs = [\"Good to see you. Good day.\",\n",
        "        \"See the sky. See the little stars.\",\n",
        "        \"Nice picture. Nice, nice, frame.\",\n",
        "        \"See you. Good day.\"]\n",
        "classes = [\"spam\", \"ham\", \"ham\", \"spam\"]\n",
        "\n",
        "#create a vocabulary\n",
        "vocab=set()\n",
        "for doc in docs:\n",
        "  for word in doc.split():\n",
        "    vocab.add(word)\n",
        "vocb=list(vocab)\n",
        "\n",
        "#calculates the class_probability of each class\n",
        "class_probs={c:classes.count(c)/len(classes) for c in set(classes)}\n",
        "\n",
        "#calculate the cond probability for each word of docs\n",
        "cond_probs={}\n",
        "for c in class_probs.keys():\n",
        "  cond_probs[c]={}\n",
        "  for word in vocab:\n",
        "    cond_probs[c][word]=sum([doc.count(word) for doc,doc_class in zip(docs,classes) if doc_class==c])+1/(sum([len(doc.split()) for doc,doc_class in zip(docs,classes) if doc_class==c] )+len(vocb))\n",
        "\n",
        "    #print(cond_probs[c][word])\n",
        "#define the testing document\n",
        "test_doc=\"Good,nice,little stars\"\n",
        "\n",
        "#calculate the scores for each class\n",
        "scores={}\n",
        "for c in class_probs.keys():\n",
        "  scores[c]=class_probs[c]\n",
        "  for word in test_doc.split():\n",
        "    if word in cond_probs[c]:\n",
        "      scores[c]*=cond_probs[c][word]\n",
        "\n",
        "\n",
        "# Print the class with the highest score\n",
        "print('The given Email is in', max(scores, key=scores.get))\n",
        "\n",
        "\n"
      ]
    },
    {
      "cell_type": "markdown",
      "source": [
        "# **(3)Analyze Data 4 sing Naive Bayes.**"
      ],
      "metadata": {
        "id": "ZxW0o2f1q6wp"
      }
    },
    {
      "cell_type": "markdown",
      "source": [
        "**(a)Describe the procedure you used for the analysis.**"
      ],
      "metadata": {
        "id": "dVbpGB27tAzv"
      }
    },
    {
      "cell_type": "code",
      "source": [
        "#ttps://www.python-engineer.com/courses/mlfromscratch/05_naivebayes/"
      ],
      "metadata": {
        "id": "unkKk1HStKVc"
      },
      "execution_count": null,
      "outputs": []
    },
    {
      "cell_type": "code",
      "source": [
        "import numpy as np\n",
        "import pandas as pd\n",
        "df=pd.read_csv('/content/data5.csv')\n",
        "# Seperating X and Y arrays\n",
        "X = np.array(df.iloc[:, :-1])\n",
        "Y = np.array(df.iloc[:, -1])\n",
        "\n",
        "\n",
        "total_rows=len(X)\n",
        "\n",
        "#divided the data into training and testing data\n",
        "train_rows=int(0.8*total_rows)\n",
        "\n",
        "# Generate random indices for the training set\n",
        "train_indices = np.random.choice(total_rows, train_rows, replace=False)\n",
        "\n",
        "# Create the training set\n",
        "X2_train = X[train_indices, :]\n",
        "Y2_train = Y[train_indices]\n",
        "\n",
        "# Create the testing set by excluding the training indices\n",
        "X2_test = np.delete(X, train_indices, axis=0)\n",
        "Y2_test = np.delete(Y, train_indices, axis=0)"
      ],
      "metadata": {
        "id": "ZI6vFprqM7wM"
      },
      "execution_count": null,
      "outputs": []
    },
    {
      "cell_type": "code",
      "source": [
        "import numpy as np\n",
        "\n",
        "def fit_naive_bayes(X, y):\n",
        "    n_samples, n_features = X.shape\n",
        "    classes = np.unique(y)\n",
        "    n_classes = len(classes)\n",
        "\n",
        "    # Initilization of  mean, var, and prior for each class\n",
        "    mean = np.zeros((n_classes, n_features),dtype=np.float64)\n",
        "    var = np.zeros((n_classes, n_features), dtype=np.float64)\n",
        "    priors = np.zeros(n_classes, dtype=np.float64)\n",
        "\n",
        "    for idx, c in enumerate(classes):\n",
        "        X_c = X[y == c]\n",
        "        mean[idx, :] = X_c.mean(axis=0)\n",
        "        var[idx, :] = X_c.var(axis=0)\n",
        "        priors[idx] = X_c.shape[0] / float(n_samples)\n",
        "\n",
        "    return mean, var, priors, classes\n",
        "\n",
        "def predict_naive_bayes(X, mean, var, priors, classes):\n",
        "    y_pred = [_predict_naive_bayes(x, mean, var, priors, classes) for x in X]\n",
        "    return np.array(y_pred)\n",
        "\n",
        "def _predict_naive_bayes(x, mean, var, priors, classes):\n",
        "    posteriors = []\n",
        "\n",
        "    # Calculate posterior probability for each class\n",
        "    for idx, c in enumerate(classes):\n",
        "        prior = np.log(priors[idx])\n",
        "        posterior = np.sum(np.log(_pdf_naive_bayes(idx, x, mean, var)))\n",
        "        posterior = prior + posterior\n",
        "        posteriors.append(posterior)\n",
        "\n",
        "\n",
        "    return classes[np.argmax(posteriors)]\n",
        "\n",
        "def _pdf_naive_bayes(class_idx, x, mean, var):\n",
        "    numerator = np.exp(- (x - mean[class_idx])**2 / (2 * var[class_idx]))\n",
        "    denominator = np.sqrt(2 * np.pi * var[class_idx])\n",
        "    return numerator / denominator\n",
        "\n",
        "# Assuming X2_train, Y2_train, X2_test, and Y2_test are your training and testing sets\n",
        "mean, var, priors, classes = fit_naive_bayes(X2_train, Y2_train)\n",
        "\n",
        "# Make predictions on the testing set\n",
        "predictions = predict_naive_bayes(X2_test, mean, var, priors, classes)\n",
        "\n",
        "print(predictions)\n"
      ],
      "metadata": {
        "colab": {
          "base_uri": "https://localhost:8080/"
        },
        "id": "JgtjJMHNSB-7",
        "outputId": "c49e4848-a0af-40b5-8d2b-f616aaa9db3f"
      },
      "execution_count": null,
      "outputs": [
        {
          "output_type": "stream",
          "name": "stdout",
          "text": [
            "[-1 -1 -1  1 -1 -1  1  1 -1 -1  1  1 -1  1 -1  1 -1 -1 -1 -1  1 -1 -1  1\n",
            "  1  1 -1  1  1  1  1  1 -1  1  1  1  1  1  1 -1 -1  1 -1  1]\n"
          ]
        }
      ]
    },
    {
      "cell_type": "markdown",
      "source": [
        "**(b)PERFORMANCE MEASURE**"
      ],
      "metadata": {
        "id": "1sBiVcu9qM1R"
      }
    },
    {
      "cell_type": "code",
      "source": [
        "TP=0\n",
        "TN=0\n",
        "FN=0\n",
        "FP=0\n",
        "for i in range(len(Y2_test)):\n",
        "  if(predictions[i]==Y2_test[i]==1):\n",
        "    TP+=1\n",
        "  elif(predictions[i]==Y2_test[i]==-1):\n",
        "    TN+=1\n",
        "  elif(predictions[i]==1 and Y2_test[i]==-1):\n",
        "    FN+=1\n",
        "  elif(predictions[i]==-1 and Y2_test[i]== 1):\n",
        "    FP+=1\n",
        "print('True_positive=',TP)\n",
        "print('True_negative=',TN)\n",
        "print('False_negative=',FN)\n",
        "print('False_positive=',FP)\n",
        "\n",
        "\n",
        "#Accuracy\n",
        "Accuracy=(TP+TN)/(TP+TN+FP+FN)\n",
        "#sensitivity\n",
        "sensitivity=TP/(TP+FN)\n",
        "#specificity\n",
        "specificity=TN/(TN+FP)\n",
        "#precision\n",
        "precision=TP/(TP+FP)\n",
        "#F_measure\n",
        "F_measure=(2*precision*sensitivity)/(precision+sensitivity)\n",
        "print('Accuracy of the model is=',Accuracy)\n",
        "print('sensitivity of the model is=',sensitivity)\n",
        "print('specificaty of the model is=',specificity)\n",
        "print('precision of the model is= ',precision)\n",
        "print('F_measure of the model is=',F_measure)\n"
      ],
      "metadata": {
        "colab": {
          "base_uri": "https://localhost:8080/"
        },
        "id": "H_2wVGgFV18C",
        "outputId": "7de08f6c-a05b-4c7c-a120-1d3ed6c8295a"
      },
      "execution_count": null,
      "outputs": [
        {
          "output_type": "stream",
          "name": "stdout",
          "text": [
            "True_positive= 22\n",
            "True_negative= 19\n",
            "False_negative= 2\n",
            "False_positive= 1\n",
            "Accuracy of the model is= 0.9318181818181818\n",
            "sensitivity of the model is= 0.9166666666666666\n",
            "specificaty of the model is= 0.95\n",
            "precision of the model is=  0.9565217391304348\n",
            "F_measure of the model is= 0.9361702127659574\n"
          ]
        }
      ]
    },
    {
      "cell_type": "markdown",
      "source": [
        "# **(4)Apply Multinomial Naive Bayes on Data 6.**"
      ],
      "metadata": {
        "id": "Xwl43Julrmo-"
      }
    },
    {
      "cell_type": "code",
      "source": [
        "\n",
        "import numpy as np\n",
        "import pandas as pd\n",
        "df=pd.read_csv('/content/data6.csv')\n",
        "# Seperating X and Y arrays\n",
        "X = np.array(df.iloc[:, :-1])\n",
        "Y = np.array(df.iloc[:, -1])\n",
        "\n",
        "\n",
        "total_rows=len(X)\n",
        "\n",
        "#divided the data into training and testing data\n",
        "train_rows=int(0.8*total_rows)\n",
        "\n",
        "# Generate random indices for the training set\n",
        "train_indices = np.random.choice(total_rows, train_rows, replace=False)\n",
        "\n",
        "# Create the training set\n",
        "X2_train = X[train_indices, :]\n",
        "Y2_train = Y[train_indices]\n",
        "\n",
        "# Create the testing set by excluding the training indices\n",
        "X2_test = np.delete(X, train_indices, axis=0)\n",
        "Y2_test = np.delete(Y, train_indices, axis=0)"
      ],
      "metadata": {
        "id": "rA5FFGgTj_50"
      },
      "execution_count": null,
      "outputs": []
    },
    {
      "cell_type": "code",
      "source": [
        "Y"
      ],
      "metadata": {
        "colab": {
          "base_uri": "https://localhost:8080/"
        },
        "id": "WTJ0fuxhRUan",
        "outputId": "f7f02af8-e99b-47eb-8853-a2128e357a54"
      },
      "execution_count": null,
      "outputs": [
        {
          "output_type": "execute_result",
          "data": {
            "text/plain": [
              "array([0, 0, 0, 0, 0, 0, 0, 0, 0, 0, 0, 0, 0, 0, 0, 0, 0, 0, 0, 0, 0, 0,\n",
              "       0, 0, 0, 0, 0, 0, 0, 0, 0, 0, 0, 0, 0, 0, 0, 0, 0, 0, 0, 0, 0, 0,\n",
              "       0, 0, 0, 0, 0, 0, 0, 0, 0, 0, 0, 0, 0, 0, 0, 0, 0, 0, 0, 0, 0, 0,\n",
              "       0, 0, 0, 0, 0, 0, 0, 0, 0, 0, 0, 0, 0, 0, 0, 0, 0, 0, 0, 0, 0, 1,\n",
              "       1, 1, 1, 1, 1, 1, 1, 1, 1, 1, 1, 1, 1, 1, 1, 1, 1, 1, 1, 1, 1, 1,\n",
              "       1, 1, 1, 1, 1, 1, 1, 1, 1, 1, 1, 1, 1, 1, 1, 1, 1, 1, 1, 1, 1, 1,\n",
              "       1, 1, 1, 1, 1, 1, 1, 1, 1, 1, 1, 1, 1, 1, 1, 1, 1, 1, 1, 1, 1, 1,\n",
              "       1, 1, 1, 1, 1, 1, 1, 1, 1, 1, 1, 1, 1, 1, 1, 1, 1, 1, 1, 1, 1, 1,\n",
              "       1, 1, 1, 1, 1, 1, 1, 1, 1, 1, 1, 1, 1, 1, 1, 1, 1, 1, 1, 1, 1, 1,\n",
              "       1, 1, 1, 1, 1, 1, 1, 1, 1])"
            ]
          },
          "metadata": {},
          "execution_count": 217
        }
      ]
    },
    {
      "cell_type": "code",
      "source": [
        "np.shape(X2_train)"
      ],
      "metadata": {
        "colab": {
          "base_uri": "https://localhost:8080/"
        },
        "id": "Ict9a0wMNY54",
        "outputId": "10b398b8-8e8c-47b9-f420-9d52d57c741d"
      },
      "execution_count": null,
      "outputs": [
        {
          "output_type": "execute_result",
          "data": {
            "text/plain": [
              "(165, 3)"
            ]
          },
          "metadata": {},
          "execution_count": 225
        }
      ]
    },
    {
      "cell_type": "code",
      "source": [
        "import numpy as np\n",
        "\n",
        "def fit_naive_bayes(X, y):\n",
        "    n_samples, n_features = X.shape\n",
        "    classes = np.unique(y)\n",
        "    n_classes = len(classes)\n",
        "\n",
        "    # Initilization of  mean, var, and prior for each class\n",
        "    mean = np.zeros((n_classes, n_features),dtype=np.float64)\n",
        "    var = np.zeros((n_classes, n_features), dtype=np.float64)\n",
        "    priors = np.zeros(n_classes, dtype=np.float64)\n",
        "\n",
        "    for idx, c in enumerate(classes):\n",
        "        X_c = X[y == c]\n",
        "        mean[idx, :] = X_c.mean(axis=0)\n",
        "        var[idx, :] = X_c.var(axis=0)\n",
        "        priors[idx] = X_c.shape[0] / float(n_samples)\n",
        "\n",
        "    return mean, var, priors, classes\n",
        "\n",
        "def predict_naive_bayes(X, mean, var, priors, classes):\n",
        "    y_pred = [_predict_naive_bayes(x, mean, var, priors, classes) for x in X]\n",
        "    return np.array(y_pred)\n",
        "\n",
        "def _predict_naive_bayes(x, mean, var, priors, classes):\n",
        "    posteriors = []\n",
        "\n",
        "    # Calculate posterior probability for each class\n",
        "    for idx, c in enumerate(classes):\n",
        "        prior = np.log(priors[idx])\n",
        "        posterior = np.sum(np.log(_pdf_naive_bayes(idx, x, mean, var)))\n",
        "        posterior = prior + posterior\n",
        "        posteriors.append(posterior)\n",
        "\n",
        "\n",
        "    return classes[np.argmax(posteriors)]\n",
        "\n",
        "def _pdf_naive_bayes(class_idx, x, mean, var):\n",
        "    numerator = np.exp(- (x - mean[class_idx])**2 / (2 * var[class_idx]))\n",
        "    denominator = np.sqrt(2 * np.pi * var[class_idx])\n",
        "    return numerator / denominator\n",
        "\n",
        "# Assuming X2_train, Y2_train, X2_test, and Y2_test are your training and testing sets\n",
        "mean, var, priors, classes = fit_naive_bayes(X2_train, Y2_train)\n",
        "\n",
        "# Make predictions on the testing set\n",
        "predictions = predict_naive_bayes(X2_test, mean, var, priors, classes)\n",
        "\n",
        "print(predictions)"
      ],
      "metadata": {
        "colab": {
          "base_uri": "https://localhost:8080/"
        },
        "id": "zLY8tUs1qc3Z",
        "outputId": "4dd7296d-a199-4133-8103-aedeb341443e"
      },
      "execution_count": null,
      "outputs": [
        {
          "output_type": "stream",
          "name": "stdout",
          "text": [
            "[0 0 0 0 0 0 0 0 0 0 0 0 0 0 0 1 1 1 1 1 1 1 1 1 1 1 1 1 1 1 1 0 1 1 1 1 1\n",
            " 1 1 1 0 1]\n"
          ]
        }
      ]
    },
    {
      "cell_type": "markdown",
      "source": [
        "**Report the parameter**"
      ],
      "metadata": {
        "id": "Q8-7MSJWrQR4"
      }
    },
    {
      "cell_type": "code",
      "source": [
        "print('mean=',mean)\n",
        "print('priors=',priors)\n",
        "print('variance=',var)"
      ],
      "metadata": {
        "colab": {
          "base_uri": "https://localhost:8080/"
        },
        "id": "yxi-P1PtrWjC",
        "outputId": "368d4f29-7fa4-4695-8cb7-f5a0087f5df7"
      },
      "execution_count": null,
      "outputs": [
        {
          "output_type": "stream",
          "name": "stdout",
          "text": [
            "mean= [[20.         12.68055556 17.31944444]\n",
            " [13.66666667 19.74193548 16.59139785]]\n",
            "priors= [0.43636364 0.56363636]\n",
            "variance= [[10.97222222  8.41184414 24.63406636]\n",
            " [11.8781362  11.09469303 23.03734536]]\n"
          ]
        }
      ]
    },
    {
      "cell_type": "markdown",
      "source": [
        "**Decession Boundary(The region where the colors transition represents the decision boundary between different classes.)**"
      ],
      "metadata": {
        "id": "Me2Zlp8NsQoX"
      }
    },
    {
      "cell_type": "code",
      "source": [
        "import matplotlib.pyplot as plt\n",
        "from mpl_toolkits.mplot3d import Axes3D\n",
        "\n",
        "# Assuming X2_train has three features (shape=(165, 3))\n",
        "# You may need to adjust the indices based on your actual feature names or order\n",
        "feature1 = X2_train[:, 0]\n",
        "feature2 = X2_train[:, 1]\n",
        "feature3 = X2_train[:, 2]\n",
        "\n",
        "# Create a meshgrid for 3D plot\n",
        "x_min, x_max = feature1.min() - 1, feature1.max() + 1\n",
        "y_min, y_max = feature2.min() - 1, feature2.max() + 1\n",
        "z_min, z_max = feature3.min() - 1, feature3.max() + 1\n",
        "\n",
        "xx, yy, zz = np.meshgrid(np.arange(x_min, x_max, 0.1),\n",
        "                         np.arange(y_min, y_max, 0.1),\n",
        "                         np.arange(z_min, z_max, 0.1))\n",
        "\n",
        "# Flatten the meshgrid and make predictions for each point\n",
        "meshgrid_points = np.c_[xx.ravel(), yy.ravel(), zz.ravel()]\n",
        "meshgrid_predictions = predict_naive_bayes(meshgrid_points, mean, var, priors, classes)\n",
        "\n",
        "# Reshape predictions to the shape of the meshgrid\n",
        "meshgrid_predictions = meshgrid_predictions.reshape(xx.shape)\n",
        "\n",
        "# Plot the 3D decision boundary\n",
        "fig = plt.figure(figsize=(10, 8))\n",
        "ax = fig.add_subplot(111, projection='3d')\n",
        "\n",
        "ax.scatter(feature1, feature2, feature3, c=Y2_train, marker='o', label='Training Data')\n",
        "ax.scatter(X2_test[:, 0], X2_test[:, 1], X2_test[:, 2], c=predictions, marker='x', label='Test Predictions')\n",
        "\n",
        "ax.set_xlabel('Feature 1')\n",
        "ax.set_ylabel('Feature 2')\n",
        "ax.set_zlabel('Feature 3')\n",
        "ax.set_title('Naive Bayes Decision Boundary')\n",
        "\n",
        "plt.show()\n"
      ],
      "metadata": {
        "colab": {
          "base_uri": "https://localhost:8080/",
          "height": 662
        },
        "id": "hZu7yw_euvwP",
        "outputId": "bc54620d-f804-461c-e3b8-fcffa8d8b0d2"
      },
      "execution_count": null,
      "outputs": [
        {
          "output_type": "display_data",
          "data": {
            "text/plain": [
              "<Figure size 1000x800 with 1 Axes>"
            ],
            "image/png": "[encoded data removed]"
          },
          "metadata": {}
        }
      ]
    },
    {
      "cell_type": "markdown",
      "source": [
        "**Report The Performance Measured**"
      ],
      "metadata": {
        "id": "Dqr-wfV4z6jD"
      }
    },
    {
      "cell_type": "code",
      "source": [
        "TP=0\n",
        "TN=0\n",
        "FN=0\n",
        "FP=0\n",
        "for i in range(len(Y2_test)):\n",
        "  if(predictions[i]==Y2_test[i]==1):\n",
        "    TP+=1\n",
        "  elif(predictions[i]==Y2_test[i]==0):\n",
        "    TN+=1\n",
        "  elif(predictions[i]==1 and Y2_test[i]==0):\n",
        "    FN+=1\n",
        "  elif(predictions[i]==-1 and Y2_test[i]==0):\n",
        "    FP+=1\n",
        "print('True_positive=',TP)\n",
        "print('False_positive=',FP)\n",
        "print('True_negative=',TN)\n",
        "print('False_negative=',FN)\n",
        "\n",
        "\n",
        "#Accuracy\n",
        "Accuracy=(TP+TN)/(TP+TN+FP+FN)\n",
        "\n",
        "print('Accuracy of the model is=',Accuracy)"
      ],
      "metadata": {
        "colab": {
          "base_uri": "https://localhost:8080/"
        },
        "id": "usYS6P6fz-DJ",
        "outputId": "a38cee06-f0ae-43f9-b8f8-2fded64c44d9"
      },
      "execution_count": null,
      "outputs": [
        {
          "output_type": "stream",
          "name": "stdout",
          "text": [
            "True_positive= 25\n",
            "False_positive= 0\n",
            "True_negative= 15\n",
            "False_negative= 0\n",
            "Accuracy of the model is= 1.0\n"
          ]
        }
      ]
    },
    {
      "cell_type": "markdown",
      "source": [
        "# **In Another Approach**"
      ],
      "metadata": {
        "id": "9h_fgZXYzinE"
      }
    },
    {
      "cell_type": "code",
      "source": [
        "def fit_multinomial_naive_bayes(x,y):\n",
        "  n_samples,n_features = X.shape\n",
        "  classes=np.unique(y)\n",
        "  n_classes=len(classes)\n",
        "\n",
        "  #calculate the class prior probabilities\n",
        "  pi_c=np.log([np.sum(y==c)/n_samples for c in classes])\n",
        "\n",
        "  #calculate feature probability for each class\n",
        "  word_counts_per_class= np.array([np.sum(x[y==c],axis=0) for c in classes])+1\n",
        "  pj_c=np.log(word_counts_per_class/(np.sum(word_counts_per_class,axis=1,keepdims=True)+n_features))\n",
        "\n",
        "  return pi_c,pj_c\n",
        "\n",
        "\n",
        "def predict_multinomial_naive_bayes(x,pi_c,pj_c):\n",
        "  l_hat=x @ pj_c.T+pi_c\n",
        "  predicted_classes=np.argmax(l_hat,axis=1)\n",
        "\n",
        "  return predicted_classes\n",
        "\n",
        "pi_c,pj_c=fit_multinomial_naive_bayes(X2_train,Y2_train)\n",
        "\n",
        "predicted_class=predict_multinomial_naive_bayes(X2_test,pi_c,pj_c)\n",
        "\n"
      ],
      "metadata": {
        "id": "VXq0lMxZr_mK"
      },
      "execution_count": null,
      "outputs": []
    },
    {
      "cell_type": "code",
      "source": [
        "predicted_class"
      ],
      "metadata": {
        "colab": {
          "base_uri": "https://localhost:8080/"
        },
        "id": "eDCfjFku_zzM",
        "outputId": "267245c7-f974-4357-aca7-81808971a911"
      },
      "execution_count": null,
      "outputs": [
        {
          "output_type": "execute_result",
          "data": {
            "text/plain": [
              "array([0, 0, 0, 0, 0, 0, 0, 0, 0, 0, 0, 0, 0, 0, 0, 1, 1, 1, 1, 1, 1, 1,\n",
              "       1, 1, 1, 1, 1, 1, 1, 1, 1, 0, 1, 1, 1, 1, 1, 1, 1, 1, 0, 1])"
            ]
          },
          "metadata": {},
          "execution_count": 228
        }
      ]
    },
    {
      "cell_type": "markdown",
      "source": [
        "# **4(b)Report the parameters of the model**"
      ],
      "metadata": {
        "id": "I8NIQsjXPps2"
      }
    },
    {
      "cell_type": "code",
      "source": [
        "print('class prior probabilities=',pi_c)\n",
        "print('Feature Probability Matrix=',pj_c)"
      ],
      "metadata": {
        "colab": {
          "base_uri": "https://localhost:8080/"
        },
        "id": "y_jEMX40PnqG",
        "outputId": "baa5e80f-4126-4098-950d-dffbe029066d"
      },
      "execution_count": null,
      "outputs": [
        {
          "output_type": "stream",
          "name": "stdout",
          "text": [
            "class prior probabilities= [-1.05605267 -0.8001193 ]\n",
            "Feature Probability Matrix= [[-0.91726181 -1.37252383 -1.06105685]\n",
            " [-1.29756625 -0.9300229  -1.10378026]]\n"
          ]
        }
      ]
    },
    {
      "cell_type": "markdown",
      "source": [
        "# **(4)( a )Decision Boundary-log(πc​∏j​(pjc​)xj​)=logπc​+∑j=1n​xj​logpjc​=w0​+wcT​x**"
      ],
      "metadata": {
        "id": "7XQkoD1MRCUa"
      }
    },
    {
      "cell_type": "code",
      "source": [
        "import numpy as np\n",
        "import matplotlib.pyplot as plt\n",
        "from mpl_toolkits.mplot3d import Axes3D\n",
        "\n",
        "# Assuming you have trained your model and obtained pi_c and pj_c\n",
        "\n",
        "# Generate a grid of points\n",
        "x_min, x_max = X2_test[:, 0].min() - 1, X2_test[:, 0].max() + 1\n",
        "y_min, y_max = X2_test[:, 1].min() - 1, X2_test[:, 1].max() + 1\n",
        "z_min, z_max = X2_test[:, 2].min() - 1, X2_test[:, 2].max() + 1\n",
        "\n",
        "xx, yy, zz = np.meshgrid(np.arange(x_min, x_max, 0.1), np.arange(y_min, y_max, 0.1), np.arange(z_min, z_max, 0.1))\n",
        "\n",
        "# Flatten the grid and predict the class for each point\n",
        "grid_points = np.c_[xx.ravel(), yy.ravel(), zz.ravel()]\n",
        "predicted_classes = predict_multinomial_naive_bayes(grid_points, pi_c, pj_c)\n",
        "\n",
        "# Reshape the predictions to match the shape of the meshgrid\n",
        "decision_surface = predicted_classes.reshape(xx.shape)\n",
        "\n",
        "\n",
        "\n",
        "\n",
        "# Plot the decision boundary in a 3D space\n",
        "fig = plt.figure()\n",
        "ax = fig.add_subplot(111, projection='3d')\n",
        "ax.scatter(X2_test[:, 0], X2_test[:, 1], X2_test[:, 2], c=Y2_test, marker='o', s=100, edgecolors='k')\n",
        "\n",
        "ax.set_xlabel(\"Feature 1\")\n",
        "ax.set_ylabel(\"Feature 2\")\n",
        "ax.set_zlabel(\"Feature 3\")\n",
        "\n",
        "# Flatten the meshgrid for plotting\n",
        "xx_flat = xx.ravel()\n",
        "yy_flat = yy.ravel()\n",
        "zz_flat = zz.ravel()\n",
        "\n",
        "# Plot the decision boundary surface\n",
        "#ax.plot_trisurf(xx_flat, yy_flat, zz_flat, cmap=plt.cm.bwr, linewidth=0.2, alpha=0.5)\n",
        "\n",
        "plt.title(\"Multinomial Naive Bayes Decision Boundary in 3D\")\n",
        "plt.show()\n",
        "\n"
      ],
      "metadata": {
        "colab": {
          "base_uri": "https://localhost:8080/",
          "height": 432
        },
        "id": "_2sfTr9YV1sI",
        "outputId": "518be026-d4fe-4d37-e495-0fe994bf78ac"
      },
      "execution_count": null,
      "outputs": [
        {
          "output_type": "display_data",
          "data": {
            "text/plain": [
              "<Figure size 640x480 with 1 Axes>"
            ],
            "image/png": "[encoded data removed]"
          },
          "metadata": {}
        }
      ]
    },
    {
      "cell_type": "markdown",
      "source": [
        "# **4(c)Report the performance measure used and their values**"
      ],
      "metadata": {
        "id": "d_voE1m8Vaor"
      }
    },
    {
      "cell_type": "code",
      "source": [
        "TP=0\n",
        "TN=0\n",
        "FN=0\n",
        "FP=0\n",
        "for i in range(len(Y2_test)):\n",
        "  if(predicted_class[i]==Y2_test[i]==1):\n",
        "    TP+=1\n",
        "  elif(predicted_class[i]==Y2_test[i]==0):\n",
        "    TN+=1\n",
        "  elif(predicted_class[i]==1 and Y2_test[i]==0):\n",
        "    FN+=1\n",
        "  elif(predicted_class[i]==-1 and Y2_test[i]==0):\n",
        "    FP+=1\n",
        "print('True_positive=',TP)\n",
        "print('False_positive=',FP)\n",
        "print('True_negative=',TN)\n",
        "print('False_negative=',FN)\n",
        "\n",
        "\n",
        "#Accuracy\n",
        "Accuracy=(TP+TN)/(TP+TN+FP+FN)\n",
        "\n",
        "print('Accuracy of the model is=',Accuracy)\n"
      ],
      "metadata": {
        "colab": {
          "base_uri": "https://localhost:8080/"
        },
        "id": "SXlJ6lo3Is6J",
        "outputId": "f49e2cb4-9d5c-4987-e017-41e91e200cda"
      },
      "execution_count": null,
      "outputs": [
        {
          "output_type": "stream",
          "name": "stdout",
          "text": [
            "True_positive= 24\n",
            "False_positive= 0\n",
            "True_negative= 18\n",
            "False_negative= 0\n",
            "Accuracy of the model is= 1.0\n"
          ]
        }
      ]
    },
    {
      "cell_type": "markdown",
      "source": [
        "# **Apply Naive Bayes on Ionosphere data set.**"
      ],
      "metadata": {
        "id": "jOvnnM-7K5rS"
      }
    },
    {
      "cell_type": "markdown",
      "source": [
        "# **4(a)(b)Apply hold out cross validation techniques and all the pre-processing techniques that used**"
      ],
      "metadata": {
        "id": "fhbodb66NZVy"
      }
    },
    {
      "cell_type": "code",
      "source": [
        "import numpy as np\n",
        "import pandas as pd\n",
        "df=pd.read_csv('/content/ionosphere.data')\n",
        "\n",
        "df=df.iloc[:,2:]\n",
        "# Seperating X and Y arrays\n",
        "X = np.array(df.iloc[:, :-1])\n",
        "Y = np.array(df.iloc[:, -1])\n",
        "# Assuming 'b' is 0 and 'g' is 1\n",
        "Y[Y == 'b'] = 0\n",
        "Y[Y == 'g'] = 1\n",
        "\n",
        "# Convert the labels to integers\n",
        "Y = Y.astype(int)\n",
        "\n",
        "total_rows=len(X)\n",
        "\n",
        "#divided the data into training and testing data\n",
        "train_rows=int(0.8*total_rows)\n",
        "\n",
        "# Generate random indices for the training set\n",
        "train_indices = np.random.choice(total_rows, train_rows, replace=False)\n",
        "\n",
        "# Create the training set\n",
        "X2_train = X[train_indices, :]\n",
        "Y2_train = Y[train_indices]\n",
        "\n",
        "# Create the testing set by excluding the training indices\n",
        "X2_test = np.delete(X, train_indices, axis=0)\n",
        "Y2_test = np.delete(Y, train_indices, axis=0)"
      ],
      "metadata": {
        "id": "dmNp0V6CK5QH"
      },
      "execution_count": null,
      "outputs": []
    },
    {
      "cell_type": "code",
      "source": [
        "df"
      ],
      "metadata": {
        "colab": {
          "base_uri": "https://localhost:8080/",
          "height": 443
        },
        "id": "bp5nBxveQ6kv",
        "outputId": "fca915e9-c933-4245-ccc3-16b2b2a40aea"
      },
      "execution_count": null,
      "outputs": [
        {
          "output_type": "execute_result",
          "data": {
            "text/plain": [
              "     0.99539  -0.05889  0.85243  0.02306  0.83398  -0.37708      1.1  0.03760  \\\n",
              "0    1.00000  -0.18829  0.93035 -0.36156 -0.10868  -0.93597  1.00000 -0.04549   \n",
              "1    1.00000  -0.03365  1.00000  0.00485  1.00000  -0.12062  0.88965  0.01198   \n",
              "2    1.00000  -0.45161  1.00000  1.00000  0.71216  -1.00000  0.00000  0.00000   \n",
              "3    1.00000  -0.02401  0.94140  0.06531  0.92106  -0.23255  0.77152 -0.16399   \n",
              "4    0.02337  -0.00592 -0.09924 -0.11949 -0.00763  -0.11824  0.14706  0.06637   \n",
              "..       ...       ...      ...      ...      ...       ...      ...      ...   \n",
              "345  0.83508   0.08298  0.73739 -0.14706  0.84349  -0.05567  0.90441 -0.04622   \n",
              "346  0.95113   0.00419  0.95183 -0.02723  0.93438  -0.01920  0.94590  0.01606   \n",
              "347  0.94701  -0.00034  0.93207 -0.03227  0.95177  -0.03431  0.95584  0.02446   \n",
              "348  0.90608  -0.01657  0.98122 -0.01989  0.95691  -0.03646  0.85746  0.00110   \n",
              "349  0.84710   0.13533  0.73638 -0.06151  0.87873   0.08260  0.88928 -0.09139   \n",
              "\n",
              "     0.85243.1  -0.17755  ...  -0.51171  0.41078  -0.46168  0.21266  -0.34090  \\\n",
              "0      0.50874  -0.67743  ...  -0.26569 -0.20468  -0.18401 -0.19040  -0.11593   \n",
              "1      0.73082   0.05346  ...  -0.40220  0.58984  -0.22145  0.43100  -0.17365   \n",
              "2      0.00000   0.00000  ...   0.90695  0.51613   1.00000  1.00000  -0.20099   \n",
              "3      0.52798  -0.20275  ...  -0.65158  0.13290  -0.53206  0.02431  -0.62197   \n",
              "4      0.03786  -0.06302  ...  -0.01535 -0.03240   0.09223 -0.07859   0.00732   \n",
              "..         ...       ...  ...       ...      ...       ...      ...       ...   \n",
              "345    0.89391   0.13130  ...  -0.04202  0.83479   0.00123  1.00000   0.12815   \n",
              "346    0.96510   0.03281  ...   0.01361  0.93522   0.04925  0.93159   0.08168   \n",
              "347    0.94124   0.01766  ...   0.03193  0.92489   0.02542  0.92120   0.02242   \n",
              "348    0.89724  -0.03315  ...  -0.02099  0.89147  -0.07760  0.82983  -0.17238   \n",
              "349    0.78735   0.06678  ...  -0.15114  0.81147  -0.04822  0.78207  -0.00703   \n",
              "\n",
              "     0.42267  -0.54487  0.18641  -0.45300  g  \n",
              "0   -0.16626  -0.06288 -0.13738  -0.02447  b  \n",
              "1    0.60436  -0.24180  0.56045  -0.38238  g  \n",
              "2    0.25682   1.00000 -0.32382   1.00000  b  \n",
              "3   -0.05707  -0.59573 -0.04608  -0.65697  g  \n",
              "4    0.00000   0.00000 -0.00039   0.12011  b  \n",
              "..       ...       ...      ...       ... ..  \n",
              "345  0.86660  -0.10714  0.90546  -0.04307  g  \n",
              "346  0.94066  -0.00035  0.91483   0.04712  g  \n",
              "347  0.92459   0.00442  0.92697  -0.00577  g  \n",
              "348  0.96022  -0.03757  0.87403  -0.16243  g  \n",
              "349  0.75747  -0.06678  0.85764  -0.06151  g  \n",
              "\n",
              "[350 rows x 33 columns]"
            ],
            "text/html": [
              "\n",
              "  <div id=\"df-40be308a-4f3d-42c0-983d-3ef8454b589a\" class=\"colab-df-container\">\n",
              "    <div>\n",
              "<style scoped>\n",
              "    .dataframe tbody tr th:only-of-type {\n",
              "        vertical-align: middle;\n",
              "    }\n",
              "\n",
              "    .dataframe tbody tr th {\n",
              "        vertical-align: top;\n",
              "    }\n",
              "\n",
              "    .dataframe thead th {\n",
              "        text-align: right;\n",
              "    }\n",
              "</style>\n",
              "<table border=\"1\" class=\"dataframe\">\n",
              "  <thead>\n",
              "    <tr style=\"text-align: right;\">\n",
              "      <th></th>\n",
              "      <th>0.99539</th>\n",
              "      <th>-0.05889</th>\n",
              "      <th>0.85243</th>\n",
              "      <th>0.02306</th>\n",
              "      <th>0.83398</th>\n",
              "      <th>-0.37708</th>\n",
              "      <th>1.1</th>\n",
              "      <th>0.03760</th>\n",
              "      <th>0.85243.1</th>\n",
              "      <th>-0.17755</th>\n",
              "      <th>...</th>\n",
              "      <th>-0.51171</th>\n",
              "      <th>0.41078</th>\n",
              "      <th>-0.46168</th>\n",
              "      <th>0.21266</th>\n",
              "      <th>-0.34090</th>\n",
              "      <th>0.42267</th>\n",
              "      <th>-0.54487</th>\n",
              "      <th>0.18641</th>\n",
              "      <th>-0.45300</th>\n",
              "      <th>g</th>\n",
              "    </tr>\n",
              "  </thead>\n",
              "  <tbody>\n",
              "    <tr>\n",
              "      <th>0</th>\n",
              "      <td>1.00000</td>\n",
              "      <td>-0.18829</td>\n",
              "      <td>0.93035</td>\n",
              "      <td>-0.36156</td>\n",
              "      <td>-0.10868</td>\n",
              "      <td>-0.93597</td>\n",
              "      <td>1.00000</td>\n",
              "      <td>-0.04549</td>\n",
              "      <td>0.50874</td>\n",
              "      <td>-0.67743</td>\n",
              "      <td>...</td>\n",
              "      <td>-0.26569</td>\n",
              "      <td>-0.20468</td>\n",
              "      <td>-0.18401</td>\n",
              "      <td>-0.19040</td>\n",
              "      <td>-0.11593</td>\n",
              "      <td>-0.16626</td>\n",
              "      <td>-0.06288</td>\n",
              "      <td>-0.13738</td>\n",
              "      <td>-0.02447</td>\n",
              "      <td>b</td>\n",
              "    </tr>\n",
              "    <tr>\n",
              "      <th>1</th>\n",
              "      <td>1.00000</td>\n",
              "      <td>-0.03365</td>\n",
              "      <td>1.00000</td>\n",
              "      <td>0.00485</td>\n",
              "      <td>1.00000</td>\n",
              "      <td>-0.12062</td>\n",
              "      <td>0.88965</td>\n",
              "      <td>0.01198</td>\n",
              "      <td>0.73082</td>\n",
              "      <td>0.05346</td>\n",
              "      <td>...</td>\n",
              "      <td>-0.40220</td>\n",
              "      <td>0.58984</td>\n",
              "      <td>-0.22145</td>\n",
              "      <td>0.43100</td>\n",
              "      <td>-0.17365</td>\n",
              "      <td>0.60436</td>\n",
              "      <td>-0.24180</td>\n",
              "      <td>0.56045</td>\n",
              "      <td>-0.38238</td>\n",
              "      <td>g</td>\n",
              "    </tr>\n",
              "    <tr>\n",
              "      <th>2</th>\n",
              "      <td>1.00000</td>\n",
              "      <td>-0.45161</td>\n",
              "      <td>1.00000</td>\n",
              "      <td>1.00000</td>\n",
              "      <td>0.71216</td>\n",
              "      <td>-1.00000</td>\n",
              "      <td>0.00000</td>\n",
              "      <td>0.00000</td>\n",
              "      <td>0.00000</td>\n",
              "      <td>0.00000</td>\n",
              "      <td>...</td>\n",
              "      <td>0.90695</td>\n",
              "      <td>0.51613</td>\n",
              "      <td>1.00000</td>\n",
              "      <td>1.00000</td>\n",
              "      <td>-0.20099</td>\n",
              "      <td>0.25682</td>\n",
              "      <td>1.00000</td>\n",
              "      <td>-0.32382</td>\n",
              "      <td>1.00000</td>\n",
              "      <td>b</td>\n",
              "    </tr>\n",
              "    <tr>\n",
              "      <th>3</th>\n",
              "      <td>1.00000</td>\n",
              "      <td>-0.02401</td>\n",
              "      <td>0.94140</td>\n",
              "      <td>0.06531</td>\n",
              "      <td>0.92106</td>\n",
              "      <td>-0.23255</td>\n",
              "      <td>0.77152</td>\n",
              "      <td>-0.16399</td>\n",
              "      <td>0.52798</td>\n",
              "      <td>-0.20275</td>\n",
              "      <td>...</td>\n",
              "      <td>-0.65158</td>\n",
              "      <td>0.13290</td>\n",
              "      <td>-0.53206</td>\n",
              "      <td>0.02431</td>\n",
              "      <td>-0.62197</td>\n",
              "      <td>-0.05707</td>\n",
              "      <td>-0.59573</td>\n",
              "      <td>-0.04608</td>\n",
              "      <td>-0.65697</td>\n",
              "      <td>g</td>\n",
              "    </tr>\n",
              "    <tr>\n",
              "      <th>4</th>\n",
              "      <td>0.02337</td>\n",
              "      <td>-0.00592</td>\n",
              "      <td>-0.09924</td>\n",
              "      <td>-0.11949</td>\n",
              "      <td>-0.00763</td>\n",
              "      <td>-0.11824</td>\n",
              "      <td>0.14706</td>\n",
              "      <td>0.06637</td>\n",
              "      <td>0.03786</td>\n",
              "      <td>-0.06302</td>\n",
              "      <td>...</td>\n",
              "      <td>-0.01535</td>\n",
              "      <td>-0.03240</td>\n",
              "      <td>0.09223</td>\n",
              "      <td>-0.07859</td>\n",
              "      <td>0.00732</td>\n",
              "      <td>0.00000</td>\n",
              "      <td>0.00000</td>\n",
              "      <td>-0.00039</td>\n",
              "      <td>0.12011</td>\n",
              "      <td>b</td>\n",
              "    </tr>\n",
              "    <tr>\n",
              "      <th>...</th>\n",
              "      <td>...</td>\n",
              "      <td>...</td>\n",
              "      <td>...</td>\n",
              "      <td>...</td>\n",
              "      <td>...</td>\n",
              "      <td>...</td>\n",
              "      <td>...</td>\n",
              "      <td>...</td>\n",
              "      <td>...</td>\n",
              "      <td>...</td>\n",
              "      <td>...</td>\n",
              "      <td>...</td>\n",
              "      <td>...</td>\n",
              "      <td>...</td>\n",
              "      <td>...</td>\n",
              "      <td>...</td>\n",
              "      <td>...</td>\n",
              "      <td>...</td>\n",
              "      <td>...</td>\n",
              "      <td>...</td>\n",
              "      <td>...</td>\n",
              "    </tr>\n",
              "    <tr>\n",
              "      <th>345</th>\n",
              "      <td>0.83508</td>\n",
              "      <td>0.08298</td>\n",
              "      <td>0.73739</td>\n",
              "      <td>-0.14706</td>\n",
              "      <td>0.84349</td>\n",
              "      <td>-0.05567</td>\n",
              "      <td>0.90441</td>\n",
              "      <td>-0.04622</td>\n",
              "      <td>0.89391</td>\n",
              "      <td>0.13130</td>\n",
              "      <td>...</td>\n",
              "      <td>-0.04202</td>\n",
              "      <td>0.83479</td>\n",
              "      <td>0.00123</td>\n",
              "      <td>1.00000</td>\n",
              "      <td>0.12815</td>\n",
              "      <td>0.86660</td>\n",
              "      <td>-0.10714</td>\n",
              "      <td>0.90546</td>\n",
              "      <td>-0.04307</td>\n",
              "      <td>g</td>\n",
              "    </tr>\n",
              "    <tr>\n",
              "      <th>346</th>\n",
              "      <td>0.95113</td>\n",
              "      <td>0.00419</td>\n",
              "      <td>0.95183</td>\n",
              "      <td>-0.02723</td>\n",
              "      <td>0.93438</td>\n",
              "      <td>-0.01920</td>\n",
              "      <td>0.94590</td>\n",
              "      <td>0.01606</td>\n",
              "      <td>0.96510</td>\n",
              "      <td>0.03281</td>\n",
              "      <td>...</td>\n",
              "      <td>0.01361</td>\n",
              "      <td>0.93522</td>\n",
              "      <td>0.04925</td>\n",
              "      <td>0.93159</td>\n",
              "      <td>0.08168</td>\n",
              "      <td>0.94066</td>\n",
              "      <td>-0.00035</td>\n",
              "      <td>0.91483</td>\n",
              "      <td>0.04712</td>\n",
              "      <td>g</td>\n",
              "    </tr>\n",
              "    <tr>\n",
              "      <th>347</th>\n",
              "      <td>0.94701</td>\n",
              "      <td>-0.00034</td>\n",
              "      <td>0.93207</td>\n",
              "      <td>-0.03227</td>\n",
              "      <td>0.95177</td>\n",
              "      <td>-0.03431</td>\n",
              "      <td>0.95584</td>\n",
              "      <td>0.02446</td>\n",
              "      <td>0.94124</td>\n",
              "      <td>0.01766</td>\n",
              "      <td>...</td>\n",
              "      <td>0.03193</td>\n",
              "      <td>0.92489</td>\n",
              "      <td>0.02542</td>\n",
              "      <td>0.92120</td>\n",
              "      <td>0.02242</td>\n",
              "      <td>0.92459</td>\n",
              "      <td>0.00442</td>\n",
              "      <td>0.92697</td>\n",
              "      <td>-0.00577</td>\n",
              "      <td>g</td>\n",
              "    </tr>\n",
              "    <tr>\n",
              "      <th>348</th>\n",
              "      <td>0.90608</td>\n",
              "      <td>-0.01657</td>\n",
              "      <td>0.98122</td>\n",
              "      <td>-0.01989</td>\n",
              "      <td>0.95691</td>\n",
              "      <td>-0.03646</td>\n",
              "      <td>0.85746</td>\n",
              "      <td>0.00110</td>\n",
              "      <td>0.89724</td>\n",
              "      <td>-0.03315</td>\n",
              "      <td>...</td>\n",
              "      <td>-0.02099</td>\n",
              "      <td>0.89147</td>\n",
              "      <td>-0.07760</td>\n",
              "      <td>0.82983</td>\n",
              "      <td>-0.17238</td>\n",
              "      <td>0.96022</td>\n",
              "      <td>-0.03757</td>\n",
              "      <td>0.87403</td>\n",
              "      <td>-0.16243</td>\n",
              "      <td>g</td>\n",
              "    </tr>\n",
              "    <tr>\n",
              "      <th>349</th>\n",
              "      <td>0.84710</td>\n",
              "      <td>0.13533</td>\n",
              "      <td>0.73638</td>\n",
              "      <td>-0.06151</td>\n",
              "      <td>0.87873</td>\n",
              "      <td>0.08260</td>\n",
              "      <td>0.88928</td>\n",
              "      <td>-0.09139</td>\n",
              "      <td>0.78735</td>\n",
              "      <td>0.06678</td>\n",
              "      <td>...</td>\n",
              "      <td>-0.15114</td>\n",
              "      <td>0.81147</td>\n",
              "      <td>-0.04822</td>\n",
              "      <td>0.78207</td>\n",
              "      <td>-0.00703</td>\n",
              "      <td>0.75747</td>\n",
              "      <td>-0.06678</td>\n",
              "      <td>0.85764</td>\n",
              "      <td>-0.06151</td>\n",
              "      <td>g</td>\n",
              "    </tr>\n",
              "  </tbody>\n",
              "</table>\n",
              "<p>350 rows × 33 columns</p>\n",
              "</div>\n",
              "    <div class=\"colab-df-buttons\">\n",
              "\n",
              "  <div class=\"colab-df-container\">\n",
              "    <button class=\"colab-df-convert\" onclick=\"convertToInteractive('df-40be308a-4f3d-42c0-983d-3ef8454b589a')\"\n",
              "            title=\"Convert this dataframe to an interactive table.\"\n",
              "            style=\"display:none;\">\n",
              "\n",
              "  <svg xmlns=\"http://www.w3.org/2000/svg\" height=\"24px\" viewBox=\"0 -960 960 960\">\n",
              "    <path d=\"M120-120v-720h720v720H120Zm60-500h600v-160H180v160Zm220 220h160v-160H400v160Zm0 220h160v-160H400v160ZM180-400h160v-160H180v160Zm440 0h160v-160H620v160ZM180-180h160v-160H180v160Zm440 0h160v-160H620v160Z\"/>\n",
              "  </svg>\n",
              "    </button>\n",
              "\n",
              "  <style>\n",
              "    .colab-df-container {\n",
              "      display:flex;\n",
              "      gap: 12px;\n",
              "    }\n",
              "\n",
              "    .colab-df-convert {\n",
              "      background-color: #E8F0FE;\n",
              "      border: none;\n",
              "      border-radius: 50%;\n",
              "      cursor: pointer;\n",
              "      display: none;\n",
              "      fill: #1967D2;\n",
              "      height: 32px;\n",
              "      padding: 0 0 0 0;\n",
              "      width: 32px;\n",
              "    }\n",
              "\n",
              "    .colab-df-convert:hover {\n",
              "      background-color: #E2EBFA;\n",
              "      box-shadow: 0px 1px 2px rgba(60, 64, 67, 0.3), 0px 1px 3px 1px rgba(60, 64, 67, 0.15);\n",
              "      fill: #174EA6;\n",
              "    }\n",
              "\n",
              "    .colab-df-buttons div {\n",
              "      margin-bottom: 4px;\n",
              "    }\n",
              "\n",
              "    [theme=dark] .colab-df-convert {\n",
              "      background-color: #3B4455;\n",
              "      fill: #D2E3FC;\n",
              "    }\n",
              "\n",
              "    [theme=dark] .colab-df-convert:hover {\n",
              "      background-color: #434B5C;\n",
              "      box-shadow: 0px 1px 3px 1px rgba(0, 0, 0, 0.15);\n",
              "      filter: drop-shadow(0px 1px 2px rgba(0, 0, 0, 0.3));\n",
              "      fill: #FFFFFF;\n",
              "    }\n",
              "  </style>\n",
              "\n",
              "    <script>\n",
              "      const buttonEl =\n",
              "        document.querySelector('#df-40be308a-4f3d-42c0-983d-3ef8454b589a button.colab-df-convert');\n",
              "      buttonEl.style.display =\n",
              "        google.colab.kernel.accessAllowed ? 'block' : 'none';\n",
              "\n",
              "      async function convertToInteractive(key) {\n",
              "        const element = document.querySelector('#df-40be308a-4f3d-42c0-983d-3ef8454b589a');\n",
              "        const dataTable =\n",
              "          await google.colab.kernel.invokeFunction('convertToInteractive',\n",
              "                                                    [key], {});\n",
              "        if (!dataTable) return;\n",
              "\n",
              "        const docLinkHtml = 'Like what you see? Visit the ' +\n",
              "          '<a target=\"_blank\" href=https://colab.research.google.com/notebooks/data_table.ipynb>data table notebook</a>'\n",
              "          + ' to learn more about interactive tables.';\n",
              "        element.innerHTML = '';\n",
              "        dataTable['output_type'] = 'display_data';\n",
              "        await google.colab.output.renderOutput(dataTable, element);\n",
              "        const docLink = document.createElement('div');\n",
              "        docLink.innerHTML = docLinkHtml;\n",
              "        element.appendChild(docLink);\n",
              "      }\n",
              "    </script>\n",
              "  </div>\n",
              "\n",
              "\n",
              "<div id=\"df-da32a9db-aaac-41ce-9339-1c1e0d8da441\">\n",
              "  <button class=\"colab-df-quickchart\" onclick=\"quickchart('df-da32a9db-aaac-41ce-9339-1c1e0d8da441')\"\n",
              "            title=\"Suggest charts\"\n",
              "            style=\"display:none;\">\n",
              "\n",
              "<svg xmlns=\"http://www.w3.org/2000/svg\" height=\"24px\"viewBox=\"0 0 24 24\"\n",
              "     width=\"24px\">\n",
              "    <g>\n",
              "        <path d=\"M19 3H5c-1.1 0-2 .9-2 2v14c0 1.1.9 2 2 2h14c1.1 0 2-.9 2-2V5c0-1.1-.9-2-2-2zM9 17H7v-7h2v7zm4 0h-2V7h2v10zm4 0h-2v-4h2v4z\"/>\n",
              "    </g>\n",
              "</svg>\n",
              "  </button>\n",
              "\n",
              "<style>\n",
              "  .colab-df-quickchart {\n",
              "      --bg-color: #E8F0FE;\n",
              "      --fill-color: #1967D2;\n",
              "      --hover-bg-color: #E2EBFA;\n",
              "      --hover-fill-color: #174EA6;\n",
              "      --disabled-fill-color: #AAA;\n",
              "      --disabled-bg-color: #DDD;\n",
              "  }\n",
              "\n",
              "  [theme=dark] .colab-df-quickchart {\n",
              "      --bg-color: #3B4455;\n",
              "      --fill-color: #D2E3FC;\n",
              "      --hover-bg-color: #434B5C;\n",
              "      --hover-fill-color: #FFFFFF;\n",
              "      --disabled-bg-color: #3B4455;\n",
              "      --disabled-fill-color: #666;\n",
              "  }\n",
              "\n",
              "  .colab-df-quickchart {\n",
              "    background-color: var(--bg-color);\n",
              "    border: none;\n",
              "    border-radius: 50%;\n",
              "    cursor: pointer;\n",
              "    display: none;\n",
              "    fill: var(--fill-color);\n",
              "    height: 32px;\n",
              "    padding: 0;\n",
              "    width: 32px;\n",
              "  }\n",
              "\n",
              "  .colab-df-quickchart:hover {\n",
              "    background-color: var(--hover-bg-color);\n",
              "    box-shadow: 0 1px 2px rgba(60, 64, 67, 0.3), 0 1px 3px 1px rgba(60, 64, 67, 0.15);\n",
              "    fill: var(--button-hover-fill-color);\n",
              "  }\n",
              "\n",
              "  .colab-df-quickchart-complete:disabled,\n",
              "  .colab-df-quickchart-complete:disabled:hover {\n",
              "    background-color: var(--disabled-bg-color);\n",
              "    fill: var(--disabled-fill-color);\n",
              "    box-shadow: none;\n",
              "  }\n",
              "\n",
              "  .colab-df-spinner {\n",
              "    border: 2px solid var(--fill-color);\n",
              "    border-color: transparent;\n",
              "    border-bottom-color: var(--fill-color);\n",
              "    animation:\n",
              "      spin 1s steps(1) infinite;\n",
              "  }\n",
              "\n",
              "  @keyframes spin {\n",
              "    0% {\n",
              "      border-color: transparent;\n",
              "      border-bottom-color: var(--fill-color);\n",
              "      border-left-color: var(--fill-color);\n",
              "    }\n",
              "    20% {\n",
              "      border-color: transparent;\n",
              "      border-left-color: var(--fill-color);\n",
              "      border-top-color: var(--fill-color);\n",
              "    }\n",
              "    30% {\n",
              "      border-color: transparent;\n",
              "      border-left-color: var(--fill-color);\n",
              "      border-top-color: var(--fill-color);\n",
              "      border-right-color: var(--fill-color);\n",
              "    }\n",
              "    40% {\n",
              "      border-color: transparent;\n",
              "      border-right-color: var(--fill-color);\n",
              "      border-top-color: var(--fill-color);\n",
              "    }\n",
              "    60% {\n",
              "      border-color: transparent;\n",
              "      border-right-color: var(--fill-color);\n",
              "    }\n",
              "    80% {\n",
              "      border-color: transparent;\n",
              "      border-right-color: var(--fill-color);\n",
              "      border-bottom-color: var(--fill-color);\n",
              "    }\n",
              "    90% {\n",
              "      border-color: transparent;\n",
              "      border-bottom-color: var(--fill-color);\n",
              "    }\n",
              "  }\n",
              "</style>\n",
              "\n",
              "  <script>\n",
              "    async function quickchart(key) {\n",
              "      const quickchartButtonEl =\n",
              "        document.querySelector('#' + key + ' button');\n",
              "      quickchartButtonEl.disabled = true;  // To prevent multiple clicks.\n",
              "      quickchartButtonEl.classList.add('colab-df-spinner');\n",
              "      try {\n",
              "        const charts = await google.colab.kernel.invokeFunction(\n",
              "            'suggestCharts', [key], {});\n",
              "      } catch (error) {\n",
              "        console.error('Error during call to suggestCharts:', error);\n",
              "      }\n",
              "      quickchartButtonEl.classList.remove('colab-df-spinner');\n",
              "      quickchartButtonEl.classList.add('colab-df-quickchart-complete');\n",
              "    }\n",
              "    (() => {\n",
              "      let quickchartButtonEl =\n",
              "        document.querySelector('#df-da32a9db-aaac-41ce-9339-1c1e0d8da441 button');\n",
              "      quickchartButtonEl.style.display =\n",
              "        google.colab.kernel.accessAllowed ? 'block' : 'none';\n",
              "    })();\n",
              "  </script>\n",
              "</div>\n",
              "    </div>\n",
              "  </div>\n"
            ]
          },
          "metadata": {},
          "execution_count": 242
        }
      ]
    },
    {
      "cell_type": "code",
      "source": [
        "import numpy as np\n",
        "\n",
        "def fit_naive_bayes(X, y):\n",
        "    n_samples, n_features = X.shape\n",
        "    classes = np.unique(y)\n",
        "    n_classes = len(classes)\n",
        "\n",
        "    # Initilization of  mean, var, and prior for each class\n",
        "    mean = np.zeros((n_classes, n_features),dtype=np.float64)\n",
        "    var = np.zeros((n_classes, n_features), dtype=np.float64)\n",
        "    priors = np.zeros(n_classes, dtype=np.float64)\n",
        "\n",
        "    for idx, c in enumerate(classes):\n",
        "        X_c = X[y == c]\n",
        "        mean[idx, :] = X_c.mean(axis=0)\n",
        "        var[idx, :] = X_c.var(axis=0)\n",
        "        priors[idx] = X_c.shape[0] / float(n_samples)\n",
        "\n",
        "    return mean, var, priors, classes\n",
        "\n",
        "def predict_naive_bayes(X, mean, var, priors, classes):\n",
        "    y_pred = [_predict_naive_bayes(x, mean, var, priors, classes) for x in X]\n",
        "    return np.array(y_pred)\n",
        "\n",
        "def _predict_naive_bayes(x, mean, var, priors, classes):\n",
        "    posteriors = []\n",
        "\n",
        "    # Calculate posterior probability for each class\n",
        "    for idx, c in enumerate(classes):\n",
        "        prior = np.log(priors[idx])\n",
        "        posterior = np.sum(np.log(_pdf_naive_bayes(idx, x, mean, var)))\n",
        "        posterior = prior + posterior\n",
        "        posteriors.append(posterior)\n",
        "\n",
        "\n",
        "    return classes[np.argmax(posteriors)]\n",
        "\n",
        "def _pdf_naive_bayes(class_idx, x, mean, var):\n",
        "    numerator = np.exp(- (x - mean[class_idx])**2 / (2 * var[class_idx]))\n",
        "    denominator = np.sqrt(2 * np.pi * var[class_idx])\n",
        "    return numerator / denominator\n",
        "\n",
        "# Assuming X2_train, Y2_train, X2_test, and Y2_test are your training and testing sets\n",
        "mean, var, priors, classes = fit_naive_bayes(X2_train, Y2_train)\n",
        "\n",
        "# Make predictions on the testing set\n",
        "predictions = predict_naive_bayes(X2_test, mean, var, priors, classes)\n",
        "\n",
        "print(predictions)"
      ],
      "metadata": {
        "colab": {
          "base_uri": "https://localhost:8080/"
        },
        "id": "jkmfK67R02Vr",
        "outputId": "20966168-a25b-4ea9-f19c-2148b96e7b56"
      },
      "execution_count": null,
      "outputs": [
        {
          "output_type": "stream",
          "name": "stdout",
          "text": [
            "[0 1 0 1 0 0 1 1 0 0 0 1 0 1 1 1 0 1 1 0 1 0 0 0 1 1 0 1 0 1 1 0 1 1 0 0 0\n",
            " 1 1 0 1 1 1 0 0 1 0 0 1 0 1 1 0 1 1 1 1 0 1 1 0 1 0 0 1 1 0 0 1 1]\n"
          ]
        }
      ]
    },
    {
      "cell_type": "markdown",
      "source": [
        "# **4(C)Report on the result obtain**"
      ],
      "metadata": {
        "id": "c42EP0X2cM3T"
      }
    },
    {
      "cell_type": "code",
      "source": [
        "TP=0\n",
        "TN=0\n",
        "FN=0\n",
        "FP=0\n",
        "for i in range(len(Y2_test)):\n",
        "  if(predictions[i]==Y2_test[i]==1):\n",
        "    TP+=1\n",
        "  elif(predictions[i]==Y2_test[i]==0):\n",
        "    TN+=1\n",
        "  elif(predictions[i]==1 and Y2_test[i]==0):\n",
        "    FN+=1\n",
        "  elif(predictions[i]==-1 and Y2_test[i]==0):\n",
        "    FP+=1\n",
        "print('True_positive=',TP)\n",
        "print('False_positive=',FP)\n",
        "print('True_negative=',TN)\n",
        "print('False_negative=',FN)\n",
        "\n",
        "\n",
        "#Accuracy\n",
        "Accuracy=(TP+TN)/(TP+TN+FP+FN)\n",
        "\n",
        "print('Accuracy of the model is=',Accuracy)"
      ],
      "metadata": {
        "colab": {
          "base_uri": "https://localhost:8080/"
        },
        "id": "EURFpDJdN5BS",
        "outputId": "27cc20ab-82b8-4b3e-eb97-0fe422d58b54"
      },
      "execution_count": null,
      "outputs": [
        {
          "output_type": "stream",
          "name": "stdout",
          "text": [
            "True_positive= 34\n",
            "False_positive= 0\n",
            "True_negative= 21\n",
            "False_negative= 4\n",
            "Accuracy of the model is= 0.9322033898305084\n"
          ]
        }
      ]
    },
    {
      "cell_type": "markdown",
      "source": [
        "# **Apply multiclass Naive Bayes on Abalone data set**"
      ],
      "metadata": {
        "id": "914-RbxcdN6m"
      }
    },
    {
      "cell_type": "markdown",
      "source": [
        "**Data preprocessing**"
      ],
      "metadata": {
        "id": "5ZWtzqO6dqgC"
      }
    },
    {
      "cell_type": "code",
      "source": [
        "import numpy as np\n",
        "import pandas as pd\n",
        "df=pd.read_csv('/content/abalone.csv')\n",
        "# Seperating X and Y arrays\n",
        "X = np.array(df.iloc[:, :-1])\n",
        "Y = np.array(df.iloc[:, -1])\n",
        "\n",
        "\n",
        "total_rows=len(X)\n",
        "\n",
        "#divided the data into training and testing data\n",
        "train_rows=int(0.8*total_rows)\n",
        "\n",
        "# Generate random indices for the training set\n",
        "train_indices = np.random.choice(total_rows, train_rows, replace=False)\n",
        "\n",
        "# Create the training set\n",
        "X2_train = X[train_indices, :]\n",
        "Y2_train = Y[train_indices]\n",
        "\n",
        "# Create the testing set by excluding the training indices\n",
        "X2_test = np.delete(X, train_indices, axis=0)\n",
        "Y2_test = np.delete(Y, train_indices, axis=0)"
      ],
      "metadata": {
        "id": "lhsr8OYtOM1W"
      },
      "execution_count": null,
      "outputs": []
    },
    {
      "cell_type": "markdown",
      "source": [
        "**6(a)Explanation of experimental Procedure**"
      ],
      "metadata": {
        "id": "arg82q4-dxd3"
      }
    },
    {
      "cell_type": "code",
      "source": [
        "# https://www.python-engineer.com/courses/mlfromscratch/05_naivebayes/"
      ],
      "metadata": {
        "id": "TBHc5HlPeHS-"
      },
      "execution_count": null,
      "outputs": []
    },
    {
      "cell_type": "code",
      "source": [
        "import numpy as np\n",
        "from sklearn.metrics import accuracy_score, confusion_matrix, classification_report\n",
        "\n",
        "def fit_naive_bayes(X, y):\n",
        "    n_samples, n_features = X.shape\n",
        "    classes = np.unique(y)\n",
        "    n_classes = len(classes)\n",
        "\n",
        "    # calculate mean, var, and prior for each class\n",
        "    mean = np.zeros((n_classes, n_features), dtype=np.float64)\n",
        "    var = np.zeros((n_classes, n_features), dtype=np.float64)\n",
        "    priors = np.zeros(n_classes, dtype=np.float64)\n",
        "\n",
        "    for idx, c in enumerate(classes):\n",
        "        X_c = X[y == c]\n",
        "        mean[idx, :] = X_c.mean(axis=0)\n",
        "        var[idx, :] = X_c.var(axis=0)\n",
        "        priors[idx] = X_c.shape[0] / float(n_samples)\n",
        "\n",
        "    return mean, var, priors, classes\n",
        "\n",
        "def predict_naive_bayes(X, mean, var, priors, classes):\n",
        "    y_pred = [_predict(x, mean, var, priors, classes) for x in X]\n",
        "    return np.array(y_pred)\n",
        "\n",
        "def _predict(x, mean, var, priors, classes):\n",
        "    posteriors = []\n",
        "\n",
        "    # calculate posterior probability for each class\n",
        "    for idx, c in enumerate(classes):\n",
        "        prior = np.log(priors[idx])\n",
        "        posterior = np.sum(np.log(_pdf(idx, x, mean, var)))\n",
        "        posterior = prior + posterior\n",
        "        posteriors.append(posterior)\n",
        "\n",
        "    # return class with highest posterior probability\n",
        "    return classes[np.argmax(posteriors)]\n",
        "\n",
        "def _pdf(class_idx, x, mean, var):\n",
        "     numerator = np.exp(- (x - mean[class_idx]) ** 2 / (2 * var[class_idx]))\n",
        "     denominator = np.sqrt(2 * np.pi * var[class_idx])\n",
        "     return numerator / denominator"
      ],
      "metadata": {
        "id": "3qG3d2aIczEL"
      },
      "execution_count": null,
      "outputs": []
    },
    {
      "cell_type": "markdown",
      "source": [
        "**6(b)Report the values of the Parameters**"
      ],
      "metadata": {
        "id": "McvLWmLWeWpb"
      }
    },
    {
      "cell_type": "code",
      "source": [
        "mean, var, priors, classes = fit_naive_bayes(X2_train, Y2_train)\n",
        "# Print or log the values of the parameters\n",
        "print(\"Mean:\\n\", mean)\n",
        "print(\"\\nVariance:\\n\", var)\n",
        "print(\"\\nPriors:\\n\", priors)"
      ],
      "metadata": {
        "colab": {
          "base_uri": "https://localhost:8080/"
        },
        "id": "eBQpXfrEc-Md",
        "outputId": "eb4bcf8b-e7a5-415f-f86f-fb276342bc72"
      },
      "execution_count": null,
      "outputs": [
        {
          "output_type": "stream",
          "name": "stdout",
          "text": [
            "Mean:\n",
            " [[-3.948685   -3.38779487  3.17164062]\n",
            " [ 4.4187427   4.52618038 -3.00117447]\n",
            " [ 0.46212443  0.20002522 -0.04394689]]\n",
            "\n",
            "Variance:\n",
            " [[14.93425444 15.594327    8.93557417]\n",
            " [ 8.05743312  4.82006926  4.01534913]\n",
            " [ 9.16571322  8.04154023  6.71410483]]\n",
            "\n",
            "Priors:\n",
            " [0.33472803 0.33472803 0.33054393]\n"
          ]
        }
      ]
    },
    {
      "cell_type": "markdown",
      "source": [
        "**6(c)Report on the result obtained**"
      ],
      "metadata": {
        "id": "yJcZRhMsehRT"
      }
    },
    {
      "cell_type": "code",
      "source": [
        "# Make predictions on the test set\n",
        "Y_pred = predict_naive_bayes(X2_test, mean, var, priors, classes)\n",
        "\n",
        "# Evaluate the performance\n",
        "accuracy = accuracy_score(Y2_test, Y_pred)\n",
        "confusion = confusion_matrix(Y2_test, Y_pred)\n",
        "classification_report_str = classification_report(Y2_test, Y_pred)\n",
        "\n",
        "# Print the results\n",
        "print(\"\\nAccuracy:\", accuracy)"
      ],
      "metadata": {
        "colab": {
          "base_uri": "https://localhost:8080/"
        },
        "id": "LtemoIdHdDG8",
        "outputId": "22763fef-e410-456f-d9fe-b03fa2af1dc3"
      },
      "execution_count": null,
      "outputs": [
        {
          "output_type": "stream",
          "name": "stdout",
          "text": [
            "\n",
            "Accuracy: 0.85\n"
          ]
        }
      ]
    },
    {
      "cell_type": "code",
      "source": [],
      "metadata": {
        "id": "SVv4rdpY1m5H"
      },
      "execution_count": null,
      "outputs": []
    }
  ]
}