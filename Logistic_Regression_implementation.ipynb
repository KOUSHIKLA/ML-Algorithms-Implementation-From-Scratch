{
  "nbformat": 4,
  "nbformat_minor": 0,
  "metadata": {
    "colab": {
      "provenance": []
    },
    "kernelspec": {
      "name": "python3",
      "display_name": "Python 3"
    },
    "language_info": {
      "name": "python"
    }
  },
  "cells": [
    {
      "cell_type": "code",
      "execution_count": null,
      "metadata": {
        "id": "ix6N9XHrq5sX"
      },
      "outputs": [],
      "source": [
        "#import libries\n",
        "import numpy as np\n",
        "import pandas as pd\n",
        "import matplotlib.pyplot as plt\n",
        "from mpl_toolkits.mplot3d import Axes3D\n",
        "import warnings\n",
        "warnings.filterwarnings(\"ignore\")\n",
        "import time\n",
        "import math\n"
      ]
    },
    {
      "cell_type": "markdown",
      "source": [
        "**DATA ENTRY AND DATA PRE-PROCESSING**"
      ],
      "metadata": {
        "id": "9SLlDapVXfM6"
      }
    },
    {
      "cell_type": "code",
      "source": [
        "#entry the given data\n",
        "df=pd.read_csv('/content/data1.csv',header=None)\n",
        "\n",
        "#normalised the data\n",
        "for column in df.columns[0:3]:\n",
        "  df[column]=(df[column] - df[column].min()) / (df[column].max() - df[column].min())\n",
        "\n",
        "#slicing the data\n",
        "X=df.iloc[:,:-1]\n",
        "Y=(df.iloc[:,-1].values)\n",
        "Y2=Y.reshape(-1,1)\n",
        "X2 = np.c_[np.ones((X.shape[0],1)), X]\n",
        "total_rows=len(X2)\n",
        "\n",
        "#divided the data into training and testing data\n",
        "train_rows=int(0.8*total_rows)\n",
        "\n",
        "# Generate random indices for the training set\n",
        "train_indices = np.random.choice(total_rows, train_rows, replace=False)\n",
        "\n",
        "# Create the training set\n",
        "X2_train = X2[train_indices, :]\n",
        "Y2_train = Y2[train_indices, :]\n",
        "\n",
        "# Create the testing set by excluding the training indices\n",
        "X2_test = np.delete(X2, train_indices, axis=0)\n",
        "Y2_test = np.delete(Y2, train_indices, axis=0)"
      ],
      "metadata": {
        "id": "LCIF48Cnr88S"
      },
      "execution_count": null,
      "outputs": []
    },
    {
      "cell_type": "code",
      "source": [
        "df"
      ],
      "metadata": {
        "colab": {
          "base_uri": "https://localhost:8080/",
          "height": 423
        },
        "id": "HQXnfBbv5GxI",
        "outputId": "5330d0c8-7807-4cb7-ee14-5a9c754cd1fc"
      },
      "execution_count": null,
      "outputs": [
        {
          "output_type": "execute_result",
          "data": {
            "text/plain": [
              "            0         1    2\n",
              "0    0.102041  0.632653  1.0\n",
              "1    0.510204  0.775510  1.0\n",
              "2    0.020408  0.755102  1.0\n",
              "3    0.489796  0.775510  1.0\n",
              "4    0.040816  0.693878  1.0\n",
              "..        ...       ...  ...\n",
              "195  0.938776  0.326531  0.0\n",
              "196  0.469388  0.530612  0.0\n",
              "197  0.346939  0.346939  0.0\n",
              "198  0.367347  0.122449  0.0\n",
              "199  0.775510  0.285714  0.0\n",
              "\n",
              "[200 rows x 3 columns]"
            ],
            "text/html": [
              "\n",
              "  <div id=\"df-3905ed03-8035-4bfd-b7f9-bb50ed590a7e\" class=\"colab-df-container\">\n",
              "    <div>\n",
              "<style scoped>\n",
              "    .dataframe tbody tr th:only-of-type {\n",
              "        vertical-align: middle;\n",
              "    }\n",
              "\n",
              "    .dataframe tbody tr th {\n",
              "        vertical-align: top;\n",
              "    }\n",
              "\n",
              "    .dataframe thead th {\n",
              "        text-align: right;\n",
              "    }\n",
              "</style>\n",
              "<table border=\"1\" class=\"dataframe\">\n",
              "  <thead>\n",
              "    <tr style=\"text-align: right;\">\n",
              "      <th></th>\n",
              "      <th>0</th>\n",
              "      <th>1</th>\n",
              "      <th>2</th>\n",
              "    </tr>\n",
              "  </thead>\n",
              "  <tbody>\n",
              "    <tr>\n",
              "      <th>0</th>\n",
              "      <td>0.102041</td>\n",
              "      <td>0.632653</td>\n",
              "      <td>1.0</td>\n",
              "    </tr>\n",
              "    <tr>\n",
              "      <th>1</th>\n",
              "      <td>0.510204</td>\n",
              "      <td>0.775510</td>\n",
              "      <td>1.0</td>\n",
              "    </tr>\n",
              "    <tr>\n",
              "      <th>2</th>\n",
              "      <td>0.020408</td>\n",
              "      <td>0.755102</td>\n",
              "      <td>1.0</td>\n",
              "    </tr>\n",
              "    <tr>\n",
              "      <th>3</th>\n",
              "      <td>0.489796</td>\n",
              "      <td>0.775510</td>\n",
              "      <td>1.0</td>\n",
              "    </tr>\n",
              "    <tr>\n",
              "      <th>4</th>\n",
              "      <td>0.040816</td>\n",
              "      <td>0.693878</td>\n",
              "      <td>1.0</td>\n",
              "    </tr>\n",
              "    <tr>\n",
              "      <th>...</th>\n",
              "      <td>...</td>\n",
              "      <td>...</td>\n",
              "      <td>...</td>\n",
              "    </tr>\n",
              "    <tr>\n",
              "      <th>195</th>\n",
              "      <td>0.938776</td>\n",
              "      <td>0.326531</td>\n",
              "      <td>0.0</td>\n",
              "    </tr>\n",
              "    <tr>\n",
              "      <th>196</th>\n",
              "      <td>0.469388</td>\n",
              "      <td>0.530612</td>\n",
              "      <td>0.0</td>\n",
              "    </tr>\n",
              "    <tr>\n",
              "      <th>197</th>\n",
              "      <td>0.346939</td>\n",
              "      <td>0.346939</td>\n",
              "      <td>0.0</td>\n",
              "    </tr>\n",
              "    <tr>\n",
              "      <th>198</th>\n",
              "      <td>0.367347</td>\n",
              "      <td>0.122449</td>\n",
              "      <td>0.0</td>\n",
              "    </tr>\n",
              "    <tr>\n",
              "      <th>199</th>\n",
              "      <td>0.775510</td>\n",
              "      <td>0.285714</td>\n",
              "      <td>0.0</td>\n",
              "    </tr>\n",
              "  </tbody>\n",
              "</table>\n",
              "<p>200 rows × 3 columns</p>\n",
              "</div>\n",
              "    <div class=\"colab-df-buttons\">\n",
              "\n",
              "  <div class=\"colab-df-container\">\n",
              "    <button class=\"colab-df-convert\" onclick=\"convertToInteractive('df-3905ed03-8035-4bfd-b7f9-bb50ed590a7e')\"\n",
              "            title=\"Convert this dataframe to an interactive table.\"\n",
              "            style=\"display:none;\">\n",
              "\n",
              "  <svg xmlns=\"http://www.w3.org/2000/svg\" height=\"24px\" viewBox=\"0 -960 960 960\">\n",
              "    <path d=\"M120-120v-720h720v720H120Zm60-500h600v-160H180v160Zm220 220h160v-160H400v160Zm0 220h160v-160H400v160ZM180-400h160v-160H180v160Zm440 0h160v-160H620v160ZM180-180h160v-160H180v160Zm440 0h160v-160H620v160Z\"/>\n",
              "  </svg>\n",
              "    </button>\n",
              "\n",
              "  <style>\n",
              "    .colab-df-container {\n",
              "      display:flex;\n",
              "      gap: 12px;\n",
              "    }\n",
              "\n",
              "    .colab-df-convert {\n",
              "      background-color: #E8F0FE;\n",
              "      border: none;\n",
              "      border-radius: 50%;\n",
              "      cursor: pointer;\n",
              "      display: none;\n",
              "      fill: #1967D2;\n",
              "      height: 32px;\n",
              "      padding: 0 0 0 0;\n",
              "      width: 32px;\n",
              "    }\n",
              "\n",
              "    .colab-df-convert:hover {\n",
              "      background-color: #E2EBFA;\n",
              "      box-shadow: 0px 1px 2px rgba(60, 64, 67, 0.3), 0px 1px 3px 1px rgba(60, 64, 67, 0.15);\n",
              "      fill: #174EA6;\n",
              "    }\n",
              "\n",
              "    .colab-df-buttons div {\n",
              "      margin-bottom: 4px;\n",
              "    }\n",
              "\n",
              "    [theme=dark] .colab-df-convert {\n",
              "      background-color: #3B4455;\n",
              "      fill: #D2E3FC;\n",
              "    }\n",
              "\n",
              "    [theme=dark] .colab-df-convert:hover {\n",
              "      background-color: #434B5C;\n",
              "      box-shadow: 0px 1px 3px 1px rgba(0, 0, 0, 0.15);\n",
              "      filter: drop-shadow(0px 1px 2px rgba(0, 0, 0, 0.3));\n",
              "      fill: #FFFFFF;\n",
              "    }\n",
              "  </style>\n",
              "\n",
              "    <script>\n",
              "      const buttonEl =\n",
              "        document.querySelector('#df-3905ed03-8035-4bfd-b7f9-bb50ed590a7e button.colab-df-convert');\n",
              "      buttonEl.style.display =\n",
              "        google.colab.kernel.accessAllowed ? 'block' : 'none';\n",
              "\n",
              "      async function convertToInteractive(key) {\n",
              "        const element = document.querySelector('#df-3905ed03-8035-4bfd-b7f9-bb50ed590a7e');\n",
              "        const dataTable =\n",
              "          await google.colab.kernel.invokeFunction('convertToInteractive',\n",
              "                                                    [key], {});\n",
              "        if (!dataTable) return;\n",
              "\n",
              "        const docLinkHtml = 'Like what you see? Visit the ' +\n",
              "          '<a target=\"_blank\" href=https://colab.research.google.com/notebooks/data_table.ipynb>data table notebook</a>'\n",
              "          + ' to learn more about interactive tables.';\n",
              "        element.innerHTML = '';\n",
              "        dataTable['output_type'] = 'display_data';\n",
              "        await google.colab.output.renderOutput(dataTable, element);\n",
              "        const docLink = document.createElement('div');\n",
              "        docLink.innerHTML = docLinkHtml;\n",
              "        element.appendChild(docLink);\n",
              "      }\n",
              "    </script>\n",
              "  </div>\n",
              "\n",
              "\n",
              "<div id=\"df-e132c9f6-16d7-4a58-9073-1482326dddcf\">\n",
              "  <button class=\"colab-df-quickchart\" onclick=\"quickchart('df-e132c9f6-16d7-4a58-9073-1482326dddcf')\"\n",
              "            title=\"Suggest charts\"\n",
              "            style=\"display:none;\">\n",
              "\n",
              "<svg xmlns=\"http://www.w3.org/2000/svg\" height=\"24px\"viewBox=\"0 0 24 24\"\n",
              "     width=\"24px\">\n",
              "    <g>\n",
              "        <path d=\"M19 3H5c-1.1 0-2 .9-2 2v14c0 1.1.9 2 2 2h14c1.1 0 2-.9 2-2V5c0-1.1-.9-2-2-2zM9 17H7v-7h2v7zm4 0h-2V7h2v10zm4 0h-2v-4h2v4z\"/>\n",
              "    </g>\n",
              "</svg>\n",
              "  </button>\n",
              "\n",
              "<style>\n",
              "  .colab-df-quickchart {\n",
              "      --bg-color: #E8F0FE;\n",
              "      --fill-color: #1967D2;\n",
              "      --hover-bg-color: #E2EBFA;\n",
              "      --hover-fill-color: #174EA6;\n",
              "      --disabled-fill-color: #AAA;\n",
              "      --disabled-bg-color: #DDD;\n",
              "  }\n",
              "\n",
              "  [theme=dark] .colab-df-quickchart {\n",
              "      --bg-color: #3B4455;\n",
              "      --fill-color: #D2E3FC;\n",
              "      --hover-bg-color: #434B5C;\n",
              "      --hover-fill-color: #FFFFFF;\n",
              "      --disabled-bg-color: #3B4455;\n",
              "      --disabled-fill-color: #666;\n",
              "  }\n",
              "\n",
              "  .colab-df-quickchart {\n",
              "    background-color: var(--bg-color);\n",
              "    border: none;\n",
              "    border-radius: 50%;\n",
              "    cursor: pointer;\n",
              "    display: none;\n",
              "    fill: var(--fill-color);\n",
              "    height: 32px;\n",
              "    padding: 0;\n",
              "    width: 32px;\n",
              "  }\n",
              "\n",
              "  .colab-df-quickchart:hover {\n",
              "    background-color: var(--hover-bg-color);\n",
              "    box-shadow: 0 1px 2px rgba(60, 64, 67, 0.3), 0 1px 3px 1px rgba(60, 64, 67, 0.15);\n",
              "    fill: var(--button-hover-fill-color);\n",
              "  }\n",
              "\n",
              "  .colab-df-quickchart-complete:disabled,\n",
              "  .colab-df-quickchart-complete:disabled:hover {\n",
              "    background-color: var(--disabled-bg-color);\n",
              "    fill: var(--disabled-fill-color);\n",
              "    box-shadow: none;\n",
              "  }\n",
              "\n",
              "  .colab-df-spinner {\n",
              "    border: 2px solid var(--fill-color);\n",
              "    border-color: transparent;\n",
              "    border-bottom-color: var(--fill-color);\n",
              "    animation:\n",
              "      spin 1s steps(1) infinite;\n",
              "  }\n",
              "\n",
              "  @keyframes spin {\n",
              "    0% {\n",
              "      border-color: transparent;\n",
              "      border-bottom-color: var(--fill-color);\n",
              "      border-left-color: var(--fill-color);\n",
              "    }\n",
              "    20% {\n",
              "      border-color: transparent;\n",
              "      border-left-color: var(--fill-color);\n",
              "      border-top-color: var(--fill-color);\n",
              "    }\n",
              "    30% {\n",
              "      border-color: transparent;\n",
              "      border-left-color: var(--fill-color);\n",
              "      border-top-color: var(--fill-color);\n",
              "      border-right-color: var(--fill-color);\n",
              "    }\n",
              "    40% {\n",
              "      border-color: transparent;\n",
              "      border-right-color: var(--fill-color);\n",
              "      border-top-color: var(--fill-color);\n",
              "    }\n",
              "    60% {\n",
              "      border-color: transparent;\n",
              "      border-right-color: var(--fill-color);\n",
              "    }\n",
              "    80% {\n",
              "      border-color: transparent;\n",
              "      border-right-color: var(--fill-color);\n",
              "      border-bottom-color: var(--fill-color);\n",
              "    }\n",
              "    90% {\n",
              "      border-color: transparent;\n",
              "      border-bottom-color: var(--fill-color);\n",
              "    }\n",
              "  }\n",
              "</style>\n",
              "\n",
              "  <script>\n",
              "    async function quickchart(key) {\n",
              "      const quickchartButtonEl =\n",
              "        document.querySelector('#' + key + ' button');\n",
              "      quickchartButtonEl.disabled = true;  // To prevent multiple clicks.\n",
              "      quickchartButtonEl.classList.add('colab-df-spinner');\n",
              "      try {\n",
              "        const charts = await google.colab.kernel.invokeFunction(\n",
              "            'suggestCharts', [key], {});\n",
              "      } catch (error) {\n",
              "        console.error('Error during call to suggestCharts:', error);\n",
              "      }\n",
              "      quickchartButtonEl.classList.remove('colab-df-spinner');\n",
              "      quickchartButtonEl.classList.add('colab-df-quickchart-complete');\n",
              "    }\n",
              "    (() => {\n",
              "      let quickchartButtonEl =\n",
              "        document.querySelector('#df-e132c9f6-16d7-4a58-9073-1482326dddcf button');\n",
              "      quickchartButtonEl.style.display =\n",
              "        google.colab.kernel.accessAllowed ? 'block' : 'none';\n",
              "    })();\n",
              "  </script>\n",
              "</div>\n",
              "    </div>\n",
              "  </div>\n"
            ]
          },
          "metadata": {},
          "execution_count": 80
        }
      ]
    },
    {
      "cell_type": "markdown",
      "source": [
        "**COST FUNCTION**"
      ],
      "metadata": {
        "id": "Mql52whpXoBb"
      }
    },
    {
      "cell_type": "code",
      "source": [
        "# define cost_function\n",
        "def sigmoid(t):\n",
        "  return 1/(1+np.exp(-t))\n",
        "\n",
        "#define the cost function\n",
        "def cost_fnc(W,X2,Y2):\n",
        "  pred=sigmoid(X2.dot(W))\n",
        "\n",
        " # calculate J(w)\n",
        "  cost=-(np.sum(Y2*np.log(pred)+(1-Y2)*np.log(1-pred)))\n",
        "\n",
        "  return cost\n",
        "\n"
      ],
      "metadata": {
        "id": "G6rfkqp6sdYt"
      },
      "execution_count": null,
      "outputs": []
    },
    {
      "cell_type": "code",
      "source": [
        "#Batch gradient descent\n",
        "\n",
        "\n",
        "def grad_desc_fnc(X2,Y2,W,alpha):\n",
        "  m=X2.shape[1] #number of attributes\n",
        "  n=X2.shape[0] #number of observation\n",
        "  iter=100000\n",
        "\n",
        "  cost_iter=np.zeros(iter)\n",
        "  W_iter=np.zeros((iter,m))\n",
        "\n",
        "  for i in range (iter):\n",
        "    h=sigmoid(np.dot(X2,W))\n",
        "    W=W - (alpha/n)*(X2.T.dot((h-Y2)))\n",
        "    W_iter[i,:]=W.T\n",
        "    cost_iter[i]=cost_fnc(W,X2,Y2)\n",
        "  return W,cost_iter,W_iter,iter\n",
        "\n",
        "\n"
      ],
      "metadata": {
        "id": "bgzpVr7IVyC6"
      },
      "execution_count": null,
      "outputs": []
    },
    {
      "cell_type": "code",
      "source": [
        "def Logis(x,y,alpha):\n",
        "  m=x.shape[1]\n",
        "  W=np.zeros((m,1))\n",
        "  W, cost_iter, W_iter, iter = grad_desc_fnc(x, y, W, alpha)\n",
        "\n",
        "  return W,cost_iter,W_iter,iter"
      ],
      "metadata": {
        "id": "85QZ_EMfiYx1"
      },
      "execution_count": null,
      "outputs": []
    },
    {
      "cell_type": "code",
      "source": [
        "alpha =.01  # This is my chosen learning rate\n",
        "W, cost_iter, W_iter, iter = Logis(X2_train, Y2_train, alpha)"
      ],
      "metadata": {
        "id": "brPz9-VQkjcG"
      },
      "execution_count": null,
      "outputs": []
    },
    {
      "cell_type": "code",
      "source": [
        "plt.plot(range(iter),cost_iter,color='blue')\n",
        "plt.xlabel('iter')\n",
        "plt.ylabel('J(W)')\n",
        "plt.show()"
      ],
      "metadata": {
        "colab": {
          "base_uri": "https://localhost:8080/",
          "height": 449
        },
        "id": "8ZFZxz92kyhq",
        "outputId": "8fca317e-af2b-44bd-d1ca-e1acac78e8a3"
      },
      "execution_count": null,
      "outputs": [
        {
          "output_type": "display_data",
          "data": {
            "text/plain": [
              "<Figure size 640x480 with 1 Axes>"
            ],
            "image/png": "[encoded data removed]"
          },
          "metadata": {}
        }
      ]
    },
    {
      "cell_type": "code",
      "source": [
        "#calculate W.T*X_i to see the class\n",
        "pred_list=[]\n",
        "for i in range (len(X2_train)):\n",
        "  pred_list.append(W.T.dot(X2_train[i]))\n",
        "#pred_list"
      ],
      "metadata": {
        "id": "VjQ54rYCkVOw"
      },
      "execution_count": null,
      "outputs": []
    },
    {
      "cell_type": "code",
      "source": [
        "#divide in two class(positive and negative)\n",
        "class_list=[]\n",
        "for i in range(len(pred_list)):\n",
        "  if(pred_list[i]>=0):\n",
        "    class_list.append(1)\n",
        "  else:\n",
        "    class_list.append(0)\n",
        "#class_list\n"
      ],
      "metadata": {
        "id": "15xG5Mhsz3hE"
      },
      "execution_count": null,
      "outputs": []
    },
    {
      "cell_type": "code",
      "source": [
        "#calculate true_positive,true_negative ,false_positive,false_negative\n",
        "TP=0\n",
        "TN=0\n",
        "FN=0\n",
        "FP=0\n",
        "for i in range(len(Y2_train)):\n",
        "  # if(y2_train[i] == 1 and class_list[i]==1)\n",
        "  if(Y2_train[i]==class_list[i]==1):\n",
        "    TP+=1\n",
        "  elif(Y2_train[i]==class_list[i]==0):\n",
        "    TN+=1\n",
        "  elif(Y2_train[i]==1 and class_list[i]==0):\n",
        "    FN+=1\n",
        "  elif(Y2_train[i]==0 and class_list[i]==1):\n",
        "    FP+=1\n",
        "print('True_positive=',TP)\n",
        "print('True_negative=',TN)\n",
        "print('False_negative=',FN)\n",
        "print('False_positive=',FP)\n",
        "\n"
      ],
      "metadata": {
        "id": "KlZHWh-6c3OS",
        "colab": {
          "base_uri": "https://localhost:8080/"
        },
        "outputId": "2b6011e4-1450-4c2b-b5d7-e8b257de333b"
      },
      "execution_count": null,
      "outputs": [
        {
          "output_type": "stream",
          "name": "stdout",
          "text": [
            "True_positive= 79\n",
            "True_negative= 76\n",
            "False_negative= 0\n",
            "False_positive= 5\n"
          ]
        }
      ]
    },
    {
      "cell_type": "markdown",
      "source": [
        "# **PERFORMANCE MEASUREMENT**"
      ],
      "metadata": {
        "id": "sMMx0zQjXzf-"
      }
    },
    {
      "cell_type": "markdown",
      "source": [
        "**1(a)Report sensitivity, specificity, precision and F measure**"
      ],
      "metadata": {
        "id": "4RMmr1WS_jlb"
      }
    },
    {
      "cell_type": "code",
      "source": [
        "#Accuracy\n",
        "Accuracy=(TP+TN)/(TP+TN+FP+FN)\n",
        "#sensitivity\n",
        "sensitivity=TP/(TP+FN)\n",
        "#specificity\n",
        "specificity=TN/(TN+FP)\n",
        "#precision\n",
        "precision=TP/(TP+FP)\n",
        "#F_measure\n",
        "F_measure=(2*precision*sensitivity)/(precision+sensitivity)\n",
        "print('Accuracy of the model is=',Accuracy)\n",
        "print('sensitivity of the model is=',sensitivity)\n",
        "print('specificaty of the model is=',specificity)\n",
        "print('precision of the model is= ',precision)\n",
        "print('F_measure of the model is=',F_measure)"
      ],
      "metadata": {
        "colab": {
          "base_uri": "https://localhost:8080/"
        },
        "id": "DptFKoXt_ckw",
        "outputId": "db7e285e-6083-41af-a282-5edecebf197f"
      },
      "execution_count": null,
      "outputs": [
        {
          "output_type": "stream",
          "name": "stdout",
          "text": [
            "Accuracy of the model is= 0.96875\n",
            "sensitivity of the model is= 1.0\n",
            "specificaty of the model is= 0.9382716049382716\n",
            "precision of the model is=  0.9404761904761905\n",
            "F_measure of the model is= 0.9693251533742331\n"
          ]
        }
      ]
    },
    {
      "cell_type": "code",
      "source": [
        "thre_list=[0,0.1,0.2,0.3,0.4,0.5,0.9]\n",
        "def class_hist(thresold):\n",
        "  TP=0\n",
        "  TN=0\n",
        "  FN=0\n",
        "  FP=0\n",
        "  class_list=[]\n",
        "  for i in range (len(pred_list)):\n",
        "      if(pred_list[i]>=thresold):\n",
        "        class_list.append(1)\n",
        "      else:\n",
        "        class_list.append(0)\n",
        "\n",
        "  return class_list\n",
        "\n",
        "class_lists=[]\n",
        "\n",
        "\n",
        "\n",
        "for thresold in thre_list:\n",
        "  class_list=class_hist(thresold)\n",
        "  class_lists.append(class_list)\n",
        "\n",
        "\n",
        "TP = 0\n",
        "TN = 0\n",
        "FN = 0\n",
        "FP = 0\n",
        "\n",
        "#createing two empty list to store sensitivity and specificaty\n",
        "True_positive_rate=[] #sensitivity\n",
        "False_positive_rate=[] #false_positive_rate=1-specificiaty\n",
        "\n",
        "for j in range(len(class_lists)):\n",
        "    for i in range(len(Y2_train)):\n",
        "        if Y2_train[i] == 1 and class_lists[j][i] == 1:\n",
        "            TP += 1\n",
        "        elif Y2_train[i] == 0 and class_lists[j][i] == 0:\n",
        "            TN += 1\n",
        "        elif Y2_train[i] == 1 and class_lists[j][i] == 0:\n",
        "            FN += 1\n",
        "        elif Y2_train[i] == 0 and class_lists[j][i] == 1:\n",
        "            FP += 1\n",
        "\n",
        "    #Accuracy\n",
        "    Accuracy=(TP+TN)/(TP+TN+FP+FN)\n",
        "    #sensitivity\n",
        "    sensitivity=TP/(TP+FN)\n",
        "    True_positive_rate.append(sensitivity)\n",
        "\n",
        "    #specificity\n",
        "    specificity=TN/(TN+FP)\n",
        "    False_positive_rate.append(1-specificity)\n",
        "\n",
        "    #precision\n",
        "    precision=TP/(TP+FP)\n",
        "    #F_measure\n",
        "    F_measure=(2*precision*sensitivity)/(precision+sensitivity)\n",
        "    print('Accuracy of the model is=',Accuracy)\n",
        "    print('sensitivity of the model is=',sensitivity)\n",
        "    print('specificaty of the model is=',specificity)\n",
        "    print('precision of the model is= ',precision)\n",
        "    print('F_measure of the model is=',F_measure)"
      ],
      "metadata": {
        "id": "6JqrlxXA5JMa",
        "colab": {
          "base_uri": "https://localhost:8080/"
        },
        "outputId": "6ab703db-0226-40eb-9a39-9441fdf97258"
      },
      "execution_count": null,
      "outputs": [
        {
          "output_type": "stream",
          "name": "stdout",
          "text": [
            "Accuracy of the model is= 0.96875\n",
            "sensitivity of the model is= 1.0\n",
            "specificaty of the model is= 0.9382716049382716\n",
            "precision of the model is=  0.9404761904761905\n",
            "F_measure of the model is= 0.9693251533742331\n",
            "Accuracy of the model is= 0.96875\n",
            "sensitivity of the model is= 1.0\n",
            "specificaty of the model is= 0.9382716049382716\n",
            "precision of the model is=  0.9404761904761905\n",
            "F_measure of the model is= 0.9693251533742331\n",
            "Accuracy of the model is= 0.9729166666666667\n",
            "sensitivity of the model is= 1.0\n",
            "specificaty of the model is= 0.9465020576131687\n",
            "precision of the model is=  0.948\n",
            "F_measure of the model is= 0.973305954825462\n",
            "Accuracy of the model is= 0.9734375\n",
            "sensitivity of the model is= 0.9936708860759493\n",
            "specificaty of the model is= 0.9537037037037037\n",
            "precision of the model is=  0.9544072948328267\n",
            "F_measure of the model is= 0.9736434108527131\n",
            "Accuracy of the model is= 0.97375\n",
            "sensitivity of the model is= 0.9873417721518988\n",
            "specificaty of the model is= 0.9604938271604938\n",
            "precision of the model is=  0.9605911330049262\n",
            "F_measure of the model is= 0.9737827715355807\n",
            "Accuracy of the model is= 0.971875\n",
            "sensitivity of the model is= 0.9789029535864979\n",
            "specificaty of the model is= 0.9650205761316872\n",
            "precision of the model is=  0.9646569646569647\n",
            "F_measure of the model is= 0.9717277486910996\n",
            "Accuracy of the model is= 0.9651785714285714\n",
            "sensitivity of the model is= 0.9602169981916817\n",
            "specificaty of the model is= 0.9700176366843033\n",
            "precision of the model is=  0.968978102189781\n",
            "F_measure of the model is= 0.9645776566757494\n"
          ]
        }
      ]
    },
    {
      "cell_type": "markdown",
      "source": [
        "# **ROC CURVE**"
      ],
      "metadata": {
        "id": "ft8sQfIhX6aQ"
      }
    },
    {
      "cell_type": "code",
      "source": [
        "#plot of the ROC curve\n",
        "plt.plot(False_positive_rate,True_positive_rate,color='green')\n",
        "plt.xlabel('False_positive_rate')\n",
        "plt.ylabel('True_positive_rate')\n",
        "plt.show()"
      ],
      "metadata": {
        "id": "Ztxw9fSDE4xY",
        "colab": {
          "base_uri": "https://localhost:8080/",
          "height": 450
        },
        "outputId": "ef8e49ac-c2d3-4f76-a915-ff6b55e751ac"
      },
      "execution_count": null,
      "outputs": [
        {
          "output_type": "display_data",
          "data": {
            "text/plain": [
              "<Figure size 640x480 with 1 Axes>"
            ],
            "image/png": "[encoded data removed]"
          },
          "metadata": {}
        }
      ]
    },
    {
      "cell_type": "markdown",
      "source": [
        "# **DECISION BOUNDARY**"
      ],
      "metadata": {
        "id": "6d2dWwRSX_jK"
      }
    },
    {
      "cell_type": "code",
      "source": [
        "#decision boundary\n",
        "x1=X2_train[::,1]\n",
        "\n",
        "x2=-(W[0]+W[1]*x1)/W[2]\n",
        "\n",
        "#plotting the decision boundary\n",
        "plt.plot(x1,x2,c='black')\n",
        "for i in range(len(X2_train)):\n",
        "  if Y2_train[i][0]==1:\n",
        "    plt.plot(X2_train[i,1],X2_train[i,2],c='red',marker='o')\n",
        "  else:\n",
        "    plt.plot(X2_train[i,1],X2_train[i,2],c='blue',marker='x')\n"
      ],
      "metadata": {
        "id": "10-veXEcUYJp",
        "colab": {
          "base_uri": "https://localhost:8080/",
          "height": 430
        },
        "outputId": "0ba6d65d-916f-4d71-c676-bac0560223c0"
      },
      "execution_count": null,
      "outputs": [
        {
          "output_type": "display_data",
          "data": {
            "text/plain": [
              "<Figure size 640x480 with 1 Axes>"
            ],
            "image/png": "[encoded data removed]"
          },
          "metadata": {}
        }
      ]
    },
    {
      "cell_type": "markdown",
      "source": [
        "# **SIGMOID FUNCTION**"
      ],
      "metadata": {
        "id": "1f9FWBMZYGUs"
      }
    },
    {
      "cell_type": "code",
      "source": [
        "y_pre=X2.dot(W)\n",
        "p=sigmoid(X2.dot(W))\n",
        "\n",
        "plt.plot(y_pre,p)\n"
      ],
      "metadata": {
        "colab": {
          "base_uri": "https://localhost:8080/",
          "height": 447
        },
        "id": "NQiff_4d5zaK",
        "outputId": "9599c815-c6fd-40d9-aeae-e43b9e27f312"
      },
      "execution_count": null,
      "outputs": [
        {
          "output_type": "execute_result",
          "data": {
            "text/plain": [
              "[<matplotlib.lines.Line2D at 0x79e082b3c760>]"
            ]
          },
          "metadata": {},
          "execution_count": 93
        },
        {
          "output_type": "display_data",
          "data": {
            "text/plain": [
              "<Figure size 640x480 with 1 Axes>"
            ],
            "image/png": "[encoded data removed]"
          },
          "metadata": {}
        }
      ]
    },
    {
      "cell_type": "markdown",
      "source": [
        "# **PARAMETERS VALUE**"
      ],
      "metadata": {
        "id": "ZMP-ZjxfYU65"
      }
    },
    {
      "cell_type": "code",
      "source": [
        "#report the values of the parameters of the final model\n",
        "print('values of the parameter=',W)"
      ],
      "metadata": {
        "colab": {
          "base_uri": "https://localhost:8080/"
        },
        "id": "aowypDMI1_m-",
        "outputId": "ef8bc5f5-47dc-4298-e73d-fd8413be80a0"
      },
      "execution_count": null,
      "outputs": [
        {
          "output_type": "stream",
          "name": "stdout",
          "text": [
            "values of the parameter= [[  0.84851109]\n",
            " [-12.7846926 ]\n",
            " [ 10.01557348]]\n"
          ]
        }
      ]
    },
    {
      "cell_type": "code",
      "source": [],
      "metadata": {
        "id": "GCbYPDo7SFGq"
      },
      "execution_count": null,
      "outputs": []
    },
    {
      "cell_type": "code",
      "source": [
        "#second order optimization technique in the case of logistic regression\n",
        "\n",
        "\n",
        "def Newtons_fnc(X2,Y2,W,alpha):\n",
        "  m=X2.shape[1] #number of attributes\n",
        "  n=X2.shape[0] #number of observation\n",
        "  iter=100000\n",
        "\n",
        "  cost_iter=np.zeros(iter)\n",
        "  W_iter=np.zeros((iter,m))\n",
        "\n",
        "  for i in range (iter):\n",
        "    h=sigmoid(np.dot(X2,W))\n",
        "    #calculate hessian matrix\n",
        "    hessian = (alpha / n) * (X2.T.dot(np.diag(np.multiply(h,(1 - h).reshape(-1,1)))).dot(X2))\n",
        "\n",
        "    update_term = (alpha/n) * (X2.T.dot(h - Y2))\n",
        "    #print(\"Shape of update_term:\", update_term.shape)\n",
        "    W = W - np.linalg.inv(hessian) * update_term\n",
        "\n",
        "\n",
        "    #W=W - np.linalg.inv(hessian) *((alpha/n)*(X2.T.dot(h-Y2)))\n",
        "    W_iter[i,:]=W.T\n",
        "    cost_iter[i]=cost_fnc(W,X2,Y2)\n",
        "  return W,cost_iter,W_iter,iter"
      ],
      "metadata": {
        "id": "4OzFyRg83_6p"
      },
      "execution_count": null,
      "outputs": []
    },
    {
      "cell_type": "code",
      "source": [
        "def Logis(x,y,alpha):\n",
        "  m=x.shape[1]\n",
        "  W=np.zeros((m,1))\n",
        "  W, cost_iter, W_iter, iter = Newtons_fnc(x, y, W, alpha)\n",
        "\n",
        "  return W,cost_iter,W_iter,iter"
      ],
      "metadata": {
        "id": "6NRzQmtoRyQ5"
      },
      "execution_count": null,
      "outputs": []
    },
    {
      "cell_type": "code",
      "source": [
        "#alpha =.01  # This is my chosen learning rate\n",
        "#Y2_train=Y2_train.reshape(-1,1)\n",
        "#W, cost_iter, W_iter, iter = Logis(X2_train, Y2_train, alpha)"
      ],
      "metadata": {
        "id": "C1yxIsBsSINV"
      },
      "execution_count": null,
      "outputs": []
    },
    {
      "cell_type": "code",
      "source": [
        "W"
      ],
      "metadata": {
        "id": "kgLCzP9lSQFB",
        "colab": {
          "base_uri": "https://localhost:8080/"
        },
        "outputId": "309bff30-dbbb-4b23-c32d-5bf9bef65724"
      },
      "execution_count": null,
      "outputs": [
        {
          "output_type": "execute_result",
          "data": {
            "text/plain": [
              "array([[  0.55687744],\n",
              "       [-12.65515435],\n",
              "       [ 10.14781816]])"
            ]
          },
          "metadata": {},
          "execution_count": 22
        }
      ]
    },
    {
      "cell_type": "code",
      "source": [],
      "metadata": {
        "id": "9c6nIxntSz6T"
      },
      "execution_count": null,
      "outputs": []
    },
    {
      "cell_type": "markdown",
      "source": [
        "**Multi_class Logistic Regression**"
      ],
      "metadata": {
        "id": "3AGoh2UqDlM3"
      }
    },
    {
      "cell_type": "code",
      "source": [
        "import pandas as pd\n",
        "import numpy as np\n",
        "import matplotlib.pyplot as plt\n",
        "\n",
        "# Load the data\n",
        "df = pd.read_csv('/content/arrhythmia_csv.csv', header=None,skiprows=1)\n",
        "df.dropna()"
      ],
      "metadata": {
        "colab": {
          "base_uri": "https://localhost:8080/",
          "height": 443
        },
        "id": "niAYWn7XE0Mb",
        "outputId": "a4d5aa35-284c-4597-b4d8-04535ec8e73c"
      },
      "execution_count": null,
      "outputs": [
        {
          "output_type": "execute_result",
          "data": {
            "text/plain": [
              "     0    1    2    3    4    5    6    7    8    9    ...  270   271   272  \\\n",
              "2     54    0  172   95  138  163  386  185  102   96  ...  0.0   9.5  -2.4   \n",
              "8     44    0  168   56   84  118  354  160   63   61  ...  0.0   7.0  -1.3   \n",
              "29    51    1  160   83   96  147  400  301   82  -37  ...  0.0   7.3  -3.9   \n",
              "56    38    1  160   63   79    0  376  165    0   34  ...  0.0  10.1   0.0   \n",
              "71    37    0  182   90  101  294  356  164  143   33  ...  0.0   6.9   0.0   \n",
              "..   ...  ...  ...  ...  ...  ...  ...  ...  ...  ...  ...  ...   ...   ...   \n",
              "426   35    1  160   53   55  163  340  162  102   40  ...  0.0   8.7  -0.5   \n",
              "430   11    0  138   29  123  145  361  221   80  112  ... -3.4  19.6  -4.2   \n",
              "440   37    0  176   72   88  153  389  172   89   67  ... -0.9  16.6  -3.4   \n",
              "449   36    0  166   68  108  176  365  194  116  -85  ...  0.0  16.3 -28.6   \n",
              "450   32    1  155   55   93  106  386  218   63   54  ... -0.4  12.0  -0.7   \n",
              "\n",
              "     273  274  275  276   277   278  279  \n",
              "2    0.0  0.0  0.3  3.4  12.3  49.0   10  \n",
              "8    0.0  0.0  0.6  2.1  12.5  30.9    1  \n",
              "29   0.0  0.0  0.5 -1.1   3.6  -6.3    2  \n",
              "56   0.0  0.0  0.0  1.5  26.2  37.0    1  \n",
              "71   0.0  0.0  0.2  1.9  22.0  38.3   16  \n",
              "..   ...  ...  ...  ...   ...   ...  ...  \n",
              "426  0.0  0.0  0.5  2.3  20.9  40.6    1  \n",
              "430  0.0  0.0  0.2  1.8  12.2  25.1   10  \n",
              "440  0.0  0.0  0.7  1.8  24.9  41.4    1  \n",
              "449  0.0  0.0  1.5  1.0 -44.2 -33.2    2  \n",
              "450  0.0  0.0  0.5  2.4  25.0  46.6    1  \n",
              "\n",
              "[68 rows x 280 columns]"
            ],
            "text/html": [
              "\n",
              "  <div id=\"df-30836a93-8e1a-40a4-9056-e51785f2e9af\" class=\"colab-df-container\">\n",
              "    <div>\n",
              "<style scoped>\n",
              "    .dataframe tbody tr th:only-of-type {\n",
              "        vertical-align: middle;\n",
              "    }\n",
              "\n",
              "    .dataframe tbody tr th {\n",
              "        vertical-align: top;\n",
              "    }\n",
              "\n",
              "    .dataframe thead th {\n",
              "        text-align: right;\n",
              "    }\n",
              "</style>\n",
              "<table border=\"1\" class=\"dataframe\">\n",
              "  <thead>\n",
              "    <tr style=\"text-align: right;\">\n",
              "      <th></th>\n",
              "      <th>0</th>\n",
              "      <th>1</th>\n",
              "      <th>2</th>\n",
              "      <th>3</th>\n",
              "      <th>4</th>\n",
              "      <th>5</th>\n",
              "      <th>6</th>\n",
              "      <th>7</th>\n",
              "      <th>8</th>\n",
              "      <th>9</th>\n",
              "      <th>...</th>\n",
              "      <th>270</th>\n",
              "      <th>271</th>\n",
              "      <th>272</th>\n",
              "      <th>273</th>\n",
              "      <th>274</th>\n",
              "      <th>275</th>\n",
              "      <th>276</th>\n",
              "      <th>277</th>\n",
              "      <th>278</th>\n",
              "      <th>279</th>\n",
              "    </tr>\n",
              "  </thead>\n",
              "  <tbody>\n",
              "    <tr>\n",
              "      <th>2</th>\n",
              "      <td>54</td>\n",
              "      <td>0</td>\n",
              "      <td>172</td>\n",
              "      <td>95</td>\n",
              "      <td>138</td>\n",
              "      <td>163</td>\n",
              "      <td>386</td>\n",
              "      <td>185</td>\n",
              "      <td>102</td>\n",
              "      <td>96</td>\n",
              "      <td>...</td>\n",
              "      <td>0.0</td>\n",
              "      <td>9.5</td>\n",
              "      <td>-2.4</td>\n",
              "      <td>0.0</td>\n",
              "      <td>0.0</td>\n",
              "      <td>0.3</td>\n",
              "      <td>3.4</td>\n",
              "      <td>12.3</td>\n",
              "      <td>49.0</td>\n",
              "      <td>10</td>\n",
              "    </tr>\n",
              "    <tr>\n",
              "      <th>8</th>\n",
              "      <td>44</td>\n",
              "      <td>0</td>\n",
              "      <td>168</td>\n",
              "      <td>56</td>\n",
              "      <td>84</td>\n",
              "      <td>118</td>\n",
              "      <td>354</td>\n",
              "      <td>160</td>\n",
              "      <td>63</td>\n",
              "      <td>61</td>\n",
              "      <td>...</td>\n",
              "      <td>0.0</td>\n",
              "      <td>7.0</td>\n",
              "      <td>-1.3</td>\n",
              "      <td>0.0</td>\n",
              "      <td>0.0</td>\n",
              "      <td>0.6</td>\n",
              "      <td>2.1</td>\n",
              "      <td>12.5</td>\n",
              "      <td>30.9</td>\n",
              "      <td>1</td>\n",
              "    </tr>\n",
              "    <tr>\n",
              "      <th>29</th>\n",
              "      <td>51</td>\n",
              "      <td>1</td>\n",
              "      <td>160</td>\n",
              "      <td>83</td>\n",
              "      <td>96</td>\n",
              "      <td>147</td>\n",
              "      <td>400</td>\n",
              "      <td>301</td>\n",
              "      <td>82</td>\n",
              "      <td>-37</td>\n",
              "      <td>...</td>\n",
              "      <td>0.0</td>\n",
              "      <td>7.3</td>\n",
              "      <td>-3.9</td>\n",
              "      <td>0.0</td>\n",
              "      <td>0.0</td>\n",
              "      <td>0.5</td>\n",
              "      <td>-1.1</td>\n",
              "      <td>3.6</td>\n",
              "      <td>-6.3</td>\n",
              "      <td>2</td>\n",
              "    </tr>\n",
              "    <tr>\n",
              "      <th>56</th>\n",
              "      <td>38</td>\n",
              "      <td>1</td>\n",
              "      <td>160</td>\n",
              "      <td>63</td>\n",
              "      <td>79</td>\n",
              "      <td>0</td>\n",
              "      <td>376</td>\n",
              "      <td>165</td>\n",
              "      <td>0</td>\n",
              "      <td>34</td>\n",
              "      <td>...</td>\n",
              "      <td>0.0</td>\n",
              "      <td>10.1</td>\n",
              "      <td>0.0</td>\n",
              "      <td>0.0</td>\n",
              "      <td>0.0</td>\n",
              "      <td>0.0</td>\n",
              "      <td>1.5</td>\n",
              "      <td>26.2</td>\n",
              "      <td>37.0</td>\n",
              "      <td>1</td>\n",
              "    </tr>\n",
              "    <tr>\n",
              "      <th>71</th>\n",
              "      <td>37</td>\n",
              "      <td>0</td>\n",
              "      <td>182</td>\n",
              "      <td>90</td>\n",
              "      <td>101</td>\n",
              "      <td>294</td>\n",
              "      <td>356</td>\n",
              "      <td>164</td>\n",
              "      <td>143</td>\n",
              "      <td>33</td>\n",
              "      <td>...</td>\n",
              "      <td>0.0</td>\n",
              "      <td>6.9</td>\n",
              "      <td>0.0</td>\n",
              "      <td>0.0</td>\n",
              "      <td>0.0</td>\n",
              "      <td>0.2</td>\n",
              "      <td>1.9</td>\n",
              "      <td>22.0</td>\n",
              "      <td>38.3</td>\n",
              "      <td>16</td>\n",
              "    </tr>\n",
              "    <tr>\n",
              "      <th>...</th>\n",
              "      <td>...</td>\n",
              "      <td>...</td>\n",
              "      <td>...</td>\n",
              "      <td>...</td>\n",
              "      <td>...</td>\n",
              "      <td>...</td>\n",
              "      <td>...</td>\n",
              "      <td>...</td>\n",
              "      <td>...</td>\n",
              "      <td>...</td>\n",
              "      <td>...</td>\n",
              "      <td>...</td>\n",
              "      <td>...</td>\n",
              "      <td>...</td>\n",
              "      <td>...</td>\n",
              "      <td>...</td>\n",
              "      <td>...</td>\n",
              "      <td>...</td>\n",
              "      <td>...</td>\n",
              "      <td>...</td>\n",
              "      <td>...</td>\n",
              "    </tr>\n",
              "    <tr>\n",
              "      <th>426</th>\n",
              "      <td>35</td>\n",
              "      <td>1</td>\n",
              "      <td>160</td>\n",
              "      <td>53</td>\n",
              "      <td>55</td>\n",
              "      <td>163</td>\n",
              "      <td>340</td>\n",
              "      <td>162</td>\n",
              "      <td>102</td>\n",
              "      <td>40</td>\n",
              "      <td>...</td>\n",
              "      <td>0.0</td>\n",
              "      <td>8.7</td>\n",
              "      <td>-0.5</td>\n",
              "      <td>0.0</td>\n",
              "      <td>0.0</td>\n",
              "      <td>0.5</td>\n",
              "      <td>2.3</td>\n",
              "      <td>20.9</td>\n",
              "      <td>40.6</td>\n",
              "      <td>1</td>\n",
              "    </tr>\n",
              "    <tr>\n",
              "      <th>430</th>\n",
              "      <td>11</td>\n",
              "      <td>0</td>\n",
              "      <td>138</td>\n",
              "      <td>29</td>\n",
              "      <td>123</td>\n",
              "      <td>145</td>\n",
              "      <td>361</td>\n",
              "      <td>221</td>\n",
              "      <td>80</td>\n",
              "      <td>112</td>\n",
              "      <td>...</td>\n",
              "      <td>-3.4</td>\n",
              "      <td>19.6</td>\n",
              "      <td>-4.2</td>\n",
              "      <td>0.0</td>\n",
              "      <td>0.0</td>\n",
              "      <td>0.2</td>\n",
              "      <td>1.8</td>\n",
              "      <td>12.2</td>\n",
              "      <td>25.1</td>\n",
              "      <td>10</td>\n",
              "    </tr>\n",
              "    <tr>\n",
              "      <th>440</th>\n",
              "      <td>37</td>\n",
              "      <td>0</td>\n",
              "      <td>176</td>\n",
              "      <td>72</td>\n",
              "      <td>88</td>\n",
              "      <td>153</td>\n",
              "      <td>389</td>\n",
              "      <td>172</td>\n",
              "      <td>89</td>\n",
              "      <td>67</td>\n",
              "      <td>...</td>\n",
              "      <td>-0.9</td>\n",
              "      <td>16.6</td>\n",
              "      <td>-3.4</td>\n",
              "      <td>0.0</td>\n",
              "      <td>0.0</td>\n",
              "      <td>0.7</td>\n",
              "      <td>1.8</td>\n",
              "      <td>24.9</td>\n",
              "      <td>41.4</td>\n",
              "      <td>1</td>\n",
              "    </tr>\n",
              "    <tr>\n",
              "      <th>449</th>\n",
              "      <td>36</td>\n",
              "      <td>0</td>\n",
              "      <td>166</td>\n",
              "      <td>68</td>\n",
              "      <td>108</td>\n",
              "      <td>176</td>\n",
              "      <td>365</td>\n",
              "      <td>194</td>\n",
              "      <td>116</td>\n",
              "      <td>-85</td>\n",
              "      <td>...</td>\n",
              "      <td>0.0</td>\n",
              "      <td>16.3</td>\n",
              "      <td>-28.6</td>\n",
              "      <td>0.0</td>\n",
              "      <td>0.0</td>\n",
              "      <td>1.5</td>\n",
              "      <td>1.0</td>\n",
              "      <td>-44.2</td>\n",
              "      <td>-33.2</td>\n",
              "      <td>2</td>\n",
              "    </tr>\n",
              "    <tr>\n",
              "      <th>450</th>\n",
              "      <td>32</td>\n",
              "      <td>1</td>\n",
              "      <td>155</td>\n",
              "      <td>55</td>\n",
              "      <td>93</td>\n",
              "      <td>106</td>\n",
              "      <td>386</td>\n",
              "      <td>218</td>\n",
              "      <td>63</td>\n",
              "      <td>54</td>\n",
              "      <td>...</td>\n",
              "      <td>-0.4</td>\n",
              "      <td>12.0</td>\n",
              "      <td>-0.7</td>\n",
              "      <td>0.0</td>\n",
              "      <td>0.0</td>\n",
              "      <td>0.5</td>\n",
              "      <td>2.4</td>\n",
              "      <td>25.0</td>\n",
              "      <td>46.6</td>\n",
              "      <td>1</td>\n",
              "    </tr>\n",
              "  </tbody>\n",
              "</table>\n",
              "<p>68 rows × 280 columns</p>\n",
              "</div>\n",
              "    <div class=\"colab-df-buttons\">\n",
              "\n",
              "  <div class=\"colab-df-container\">\n",
              "    <button class=\"colab-df-convert\" onclick=\"convertToInteractive('df-30836a93-8e1a-40a4-9056-e51785f2e9af')\"\n",
              "            title=\"Convert this dataframe to an interactive table.\"\n",
              "            style=\"display:none;\">\n",
              "\n",
              "  <svg xmlns=\"http://www.w3.org/2000/svg\" height=\"24px\" viewBox=\"0 -960 960 960\">\n",
              "    <path d=\"M120-120v-720h720v720H120Zm60-500h600v-160H180v160Zm220 220h160v-160H400v160Zm0 220h160v-160H400v160ZM180-400h160v-160H180v160Zm440 0h160v-160H620v160ZM180-180h160v-160H180v160Zm440 0h160v-160H620v160Z\"/>\n",
              "  </svg>\n",
              "    </button>\n",
              "\n",
              "  <style>\n",
              "    .colab-df-container {\n",
              "      display:flex;\n",
              "      gap: 12px;\n",
              "    }\n",
              "\n",
              "    .colab-df-convert {\n",
              "      background-color: #E8F0FE;\n",
              "      border: none;\n",
              "      border-radius: 50%;\n",
              "      cursor: pointer;\n",
              "      display: none;\n",
              "      fill: #1967D2;\n",
              "      height: 32px;\n",
              "      padding: 0 0 0 0;\n",
              "      width: 32px;\n",
              "    }\n",
              "\n",
              "    .colab-df-convert:hover {\n",
              "      background-color: #E2EBFA;\n",
              "      box-shadow: 0px 1px 2px rgba(60, 64, 67, 0.3), 0px 1px 3px 1px rgba(60, 64, 67, 0.15);\n",
              "      fill: #174EA6;\n",
              "    }\n",
              "\n",
              "    .colab-df-buttons div {\n",
              "      margin-bottom: 4px;\n",
              "    }\n",
              "\n",
              "    [theme=dark] .colab-df-convert {\n",
              "      background-color: #3B4455;\n",
              "      fill: #D2E3FC;\n",
              "    }\n",
              "\n",
              "    [theme=dark] .colab-df-convert:hover {\n",
              "      background-color: #434B5C;\n",
              "      box-shadow: 0px 1px 3px 1px rgba(0, 0, 0, 0.15);\n",
              "      filter: drop-shadow(0px 1px 2px rgba(0, 0, 0, 0.3));\n",
              "      fill: #FFFFFF;\n",
              "    }\n",
              "  </style>\n",
              "\n",
              "    <script>\n",
              "      const buttonEl =\n",
              "        document.querySelector('#df-30836a93-8e1a-40a4-9056-e51785f2e9af button.colab-df-convert');\n",
              "      buttonEl.style.display =\n",
              "        google.colab.kernel.accessAllowed ? 'block' : 'none';\n",
              "\n",
              "      async function convertToInteractive(key) {\n",
              "        const element = document.querySelector('#df-30836a93-8e1a-40a4-9056-e51785f2e9af');\n",
              "        const dataTable =\n",
              "          await google.colab.kernel.invokeFunction('convertToInteractive',\n",
              "                                                    [key], {});\n",
              "        if (!dataTable) return;\n",
              "\n",
              "        const docLinkHtml = 'Like what you see? Visit the ' +\n",
              "          '<a target=\"_blank\" href=https://colab.research.google.com/notebooks/data_table.ipynb>data table notebook</a>'\n",
              "          + ' to learn more about interactive tables.';\n",
              "        element.innerHTML = '';\n",
              "        dataTable['output_type'] = 'display_data';\n",
              "        await google.colab.output.renderOutput(dataTable, element);\n",
              "        const docLink = document.createElement('div');\n",
              "        docLink.innerHTML = docLinkHtml;\n",
              "        element.appendChild(docLink);\n",
              "      }\n",
              "    </script>\n",
              "  </div>\n",
              "\n",
              "\n",
              "<div id=\"df-88e8578c-2dc7-4b2d-805b-7eefd904f584\">\n",
              "  <button class=\"colab-df-quickchart\" onclick=\"quickchart('df-88e8578c-2dc7-4b2d-805b-7eefd904f584')\"\n",
              "            title=\"Suggest charts\"\n",
              "            style=\"display:none;\">\n",
              "\n",
              "<svg xmlns=\"http://www.w3.org/2000/svg\" height=\"24px\"viewBox=\"0 0 24 24\"\n",
              "     width=\"24px\">\n",
              "    <g>\n",
              "        <path d=\"M19 3H5c-1.1 0-2 .9-2 2v14c0 1.1.9 2 2 2h14c1.1 0 2-.9 2-2V5c0-1.1-.9-2-2-2zM9 17H7v-7h2v7zm4 0h-2V7h2v10zm4 0h-2v-4h2v4z\"/>\n",
              "    </g>\n",
              "</svg>\n",
              "  </button>\n",
              "\n",
              "<style>\n",
              "  .colab-df-quickchart {\n",
              "      --bg-color: #E8F0FE;\n",
              "      --fill-color: #1967D2;\n",
              "      --hover-bg-color: #E2EBFA;\n",
              "      --hover-fill-color: #174EA6;\n",
              "      --disabled-fill-color: #AAA;\n",
              "      --disabled-bg-color: #DDD;\n",
              "  }\n",
              "\n",
              "  [theme=dark] .colab-df-quickchart {\n",
              "      --bg-color: #3B4455;\n",
              "      --fill-color: #D2E3FC;\n",
              "      --hover-bg-color: #434B5C;\n",
              "      --hover-fill-color: #FFFFFF;\n",
              "      --disabled-bg-color: #3B4455;\n",
              "      --disabled-fill-color: #666;\n",
              "  }\n",
              "\n",
              "  .colab-df-quickchart {\n",
              "    background-color: var(--bg-color);\n",
              "    border: none;\n",
              "    border-radius: 50%;\n",
              "    cursor: pointer;\n",
              "    display: none;\n",
              "    fill: var(--fill-color);\n",
              "    height: 32px;\n",
              "    padding: 0;\n",
              "    width: 32px;\n",
              "  }\n",
              "\n",
              "  .colab-df-quickchart:hover {\n",
              "    background-color: var(--hover-bg-color);\n",
              "    box-shadow: 0 1px 2px rgba(60, 64, 67, 0.3), 0 1px 3px 1px rgba(60, 64, 67, 0.15);\n",
              "    fill: var(--button-hover-fill-color);\n",
              "  }\n",
              "\n",
              "  .colab-df-quickchart-complete:disabled,\n",
              "  .colab-df-quickchart-complete:disabled:hover {\n",
              "    background-color: var(--disabled-bg-color);\n",
              "    fill: var(--disabled-fill-color);\n",
              "    box-shadow: none;\n",
              "  }\n",
              "\n",
              "  .colab-df-spinner {\n",
              "    border: 2px solid var(--fill-color);\n",
              "    border-color: transparent;\n",
              "    border-bottom-color: var(--fill-color);\n",
              "    animation:\n",
              "      spin 1s steps(1) infinite;\n",
              "  }\n",
              "\n",
              "  @keyframes spin {\n",
              "    0% {\n",
              "      border-color: transparent;\n",
              "      border-bottom-color: var(--fill-color);\n",
              "      border-left-color: var(--fill-color);\n",
              "    }\n",
              "    20% {\n",
              "      border-color: transparent;\n",
              "      border-left-color: var(--fill-color);\n",
              "      border-top-color: var(--fill-color);\n",
              "    }\n",
              "    30% {\n",
              "      border-color: transparent;\n",
              "      border-left-color: var(--fill-color);\n",
              "      border-top-color: var(--fill-color);\n",
              "      border-right-color: var(--fill-color);\n",
              "    }\n",
              "    40% {\n",
              "      border-color: transparent;\n",
              "      border-right-color: var(--fill-color);\n",
              "      border-top-color: var(--fill-color);\n",
              "    }\n",
              "    60% {\n",
              "      border-color: transparent;\n",
              "      border-right-color: var(--fill-color);\n",
              "    }\n",
              "    80% {\n",
              "      border-color: transparent;\n",
              "      border-right-color: var(--fill-color);\n",
              "      border-bottom-color: var(--fill-color);\n",
              "    }\n",
              "    90% {\n",
              "      border-color: transparent;\n",
              "      border-bottom-color: var(--fill-color);\n",
              "    }\n",
              "  }\n",
              "</style>\n",
              "\n",
              "  <script>\n",
              "    async function quickchart(key) {\n",
              "      const quickchartButtonEl =\n",
              "        document.querySelector('#' + key + ' button');\n",
              "      quickchartButtonEl.disabled = true;  // To prevent multiple clicks.\n",
              "      quickchartButtonEl.classList.add('colab-df-spinner');\n",
              "      try {\n",
              "        const charts = await google.colab.kernel.invokeFunction(\n",
              "            'suggestCharts', [key], {});\n",
              "      } catch (error) {\n",
              "        console.error('Error during call to suggestCharts:', error);\n",
              "      }\n",
              "      quickchartButtonEl.classList.remove('colab-df-spinner');\n",
              "      quickchartButtonEl.classList.add('colab-df-quickchart-complete');\n",
              "    }\n",
              "    (() => {\n",
              "      let quickchartButtonEl =\n",
              "        document.querySelector('#df-88e8578c-2dc7-4b2d-805b-7eefd904f584 button');\n",
              "      quickchartButtonEl.style.display =\n",
              "        google.colab.kernel.accessAllowed ? 'block' : 'none';\n",
              "    })();\n",
              "  </script>\n",
              "</div>\n",
              "    </div>\n",
              "  </div>\n"
            ]
          },
          "metadata": {},
          "execution_count": 96
        }
      ]
    },
    {
      "cell_type": "code",
      "source": [
        "#normalised the data\n",
        "for column in df.columns[0:279]:\n",
        "  df[column]=(df[column] - df[column].min()) / (df[column].max() - df[column].min())\n",
        "\n",
        "# Slicing the data\n",
        "X = df.iloc[:, :-1]\n",
        "Y = df.iloc[:, -1].values\n",
        "Y = Y.reshape(-1, 1)\n",
        "X = np.c_[np.ones((X.shape[0], 1)), X]\n",
        "\n",
        "# Define the number of classes\n",
        "num_classes = len(np.unique(Y))\n",
        "\n",
        "# Divided the data into training and testing data\n",
        "total_rows = len(X)\n",
        "train_rows = int(0.8 * total_rows)\n",
        "\n",
        "# Generate random indices for the training set\n",
        "train_indices = np.random.choice(total_rows, train_rows, replace=False)\n",
        "\n",
        "# Create the training set\n",
        "X_train = X[train_indices, :]\n",
        "Y_train = Y[train_indices, :]\n",
        "\n",
        "# Create the testing set by excluding the training indices\n",
        "X_test = np.delete(X, train_indices, axis=0)\n",
        "Y_test = np.delete(Y, train_indices, axis=0)\n",
        "\n"
      ],
      "metadata": {
        "id": "gdN_7JqXDuM7"
      },
      "execution_count": null,
      "outputs": []
    },
    {
      "cell_type": "code",
      "source": [
        "# Define sigmoid function\n",
        "def sigmoid(t):\n",
        "    return 1 / (1 + np.exp(-t))\n",
        "\n",
        "# Define cost function for multiclass logistic regression\n",
        "def cost_fnc(W, X, Y, epsilon=1e-10):\n",
        "    m = X.shape[1]  # number of attributes\n",
        "    n = X.shape[0]  # number of observations\n",
        "    cost = 0\n",
        "\n",
        "    for c in range(num_classes):\n",
        "        y_c = (Y == c).astype(int)  # Convert to binary vector for the current class\n",
        "        h = sigmoid(np.dot(X, W[c, :]))\n",
        "        h = np.clip(h, epsilon, 1 - epsilon)  # Clip predicted probabilities to avoid extreme values\n",
        "        cost += np.sum(y_c * np.log(h) + (1 - y_c) * np.log(1 - h))\n",
        "\n",
        "    cost = -cost\n",
        "    return cost\n",
        "\n",
        "\n",
        "# Gradient descent for multiclass logistic regression\n",
        "def grad_desc_fnc(X, Y, W, alpha):\n",
        "    m = X.shape[1]  # number of attributes\n",
        "    n = X.shape[0]  # number of observations\n",
        "    iter = 1000\n",
        "\n",
        "    cost_iter = np.zeros(iter)\n",
        "    W_iter = np.zeros((iter, num_classes, m))\n",
        "\n",
        "    for i in range(iter):\n",
        "        for c in range(num_classes):\n",
        "            y_c = (Y == c).astype(int)\n",
        "            h = sigmoid(np.dot(X, W[c, :]))\n",
        "            W[c, :] = W[c, :] - (alpha / n) * (X.T.dot((h - y_c[:,0])))\n",
        "\n",
        "        W_iter[i, :, :] = W\n",
        "        cost_iter[i] = cost_fnc(W, X, Y)\n",
        "\n",
        "    return W, cost_iter, W_iter, iter\n",
        "\n",
        "# Initialize weights for each class\n",
        "initial_weights = np.zeros((num_classes, X.shape[1]))\n",
        "\n",
        "alpha=0.01\n",
        "# Run multiclass logistic regression\n",
        "W, cost_iter, W_iter, iter = grad_desc_fnc(X_train, Y_train, initial_weights, alpha)\n",
        "\n",
        "# Plot the cost over iterations\n"
      ],
      "metadata": {
        "id": "JezuCO6WEsnz"
      },
      "execution_count": null,
      "outputs": []
    },
    {
      "cell_type": "code",
      "source": [
        "cost_iter"
      ],
      "metadata": {
        "id": "JtF7iqZ2c4oN"
      },
      "execution_count": null,
      "outputs": []
    },
    {
      "cell_type": "code",
      "source": [
        "# Define cost function for multiclass logistic regression\n",
        "def cost_fnc(W, X, Y, epsilon=1e-5):\n",
        "    m = X.shape[1]  # number of attributes\n",
        "    n = X.shape[0]  # number of observations\n",
        "    cost = 0\n",
        "\n",
        "    for c in range(num_classes):\n",
        "        y_c = (Y == c).astype(int)  # Convert to binary vector for the current class\n",
        "        h = sigmoid(np.dot(X, W[c, :]))\n",
        "        h = np.clip(h, epsilon, 1 - epsilon)  # Clip predicted probabilities to avoid extreme values\n",
        "        cost += np.sum(y_c * np.log(h) + (1 - y_c) * np.log(1 - h))\n",
        "\n",
        "    cost = -cost / n\n",
        "    return cost\n",
        "\n",
        "# Gradient descent for multiclass logistic regression\n",
        "def grad_desc_fnc(X, Y, W, alpha, num_iters):\n",
        "    m = X.shape[1]  # number of attributes\n",
        "    n = X.shape[0]  # number of observations\n",
        "\n",
        "\n",
        "    cost_iter = np.zeros(num_iters)\n",
        "    W_iter = np.zeros((num_iters, num_classes, m))\n",
        "\n",
        "    for i in range(num_iters):\n",
        "        for c in range(num_classes):\n",
        "            y_c = (Y == c).astype(int)\n",
        "            h = sigmoid(np.dot(X, W[c, :]))\n",
        "            W[c, :] = W[c, :] - (alpha / n) * (X.T.dot((h - y_c[:,0])))\n",
        "\n",
        "        W_iter[i, :, :] = W\n",
        "        cost_iter[i] = cost_fnc(W, X, Y)\n",
        "\n",
        "    return W, cost_iter, W_iter,iter\n",
        "\n",
        "# Initialize weights for each class\n",
        "initial_weights = np.zeros((num_classes, X.shape[1]))\n",
        "\n",
        "alpha=0.0000001\n",
        "num_iters=10000\n",
        "# Run multiclass logistic regression\n",
        "W, cost_iter, W_iter, iter = grad_desc_fnc(X_train, Y_train, initial_weights, alpha,num_iters)\n",
        "\n",
        "\n",
        "\n"
      ],
      "metadata": {
        "id": "w6X3G8_SHZgA"
      },
      "execution_count": null,
      "outputs": []
    },
    {
      "cell_type": "code",
      "source": [
        "cost_iter"
      ],
      "metadata": {
        "colab": {
          "base_uri": "https://localhost:8080/"
        },
        "id": "oqABJoU2NuG-",
        "outputId": "b737053d-eb33-423a-93be-832de129e576"
      },
      "execution_count": null,
      "outputs": [
        {
          "output_type": "execute_result",
          "data": {
            "text/plain": [
              "array([nan, nan, nan, ..., nan, nan, nan])"
            ]
          },
          "metadata": {},
          "execution_count": 102
        }
      ]
    },
    {
      "cell_type": "code",
      "source": [
        "import pandas as pd\n",
        "import numpy as np\n",
        "import matplotlib.pyplot as plt\n",
        "\n",
        "# Load the data\n",
        "df = pd.read_csv('/content/arrhythmia_csv.csv', header=None,skiprows=1)\n",
        "df=df.dropna()\n",
        "from sklearn.linear_model import LogisticRegression\n",
        "from sklearn.preprocessing import StandardScaler\n",
        "from sklearn.model_selection import train_test_split\n",
        "\n",
        "# Normalizing the data\n",
        "scaler = StandardScaler()\n",
        "X = scaler.fit_transform(df.iloc[:, :-1])\n",
        "\n",
        "# Slicing the data\n",
        "Y = df.iloc[:, -1].values\n",
        "\n",
        "# Dividing the data into training and testing data\n",
        "X_train, X_test, Y_train, Y_test = train_test_split(X, Y, test_size=0.2, random_state=42)\n",
        "\n",
        "# Define the model\n",
        "model = LogisticRegression(multi_class='multinomial', solver='lbfgs')\n",
        "\n",
        "# Train the model\n",
        "model.fit(X_train, Y_train)\n",
        "\n",
        "# Now you can use the trained model to make predictions\n",
        "predictions = model.predict(X_test)\n",
        "\n",
        "\n",
        "\n",
        "\n"
      ],
      "metadata": {
        "id": "oxMqAvdqVXtF"
      },
      "execution_count": null,
      "outputs": []
    },
    {
      "cell_type": "code",
      "source": [
        "from sklearn.metrics import accuracy_score\n",
        "\n",
        "# Calculate the accuracy of the model\n",
        "accuracy = accuracy_score(Y_test, predictions)\n",
        "print(f\"Accuracy: {accuracy}\")\n"
      ],
      "metadata": {
        "colab": {
          "base_uri": "https://localhost:8080/"
        },
        "id": "3hxclae8ddTs",
        "outputId": "5b8211d2-e9dd-41bf-e0bd-95c5d0be587a"
      },
      "execution_count": null,
      "outputs": [
        {
          "output_type": "stream",
          "name": "stdout",
          "text": [
            "Accuracy: 0.5714285714285714\n"
          ]
        }
      ]
    },
    {
      "cell_type": "code",
      "source": [
        "from sklearn.metrics import classification_report\n",
        "\n",
        "# Generate a classification report\n",
        "report = classification_report(Y_test, predictions)\n",
        "print(report)\n"
      ],
      "metadata": {
        "colab": {
          "base_uri": "https://localhost:8080/"
        },
        "id": "5nRdKA1pexiP",
        "outputId": "9e273da8-8239-46c7-d076-aa84c8fb3b24"
      },
      "execution_count": null,
      "outputs": [
        {
          "output_type": "stream",
          "name": "stdout",
          "text": [
            "              precision    recall  f1-score   support\n",
            "\n",
            "           1       0.38      1.00      0.55         3\n",
            "           2       0.50      0.50      0.50         2\n",
            "           3       1.00      1.00      1.00         2\n",
            "           4       0.00      0.00      0.00         1\n",
            "           5       0.00      0.00      0.00         1\n",
            "           6       0.00      0.00      0.00         1\n",
            "           9       1.00      1.00      1.00         1\n",
            "          10       1.00      0.50      0.67         2\n",
            "          16       0.00      0.00      0.00         1\n",
            "\n",
            "    accuracy                           0.57        14\n",
            "   macro avg       0.43      0.44      0.41        14\n",
            "weighted avg       0.51      0.57      0.50        14\n",
            "\n"
          ]
        }
      ]
    },
    {
      "cell_type": "code",
      "source": [
        "from sklearn.metrics import confusion_matrix\n",
        "\n",
        "# Generate a confusion matrix\n",
        "matrix = confusion_matrix(Y_test, predictions)\n",
        "print(matrix)\n"
      ],
      "metadata": {
        "colab": {
          "base_uri": "https://localhost:8080/"
        },
        "id": "viDBEjJde2OO",
        "outputId": "e343e6c8-6648-4f45-aa1a-91fefb8d7afa"
      },
      "execution_count": null,
      "outputs": [
        {
          "output_type": "stream",
          "name": "stdout",
          "text": [
            "[[3 0 0 0 0 0 0 0 0]\n",
            " [1 1 0 0 0 0 0 0 0]\n",
            " [0 0 2 0 0 0 0 0 0]\n",
            " [0 1 0 0 0 0 0 0 0]\n",
            " [1 0 0 0 0 0 0 0 0]\n",
            " [1 0 0 0 0 0 0 0 0]\n",
            " [0 0 0 0 0 0 1 0 0]\n",
            " [1 0 0 0 0 0 0 1 0]\n",
            " [1 0 0 0 0 0 0 0 0]]\n"
          ]
        }
      ]
    },
    {
      "cell_type": "code",
      "source": [],
      "metadata": {
        "id": "pkS5Hsh5e62a"
      },
      "execution_count": null,
      "outputs": []
    }
  ]
}