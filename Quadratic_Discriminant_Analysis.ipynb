{
  "nbformat": 4,
  "nbformat_minor": 0,
  "metadata": {
    "colab": {
      "provenance": []
    },
    "kernelspec": {
      "name": "python3",
      "display_name": "Python 3"
    },
    "language_info": {
      "name": "python"
    }
  },
  "cells": [
    {
      "cell_type": "markdown",
      "source": [
        "# **QUADRATIC DISCRIMINANT ANALYSIS**"
      ],
      "metadata": {
        "id": "x2gk8RTjcuwX"
      }
    },
    {
      "cell_type": "markdown",
      "source": [
        "**Binary class QDA**"
      ],
      "metadata": {
        "id": "hNgC-Wlho3tT"
      }
    },
    {
      "cell_type": "code",
      "execution_count": null,
      "metadata": {
        "id": "e8Qbj5Mmp_i7"
      },
      "outputs": [],
      "source": [
        "import numpy as np\n",
        "import pandas as pd\n",
        "df=pd.read_csv('/content/data6.csv',header=None)\n",
        "#normalised the data\n",
        "for column in df.columns[0:3]:\n",
        "  df[column]=(df[column] - df[column].min()) / (df[column].max() - df[column].min())\n",
        "\n",
        "# Seperating X and Y arrays\n",
        "X = np.array(df.iloc[:, :-1])\n",
        "Y = np.array(df.iloc[:, -1])\n",
        "\n",
        "\n",
        "total_rows=len(X)\n",
        "\n",
        "#divided the data into training and testing data\n",
        "train_rows=int(0.8*total_rows)\n",
        "\n",
        "# Generate random indices for the training set\n",
        "train_indices = np.random.choice(total_rows, train_rows, replace=False)\n",
        "\n",
        "# Create the training set\n",
        "X2_train = X[train_indices, :]\n",
        "Y2_train = Y[train_indices]\n",
        "\n",
        "# Create the testing set by excluding the training indices\n",
        "X2_test = np.delete(X, train_indices, axis=0)\n",
        "Y2_test = np.delete(Y, train_indices, axis=0)"
      ]
    },
    {
      "cell_type": "code",
      "source": [
        "import numpy as np\n",
        "\n",
        "def qda(X_train, Y_train):\n",
        "    # Adjust class labels to start from 0\n",
        "    classes = np.unique(Y_train)\n",
        "    class_mapping = {c: i for i, c in enumerate(classes)}\n",
        "    Y_train_mapped = np.array([class_mapping[c] for c in Y_train])\n",
        "\n",
        "    # Calculate parameters for each class\n",
        "    n_classes = len(classes)\n",
        "\n",
        "    means = [np.mean(X_train[Y_train_mapped == c], axis=0) for c in range(n_classes)]\n",
        "    cov_matrices = [np.cov(X_train[Y_train_mapped == c], rowvar=False) for c in range(n_classes)]\n",
        "    cov_invs = [np.linalg.inv(cov) for cov in cov_matrices]\n",
        "    priors = [np.mean(Y_train_mapped == c) for c in range(n_classes)]\n",
        "\n",
        "    # QDA implementation\n",
        "    def quadratic_discriminant_function(x, class_idx):\n",
        "        mean_diff = x - means[class_idx]\n",
        "        cov_inv = cov_invs[class_idx]\n",
        "        det_cov = np.linalg.det(cov_matrices[class_idx])\n",
        "\n",
        "        quadratic_term = -0.5 * mean_diff.T.dot(cov_inv).dot(mean_diff)\n",
        "        linear_term = mean_diff.T.dot(cov_inv).dot(means[class_idx])\n",
        "        constant_term = -0.5 * means[class_idx].T.dot(cov_inv).dot(means[class_idx]) + 0.5 * np.log(det_cov)\n",
        "\n",
        "        return quadratic_term + linear_term + constant_term + np.log(priors[class_idx])\n",
        "\n",
        "    # Classification Rule\n",
        "    def predict_class(x):\n",
        "        class_scores = [quadratic_discriminant_function(x, i) for i in range(n_classes)]\n",
        "\n",
        "        return (np.argmax(class_scores)+1)\n",
        "\n",
        "\n",
        "    # Apply the classification rule to each sample in X_train\n",
        "    predictions = np.array([np.argmax([quadratic_discriminant_function(sample, c) for c in range(n_classes)]) + 1 for sample in X_train])\n",
        "\n",
        "    # Calculate true positive (TP), true negative (TN), false positive (FP), false negative (FN)\n",
        "    TP = np.sum((Y_train_mapped == 1) & (predictions == 1))\n",
        "    TN = np.sum((Y_train_mapped == 0) & (predictions == 0))\n",
        "    FN = np.sum((Y_train_mapped == 1) & (predictions == 0))\n",
        "    FP = np.sum((Y_train_mapped == 0) & (predictions == 1))\n",
        "\n",
        "    print('True_positive=', TP)\n",
        "    print('True_negative=', TN)\n",
        "    print('False_negative=', FN)\n",
        "    print('False_positive=', FP)\n",
        "\n",
        "    return predictions,TP,TN,FN,FP,class_mapping,Y_train_mapped,means,predict_class\n",
        "\n",
        "# Example usage:\n",
        "predictions,TP,TN,FN,FP,class_mapping,Y_train_mapped,means,predict_class = qda(X2_train, Y2_train)\n",
        "predictions\n"
      ],
      "metadata": {
        "colab": {
          "base_uri": "https://localhost:8080/"
        },
        "id": "aealJVJbwAgc",
        "outputId": "7fddb2c5-b0a3-4cd5-c032-eea54e7db397"
      },
      "execution_count": null,
      "outputs": [
        {
          "output_type": "stream",
          "name": "stdout",
          "text": [
            "True_positive= 69\n",
            "True_negative= 0\n",
            "False_negative= 0\n",
            "False_positive= 80\n"
          ]
        },
        {
          "output_type": "execute_result",
          "data": {
            "text/plain": [
              "array([1, 1, 1, 1, 1, 1, 1, 1, 1, 1, 1, 1, 1, 1, 1, 1, 1, 1, 1, 1, 1, 1,\n",
              "       1, 2, 1, 1, 1, 1, 1, 2, 1, 1, 1, 1, 1, 1, 2, 2, 1, 1, 1, 1, 1, 1,\n",
              "       1, 2, 1, 1, 1, 1, 1, 1, 1, 1, 1, 1, 1, 1, 1, 1, 1, 1, 1, 1, 1, 1,\n",
              "       1, 1, 2, 1, 1, 1, 1, 1, 1, 1, 1, 1, 1, 1, 1, 1, 1, 1, 1, 1, 1, 1,\n",
              "       1, 1, 1, 1, 1, 1, 1, 2, 1, 1, 1, 1, 1, 1, 1, 1, 1, 1, 1, 1, 1, 1,\n",
              "       1, 1, 1, 1, 1, 1, 1, 1, 1, 1, 1, 1, 1, 1, 1, 1, 1, 1, 1, 2, 1, 1,\n",
              "       1, 1, 2, 1, 1, 1, 1, 1, 1, 1, 2, 1, 1, 1, 1, 2, 1, 1, 1, 1, 1, 1,\n",
              "       1, 1, 1, 1, 1, 1])"
            ]
          },
          "metadata": {},
          "execution_count": 4
        }
      ]
    },
    {
      "cell_type": "code",
      "source": [
        "#Accuracy\n",
        "Accuracy=(TP+TN)/(TP+TN+FP+FN)\n",
        "#sensitivity\n",
        "sensitivity=TP/(TP+FN)\n",
        "#specificity\n",
        "specificity=TN/(TN+FP)\n",
        "#precision\n",
        "precision=TP/(TP+FP)\n",
        "#F_measure\n",
        "F_measure=(2*precision*sensitivity)/(precision+sensitivity)\n",
        "print('Accuracy of the model is=',Accuracy)\n",
        "print('sensitivity of the model is=',sensitivity)\n",
        "print('specificaty of the model is=',specificity)\n",
        "print('precision of the model is= ',precision)\n",
        "print('F_measure of the model is=',F_measure)"
      ],
      "metadata": {
        "colab": {
          "base_uri": "https://localhost:8080/"
        },
        "id": "tQ3iDA5B0UW2",
        "outputId": "762ebed2-7739-4192-bb60-96c0b23bf8dd"
      },
      "execution_count": null,
      "outputs": [
        {
          "output_type": "stream",
          "name": "stdout",
          "text": [
            "Accuracy of the model is= 0.46308724832214765\n",
            "sensitivity of the model is= 1.0\n",
            "specificaty of the model is= 0.0\n",
            "precision of the model is=  0.46308724832214765\n",
            "F_measure of the model is= 0.6330275229357799\n"
          ]
        }
      ]
    },
    {
      "cell_type": "code",
      "source": [
        "means"
      ],
      "metadata": {
        "colab": {
          "base_uri": "https://localhost:8080/"
        },
        "id": "LqYimSKU0nvo",
        "outputId": "96e8f947-72c2-4258-cde3-9d53d85424ae"
      },
      "execution_count": null,
      "outputs": [
        {
          "output_type": "execute_result",
          "data": {
            "text/plain": [
              "[array([0.56530612, 0.29132653]), array([0.45969388, 0.64234694])]"
            ]
          },
          "metadata": {},
          "execution_count": 6
        }
      ]
    },
    {
      "cell_type": "markdown",
      "source": [
        "# **DECESSION BOUNDARY**"
      ],
      "metadata": {
        "id": "XG2jJ2X1dNlV"
      }
    },
    {
      "cell_type": "code",
      "source": [
        "import numpy as np\n",
        "import matplotlib.pyplot as plt\n",
        "\n",
        "def plot_decision_boundary(X, Y, predict_function, class_mapping, means):\n",
        "    h = .02  # Step size in the mesh\n",
        "    x_min, x_max = X[:, 0].min() - 1, X[:, 0].max() + 1\n",
        "    y_min, y_max = X[:, 1].min() - 1, X[:, 1].max() + 1\n",
        "\n",
        "    xx, yy = np.meshgrid(np.arange(x_min, x_max, h), np.arange(y_min, y_max, h))\n",
        "    grid_points = np.c_[xx.ravel(), yy.ravel()]\n",
        "\n",
        "    # Use the predict_function to get predictions for each point in the meshgrid\n",
        "    predictions = np.array([predict_function(point) for point in grid_points])\n",
        "\n",
        "    # Reshape the predictions to match the meshgrid shape\n",
        "    Z = predictions.reshape(xx.shape)\n",
        "\n",
        "    # Plot the decision boundary\n",
        "    plt.contour(xx, yy, Z, colors='black')\n",
        "\n",
        "    # Plot the data points\n",
        "    for class_idx, class_label in class_mapping.items():\n",
        "        plt.scatter(X[Y == class_label, 0], X[Y == class_label, 1], label=f'Class {class_label}', edgecolors='k')\n",
        "\n",
        "    # Plot the means of each class\n",
        "    for class_idx, mean in enumerate(means):\n",
        "        plt.scatter(mean[0], mean[1], marker='x', s=200, c='red', label=f'Mean of Class {class_idx + 1}')\n",
        "\n",
        "    plt.xlabel('Feature 1')\n",
        "    plt.ylabel('Feature 2')\n",
        "    plt.title('Decision Boundary for QDA (From Scratch)')\n",
        "    plt.legend()\n",
        "    plt.show()\n",
        "\n",
        "# Example usage:\n",
        "plot_decision_boundary(X2_train, Y2_train, predict_class, class_mapping, means)\n"
      ],
      "metadata": {
        "colab": {
          "base_uri": "https://localhost:8080/",
          "height": 472
        },
        "id": "WQNH48pNnFYr",
        "outputId": "ca175925-31e5-4189-97c0-a49fd4d46d40"
      },
      "execution_count": null,
      "outputs": [
        {
          "output_type": "display_data",
          "data": {
            "text/plain": [
              "<Figure size 640x480 with 1 Axes>"
            ],
            "image/png": "[encoded data removed]"
          },
          "metadata": {}
        }
      ]
    },
    {
      "cell_type": "markdown",
      "source": [
        "**Using Library function**"
      ],
      "metadata": {
        "id": "pAT_NGiut0G2"
      }
    },
    {
      "cell_type": "code",
      "source": [
        "import numpy as np\n",
        "import pandas as pd\n",
        "from sklearn.discriminant_analysis import QuadraticDiscriminantAnalysis\n",
        "from sklearn.model_selection import train_test_split\n",
        "from sklearn.metrics import accuracy_score, confusion_matrix\n",
        "\n",
        "# Read your dataset (assuming it has a header)\n",
        "df = pd.read_csv('/content/data6.csv', header=None)\n",
        "\n",
        "# Assuming the last column is the target variable\n",
        "X = df.iloc[:, :-1]\n",
        "Y = df.iloc[:, -1]\n",
        "\n",
        "# Split the data into training and testing sets\n",
        "X_train, X_test, Y_train, Y_test = train_test_split(X, Y, test_size=0.2, random_state=42)\n",
        "\n",
        "# Initialize the QDA model\n",
        "qda_model = QuadraticDiscriminantAnalysis()\n",
        "\n",
        "# Fit the model to the training data\n",
        "qda_model.fit(X_train, Y_train)\n",
        "\n",
        "# Make predictions on the testing data\n",
        "predictions = qda_model.predict(X_test)\n",
        "\n",
        "# Calculate accuracy\n",
        "accuracy = accuracy_score(Y_test, predictions)\n",
        "print(f'Accuracy: {accuracy * 100:.2f}%')\n",
        "\n",
        "# Print confusion matrix\n",
        "conf_matrix = confusion_matrix(Y_test, predictions)\n",
        "print('Confusion Matrix:')\n",
        "print(conf_matrix)\n",
        "\n"
      ],
      "metadata": {
        "id": "1iZ0XORWAqiQ",
        "colab": {
          "base_uri": "https://localhost:8080/"
        },
        "outputId": "b748cd94-7d37-43d4-8d8d-3db89aa3d34d"
      },
      "execution_count": null,
      "outputs": [
        {
          "output_type": "stream",
          "name": "stdout",
          "text": [
            "Accuracy: 85.00%\n",
            "Confusion Matrix:\n",
            "[[14  5]\n",
            " [ 1 20]]\n"
          ]
        }
      ]
    },
    {
      "cell_type": "code",
      "source": [
        "import numpy as np\n",
        "import matplotlib.pyplot as plt\n",
        "from sklearn.discriminant_analysis import QuadraticDiscriminantAnalysis\n",
        "\n",
        "# Assume X_train is your training data and Y_train is the corresponding labels\n",
        "\n",
        "# Initialize the QDA model\n",
        "qda_model = QuadraticDiscriminantAnalysis()\n",
        "\n",
        "# Fit the model to the training data\n",
        "qda_model.fit(X_train, Y_train)\n",
        "\n",
        "# Plot decision boundary\n",
        "# Generate a meshgrid of points\n",
        "h = .02  # Step size in the mesh\n",
        "x_min, x_max = X_train.iloc[:, 0].min() - 1, X_train.iloc[:, 0].max() + 1\n",
        "y_min, y_max = X_train.iloc[:, 1].min() - 1, X_train.iloc[:, 1].max() + 1\n",
        "\n",
        "xx, yy = np.meshgrid(np.arange(x_min, x_max, h), np.arange(y_min, y_max, h))\n",
        "\n",
        "# Use the model to predict the class for each point in the meshgrid\n",
        "Z = qda_model.predict(np.c_[xx.ravel(), yy.ravel()])\n",
        "Z = Z.reshape(xx.shape)\n",
        "\n",
        "# Plot the decision boundary\n",
        "plt.contour(xx, yy, Z, colors='black')\n",
        "\n",
        "# Plot the data points\n",
        "plt.scatter(X_train.iloc[:, 0], X_train.iloc[:, 1], c=Y_train, edgecolors='k', cmap=plt.cm.Paired)\n",
        "\n",
        "plt.xlabel('Feature 1')\n",
        "plt.ylabel('Feature 2')\n",
        "plt.title('Decision Boundary for Binary Classification with QDA')\n",
        "plt.show()\n"
      ],
      "metadata": {
        "colab": {
          "base_uri": "https://localhost:8080/",
          "height": 472
        },
        "id": "o0HDTAmgmfQ5",
        "outputId": "98cb88c9-08a1-4efb-e778-d10b418bb145"
      },
      "execution_count": null,
      "outputs": [
        {
          "output_type": "display_data",
          "data": {
            "text/plain": [
              "<Figure size 640x480 with 1 Axes>"
            ],
            "image/png": "[encoded data removed]"
          },
          "metadata": {}
        }
      ]
    },
    {
      "cell_type": "markdown",
      "source": [
        "#**MULTI CLASS QDA**"
      ],
      "metadata": {
        "id": "Z-W_2Q5Xo-y1"
      }
    },
    {
      "cell_type": "code",
      "source": [
        "import numpy as np\n",
        "import pandas as pd\n",
        "df=pd.read_csv('/content/data8.csv',header=None)\n",
        "#normalised the data\n",
        "for column in df.columns[0:3]:\n",
        "  df[column]=(df[column] - df[column].min()) / (df[column].max() - df[column].min())\n",
        "\n",
        "# Seperating X and Y arrays\n",
        "X = np.array(df.iloc[:, :-1])\n",
        "Y = np.array(df.iloc[:, -1])\n",
        "\n",
        "\n",
        "total_rows=len(X)\n",
        "\n",
        "#divided the data into training and testing data\n",
        "train_rows=int(0.8*total_rows)\n",
        "\n",
        "# Generate random indices for the training set\n",
        "train_indices = np.random.choice(total_rows, train_rows, replace=False)\n",
        "\n",
        "# Create the training set\n",
        "X2_train = X[train_indices, :]\n",
        "Y2_train = Y[train_indices]\n",
        "\n",
        "# Create the testing set by excluding the training indices\n",
        "X2_test = np.delete(X, train_indices, axis=0)\n",
        "Y2_test = np.delete(Y, train_indices, axis=0)"
      ],
      "metadata": {
        "id": "iXZ_tsa4p_hz"
      },
      "execution_count": null,
      "outputs": []
    },
    {
      "cell_type": "code",
      "source": [
        "df"
      ],
      "metadata": {
        "colab": {
          "base_uri": "https://localhost:8080/",
          "height": 423
        },
        "id": "DnoJ_xEz0c_d",
        "outputId": "9d0f0170-edb8-4ca3-8a3c-17047f84628c"
      },
      "execution_count": null,
      "outputs": [
        {
          "output_type": "execute_result",
          "data": {
            "text/plain": [
              "            0         1         2  3\n",
              "0    0.162923  0.239951  0.507394  1\n",
              "1    0.416518  0.379616  0.546216  1\n",
              "2    0.474262  0.288765  0.596969  1\n",
              "3    0.343824  0.541085  0.238435  1\n",
              "4    0.300662  0.354829  0.481763  1\n",
              "..        ...       ...       ... ..\n",
              "295  0.611769  0.510646  0.216702  3\n",
              "296  0.353624  0.648424  0.367550  3\n",
              "297  0.397710  0.350647  0.288159  3\n",
              "298  0.492769  0.638981  0.396701  3\n",
              "299  0.488935  0.397863  0.436055  3\n",
              "\n",
              "[300 rows x 4 columns]"
            ],
            "text/html": [
              "\n",
              "  <div id=\"df-f3b679c2-d78e-4a6c-84f8-bd8340e8c455\" class=\"colab-df-container\">\n",
              "    <div>\n",
              "<style scoped>\n",
              "    .dataframe tbody tr th:only-of-type {\n",
              "        vertical-align: middle;\n",
              "    }\n",
              "\n",
              "    .dataframe tbody tr th {\n",
              "        vertical-align: top;\n",
              "    }\n",
              "\n",
              "    .dataframe thead th {\n",
              "        text-align: right;\n",
              "    }\n",
              "</style>\n",
              "<table border=\"1\" class=\"dataframe\">\n",
              "  <thead>\n",
              "    <tr style=\"text-align: right;\">\n",
              "      <th></th>\n",
              "      <th>0</th>\n",
              "      <th>1</th>\n",
              "      <th>2</th>\n",
              "      <th>3</th>\n",
              "    </tr>\n",
              "  </thead>\n",
              "  <tbody>\n",
              "    <tr>\n",
              "      <th>0</th>\n",
              "      <td>0.162923</td>\n",
              "      <td>0.239951</td>\n",
              "      <td>0.507394</td>\n",
              "      <td>1</td>\n",
              "    </tr>\n",
              "    <tr>\n",
              "      <th>1</th>\n",
              "      <td>0.416518</td>\n",
              "      <td>0.379616</td>\n",
              "      <td>0.546216</td>\n",
              "      <td>1</td>\n",
              "    </tr>\n",
              "    <tr>\n",
              "      <th>2</th>\n",
              "      <td>0.474262</td>\n",
              "      <td>0.288765</td>\n",
              "      <td>0.596969</td>\n",
              "      <td>1</td>\n",
              "    </tr>\n",
              "    <tr>\n",
              "      <th>3</th>\n",
              "      <td>0.343824</td>\n",
              "      <td>0.541085</td>\n",
              "      <td>0.238435</td>\n",
              "      <td>1</td>\n",
              "    </tr>\n",
              "    <tr>\n",
              "      <th>4</th>\n",
              "      <td>0.300662</td>\n",
              "      <td>0.354829</td>\n",
              "      <td>0.481763</td>\n",
              "      <td>1</td>\n",
              "    </tr>\n",
              "    <tr>\n",
              "      <th>...</th>\n",
              "      <td>...</td>\n",
              "      <td>...</td>\n",
              "      <td>...</td>\n",
              "      <td>...</td>\n",
              "    </tr>\n",
              "    <tr>\n",
              "      <th>295</th>\n",
              "      <td>0.611769</td>\n",
              "      <td>0.510646</td>\n",
              "      <td>0.216702</td>\n",
              "      <td>3</td>\n",
              "    </tr>\n",
              "    <tr>\n",
              "      <th>296</th>\n",
              "      <td>0.353624</td>\n",
              "      <td>0.648424</td>\n",
              "      <td>0.367550</td>\n",
              "      <td>3</td>\n",
              "    </tr>\n",
              "    <tr>\n",
              "      <th>297</th>\n",
              "      <td>0.397710</td>\n",
              "      <td>0.350647</td>\n",
              "      <td>0.288159</td>\n",
              "      <td>3</td>\n",
              "    </tr>\n",
              "    <tr>\n",
              "      <th>298</th>\n",
              "      <td>0.492769</td>\n",
              "      <td>0.638981</td>\n",
              "      <td>0.396701</td>\n",
              "      <td>3</td>\n",
              "    </tr>\n",
              "    <tr>\n",
              "      <th>299</th>\n",
              "      <td>0.488935</td>\n",
              "      <td>0.397863</td>\n",
              "      <td>0.436055</td>\n",
              "      <td>3</td>\n",
              "    </tr>\n",
              "  </tbody>\n",
              "</table>\n",
              "<p>300 rows × 4 columns</p>\n",
              "</div>\n",
              "    <div class=\"colab-df-buttons\">\n",
              "\n",
              "  <div class=\"colab-df-container\">\n",
              "    <button class=\"colab-df-convert\" onclick=\"convertToInteractive('df-f3b679c2-d78e-4a6c-84f8-bd8340e8c455')\"\n",
              "            title=\"Convert this dataframe to an interactive table.\"\n",
              "            style=\"display:none;\">\n",
              "\n",
              "  <svg xmlns=\"http://www.w3.org/2000/svg\" height=\"24px\" viewBox=\"0 -960 960 960\">\n",
              "    <path d=\"M120-120v-720h720v720H120Zm60-500h600v-160H180v160Zm220 220h160v-160H400v160Zm0 220h160v-160H400v160ZM180-400h160v-160H180v160Zm440 0h160v-160H620v160ZM180-180h160v-160H180v160Zm440 0h160v-160H620v160Z\"/>\n",
              "  </svg>\n",
              "    </button>\n",
              "\n",
              "  <style>\n",
              "    .colab-df-container {\n",
              "      display:flex;\n",
              "      gap: 12px;\n",
              "    }\n",
              "\n",
              "    .colab-df-convert {\n",
              "      background-color: #E8F0FE;\n",
              "      border: none;\n",
              "      border-radius: 50%;\n",
              "      cursor: pointer;\n",
              "      display: none;\n",
              "      fill: #1967D2;\n",
              "      height: 32px;\n",
              "      padding: 0 0 0 0;\n",
              "      width: 32px;\n",
              "    }\n",
              "\n",
              "    .colab-df-convert:hover {\n",
              "      background-color: #E2EBFA;\n",
              "      box-shadow: 0px 1px 2px rgba(60, 64, 67, 0.3), 0px 1px 3px 1px rgba(60, 64, 67, 0.15);\n",
              "      fill: #174EA6;\n",
              "    }\n",
              "\n",
              "    .colab-df-buttons div {\n",
              "      margin-bottom: 4px;\n",
              "    }\n",
              "\n",
              "    [theme=dark] .colab-df-convert {\n",
              "      background-color: #3B4455;\n",
              "      fill: #D2E3FC;\n",
              "    }\n",
              "\n",
              "    [theme=dark] .colab-df-convert:hover {\n",
              "      background-color: #434B5C;\n",
              "      box-shadow: 0px 1px 3px 1px rgba(0, 0, 0, 0.15);\n",
              "      filter: drop-shadow(0px 1px 2px rgba(0, 0, 0, 0.3));\n",
              "      fill: #FFFFFF;\n",
              "    }\n",
              "  </style>\n",
              "\n",
              "    <script>\n",
              "      const buttonEl =\n",
              "        document.querySelector('#df-f3b679c2-d78e-4a6c-84f8-bd8340e8c455 button.colab-df-convert');\n",
              "      buttonEl.style.display =\n",
              "        google.colab.kernel.accessAllowed ? 'block' : 'none';\n",
              "\n",
              "      async function convertToInteractive(key) {\n",
              "        const element = document.querySelector('#df-f3b679c2-d78e-4a6c-84f8-bd8340e8c455');\n",
              "        const dataTable =\n",
              "          await google.colab.kernel.invokeFunction('convertToInteractive',\n",
              "                                                    [key], {});\n",
              "        if (!dataTable) return;\n",
              "\n",
              "        const docLinkHtml = 'Like what you see? Visit the ' +\n",
              "          '<a target=\"_blank\" href=https://colab.research.google.com/notebooks/data_table.ipynb>data table notebook</a>'\n",
              "          + ' to learn more about interactive tables.';\n",
              "        element.innerHTML = '';\n",
              "        dataTable['output_type'] = 'display_data';\n",
              "        await google.colab.output.renderOutput(dataTable, element);\n",
              "        const docLink = document.createElement('div');\n",
              "        docLink.innerHTML = docLinkHtml;\n",
              "        element.appendChild(docLink);\n",
              "      }\n",
              "    </script>\n",
              "  </div>\n",
              "\n",
              "\n",
              "<div id=\"df-6d07af42-173b-4375-80cb-80e88b68c3a5\">\n",
              "  <button class=\"colab-df-quickchart\" onclick=\"quickchart('df-6d07af42-173b-4375-80cb-80e88b68c3a5')\"\n",
              "            title=\"Suggest charts\"\n",
              "            style=\"display:none;\">\n",
              "\n",
              "<svg xmlns=\"http://www.w3.org/2000/svg\" height=\"24px\"viewBox=\"0 0 24 24\"\n",
              "     width=\"24px\">\n",
              "    <g>\n",
              "        <path d=\"M19 3H5c-1.1 0-2 .9-2 2v14c0 1.1.9 2 2 2h14c1.1 0 2-.9 2-2V5c0-1.1-.9-2-2-2zM9 17H7v-7h2v7zm4 0h-2V7h2v10zm4 0h-2v-4h2v4z\"/>\n",
              "    </g>\n",
              "</svg>\n",
              "  </button>\n",
              "\n",
              "<style>\n",
              "  .colab-df-quickchart {\n",
              "      --bg-color: #E8F0FE;\n",
              "      --fill-color: #1967D2;\n",
              "      --hover-bg-color: #E2EBFA;\n",
              "      --hover-fill-color: #174EA6;\n",
              "      --disabled-fill-color: #AAA;\n",
              "      --disabled-bg-color: #DDD;\n",
              "  }\n",
              "\n",
              "  [theme=dark] .colab-df-quickchart {\n",
              "      --bg-color: #3B4455;\n",
              "      --fill-color: #D2E3FC;\n",
              "      --hover-bg-color: #434B5C;\n",
              "      --hover-fill-color: #FFFFFF;\n",
              "      --disabled-bg-color: #3B4455;\n",
              "      --disabled-fill-color: #666;\n",
              "  }\n",
              "\n",
              "  .colab-df-quickchart {\n",
              "    background-color: var(--bg-color);\n",
              "    border: none;\n",
              "    border-radius: 50%;\n",
              "    cursor: pointer;\n",
              "    display: none;\n",
              "    fill: var(--fill-color);\n",
              "    height: 32px;\n",
              "    padding: 0;\n",
              "    width: 32px;\n",
              "  }\n",
              "\n",
              "  .colab-df-quickchart:hover {\n",
              "    background-color: var(--hover-bg-color);\n",
              "    box-shadow: 0 1px 2px rgba(60, 64, 67, 0.3), 0 1px 3px 1px rgba(60, 64, 67, 0.15);\n",
              "    fill: var(--button-hover-fill-color);\n",
              "  }\n",
              "\n",
              "  .colab-df-quickchart-complete:disabled,\n",
              "  .colab-df-quickchart-complete:disabled:hover {\n",
              "    background-color: var(--disabled-bg-color);\n",
              "    fill: var(--disabled-fill-color);\n",
              "    box-shadow: none;\n",
              "  }\n",
              "\n",
              "  .colab-df-spinner {\n",
              "    border: 2px solid var(--fill-color);\n",
              "    border-color: transparent;\n",
              "    border-bottom-color: var(--fill-color);\n",
              "    animation:\n",
              "      spin 1s steps(1) infinite;\n",
              "  }\n",
              "\n",
              "  @keyframes spin {\n",
              "    0% {\n",
              "      border-color: transparent;\n",
              "      border-bottom-color: var(--fill-color);\n",
              "      border-left-color: var(--fill-color);\n",
              "    }\n",
              "    20% {\n",
              "      border-color: transparent;\n",
              "      border-left-color: var(--fill-color);\n",
              "      border-top-color: var(--fill-color);\n",
              "    }\n",
              "    30% {\n",
              "      border-color: transparent;\n",
              "      border-left-color: var(--fill-color);\n",
              "      border-top-color: var(--fill-color);\n",
              "      border-right-color: var(--fill-color);\n",
              "    }\n",
              "    40% {\n",
              "      border-color: transparent;\n",
              "      border-right-color: var(--fill-color);\n",
              "      border-top-color: var(--fill-color);\n",
              "    }\n",
              "    60% {\n",
              "      border-color: transparent;\n",
              "      border-right-color: var(--fill-color);\n",
              "    }\n",
              "    80% {\n",
              "      border-color: transparent;\n",
              "      border-right-color: var(--fill-color);\n",
              "      border-bottom-color: var(--fill-color);\n",
              "    }\n",
              "    90% {\n",
              "      border-color: transparent;\n",
              "      border-bottom-color: var(--fill-color);\n",
              "    }\n",
              "  }\n",
              "</style>\n",
              "\n",
              "  <script>\n",
              "    async function quickchart(key) {\n",
              "      const quickchartButtonEl =\n",
              "        document.querySelector('#' + key + ' button');\n",
              "      quickchartButtonEl.disabled = true;  // To prevent multiple clicks.\n",
              "      quickchartButtonEl.classList.add('colab-df-spinner');\n",
              "      try {\n",
              "        const charts = await google.colab.kernel.invokeFunction(\n",
              "            'suggestCharts', [key], {});\n",
              "      } catch (error) {\n",
              "        console.error('Error during call to suggestCharts:', error);\n",
              "      }\n",
              "      quickchartButtonEl.classList.remove('colab-df-spinner');\n",
              "      quickchartButtonEl.classList.add('colab-df-quickchart-complete');\n",
              "    }\n",
              "    (() => {\n",
              "      let quickchartButtonEl =\n",
              "        document.querySelector('#df-6d07af42-173b-4375-80cb-80e88b68c3a5 button');\n",
              "      quickchartButtonEl.style.display =\n",
              "        google.colab.kernel.accessAllowed ? 'block' : 'none';\n",
              "    })();\n",
              "  </script>\n",
              "</div>\n",
              "    </div>\n",
              "  </div>\n"
            ]
          },
          "metadata": {},
          "execution_count": 11
        }
      ]
    },
    {
      "cell_type": "code",
      "source": [
        "np.unique(Y)"
      ],
      "metadata": {
        "colab": {
          "base_uri": "https://localhost:8080/"
        },
        "id": "xahoIVOc1orV",
        "outputId": "70262553-a59a-46af-809a-a34f18b7d8db"
      },
      "execution_count": null,
      "outputs": [
        {
          "output_type": "execute_result",
          "data": {
            "text/plain": [
              "array([1, 2, 3])"
            ]
          },
          "metadata": {},
          "execution_count": 12
        }
      ]
    },
    {
      "cell_type": "code",
      "source": [
        "import numpy as np\n",
        "\n",
        "def qda_multiclass(X_train, Y_train):\n",
        "    # Adjust class labels to start from 0\n",
        "    classes = np.unique(Y_train)\n",
        "    class_mapping = {c: i for i, c in enumerate(classes)}\n",
        "    Y_train_mapped = np.array([class_mapping[c] for c in Y_train])\n",
        "\n",
        "    # Calculate parameters for each class\n",
        "    n_classes = len(classes)\n",
        "\n",
        "    means = [np.mean(X_train[Y_train_mapped == c], axis=0) for c in range(n_classes)]\n",
        "    cov_matrices = [np.cov(X_train[Y_train_mapped == c], rowvar=False) for c in range(n_classes)]\n",
        "    cov_invs = [np.linalg.inv(cov) for cov in cov_matrices]\n",
        "    priors = [np.mean(Y_train_mapped == c) for c in range(n_classes)]\n",
        "\n",
        "    # QDA implementation\n",
        "    def quadratic_discriminant_function(x, class_idx):\n",
        "        mean_diff = x - means[class_idx]\n",
        "        cov_inv = cov_invs[class_idx]\n",
        "        det_cov = np.linalg.det(cov_matrices[class_idx])\n",
        "\n",
        "        quadratic_term = -0.5 * mean_diff.T.dot(cov_inv).dot(mean_diff)\n",
        "        linear_term = mean_diff.T.dot(cov_inv).dot(means[class_idx])\n",
        "        constant_term = -0.5 * means[class_idx].T.dot(cov_inv).dot(means[class_idx]) + 0.5 * np.log(det_cov)\n",
        "\n",
        "        return quadratic_term + linear_term + constant_term + np.log(priors[class_idx])\n",
        "\n",
        "    # Classification Rule\n",
        "    def predict_class(x):\n",
        "        class_scores = [quadratic_discriminant_function(x, i) for i in range(n_classes)]\n",
        "\n",
        "        return np.argmax(class_scores)\n",
        "\n",
        "    # Apply the classification rule to each sample in X_train\n",
        "    predictions = np.array([predict_class(sample) for sample in X_train])\n",
        "\n",
        "    # Calculate true positive (TP), true negative (TN), false positive (FP), false negative (FN) for each class\n",
        "    TP = np.zeros(n_classes)\n",
        "    TN = np.zeros(n_classes)\n",
        "    FN = np.zeros(n_classes)\n",
        "    FP = np.zeros(n_classes)\n",
        "\n",
        "    for c in range(n_classes):\n",
        "        TP[c] = np.sum((Y_train_mapped == c) & (predictions == c))\n",
        "        TN[c] = np.sum((Y_train_mapped != c) & (predictions != c))\n",
        "        FN[c] = np.sum((Y_train_mapped == c) & (predictions != c))\n",
        "        FP[c] = np.sum((Y_train_mapped != c) & (predictions == c))\n",
        "\n",
        "    # Print the results for each class\n",
        "    for c in range(n_classes):\n",
        "        print(f'Class {c + 1}:')\n",
        "        print(f'True Positive: {TP[c]}, True Negative: {TN[c]}, False Positive: {FP[c]}, False Negative: {FN[c]}')\n",
        "        print()\n",
        "\n",
        "\n",
        "\n",
        "\n",
        "    print('True_positive=', TP)\n",
        "    print('True_negative=', TN)\n",
        "    print('False_negative=', FN)\n",
        "    print('False_positive=', FP)\n",
        "\n",
        "    return predictions, TP, TN, FN, FP, class_mapping, Y_train_mapped, means, predict_class\n",
        "\n",
        "# Example usage:\n",
        "predictions_multiclass, TP, TN, FN, FP, class_mapping_multiclass, Y_train_mapped_multiclass, means_multiclass, predict_class_multiclass = qda_multiclass(X_train, Y_train)\n"
      ],
      "metadata": {
        "colab": {
          "base_uri": "https://localhost:8080/",
          "height": 366
        },
        "id": "gMLHVnyq0C6k",
        "outputId": "c7492e60-e850-4adf-ed2b-a03d80849849"
      },
      "execution_count": null,
      "outputs": [
        {
          "output_type": "error",
          "ename": "ValueError",
          "evalue": "ignored",
          "traceback": [
            "\u001b[0;31m---------------------------------------------------------------------------\u001b[0m",
            "\u001b[0;31mValueError\u001b[0m                                Traceback (most recent call last)",
            "\u001b[0;32m<ipython-input-13-b2624c2324fc>\u001b[0m in \u001b[0;36m<cell line: 67>\u001b[0;34m()\u001b[0m\n\u001b[1;32m     65\u001b[0m \u001b[0;34m\u001b[0m\u001b[0m\n\u001b[1;32m     66\u001b[0m \u001b[0;31m# Example usage:\u001b[0m\u001b[0;34m\u001b[0m\u001b[0;34m\u001b[0m\u001b[0m\n\u001b[0;32m---> 67\u001b[0;31m \u001b[0mpredictions_multiclass\u001b[0m\u001b[0;34m,\u001b[0m \u001b[0mTP\u001b[0m\u001b[0;34m,\u001b[0m \u001b[0mTN\u001b[0m\u001b[0;34m,\u001b[0m \u001b[0mFN\u001b[0m\u001b[0;34m,\u001b[0m \u001b[0mFP\u001b[0m\u001b[0;34m,\u001b[0m \u001b[0mclass_mapping_multiclass\u001b[0m\u001b[0;34m,\u001b[0m \u001b[0mY_train_mapped_multiclass\u001b[0m\u001b[0;34m,\u001b[0m \u001b[0mmeans_multiclass\u001b[0m\u001b[0;34m,\u001b[0m \u001b[0mpredict_class_multiclass\u001b[0m \u001b[0;34m=\u001b[0m \u001b[0mqda_multiclass\u001b[0m\u001b[0;34m(\u001b[0m\u001b[0mX_train\u001b[0m\u001b[0;34m,\u001b[0m \u001b[0mY_train\u001b[0m\u001b[0;34m)\u001b[0m\u001b[0;34m\u001b[0m\u001b[0;34m\u001b[0m\u001b[0m\n\u001b[0m",
            "\u001b[0;32m<ipython-input-13-b2624c2324fc>\u001b[0m in \u001b[0;36mqda_multiclass\u001b[0;34m(X_train, Y_train)\u001b[0m\n\u001b[1;32m     43\u001b[0m \u001b[0;34m\u001b[0m\u001b[0m\n\u001b[1;32m     44\u001b[0m     \u001b[0;32mfor\u001b[0m \u001b[0mc\u001b[0m \u001b[0;32min\u001b[0m \u001b[0mrange\u001b[0m\u001b[0;34m(\u001b[0m\u001b[0mn_classes\u001b[0m\u001b[0;34m)\u001b[0m\u001b[0;34m:\u001b[0m\u001b[0;34m\u001b[0m\u001b[0;34m\u001b[0m\u001b[0m\n\u001b[0;32m---> 45\u001b[0;31m         \u001b[0mTP\u001b[0m\u001b[0;34m[\u001b[0m\u001b[0mc\u001b[0m\u001b[0;34m]\u001b[0m \u001b[0;34m=\u001b[0m \u001b[0mnp\u001b[0m\u001b[0;34m.\u001b[0m\u001b[0msum\u001b[0m\u001b[0;34m(\u001b[0m\u001b[0;34m(\u001b[0m\u001b[0mY_train_mapped\u001b[0m \u001b[0;34m==\u001b[0m \u001b[0mc\u001b[0m\u001b[0;34m)\u001b[0m \u001b[0;34m&\u001b[0m \u001b[0;34m(\u001b[0m\u001b[0mpredictions\u001b[0m \u001b[0;34m==\u001b[0m \u001b[0mc\u001b[0m\u001b[0;34m)\u001b[0m\u001b[0;34m)\u001b[0m\u001b[0;34m\u001b[0m\u001b[0;34m\u001b[0m\u001b[0m\n\u001b[0m\u001b[1;32m     46\u001b[0m         \u001b[0mTN\u001b[0m\u001b[0;34m[\u001b[0m\u001b[0mc\u001b[0m\u001b[0;34m]\u001b[0m \u001b[0;34m=\u001b[0m \u001b[0mnp\u001b[0m\u001b[0;34m.\u001b[0m\u001b[0msum\u001b[0m\u001b[0;34m(\u001b[0m\u001b[0;34m(\u001b[0m\u001b[0mY_train_mapped\u001b[0m \u001b[0;34m!=\u001b[0m \u001b[0mc\u001b[0m\u001b[0;34m)\u001b[0m \u001b[0;34m&\u001b[0m \u001b[0;34m(\u001b[0m\u001b[0mpredictions\u001b[0m \u001b[0;34m!=\u001b[0m \u001b[0mc\u001b[0m\u001b[0;34m)\u001b[0m\u001b[0;34m)\u001b[0m\u001b[0;34m\u001b[0m\u001b[0;34m\u001b[0m\u001b[0m\n\u001b[1;32m     47\u001b[0m         \u001b[0mFN\u001b[0m\u001b[0;34m[\u001b[0m\u001b[0mc\u001b[0m\u001b[0;34m]\u001b[0m \u001b[0;34m=\u001b[0m \u001b[0mnp\u001b[0m\u001b[0;34m.\u001b[0m\u001b[0msum\u001b[0m\u001b[0;34m(\u001b[0m\u001b[0;34m(\u001b[0m\u001b[0mY_train_mapped\u001b[0m \u001b[0;34m==\u001b[0m \u001b[0mc\u001b[0m\u001b[0;34m)\u001b[0m \u001b[0;34m&\u001b[0m \u001b[0;34m(\u001b[0m\u001b[0mpredictions\u001b[0m \u001b[0;34m!=\u001b[0m \u001b[0mc\u001b[0m\u001b[0;34m)\u001b[0m\u001b[0;34m)\u001b[0m\u001b[0;34m\u001b[0m\u001b[0;34m\u001b[0m\u001b[0m\n",
            "\u001b[0;31mValueError\u001b[0m: operands could not be broadcast together with shapes (160,) (2,) "
          ]
        }
      ]
    },
    {
      "cell_type": "code",
      "source": [],
      "metadata": {
        "id": "MRVeHdYE2xgL"
      },
      "execution_count": null,
      "outputs": []
    }
  ]
}