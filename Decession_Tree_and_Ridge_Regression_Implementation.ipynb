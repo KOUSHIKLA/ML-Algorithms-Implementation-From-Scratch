{
  "cells": [
    {
      "cell_type": "markdown",
      "source": [
        "# **DATA 1**"
      ],
      "metadata": {
        "id": "GitK0qeOfIvR"
      }
    },
    {
      "cell_type": "code",
      "execution_count": null,
      "metadata": {
        "colab": {
          "base_uri": "https://localhost:8080/",
          "height": 206
        },
        "id": "l_lYeXpfVwQ6",
        "outputId": "712871af-c9f2-45db-f073-b23128a4c98b"
      },
      "outputs": [
        {
          "output_type": "execute_result",
          "data": {
            "text/plain": [
              "         0        1        2\n",
              "0  1.10500 -2.60510  34.2610\n",
              "1  0.30463  1.55360   1.1477\n",
              "2  2.67450  1.17810  15.6260\n",
              "3 -3.54260  0.79471 -12.7760\n",
              "4 -0.22632  4.44160 -21.7230"
            ],
            "text/html": [
              "\n",
              "  <div id=\"df-b61fdb3a-0f38-4b09-a142-bb9d1aef4eef\" class=\"colab-df-container\">\n",
              "    <div>\n",
              "<style scoped>\n",
              "    .dataframe tbody tr th:only-of-type {\n",
              "        vertical-align: middle;\n",
              "    }\n",
              "\n",
              "    .dataframe tbody tr th {\n",
              "        vertical-align: top;\n",
              "    }\n",
              "\n",
              "    .dataframe thead th {\n",
              "        text-align: right;\n",
              "    }\n",
              "</style>\n",
              "<table border=\"1\" class=\"dataframe\">\n",
              "  <thead>\n",
              "    <tr style=\"text-align: right;\">\n",
              "      <th></th>\n",
              "      <th>0</th>\n",
              "      <th>1</th>\n",
              "      <th>2</th>\n",
              "    </tr>\n",
              "  </thead>\n",
              "  <tbody>\n",
              "    <tr>\n",
              "      <th>0</th>\n",
              "      <td>1.10500</td>\n",
              "      <td>-2.60510</td>\n",
              "      <td>34.2610</td>\n",
              "    </tr>\n",
              "    <tr>\n",
              "      <th>1</th>\n",
              "      <td>0.30463</td>\n",
              "      <td>1.55360</td>\n",
              "      <td>1.1477</td>\n",
              "    </tr>\n",
              "    <tr>\n",
              "      <th>2</th>\n",
              "      <td>2.67450</td>\n",
              "      <td>1.17810</td>\n",
              "      <td>15.6260</td>\n",
              "    </tr>\n",
              "    <tr>\n",
              "      <th>3</th>\n",
              "      <td>-3.54260</td>\n",
              "      <td>0.79471</td>\n",
              "      <td>-12.7760</td>\n",
              "    </tr>\n",
              "    <tr>\n",
              "      <th>4</th>\n",
              "      <td>-0.22632</td>\n",
              "      <td>4.44160</td>\n",
              "      <td>-21.7230</td>\n",
              "    </tr>\n",
              "  </tbody>\n",
              "</table>\n",
              "</div>\n",
              "    <div class=\"colab-df-buttons\">\n",
              "\n",
              "  <div class=\"colab-df-container\">\n",
              "    <button class=\"colab-df-convert\" onclick=\"convertToInteractive('df-b61fdb3a-0f38-4b09-a142-bb9d1aef4eef')\"\n",
              "            title=\"Convert this dataframe to an interactive table.\"\n",
              "            style=\"display:none;\">\n",
              "\n",
              "  <svg xmlns=\"http://www.w3.org/2000/svg\" height=\"24px\" viewBox=\"0 -960 960 960\">\n",
              "    <path d=\"M120-120v-720h720v720H120Zm60-500h600v-160H180v160Zm220 220h160v-160H400v160Zm0 220h160v-160H400v160ZM180-400h160v-160H180v160Zm440 0h160v-160H620v160ZM180-180h160v-160H180v160Zm440 0h160v-160H620v160Z\"/>\n",
              "  </svg>\n",
              "    </button>\n",
              "\n",
              "  <style>\n",
              "    .colab-df-container {\n",
              "      display:flex;\n",
              "      gap: 12px;\n",
              "    }\n",
              "\n",
              "    .colab-df-convert {\n",
              "      background-color: #E8F0FE;\n",
              "      border: none;\n",
              "      border-radius: 50%;\n",
              "      cursor: pointer;\n",
              "      display: none;\n",
              "      fill: #1967D2;\n",
              "      height: 32px;\n",
              "      padding: 0 0 0 0;\n",
              "      width: 32px;\n",
              "    }\n",
              "\n",
              "    .colab-df-convert:hover {\n",
              "      background-color: #E2EBFA;\n",
              "      box-shadow: 0px 1px 2px rgba(60, 64, 67, 0.3), 0px 1px 3px 1px rgba(60, 64, 67, 0.15);\n",
              "      fill: #174EA6;\n",
              "    }\n",
              "\n",
              "    .colab-df-buttons div {\n",
              "      margin-bottom: 4px;\n",
              "    }\n",
              "\n",
              "    [theme=dark] .colab-df-convert {\n",
              "      background-color: #3B4455;\n",
              "      fill: #D2E3FC;\n",
              "    }\n",
              "\n",
              "    [theme=dark] .colab-df-convert:hover {\n",
              "      background-color: #434B5C;\n",
              "      box-shadow: 0px 1px 3px 1px rgba(0, 0, 0, 0.15);\n",
              "      filter: drop-shadow(0px 1px 2px rgba(0, 0, 0, 0.3));\n",
              "      fill: #FFFFFF;\n",
              "    }\n",
              "  </style>\n",
              "\n",
              "    <script>\n",
              "      const buttonEl =\n",
              "        document.querySelector('#df-b61fdb3a-0f38-4b09-a142-bb9d1aef4eef button.colab-df-convert');\n",
              "      buttonEl.style.display =\n",
              "        google.colab.kernel.accessAllowed ? 'block' : 'none';\n",
              "\n",
              "      async function convertToInteractive(key) {\n",
              "        const element = document.querySelector('#df-b61fdb3a-0f38-4b09-a142-bb9d1aef4eef');\n",
              "        const dataTable =\n",
              "          await google.colab.kernel.invokeFunction('convertToInteractive',\n",
              "                                                    [key], {});\n",
              "        if (!dataTable) return;\n",
              "\n",
              "        const docLinkHtml = 'Like what you see? Visit the ' +\n",
              "          '<a target=\"_blank\" href=https://colab.research.google.com/notebooks/data_table.ipynb>data table notebook</a>'\n",
              "          + ' to learn more about interactive tables.';\n",
              "        element.innerHTML = '';\n",
              "        dataTable['output_type'] = 'display_data';\n",
              "        await google.colab.output.renderOutput(dataTable, element);\n",
              "        const docLink = document.createElement('div');\n",
              "        docLink.innerHTML = docLinkHtml;\n",
              "        element.appendChild(docLink);\n",
              "      }\n",
              "    </script>\n",
              "  </div>\n",
              "\n",
              "\n",
              "<div id=\"df-a53cbce7-ec2a-44d1-9322-6ae197bc387d\">\n",
              "  <button class=\"colab-df-quickchart\" onclick=\"quickchart('df-a53cbce7-ec2a-44d1-9322-6ae197bc387d')\"\n",
              "            title=\"Suggest charts\"\n",
              "            style=\"display:none;\">\n",
              "\n",
              "<svg xmlns=\"http://www.w3.org/2000/svg\" height=\"24px\"viewBox=\"0 0 24 24\"\n",
              "     width=\"24px\">\n",
              "    <g>\n",
              "        <path d=\"M19 3H5c-1.1 0-2 .9-2 2v14c0 1.1.9 2 2 2h14c1.1 0 2-.9 2-2V5c0-1.1-.9-2-2-2zM9 17H7v-7h2v7zm4 0h-2V7h2v10zm4 0h-2v-4h2v4z\"/>\n",
              "    </g>\n",
              "</svg>\n",
              "  </button>\n",
              "\n",
              "<style>\n",
              "  .colab-df-quickchart {\n",
              "      --bg-color: #E8F0FE;\n",
              "      --fill-color: #1967D2;\n",
              "      --hover-bg-color: #E2EBFA;\n",
              "      --hover-fill-color: #174EA6;\n",
              "      --disabled-fill-color: #AAA;\n",
              "      --disabled-bg-color: #DDD;\n",
              "  }\n",
              "\n",
              "  [theme=dark] .colab-df-quickchart {\n",
              "      --bg-color: #3B4455;\n",
              "      --fill-color: #D2E3FC;\n",
              "      --hover-bg-color: #434B5C;\n",
              "      --hover-fill-color: #FFFFFF;\n",
              "      --disabled-bg-color: #3B4455;\n",
              "      --disabled-fill-color: #666;\n",
              "  }\n",
              "\n",
              "  .colab-df-quickchart {\n",
              "    background-color: var(--bg-color);\n",
              "    border: none;\n",
              "    border-radius: 50%;\n",
              "    cursor: pointer;\n",
              "    display: none;\n",
              "    fill: var(--fill-color);\n",
              "    height: 32px;\n",
              "    padding: 0;\n",
              "    width: 32px;\n",
              "  }\n",
              "\n",
              "  .colab-df-quickchart:hover {\n",
              "    background-color: var(--hover-bg-color);\n",
              "    box-shadow: 0 1px 2px rgba(60, 64, 67, 0.3), 0 1px 3px 1px rgba(60, 64, 67, 0.15);\n",
              "    fill: var(--button-hover-fill-color);\n",
              "  }\n",
              "\n",
              "  .colab-df-quickchart-complete:disabled,\n",
              "  .colab-df-quickchart-complete:disabled:hover {\n",
              "    background-color: var(--disabled-bg-color);\n",
              "    fill: var(--disabled-fill-color);\n",
              "    box-shadow: none;\n",
              "  }\n",
              "\n",
              "  .colab-df-spinner {\n",
              "    border: 2px solid var(--fill-color);\n",
              "    border-color: transparent;\n",
              "    border-bottom-color: var(--fill-color);\n",
              "    animation:\n",
              "      spin 1s steps(1) infinite;\n",
              "  }\n",
              "\n",
              "  @keyframes spin {\n",
              "    0% {\n",
              "      border-color: transparent;\n",
              "      border-bottom-color: var(--fill-color);\n",
              "      border-left-color: var(--fill-color);\n",
              "    }\n",
              "    20% {\n",
              "      border-color: transparent;\n",
              "      border-left-color: var(--fill-color);\n",
              "      border-top-color: var(--fill-color);\n",
              "    }\n",
              "    30% {\n",
              "      border-color: transparent;\n",
              "      border-left-color: var(--fill-color);\n",
              "      border-top-color: var(--fill-color);\n",
              "      border-right-color: var(--fill-color);\n",
              "    }\n",
              "    40% {\n",
              "      border-color: transparent;\n",
              "      border-right-color: var(--fill-color);\n",
              "      border-top-color: var(--fill-color);\n",
              "    }\n",
              "    60% {\n",
              "      border-color: transparent;\n",
              "      border-right-color: var(--fill-color);\n",
              "    }\n",
              "    80% {\n",
              "      border-color: transparent;\n",
              "      border-right-color: var(--fill-color);\n",
              "      border-bottom-color: var(--fill-color);\n",
              "    }\n",
              "    90% {\n",
              "      border-color: transparent;\n",
              "      border-bottom-color: var(--fill-color);\n",
              "    }\n",
              "  }\n",
              "</style>\n",
              "\n",
              "  <script>\n",
              "    async function quickchart(key) {\n",
              "      const quickchartButtonEl =\n",
              "        document.querySelector('#' + key + ' button');\n",
              "      quickchartButtonEl.disabled = true;  // To prevent multiple clicks.\n",
              "      quickchartButtonEl.classList.add('colab-df-spinner');\n",
              "      try {\n",
              "        const charts = await google.colab.kernel.invokeFunction(\n",
              "            'suggestCharts', [key], {});\n",
              "      } catch (error) {\n",
              "        console.error('Error during call to suggestCharts:', error);\n",
              "      }\n",
              "      quickchartButtonEl.classList.remove('colab-df-spinner');\n",
              "      quickchartButtonEl.classList.add('colab-df-quickchart-complete');\n",
              "    }\n",
              "    (() => {\n",
              "      let quickchartButtonEl =\n",
              "        document.querySelector('#df-a53cbce7-ec2a-44d1-9322-6ae197bc387d button');\n",
              "      quickchartButtonEl.style.display =\n",
              "        google.colab.kernel.accessAllowed ? 'block' : 'none';\n",
              "    })();\n",
              "  </script>\n",
              "</div>\n",
              "    </div>\n",
              "  </div>\n"
            ]
          },
          "metadata": {},
          "execution_count": 2
        }
      ],
      "source": [
        "#ANSWER 1\n",
        "import numpy as np\n",
        "import pandas as pd\n",
        "import matplotlib.pyplot as plt\n",
        "data1= pd.read_csv('/content/data1.csv',header=None)\n",
        "data1.head()"
      ]
    },
    {
      "cell_type": "code",
      "execution_count": null,
      "metadata": {
        "colab": {
          "base_uri": "https://localhost:8080/"
        },
        "id": "KAuhY3oGaQRZ",
        "outputId": "c50b7d48-e480-4ee6-fc69-8925e7a388c7"
      },
      "outputs": [
        {
          "output_type": "stream",
          "name": "stdout",
          "text": [
            "Normalized Data->\n",
            "          0         1\n",
            "0  0.613324  0.240136\n",
            "1  0.532142  0.657458\n",
            "2  0.772520  0.619777\n",
            "3  0.141912  0.581304\n",
            "4  0.478287  0.947266 \n",
            "\n",
            "0    34.2610\n",
            "1     1.1477\n",
            "2    15.6260\n",
            "3   -12.7760\n",
            "4   -21.7230\n",
            "Name: 2, dtype: float64\n"
          ]
        }
      ],
      "source": [
        "#Data Preparation\n",
        "X= data1.iloc[:,:-1]\n",
        "Y= data1.iloc[:,-1]\n",
        "df1=X.copy()\n",
        "for col in df1.columns:\n",
        "  df1[col]=(df1[col]-df1[col].min())/(df1[col].max()-df1[col].min())\n",
        "print('Normalized Data->')\n",
        "print(df1.head(),'\\n')\n",
        "print(Y.head())"
      ]
    },
    {
      "cell_type": "code",
      "execution_count": null,
      "metadata": {
        "colab": {
          "base_uri": "https://localhost:8080/"
        },
        "id": "g4t2uwnsck_x",
        "outputId": "da729ba4-949c-4ced-c385-371b538143bc"
      },
      "outputs": [
        {
          "output_type": "stream",
          "name": "stdout",
          "text": [
            "The parameters of the model are: 0\n",
            "4.616159490955061\n",
            "-6.828950316556181\n"
          ]
        }
      ],
      "source": [
        "#Initial Conditions\n",
        "W = np.zeros(X.shape[1])\n",
        "W0 = 0\n",
        "\n",
        "#Cost Function\n",
        "def cost(x,y,w,w0,k):\n",
        "  pred = x.dot(w)\n",
        "  pred += np.full_like(pred, w0)\n",
        "  loss = pred - y\n",
        "  cost_value = ((1/2) * np.sum(np.square(loss))) + (k/2)*np.square(np.linalg.norm(w))\n",
        "  return cost_value\n",
        "\n",
        "#Gradient Function\n",
        "def grad(x,y,w,w0,lr,k,iter):\n",
        "  n = len(y)\n",
        "  cost_iter = np.zeros(iter)\n",
        "  for i in range(iter):\n",
        "    for j in range(n):\n",
        "      pred = x.iloc[j].dot(w)\n",
        "      pred += np.full_like(pred, w0)\n",
        "      loss = pred - y.iloc[j]\n",
        "      w0 = w0 - lr * loss\n",
        "      w = w * (1 - lr * k) - np.dot(lr * loss, x.iloc[j])\n",
        "    cost_iter[i] = cost(x,y,w,w0,k)\n",
        "  return w,w0,cost_iter\n",
        "\n",
        "W_final, W0_final,cost_values= grad(X,Y,W,W0,lr=0.01,k=0.01,iter=10)\n",
        "print(f'The parameters of the model are: {W0}')\n",
        "for i in W_final:\n",
        "  print(i)"
      ]
    },
    {
      "cell_type": "code",
      "source": [
        "pred= X.dot(W_final)+W0_final\n",
        "print((pred[0:5]))\n",
        "print(Y[0:5])"
      ],
      "metadata": {
        "colab": {
          "base_uri": "https://localhost:8080/"
        },
        "id": "vU54EGTroP6T",
        "outputId": "f24ee581-e799-46cd-d4d7-dd3b95951e6b"
      },
      "execution_count": null,
      "outputs": [
        {
          "output_type": "stream",
          "name": "stdout",
          "text": [
            "0    29.072850\n",
            "1    -3.021341\n",
            "2    10.482627\n",
            "3   -15.598346\n",
            "4   -25.194300\n",
            "dtype: float64\n",
            "0    34.2610\n",
            "1     1.1477\n",
            "2    15.6260\n",
            "3   -12.7760\n",
            "4   -21.7230\n",
            "Name: 2, dtype: float64\n"
          ]
        }
      ]
    },
    {
      "cell_type": "code",
      "source": [
        "#Cost Convergence\n",
        "plt.title('Cost Convergence')\n",
        "plt.plot(cost_values)\n",
        "plt.xlabel('Iterations')\n",
        "plt.ylabel('Cost')\n",
        "plt.show()"
      ],
      "metadata": {
        "colab": {
          "base_uri": "https://localhost:8080/",
          "height": 472
        },
        "id": "KUIgiU3iqlbn",
        "outputId": "3bd1afe2-0570-4701-e594-b25541c45e7d"
      },
      "execution_count": null,
      "outputs": [
        {
          "output_type": "display_data",
          "data": {
            "text/plain": [
              "<Figure size 640x480 with 1 Axes>"
            ],
            "image/png": "[encoded data removed]"
          },
          "metadata": {}
        }
      ]
    },
    {
      "cell_type": "markdown",
      "source": [
        "![Screenshot 2023-11-10 070440.png](data:image/png;base64,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)"
      ],
      "metadata": {
        "id": "NjMvLXDC3gUv"
      }
    },
    {
      "cell_type": "code",
      "source": [
        "#Data Splitting\n",
        "test_size= int(X.shape[0]/8)\n",
        "x_test= X[:test_size]\n",
        "y_test= Y[:test_size]\n",
        "x_train= X[test_size:]\n",
        "y_train= Y[test_size:]\n",
        "\n",
        "#Performance Measure\n",
        "def rmse():\n",
        "  n= X.shape[0]\n",
        "  W_final, W0_final,cost_values= grad(x_train,y_train,W,W0,lr=0.01,k=0.01,iter=10)\n",
        "  pred= x_test.dot(W_final)+W0_final\n",
        "  loss= pred-y_test\n",
        "  return np.sqrt(np.sum(np.square(loss)/n))\n",
        "print('Performance of the model: RMSE-',rmse())"
      ],
      "metadata": {
        "id": "CKpo1YhywRY5",
        "colab": {
          "base_uri": "https://localhost:8080/"
        },
        "outputId": "9924a15f-7585-4e63-8336-8d15e12f7c3d"
      },
      "execution_count": null,
      "outputs": [
        {
          "output_type": "stream",
          "name": "stdout",
          "text": [
            "Performance of the model: RMSE- 1.6948037513336773\n"
          ]
        }
      ]
    },
    {
      "cell_type": "markdown",
      "source": [
        "# **DATA 2**"
      ],
      "metadata": {
        "id": "DkXB7_zYKTv4"
      }
    },
    {
      "cell_type": "code",
      "source": [
        "data2= pd.read_csv('/content/data2.csv',header=None)\n",
        "data2.head()\n",
        "data2= data2.sample(frac=1).reset_index(drop=True)"
      ],
      "metadata": {
        "id": "KtxBe_SSKXAt"
      },
      "execution_count": null,
      "outputs": []
    },
    {
      "cell_type": "code",
      "source": [
        "#Data Preparation\n",
        "X= data2.iloc[:,:-1]\n",
        "Y= data2.iloc[:,-1]\n",
        "y= np.array(Y)\n",
        "y[y==-1]=0\n",
        "df2=X.copy()\n",
        "for col in df2.columns:\n",
        "  df2[col]=(df2[col]-df2[col].min())/(df2[col].max()-df2[col].min())\n",
        "print('Normalized Data->')\n",
        "print(df2.head(),'\\n')"
      ],
      "metadata": {
        "colab": {
          "base_uri": "https://localhost:8080/"
        },
        "id": "CYQ4Po0oKk1p",
        "outputId": "5504d998-50db-4e42-b07a-6fb7afcf3e9e"
      },
      "execution_count": null,
      "outputs": [
        {
          "output_type": "stream",
          "name": "stdout",
          "text": [
            "Normalized Data->\n",
            "          0         1         2\n",
            "0  0.469555  0.348798  0.249769\n",
            "1  0.299345  0.410370  0.025185\n",
            "2  0.744474  0.242046  0.224594\n",
            "3  0.342932  0.023917  0.565978\n",
            "4  0.846349  0.692740  0.415187 \n",
            "\n"
          ]
        }
      ]
    },
    {
      "cell_type": "code",
      "source": [
        "#Data Splitting\n",
        "test_size= int(X.shape[0]/8)\n",
        "x_test= X[:test_size]\n",
        "y_test= y[:test_size]\n",
        "x_train= X[test_size:]\n",
        "y_train= y[test_size:]"
      ],
      "metadata": {
        "id": "AEAV9mIwLvdP"
      },
      "execution_count": null,
      "outputs": []
    },
    {
      "cell_type": "code",
      "source": [
        "#Initial Conditions\n",
        "\n",
        "\n",
        "# def sig(x):\n",
        "  # return 1/(1+np.exp(-x))\n",
        "\n",
        "def logReg(X,W):\n",
        "  # return sig(X.dot(W))\n",
        "  return 1/ 1+np.exp(-(X.dot(W)))\n",
        "\n",
        "def lossFunc(y_true, y_pred):\n",
        "  ep=1e-15\n",
        "  return -(y_true*(np.log(y_pred) + (1-y_true)*(1-np.log(1-y_pred)))).mean()\n",
        "\n",
        "loss_N=[]\n",
        "weights=[]\n",
        "\n",
        "\n",
        "def gradFunc(X, Y ,lr, it,k):\n",
        "    w=np.zeros(X.shape[1])\n",
        "    w0=np.zeros(1)\n",
        "    n = len(Y)\n",
        "    cost=[]\n",
        "    for i in range(it):\n",
        "        y_pred = logReg(X,w) + w0\n",
        "        loss = lossFunc(Y, y_pred)\n",
        "        loss_N.append(loss)\n",
        "        cost.append(i)\n",
        "        grad = np.dot(X.T, (y_pred - Y)) / n\n",
        "        w = w - lr * grad + (k/2)* (np.square(np.linalg.norm(W)))\n",
        "        w0 = w0 - lr* (y_pred-Y)\n",
        "\n",
        "    weights.append(w)\n",
        "    weights.append(w0)\n",
        "    return w,w0,weights, loss_N, cost\n",
        "\n",
        "W_final,W0_final,weights, losses,cost = gradFunc(x_train, y_train, lr=0.000000000001, it=1000,k=0.1)\n",
        "\n",
        "def pred(X,W):\n",
        "  probs=logReg(X,W)\n",
        "  cl=[]\n",
        "  for i in probs:\n",
        "    if i>=0.5:\n",
        "      cl.append(1)\n",
        "    else:\n",
        "      cl.append(0)\n",
        "  # return (probs>=0.5).astype(int)\n",
        "  return cl\n",
        "\n",
        "prediction=pred(x_test,W_final)\n",
        "for i in W_final:\n",
        "  print(i)"
      ],
      "metadata": {
        "colab": {
          "base_uri": "https://localhost:8080/"
        },
        "id": "BkVMeKIjM9-B",
        "outputId": "65f2c342-760c-486f-d3d5-366932f1c159"
      },
      "execution_count": null,
      "outputs": [
        {
          "output_type": "stream",
          "name": "stderr",
          "text": [
            "/usr/local/lib/python3.10/dist-packages/pandas/core/arraylike.py:402: RuntimeWarning: invalid value encountered in log\n",
            "  result = getattr(ufunc, method)(*inputs, **kwargs)\n"
          ]
        },
        {
          "output_type": "stream",
          "name": "stdout",
          "text": [
            "5.6159670608908716e-09\n",
            "-6.995098777322706e-09\n",
            "-1.1551789469663683e-09\n"
          ]
        }
      ]
    },
    {
      "cell_type": "markdown",
      "source": [
        "**2(a)Report the hyperparameters**"
      ],
      "metadata": {
        "id": "FmeKcDcaMMv4"
      }
    },
    {
      "cell_type": "code",
      "source": [
        "for i in W_final:\n",
        "  print(i)\n"
      ],
      "metadata": {
        "colab": {
          "base_uri": "https://localhost:8080/"
        },
        "id": "KDLoD0ajML2G",
        "outputId": "5f982121-fe99-47da-e009-4d646214440f"
      },
      "execution_count": null,
      "outputs": [
        {
          "output_type": "stream",
          "name": "stdout",
          "text": [
            "5.6159670608908716e-09\n",
            "-6.995098777322706e-09\n",
            "-1.1551789469663683e-09\n"
          ]
        }
      ]
    },
    {
      "cell_type": "markdown",
      "source": [
        "**2(C)Assess the performance of the model.**"
      ],
      "metadata": {
        "id": "5WChCkSJM1Kn"
      }
    },
    {
      "cell_type": "code",
      "source": [
        "\n",
        "from sklearn.metrics import roc_curve, auc\n",
        "\n",
        "Y_labels= [0 if i == -1 else i for i in y_test]\n",
        "Y_output= prediction\n",
        "\n",
        "tp=tn=fp=fn=0\n",
        "for actual, predicted in zip(Y_labels, Y_output):\n",
        "        if actual == 1 and predicted == 1:\n",
        "            tp += 1\n",
        "        elif actual == 0 and predicted == 0:\n",
        "            tn += 1\n",
        "        elif actual == 0 and predicted == 1:\n",
        "            fp += 1\n",
        "        elif actual == 1 and predicted == 0:\n",
        "            fn += 1\n",
        "\n",
        "print('TP TN FP FN')\n",
        "print(tp,tn,fp,fn,'\\n________________________________________________________________________')\n",
        "sensitivity = tp/(tp+fn)\n",
        "specificity = tn/(tn+fp)\n",
        "precision = tp/(tp+fp)\n",
        "f_measure = 2*precision*sensitivity/(sensitivity+precision)\n",
        "accuracy= (tp+tn)/ (tp+tn+fp+fn)\n",
        "print('accuracy: ',accuracy)\n",
        "print('Sensitivity: ',sensitivity)\n",
        "print('Specificity: ',specificity)\n",
        "print('Precision: ',precision)\n",
        "print('Fmeasure: ',f_measure)\n",
        "print('\\n\\n\\n')\n",
        "\n",
        "X_axis,Y_axis, _ = roc_curve(Y_labels, Y_output)\n",
        "roc_auc = auc(X_axis, Y_axis)\n",
        "plt.plot(X_axis,Y_axis,lw=2,color='blue' %roc_auc)\n",
        "plt.title('ROC Curve')\n",
        "plt.show()"
      ],
      "metadata": {
        "colab": {
          "base_uri": "https://localhost:8080/",
          "height": 660
        },
        "id": "I_-xvfmEivEP",
        "outputId": "e6adc612-fef6-4058-929e-f1950be12846"
      },
      "execution_count": null,
      "outputs": [
        {
          "output_type": "stream",
          "name": "stdout",
          "text": [
            "TP TN FP FN\n",
            "10 0 15 0 \n",
            "________________________________________________________________________\n",
            "accuracy:  0.4\n",
            "Sensitivity:  1.0\n",
            "Specificity:  0.0\n",
            "Precision:  0.4\n",
            "Fmeasure:  0.5714285714285715\n",
            "\n",
            "\n",
            "\n",
            "\n"
          ]
        },
        {
          "output_type": "display_data",
          "data": {
            "text/plain": [
              "<Figure size 640x480 with 1 Axes>"
            ],
            "image/png": "[encoded data removed]"
          },
          "metadata": {}
        }
      ]
    },
    {
      "cell_type": "markdown",
      "source": [
        "3. Regularisation is an approach in Linear regression to prevent overfitting and imporoves generalization performance of the model. \\\n",
        "But in Ridge Regression an extra penalty term is there so as to maintain the coefficient values in the model. This penalty term is the 2-Norm of the regression coefficients. \\\\\n",
        "*Tikhonov Regularisation*: It is the ridge regression performed on the data by taking one extra penalty in the Cost function. \\\n",
        "Cost Function with Tikhonov Regularization:\\\n",
        "      J(θ) = OLS Cost + λ * ||θ||² \\\n",
        "*Ivanov Regularisation*: Ivanov regularization is a variation of regularization techniques used in statistical modeling, particularly in the context of linear regression.\n",
        "\n",
        "*Comparision* \\\n",
        " Ivanov regularisation can be studied under minimal assumptions. In particular, we assume only that the RKHS is separable with a bounded and measurable kernel. We provide rates of convergence for the expected squared L2\n",
        " error of our estimator under the weak assumption that the variance of the response variables is bounded and the unknown regression function lies in an interpolation space between L2\n",
        " and the RKHS. We then obtain faster rates of convergence when the regression function is bounded by clipping the estimator.      \n"
      ],
      "metadata": {
        "id": "K42-mf23XAl2"
      }
    },
    {
      "cell_type": "markdown",
      "source": [
        "# **(4)AUTOMPG DATA**"
      ],
      "metadata": {
        "id": "Ia-NTVyMfkRP"
      }
    },
    {
      "cell_type": "code",
      "source": [
        "#AutoMPG Data\n",
        "auto_data= pd.read_csv('/content/auto-mpg.csv',header= None)\n",
        "X= auto_data.iloc[:,:-1]\n",
        "# X= auto.iloc[:,:-1]\n",
        "y = auto_data.iloc[:, -1]\n",
        "y = pd.factorize(y)[0]\n",
        "print(X.head())\n",
        "print(y[0:5])"
      ],
      "metadata": {
        "colab": {
          "base_uri": "https://localhost:8080/"
        },
        "id": "9FlyLF4rgsKn",
        "outputId": "6b37756c-61ea-4bf5-d930-6d9c9a5202e7"
      },
      "execution_count": null,
      "outputs": [
        {
          "output_type": "stream",
          "name": "stdout",
          "text": [
            "     0          1             2           3       4             5           6  \\\n",
            "0  mpg  cylinders  displacement  horsepower  weight  acceleration  model year   \n",
            "1   18          8           307         130    3504            12          70   \n",
            "2   15          8           350         165    3693          11.5          70   \n",
            "3   18          8           318         150    3436            11          70   \n",
            "4   16          8           304         150    3433            12          70   \n",
            "\n",
            "        7  \n",
            "0  origin  \n",
            "1       1  \n",
            "2       1  \n",
            "3       1  \n",
            "4       1  \n",
            "[0 1 2 3 4]\n"
          ]
        }
      ]
    },
    {
      "cell_type": "code",
      "source": [
        "###Applying Ridge Regression on the dataset\n",
        "#Initial Conditions\n",
        "W = np.zeros(X.shape[1])\n",
        "W0 = 0\n",
        "\n",
        "#Cost Function\n",
        "def cost(x,y,w,w0,k):\n",
        "  pred = x.dot(w)\n",
        "  pred += np.full_like(pred, w0)\n",
        "  loss = pred - y\n",
        "  cost_value = ((1/2) * np.sum(np.square(loss))) + (k/2)*np.square(np.linalg.norm(w))\n",
        "  return cost_value\n",
        "\n",
        "#Gradient Function\n",
        "def grad(x,y,w,w0,lr,k,iter):\n",
        "  n = len(y)\n",
        "  cost_iter = np.zeros(iter)\n",
        "  for i in range(iter):\n",
        "    for j in range(n):\n",
        "      pred = np.dot(x.iloc[j],w)\n",
        "      pred += np.full_like(pred, w0)\n",
        "      loss = pred - y.iloc[j]\n",
        "      w0 = w0 - lr * loss\n",
        "      w = w * (1 - lr * k) - np.dot(lr * loss, x.iloc[j])\n",
        "    cost_iter[i] = cost(x,y,w,w0,k)\n",
        "  return w,w0,cost_iter\n",
        "\n",
        "W_final, W0_final,cost_values= grad(X,y,W,W0,lr=0.01,k=0.01,iter=10)\n",
        "print(f'The parameters of the model are: {W0}')\n",
        "for i in W_final:\n",
        "  print(i)"
      ],
      "metadata": {
        "id": "OSHeGhcFjY_g",
        "colab": {
          "base_uri": "https://localhost:8080/",
          "height": 303
        },
        "outputId": "8e891311-c23b-40fa-a67e-c2fb056405dc"
      },
      "execution_count": null,
      "outputs": [
        {
          "output_type": "error",
          "ename": "TypeError",
          "evalue": "ignored",
          "traceback": [
            "\u001b[0;31m---------------------------------------------------------------------------\u001b[0m",
            "\u001b[0;31mTypeError\u001b[0m                                 Traceback (most recent call last)",
            "\u001b[0;32m<ipython-input-101-ba7514864535>\u001b[0m in \u001b[0;36m<cell line: 28>\u001b[0;34m()\u001b[0m\n\u001b[1;32m     26\u001b[0m   \u001b[0;32mreturn\u001b[0m \u001b[0mw\u001b[0m\u001b[0;34m,\u001b[0m\u001b[0mw0\u001b[0m\u001b[0;34m,\u001b[0m\u001b[0mcost_iter\u001b[0m\u001b[0;34m\u001b[0m\u001b[0;34m\u001b[0m\u001b[0m\n\u001b[1;32m     27\u001b[0m \u001b[0;34m\u001b[0m\u001b[0m\n\u001b[0;32m---> 28\u001b[0;31m \u001b[0mW_final\u001b[0m\u001b[0;34m,\u001b[0m \u001b[0mW0_final\u001b[0m\u001b[0;34m,\u001b[0m\u001b[0mcost_values\u001b[0m\u001b[0;34m=\u001b[0m \u001b[0mgrad\u001b[0m\u001b[0;34m(\u001b[0m\u001b[0mX\u001b[0m\u001b[0;34m,\u001b[0m\u001b[0my\u001b[0m\u001b[0;34m,\u001b[0m\u001b[0mW\u001b[0m\u001b[0;34m,\u001b[0m\u001b[0mW0\u001b[0m\u001b[0;34m,\u001b[0m\u001b[0mlr\u001b[0m\u001b[0;34m=\u001b[0m\u001b[0;36m0.01\u001b[0m\u001b[0;34m,\u001b[0m\u001b[0mk\u001b[0m\u001b[0;34m=\u001b[0m\u001b[0;36m0.01\u001b[0m\u001b[0;34m,\u001b[0m\u001b[0miter\u001b[0m\u001b[0;34m=\u001b[0m\u001b[0;36m10\u001b[0m\u001b[0;34m)\u001b[0m\u001b[0;34m\u001b[0m\u001b[0;34m\u001b[0m\u001b[0m\n\u001b[0m\u001b[1;32m     29\u001b[0m \u001b[0mprint\u001b[0m\u001b[0;34m(\u001b[0m\u001b[0;34mf'The parameters of the model are: {W0}'\u001b[0m\u001b[0;34m)\u001b[0m\u001b[0;34m\u001b[0m\u001b[0;34m\u001b[0m\u001b[0m\n\u001b[1;32m     30\u001b[0m \u001b[0;32mfor\u001b[0m \u001b[0mi\u001b[0m \u001b[0;32min\u001b[0m \u001b[0mW_final\u001b[0m\u001b[0;34m:\u001b[0m\u001b[0;34m\u001b[0m\u001b[0;34m\u001b[0m\u001b[0m\n",
            "\u001b[0;32m<ipython-input-101-ba7514864535>\u001b[0m in \u001b[0;36mgrad\u001b[0;34m(x, y, w, w0, lr, k, iter)\u001b[0m\n\u001b[1;32m     18\u001b[0m   \u001b[0;32mfor\u001b[0m \u001b[0mi\u001b[0m \u001b[0;32min\u001b[0m \u001b[0mrange\u001b[0m\u001b[0;34m(\u001b[0m\u001b[0miter\u001b[0m\u001b[0;34m)\u001b[0m\u001b[0;34m:\u001b[0m\u001b[0;34m\u001b[0m\u001b[0;34m\u001b[0m\u001b[0m\n\u001b[1;32m     19\u001b[0m     \u001b[0;32mfor\u001b[0m \u001b[0mj\u001b[0m \u001b[0;32min\u001b[0m \u001b[0mrange\u001b[0m\u001b[0;34m(\u001b[0m\u001b[0mn\u001b[0m\u001b[0;34m)\u001b[0m\u001b[0;34m:\u001b[0m\u001b[0;34m\u001b[0m\u001b[0;34m\u001b[0m\u001b[0m\n\u001b[0;32m---> 20\u001b[0;31m       \u001b[0mpred\u001b[0m \u001b[0;34m=\u001b[0m \u001b[0mnp\u001b[0m\u001b[0;34m.\u001b[0m\u001b[0mdot\u001b[0m\u001b[0;34m(\u001b[0m\u001b[0mx\u001b[0m\u001b[0;34m.\u001b[0m\u001b[0miloc\u001b[0m\u001b[0;34m[\u001b[0m\u001b[0mj\u001b[0m\u001b[0;34m]\u001b[0m\u001b[0;34m,\u001b[0m\u001b[0mw\u001b[0m\u001b[0;34m)\u001b[0m\u001b[0;34m\u001b[0m\u001b[0;34m\u001b[0m\u001b[0m\n\u001b[0m\u001b[1;32m     21\u001b[0m       \u001b[0mpred\u001b[0m \u001b[0;34m+=\u001b[0m \u001b[0mnp\u001b[0m\u001b[0;34m.\u001b[0m\u001b[0mfull_like\u001b[0m\u001b[0;34m(\u001b[0m\u001b[0mpred\u001b[0m\u001b[0;34m,\u001b[0m \u001b[0mw0\u001b[0m\u001b[0;34m)\u001b[0m\u001b[0;34m\u001b[0m\u001b[0;34m\u001b[0m\u001b[0m\n\u001b[1;32m     22\u001b[0m       \u001b[0mloss\u001b[0m \u001b[0;34m=\u001b[0m \u001b[0mpred\u001b[0m \u001b[0;34m-\u001b[0m \u001b[0my\u001b[0m\u001b[0;34m.\u001b[0m\u001b[0miloc\u001b[0m\u001b[0;34m[\u001b[0m\u001b[0mj\u001b[0m\u001b[0;34m]\u001b[0m\u001b[0;34m\u001b[0m\u001b[0;34m\u001b[0m\u001b[0m\n",
            "\u001b[0;32m/usr/local/lib/python3.10/dist-packages/numpy/core/overrides.py\u001b[0m in \u001b[0;36mdot\u001b[0;34m(*args, **kwargs)\u001b[0m\n",
            "\u001b[0;31mTypeError\u001b[0m: can't multiply sequence by non-int of type 'float'"
          ]
        }
      ]
    },
    {
      "cell_type": "code",
      "source": [
        "w= np.zeros(X.shape[1])\n",
        "np.dot(X,w)"
      ],
      "metadata": {
        "id": "hiEis3Sw6S21",
        "colab": {
          "base_uri": "https://localhost:8080/",
          "height": 227
        },
        "outputId": "2311cdf7-24b6-4c82-e229-8c0be1f776e9"
      },
      "execution_count": null,
      "outputs": [
        {
          "output_type": "error",
          "ename": "TypeError",
          "evalue": "ignored",
          "traceback": [
            "\u001b[0;31m---------------------------------------------------------------------------\u001b[0m",
            "\u001b[0;31mTypeError\u001b[0m                                 Traceback (most recent call last)",
            "\u001b[0;32m<ipython-input-43-c89c25fcb421>\u001b[0m in \u001b[0;36m<cell line: 2>\u001b[0;34m()\u001b[0m\n\u001b[1;32m      1\u001b[0m \u001b[0mw\u001b[0m\u001b[0;34m=\u001b[0m \u001b[0mnp\u001b[0m\u001b[0;34m.\u001b[0m\u001b[0mzeros\u001b[0m\u001b[0;34m(\u001b[0m\u001b[0mX\u001b[0m\u001b[0;34m.\u001b[0m\u001b[0mshape\u001b[0m\u001b[0;34m[\u001b[0m\u001b[0;36m1\u001b[0m\u001b[0;34m]\u001b[0m\u001b[0;34m)\u001b[0m\u001b[0;34m\u001b[0m\u001b[0;34m\u001b[0m\u001b[0m\n\u001b[0;32m----> 2\u001b[0;31m \u001b[0mnp\u001b[0m\u001b[0;34m.\u001b[0m\u001b[0mdot\u001b[0m\u001b[0;34m(\u001b[0m\u001b[0mX\u001b[0m\u001b[0;34m,\u001b[0m\u001b[0mw\u001b[0m\u001b[0;34m)\u001b[0m\u001b[0;34m\u001b[0m\u001b[0;34m\u001b[0m\u001b[0m\n\u001b[0m",
            "\u001b[0;32m/usr/local/lib/python3.10/dist-packages/numpy/core/overrides.py\u001b[0m in \u001b[0;36mdot\u001b[0;34m(*args, **kwargs)\u001b[0m\n",
            "\u001b[0;31mTypeError\u001b[0m: can't multiply sequence by non-int of type 'float'"
          ]
        }
      ]
    },
    {
      "cell_type": "code",
      "source": [
        "###Applying Linear Regression on the dataset"
      ],
      "metadata": {
        "id": "8mfCAGgsjfIH"
      },
      "execution_count": null,
      "outputs": []
    },
    {
      "cell_type": "code",
      "source": [
        "#Performance Comparision\n"
      ],
      "metadata": {
        "id": "CZp-L1AQjg9n"
      },
      "execution_count": null,
      "outputs": []
    },
    {
      "cell_type": "markdown",
      "source": [
        "# **(5)DATA 3**"
      ],
      "metadata": {
        "id": "k5_qHKhKfTBu"
      }
    },
    {
      "cell_type": "code",
      "source": [
        "data3= pd.read_csv('/content/data3.csv',header= None)\n",
        "df3= data3.copy()\n",
        "\n",
        "#Data Preparation\n",
        "for col in df3:\n",
        "  df3[col]=df3[col]- df3[col].min()/ df3[col].max()-df3[col].min()\n",
        "\n",
        "X= df3.iloc[:,:-1]\n",
        "y= df3.iloc[:,-1]\n",
        "df3.head()"
      ],
      "metadata": {
        "id": "dypXDGFwfg5k",
        "colab": {
          "base_uri": "https://localhost:8080/",
          "height": 206
        },
        "outputId": "1564bc99-19cf-42d4-b486-0897e373598a"
      },
      "execution_count": null,
      "outputs": [
        {
          "output_type": "execute_result",
          "data": {
            "text/plain": [
              "          0         1          2\n",
              "0  6.796722  2.606883  41.758537\n",
              "1  7.062222  4.682183  20.030537\n",
              "2  3.964267  4.671523   1.365437\n",
              "3  3.822352  3.832643   0.206637\n",
              "4  5.517022  5.365783   2.383737"
            ],
            "text/html": [
              "\n",
              "  <div id=\"df-32441a44-f585-4e73-ba94-40d3a073492b\" class=\"colab-df-container\">\n",
              "    <div>\n",
              "<style scoped>\n",
              "    .dataframe tbody tr th:only-of-type {\n",
              "        vertical-align: middle;\n",
              "    }\n",
              "\n",
              "    .dataframe tbody tr th {\n",
              "        vertical-align: top;\n",
              "    }\n",
              "\n",
              "    .dataframe thead th {\n",
              "        text-align: right;\n",
              "    }\n",
              "</style>\n",
              "<table border=\"1\" class=\"dataframe\">\n",
              "  <thead>\n",
              "    <tr style=\"text-align: right;\">\n",
              "      <th></th>\n",
              "      <th>0</th>\n",
              "      <th>1</th>\n",
              "      <th>2</th>\n",
              "    </tr>\n",
              "  </thead>\n",
              "  <tbody>\n",
              "    <tr>\n",
              "      <th>0</th>\n",
              "      <td>6.796722</td>\n",
              "      <td>2.606883</td>\n",
              "      <td>41.758537</td>\n",
              "    </tr>\n",
              "    <tr>\n",
              "      <th>1</th>\n",
              "      <td>7.062222</td>\n",
              "      <td>4.682183</td>\n",
              "      <td>20.030537</td>\n",
              "    </tr>\n",
              "    <tr>\n",
              "      <th>2</th>\n",
              "      <td>3.964267</td>\n",
              "      <td>4.671523</td>\n",
              "      <td>1.365437</td>\n",
              "    </tr>\n",
              "    <tr>\n",
              "      <th>3</th>\n",
              "      <td>3.822352</td>\n",
              "      <td>3.832643</td>\n",
              "      <td>0.206637</td>\n",
              "    </tr>\n",
              "    <tr>\n",
              "      <th>4</th>\n",
              "      <td>5.517022</td>\n",
              "      <td>5.365783</td>\n",
              "      <td>2.383737</td>\n",
              "    </tr>\n",
              "  </tbody>\n",
              "</table>\n",
              "</div>\n",
              "    <div class=\"colab-df-buttons\">\n",
              "\n",
              "  <div class=\"colab-df-container\">\n",
              "    <button class=\"colab-df-convert\" onclick=\"convertToInteractive('df-32441a44-f585-4e73-ba94-40d3a073492b')\"\n",
              "            title=\"Convert this dataframe to an interactive table.\"\n",
              "            style=\"display:none;\">\n",
              "\n",
              "  <svg xmlns=\"http://www.w3.org/2000/svg\" height=\"24px\" viewBox=\"0 -960 960 960\">\n",
              "    <path d=\"M120-120v-720h720v720H120Zm60-500h600v-160H180v160Zm220 220h160v-160H400v160Zm0 220h160v-160H400v160ZM180-400h160v-160H180v160Zm440 0h160v-160H620v160ZM180-180h160v-160H180v160Zm440 0h160v-160H620v160Z\"/>\n",
              "  </svg>\n",
              "    </button>\n",
              "\n",
              "  <style>\n",
              "    .colab-df-container {\n",
              "      display:flex;\n",
              "      gap: 12px;\n",
              "    }\n",
              "\n",
              "    .colab-df-convert {\n",
              "      background-color: #E8F0FE;\n",
              "      border: none;\n",
              "      border-radius: 50%;\n",
              "      cursor: pointer;\n",
              "      display: none;\n",
              "      fill: #1967D2;\n",
              "      height: 32px;\n",
              "      padding: 0 0 0 0;\n",
              "      width: 32px;\n",
              "    }\n",
              "\n",
              "    .colab-df-convert:hover {\n",
              "      background-color: #E2EBFA;\n",
              "      box-shadow: 0px 1px 2px rgba(60, 64, 67, 0.3), 0px 1px 3px 1px rgba(60, 64, 67, 0.15);\n",
              "      fill: #174EA6;\n",
              "    }\n",
              "\n",
              "    .colab-df-buttons div {\n",
              "      margin-bottom: 4px;\n",
              "    }\n",
              "\n",
              "    [theme=dark] .colab-df-convert {\n",
              "      background-color: #3B4455;\n",
              "      fill: #D2E3FC;\n",
              "    }\n",
              "\n",
              "    [theme=dark] .colab-df-convert:hover {\n",
              "      background-color: #434B5C;\n",
              "      box-shadow: 0px 1px 3px 1px rgba(0, 0, 0, 0.15);\n",
              "      filter: drop-shadow(0px 1px 2px rgba(0, 0, 0, 0.3));\n",
              "      fill: #FFFFFF;\n",
              "    }\n",
              "  </style>\n",
              "\n",
              "    <script>\n",
              "      const buttonEl =\n",
              "        document.querySelector('#df-32441a44-f585-4e73-ba94-40d3a073492b button.colab-df-convert');\n",
              "      buttonEl.style.display =\n",
              "        google.colab.kernel.accessAllowed ? 'block' : 'none';\n",
              "\n",
              "      async function convertToInteractive(key) {\n",
              "        const element = document.querySelector('#df-32441a44-f585-4e73-ba94-40d3a073492b');\n",
              "        const dataTable =\n",
              "          await google.colab.kernel.invokeFunction('convertToInteractive',\n",
              "                                                    [key], {});\n",
              "        if (!dataTable) return;\n",
              "\n",
              "        const docLinkHtml = 'Like what you see? Visit the ' +\n",
              "          '<a target=\"_blank\" href=https://colab.research.google.com/notebooks/data_table.ipynb>data table notebook</a>'\n",
              "          + ' to learn more about interactive tables.';\n",
              "        element.innerHTML = '';\n",
              "        dataTable['output_type'] = 'display_data';\n",
              "        await google.colab.output.renderOutput(dataTable, element);\n",
              "        const docLink = document.createElement('div');\n",
              "        docLink.innerHTML = docLinkHtml;\n",
              "        element.appendChild(docLink);\n",
              "      }\n",
              "    </script>\n",
              "  </div>\n",
              "\n",
              "\n",
              "<div id=\"df-80b0ba10-112c-4600-9ba4-6d651fbef201\">\n",
              "  <button class=\"colab-df-quickchart\" onclick=\"quickchart('df-80b0ba10-112c-4600-9ba4-6d651fbef201')\"\n",
              "            title=\"Suggest charts\"\n",
              "            style=\"display:none;\">\n",
              "\n",
              "<svg xmlns=\"http://www.w3.org/2000/svg\" height=\"24px\"viewBox=\"0 0 24 24\"\n",
              "     width=\"24px\">\n",
              "    <g>\n",
              "        <path d=\"M19 3H5c-1.1 0-2 .9-2 2v14c0 1.1.9 2 2 2h14c1.1 0 2-.9 2-2V5c0-1.1-.9-2-2-2zM9 17H7v-7h2v7zm4 0h-2V7h2v10zm4 0h-2v-4h2v4z\"/>\n",
              "    </g>\n",
              "</svg>\n",
              "  </button>\n",
              "\n",
              "<style>\n",
              "  .colab-df-quickchart {\n",
              "      --bg-color: #E8F0FE;\n",
              "      --fill-color: #1967D2;\n",
              "      --hover-bg-color: #E2EBFA;\n",
              "      --hover-fill-color: #174EA6;\n",
              "      --disabled-fill-color: #AAA;\n",
              "      --disabled-bg-color: #DDD;\n",
              "  }\n",
              "\n",
              "  [theme=dark] .colab-df-quickchart {\n",
              "      --bg-color: #3B4455;\n",
              "      --fill-color: #D2E3FC;\n",
              "      --hover-bg-color: #434B5C;\n",
              "      --hover-fill-color: #FFFFFF;\n",
              "      --disabled-bg-color: #3B4455;\n",
              "      --disabled-fill-color: #666;\n",
              "  }\n",
              "\n",
              "  .colab-df-quickchart {\n",
              "    background-color: var(--bg-color);\n",
              "    border: none;\n",
              "    border-radius: 50%;\n",
              "    cursor: pointer;\n",
              "    display: none;\n",
              "    fill: var(--fill-color);\n",
              "    height: 32px;\n",
              "    padding: 0;\n",
              "    width: 32px;\n",
              "  }\n",
              "\n",
              "  .colab-df-quickchart:hover {\n",
              "    background-color: var(--hover-bg-color);\n",
              "    box-shadow: 0 1px 2px rgba(60, 64, 67, 0.3), 0 1px 3px 1px rgba(60, 64, 67, 0.15);\n",
              "    fill: var(--button-hover-fill-color);\n",
              "  }\n",
              "\n",
              "  .colab-df-quickchart-complete:disabled,\n",
              "  .colab-df-quickchart-complete:disabled:hover {\n",
              "    background-color: var(--disabled-bg-color);\n",
              "    fill: var(--disabled-fill-color);\n",
              "    box-shadow: none;\n",
              "  }\n",
              "\n",
              "  .colab-df-spinner {\n",
              "    border: 2px solid var(--fill-color);\n",
              "    border-color: transparent;\n",
              "    border-bottom-color: var(--fill-color);\n",
              "    animation:\n",
              "      spin 1s steps(1) infinite;\n",
              "  }\n",
              "\n",
              "  @keyframes spin {\n",
              "    0% {\n",
              "      border-color: transparent;\n",
              "      border-bottom-color: var(--fill-color);\n",
              "      border-left-color: var(--fill-color);\n",
              "    }\n",
              "    20% {\n",
              "      border-color: transparent;\n",
              "      border-left-color: var(--fill-color);\n",
              "      border-top-color: var(--fill-color);\n",
              "    }\n",
              "    30% {\n",
              "      border-color: transparent;\n",
              "      border-left-color: var(--fill-color);\n",
              "      border-top-color: var(--fill-color);\n",
              "      border-right-color: var(--fill-color);\n",
              "    }\n",
              "    40% {\n",
              "      border-color: transparent;\n",
              "      border-right-color: var(--fill-color);\n",
              "      border-top-color: var(--fill-color);\n",
              "    }\n",
              "    60% {\n",
              "      border-color: transparent;\n",
              "      border-right-color: var(--fill-color);\n",
              "    }\n",
              "    80% {\n",
              "      border-color: transparent;\n",
              "      border-right-color: var(--fill-color);\n",
              "      border-bottom-color: var(--fill-color);\n",
              "    }\n",
              "    90% {\n",
              "      border-color: transparent;\n",
              "      border-bottom-color: var(--fill-color);\n",
              "    }\n",
              "  }\n",
              "</style>\n",
              "\n",
              "  <script>\n",
              "    async function quickchart(key) {\n",
              "      const quickchartButtonEl =\n",
              "        document.querySelector('#' + key + ' button');\n",
              "      quickchartButtonEl.disabled = true;  // To prevent multiple clicks.\n",
              "      quickchartButtonEl.classList.add('colab-df-spinner');\n",
              "      try {\n",
              "        const charts = await google.colab.kernel.invokeFunction(\n",
              "            'suggestCharts', [key], {});\n",
              "      } catch (error) {\n",
              "        console.error('Error during call to suggestCharts:', error);\n",
              "      }\n",
              "      quickchartButtonEl.classList.remove('colab-df-spinner');\n",
              "      quickchartButtonEl.classList.add('colab-df-quickchart-complete');\n",
              "    }\n",
              "    (() => {\n",
              "      let quickchartButtonEl =\n",
              "        document.querySelector('#df-80b0ba10-112c-4600-9ba4-6d651fbef201 button');\n",
              "      quickchartButtonEl.style.display =\n",
              "        google.colab.kernel.accessAllowed ? 'block' : 'none';\n",
              "    })();\n",
              "  </script>\n",
              "</div>\n",
              "    </div>\n",
              "  </div>\n"
            ]
          },
          "metadata": {},
          "execution_count": 48
        }
      ]
    },
    {
      "cell_type": "markdown",
      "source": [
        "**(a)Report the parameters of the model.**"
      ],
      "metadata": {
        "id": "QmiUrROcO0Fj"
      }
    },
    {
      "cell_type": "code",
      "source": [
        "#Direct Method- first approach\n",
        "def direct_method1(X,y):\n",
        "  k=4\n",
        "  first= (np.dot(X.T,X)+ np.dot(np.full_like((k),X.shape[1]),np.eye(X.shape[1])))\n",
        "  middle= np.dot(np.linalg.inv(first),X.T)\n",
        "  w01= np.ones((y.shape))\n",
        "  diff= y-w01\n",
        "  prod= np.dot(middle,diff)\n",
        "  return prod\n",
        "\n",
        "#Direct Method- second approach\n",
        "def direct_method2(X,y):\n",
        "  k=4\n",
        "  X=np.c_[np.ones((len(X),1)),X]\n",
        "  eye2=(k*np.eye(X.shape[1]))\n",
        "  eye2[0][0]=0\n",
        "  first= (np.dot(X.T,X)+k*eye2)\n",
        "  middle= np.dot(np.linalg.inv(first),X.T)\n",
        "  prod= np.dot(middle,y)\n",
        "  return prod\n",
        "\n",
        "w1= direct_method1(X,y)\n",
        "w2= direct_method2(X,y)\n",
        "print('Direct Method: First approach',w1)\n",
        "print('Direct Method: Second approach',w2)\n"
      ],
      "metadata": {
        "id": "IwUoCzpyghco",
        "colab": {
          "base_uri": "https://localhost:8080/"
        },
        "outputId": "8c846fb7-7859-4958-b87c-c478caae111b"
      },
      "execution_count": null,
      "outputs": [
        {
          "output_type": "stream",
          "name": "stdout",
          "text": [
            "Direct Method: First approach [0.52865523 0.52553089]\n",
            "Direct Method: Second approach [5.19540518 0.00879617 0.01773345]\n"
          ]
        }
      ]
    },
    {
      "cell_type": "markdown",
      "source": [
        "**(b) Report the performance of the model.**"
      ],
      "metadata": {
        "id": "fv-D9cq9O8l7"
      }
    },
    {
      "cell_type": "code",
      "source": [
        "#Performance Measures\n",
        "def rmse(X,y,w):\n",
        "  pred= X.dot(w)\n",
        "  return (np.sqrt(np.sum(np.square(pred-y)))) /(X.shape[0])\n",
        "\n",
        "print('Performace measure of First Approach: RMSE-', '%.2f' %rmse(X,y,w1))\n",
        "print('Performace measure of Second Approach: RMSE-', '%.2f' %rmse(X,y,w2[0:2]))"
      ],
      "metadata": {
        "id": "Y8Jye4OmqwB9",
        "colab": {
          "base_uri": "https://localhost:8080/"
        },
        "outputId": "5590c589-452e-4ca3-d4a1-036845d08107"
      },
      "execution_count": null,
      "outputs": [
        {
          "output_type": "stream",
          "name": "stdout",
          "text": [
            "Performace measure of First Approach: RMSE- 0.51\n",
            "Performace measure of Second Approach: RMSE- 1.27\n"
          ]
        }
      ]
    },
    {
      "cell_type": "markdown",
      "source": [
        "![Two-Sample-T-Test-Formula.webp](data:image/webp;base64,UklGRqqWAABXRUJQVlA4IJ6WAACw9wGdASpsAl8CPkkijkUioiESmf2gKASEs7dqjC3RcEkcRpLuZFeL/lL+tflH4bVh+v/k//ZP2Z+TatP2D+w/pX+4ftf8tul7o3/Vfkd7J/kn6R/nv7h+7/9w+dX9T/2/9G/Yr5Pfmb/g/1n4BP0z/xX+D/c/+pf/////WP6lP3G9QH9C/vH/M/xv7//KV/qv9r/lvc5/VP9p7CH8o/rv/T7Ev9yfYU/nH+3///rpftz8LH9U/2H7g/Av+w3/k7OnpL+1v9A/Hn32/NP2z+uf3//D/4P+v/9v1v/Ifnn67/df8R/l/7L/3P9l99f4Z/Q+NDpv/Yf6H/E/+H3K/kP1x+x/2T/F/6v+6/tF+C/57/E/3f+4f6L/G/tl7W/Fv+Y/YX/bf5X90vsF/HP5D/Y/69/i/8L/dP2o5Cjff95/0P9B7Avr78//wX91/zv+5/tX7ufUn8l/s/8N+7395+Df1X+2f7D/D/un/kf///9P0B/kX8//0P92/yX/p/wv///8X3d/0v+/46P4b/i/tb+M32B/z/+3/+H/Gf7P90fkP/1f87/sP+r/kv/////kl9Kf9b/N/67/5/6T/////9CP5j/Uv9T/ev8t/4v8n///+z97X///43wm/c7///9D4ev2w////DLz4tGL1PbL0+xXe11lKbNvvYEILhwIn9JT+xwhbTQQt2CnsNrIA+JSAOcXFg3Nh3tsUUckAaLS9VNF8uBcI9NrB6vQovNmCCMB1JQbdEW5vFraKXZ3rNIR+DDoEkOrFQt/0d8/bQUsQtdIeEZaC56JjifdbxgVJmdHzoboyN5g/B3V8Q0NC4NuuTv51iDst4ya1vXH/eP1cK3wOCvM7qwLUnWf3hJnirZeaQNmWyEG5CzeqFRqRK6T8i+IZq9J5FeJR+Xcfvx7C+XLBdGEQ9WhNiGkS60cLcr35JPCgA79yiU+yffbayWnnehweJn3nbI6bfWQ2ov3WziizkoyLPINPeSlP60KCRGE/a7FMsrRVyzoNX49SCsOjp+VEqNrziC4CIwCWZIUidfk7ZSf5t7zlk2WMDriWYuSp6gGsBbEAz62x3O64CEr7PUKkj80mHsdTQbXEgWRYNtaoXHRD2JlsZXzKjaum+cVHouQKy2P+17WMFv90dlxWwRSugkksf+ljj8DpBO9Soq38jnOrTCVIYw93uW6O8VPXqxbsZT6bMsQH2p0lgOPioYbS+x//k2SWdC+OzisYb+hnEZdpdPXYl6rjpcV9jBktIARgkXE+QWFEkc7MInz4SUe1+0+W3I7Y6YWvptyCEFxZOQBUFralHQWXdku523XgzSuXSwqaA3xYJ503B8I37kM3li4sG5xcWDc4uLBucXFg3OLiwbnFxYNzi4sG5xcR5JjlC74s1syafYL72Cny6m7JQ8Z2WfZDKbFpTQXPiGbyxcWDc4chRujPuoRrWJXhn3IJjIXPtP2XfxGQuJbrbAYV9PtcVe9MJZc0pjtY+g0ibHS9A6AguLBucXFg3OLiv+IicjPsWm/QHZkmgJ2MlVk7NV88x1UVHnXCOkdDEbGBkgexYN8RIR63dfY9LYhBcR1tqX7kM3li4sG3A6tJwHMzJ8LdU6Kh/6zV3JyEAZSVCoyY+lrunlTipJnyXmvntHpvTAz4yNKmc/PXGA/HVty7m9ZYoC3WyZ69EcE0Fz37bq1jJAd/iCwDuScIqQuLBucOPkHLjorZJLSY0fWqUXrCCQdsSo3saHYqC9NeoDTKxtsD62U6lwWzYtKZ0TPtEMaw6iGaBPvDXHd3nPEnlbK7n4UrZ39sORvzD7ScoR3j9rZIpPVQfN8AsHmUjDHI7AWyCwUudiAT/B7Vdo+tKOj02gGlilM8m1jReH7xobsLiNkE1TjZ4HmUjRfr9Hizkp6a9Ro+JVBZu4MGn+0/WsCCtjlrcdAbnFr5c1V5vzCe8pGqqS7EoYYzsmhwc0rDw97JYGjhZF4cGuRAxf8db+yXXT1i2zJvPTTyaKlNBc+IZu+qgQaqBC1k08QZNz7ZOsKlQflvAXngAEi/RGQERq1XBxcWDa4uvaSUE5Z57PS3obFhQR4O8YpENp/bWOS5w1NfzsXFg3OLiwbnFxLQbfSo3/NFAtBK2qY7Oq02Nv0U7nkgSuurTQXPIXS7dUBEQWox3DpCDKweSH1Du1ipVcmoUyQ90poLnxDN5YfMWZDXJeCWLJTrBozZbqM/9qBV9uBhUevR0DOtECH9I1d89JcIm4f4qlAIqe2Js/k24f1POAYXP9AOXns/wqt06AguLBucXE/lbKhdO5xyA52xLkWW5UWPlBmNNKSvZF4aHquL76C46ep2Io9Pao2JxTtPRiQc+UvSvyl0XDQ2aw9jIZLVaw/CWLiwbnFxYL3ulRXIVrK7F1WDQlBnO4NwZhXyV/Kj7Y3DyemZ8WRS61UUp5kNx0E5W1Sa7e+7d+53DzEl+ogLpiRVF0bkYERc+IZvLFxYNuCBgNLlK9T7/rUvnp6IDvGXSb4v/5rjmasZZuLPOHn2GErsl7IvTnunAVQStwILiwbnFxYNzR0WkVQt2YKJVoO9wMERIC6ciGL4NuxULEXOLivqa5ujjAvGoMhkxPe4eyGPvoYFmgufEM3li4sG5pRaQbYPK8fP2/NQrzSmgufBP3jMMM17G5iLnxDN5YuLBucW6dOgILiwbnFxYNzi4sG5w959QjvbFbpAx84RKFmYAwBZTfZhwkP4mFMaYh/sIDiH7vwI1BpoP2UNmmt7fWGtPLSr8ylpCx5e297y8Z9DcYNOorFKDhoSbbT47HMGd/G9pwuHXAntGbBIgzJQakaYCeiW2ghWRtEm7Wsut4r4qd0LYlC20gDuRPqsX6nBu3M91h/Enp9i0hpuj6WEAy9bzOu2AfFPlmoR+nikN6QN2w8MiGrBaLpoQuj9hPDkFMPta9hZWi/j1YzJ7qBUx3j2FtI0CdQA4GtHTZURDtDnHT6X2hTKuGTnoxiQS18NSVtwphFLHOG7F2AVVKwcu/868gjO6Lkw2eULLhC6/Vm2UKzawyEBXY/J5ahMLsuD6+NjtIUOnKqztqgsCj+YQS/Fgs6vcZgr6h2+/UZ3UocUSE6lHmt2Yy7sz2byxWF+V45+UTr3EEJ5fTDkvMRqbe29bZYVTPOKGp9MGutEWmkQHOT2HIFn7s7zK9gy0cbgxD2IGzH9pAdL9yGaoWn0IEuxEzuSl4Qz16UN39yOMaRmpWveC4IW8G6iPotBAXTuMhs4yo4mlEvoZkdqvHFYL2OScWPieM21KbETt99qYizTyfxLV5OsJT8dSrXQNt1sVOtRlx+WDl/4w6mqfvcLHPQbqDDd0KaPeTHOICfaJGp0s7Q8NYHVZkCvwefMypcq/l1Wd7V2PVR9T2SyVWde0HY4dKAd3AUsicB0NLYuS0viXzIVC8vFrQON0ctokHHqG4ioZoASShC5c4H3tkXqxfDqtkR9AQQqbQ+gDIIpGzV9nIsA0B8wJjBflZ0YGv9kGBSNiQAgBM31AxyiGUBoLNAdMDzLFPu03tlVkG/uaqf6xD1qN348HGkWEBAW/WQwMcPhmQ7B+SDqb8esI72rmTL7T/7uJC3qwb8LzaelpoIoipJ1O6sZHVM0SOV3ExwLSKSQRtP5BkBDlcnfM9hfzB3gWnaPnORzpbSNQrWlOnrwSv4Dc9NKpe0uE4fKhEhXVNO9MvDRqwkvPg+KlbBsvFD7RyGFYZBdDy3fE0PmSH0BBlgIJ2XfkYx/KX3sws27pfbGCVPTghCJ69PDh+KfhD0cf+Iq4jxWe231Q6zsax8tkipKTAH2TjdQPKd22Ejl3t4nlBObMPrZs05n2t/Bbq5vUpF4vgEmB1n+uJPwK9SV84PlWTS4vg29wkN7hcm9xVrrVQoFqT/k0VafML0qMF1JSJSK3pQGDcVWu36HH0YbjaSGxGbFgCWWH4E6z5E2I7UnKRnub/qQ5RkwN6gMuyR+2LBbFL/9xyBxg8QPx7AB6F8D1SMpuwrjXvlkzYgagosfKFFwWuagoYGA4SXlF0vgfQii2pGzMsUfpKPjAkBnFbSfzlBlYjRHfrtz8rTObpNWN1DqpINPN+EsbIcRJofm+LBuaiuIlWrTFIRMn9yadBzw+dfLoREUxyY2wqwVMXWnkdMAVDWCHOIklicK2oVLeyffTkiWVnMZvBt3nHjoY3y7G9N1E2xqME/JF5TcOVzluv3uWmsoOzcY+0KKFb5txm6UQM/7lslq8fJKBz3vCAiikjWgDZvsosjfx92J5cakPAr2UVe2fgEPCH7UMrIEhKLL/s8VFVvXltRRXM0mj4tkn18IPZJAVGqlCwMJVqwBvB+12v8c5nyD9ULGCAo4t1FWJ41BTQV5KLy+Jk3jqedhdqtoN4Q4VMAT76BJIuuaoOnaqZjtErI0AROsTdxApL/vpa16RYUV3zCyOiFnClhDEcNs7/+58cOQOqHf+VXw7m/XzfADArBLh+hWWl7QohBoUL8kaGt85C/Bl9tnIlxaQKyxJdDoaaX8wF8G+PyCeBhqhr4HUkGXk7Mrkqo6hwLf3xjdbjd7ekZwe0aP65XYn+8RkrqJ4577JE6nhKEEaIlC4JZGuVPhlBYJ6rsZVq5XH+cQBzrhXB+ruGbyp++BMrmLqqrzoZTiStF97OzdkIA+isBBo9vcQF6XtCAtxltL9h80JFFGVqq0KnzptFYPUBsY1RdwxE5eLdH56wMsbMsQdEFPVfJo7kjdZx96D0wdNhFTm84UCj5NfgK971RtxgpoghRKzXjOljFWAFt6ZqxDXeQEm+HY3aUO3EQbLC5aU0Fz4fsDy+ChWGnZ33GeAz4uP8fdmBQMuaQ8NRwvZqRWMwT7ZY38pT/EY98/c1VdNRGbjAu8cna+gxWGIUXO5LwCvO05GO4pNkCsmIIF7hPwvuJf334/ZEZy2u7VKDwD7iIQM0QguLBuZ4sctnOF40eJmGu16UlnHZwinuNSqGOdY+R25FYGbM39PchfhvgkpALwx92d/JjSJVNm8erHC4VNkIHALUXFpzka7bs73adSAzYrkSnP2KoJAvP53/dP2a3IG9/gLrqAXNA7miHL5grSmikV0RVQtXIAT7WlZFLSekUfOKlveJR+OelQu6X8MEApitXBAIX9Ju40zaiDf7pTQXPiGE3Z9t+3JmEhN+6FsomCogKZKO/qlhFXrr85UYWbDwjxp9nXrgpSCvvVx3ct8CyoBQ1+f7ovJRPWSalYi31tRv65VTkMRbInBNVBymZQgvLVHsbQ+YPl4G0ARqrqUz8mvN9SVgYyYtxBrbln2cZJpOd9hFlyc4VlM2QWTmokCxXAiF5ev/Z2K5DN5YuLZWBDkKsOVvkiv+3i0poZL4hm81Jv43xYNzi4hAA/vwww2GPcRS+p7LjWRC4tNXo41waoTB7XI/GdNKCdACVjjHYdaMvK59JieNIlGzQ/bUOaT7oyGZt6i1/vZugxxFVtoQRc66brZQYY78zEr1KadqslzWpYtjh9CJcS6vYT/Ep5yRCZbLIm3FMjekFCy67B5gv+AHaX2jbro2SCbI+5YJ/Bb8vVGH/F9iw92ORlrqdEfMeXgVzwF/ssR3i7NsrC9kFXDWnESYo6W7KpEBZlUvdn+xtc7sQi1IPyvl1odpGemZVUs20TsZnC2lRSMNPVInX4ZLAuzTF8IvDvdTLm6hg78Gmq3MgBqTzWwiMS/8nx2C567S8NJNVfP3hMXMW/862takVfPIru0mkAdigoUsslaGme/RqmwfrpHeyZ2mT/Djfw+DAwl/IC7028V0WSWtxNC2COm36/5ctsCvsK49RfRWCGs37id/4Gt/3Jsl7YewxbMOGoz8x49dsn3A/88HgdgW5yO7tcZwFLuATBe7dQtCKR7xIAztsNx/c0+/wr+mUCN2c/CYNZosD2GZJdDGcfME/pEqm4JALEywWYOlTDEOKVzIKJwt+pX3Ip+q/gyKffCQmNh6GbjxMv26pcusoFbFWQLRYnzqZWGfIJyx2N0rZqtajBUDYcPfpNvfW5bzbpHFGFAsboWfZssFTSTRg0UQKbVeXAVmJ7lcmKKOGd5QRXaO1kPhrHbtdwGLubpJV978cltZP4lg/GwZ9z5Tjg+k5Ra3wZxbL5WdVHX7SlswISoIrFC7zWCrXWxBnlyrCuCYxoKaN8RugvOmPvXiZOZo5lu+JsbideRmbrB+9vfBQ/upDiWtUhctmB03y4Xgacm89MLl6YbgzIncyHZXG9cHSZWDQrH/JviHnL19+nS8FiqCERqiXmDBAMag4BKBtwjYb/rIbOzcUah0TMNCRSZl+7pQmmGDEEU4hZYt0zLyHPfh5b83egam26d2LoqScmTB6Ur6UOBSZ3XI+0NwSX71GXldWBwuDbWYmu8I+NJd/O3LXGFPlHi5vZthruRv1F/ZoIYF8bczlr3YCYc3z1qSv3nNDukb2wlISRtQFz0hnhiA9nK2DJMDx9I/XgNS1kdWcCkKwtbdNcBgKJ/PQdogkE7ySzVklK6jJ8r0AvalDZn2mxpMTMLHjtOm9uMAyod2ZOGr+yqGtRl/auizBbvfo54B8+bCcL6ufOf4Q6lMXoBggmDO9XZjZmW7phmM2et7RhakXzhazmlZVbzz5dqMRdb3acu1AbOl5DXcpvF6jUI0oArejTSxvHB6ksJ5MX0n+FVtBQ470fXNSBuZg0MEuozcosiRn6Pcd7PQXzadj2m/rVT8dzs1BFs0w3cd51NJLYYgBJlWAnVMj6pBbbezdP3OQbJAWqRw2DKoW66ydjfmwEBwJBnzyXbfGIn1+haqEIZtccTQUmSwbM8XVmlPUGU42JT2qiF3+X5AcCNt4HzWnlm5aBkng5o2sUX8ZB5E6IzOgTkVNzEay1GDoRlaeBergj+091JJNrqLXweu7pXgSkP3WAVzuLivtc+IBH2z4s89oomVLvPiMl+APgAk6fuzFKUmWNTQj5uLRCyOFPAU1ZtkdB/GH15cDYFqINXFzVUpuc0zSxAfbH/vwua+4ifD1SMvmb30lklV9oDEo+4wbPd7HmJ4dCYcLHN4PGk+z+ZEDtt6kJZqLOZTNKq99FDDAlxcDCZ+zWfViVHkBXVAbn5al/rQ2fUNHiJiSnCZ0IhlBqXNJC+S6iGbzmHn6kzq9kct2YXjzjXThCHG9T1n1VTTnRu4ciuxBN66BXU6WuclcT7He/p3IkBJLEwJqLyQ4V1NjHGzrT8QnbWPmbeyOhrRHKN8SjT05CcsiGpPXaXKU350JbCySBA0iOiqRMl9bNPJmwRmGiYyXNKMMAsEiUVWmXVEkfexUBnV8WZIt+MaNpNz0a8LYgjUeRWckTgYPA5rOUPV0QRDMNEZzDkqA4x1H1emB7++EesKGaSqhl/wWFcerPgkRrACohmXPPcEDknaxcp9ipJZGwmRsVxvUHpZAHPZK2NEWkwIJDIxFQORfKDZhuszpn6rfyPe0SHA24PIUBXE7S3TVaGjc43ZwF9x2Ui95wqCiicKh82NUB7xlNt45Rt6OdH4iloGNJhVKbM8RTiWrCV3f6qJPEp5UBwP4Ob3QZr0e9pXcR9/qtQehTYNvppmGnGdwxXfIcO28ASl++eTjtMOIRqGbAXnoIfL7dHa3RR2tob+Jl07R4VnqBXDhmrkwn8QFQH7fLEI5gQ6pvUvSHwy00oKlMpr65SkygadosbQER1WzNJnJC32ayFxdrIObnwq++rH/oZPdTt+giLK+7xqNPkz5TSWqydLan/WrZGvsqU6W+qmphZH0N+bCrqfuTPGMqmMpHNdXs0ACN5SeGYDxdLCLSDLZ9aXCBA8MTKADEgugyU7sz2A7H8K3aUCqdzLCVwJJAGdFRC/IW1rxF8RlWvcpkDQFxmvVPvmzOQswLCLmj2raHwAqSCFJaXX3n4uLdGt7cr15P1A1MzxP+FD0dnKlwwTXjMuSA9qCes2OTArT3L8BIY9/FsCls4bj7tXb/2C/jQE8dp4BnB3XJHlDy69FrUzRN6CfLSo2q86uKUpkWa8N77fNwXkXH2NqZtPl+Hu/gxJXHXc9IXCBCuTNTXtjbSLJXztDRJUlYxNyRAd5+Q8jLThIMMnYHW+YpUMKw8et/4J/4NQSkhpvgO5YVXcpZIn85lUK19UO4noAwHC/Q0s158HIfYDHx7NNoRStIMLegMZn25FCYFIgdWEdUmfKLPM9ST4gptofwd4+HrZNtTQxromNxZXKyL18F8u48Ua2xld3hV6CBuj6xKceU0zpLBoTmPS2OLtsfskYObggl3gP2LoNJmdkn5WSAkZnviL36yADoWKjYHxiCP/+nBxeRotKpJcsMPq+VHz6Vvr4gsg2xZ39+n5cnTx8HG/4E6nvFNCQxiK1w92FUVbrbd0vnOceUXb7xvu0KZzcdvQXDgRHQo3S7eU749eG20AviHCdI3BZzMf3r2/4KCJqe7IyFJjn1GR295Do5Ghez8j+cjvr+22E9KJIHhTO+xcGYSPI+0ZCj+V++Lh8EtLOuHO9Web1B1TSpgyNaYv05gMLeQGTb8hgiajfVpNIhh2H5mXuZp7g3yJ1RJiEwMN9GxGS4jFvS2Vwlr6hjd4iZg/h+yvikeRzSwpBnDZjJVmewZSHAmLevNKu4GnNzDygPTVUA0ALnOlYoTaGWharOxylGJWI2N+VH1MTfZU+iuE+YmiqKfBRacwHTsjei6vXqibDrxiOi1CBZvLtuYv+3qQoc7zGwd2PNb6Kj1BToN5Zc13V+DDO6SIu6QPZ+gflg/k0iMdeyk8SmpATwiuMtZiBikxxiasnYdJeGwAKNsxHAL44mouh/hNqMa/Dit+lTe3oAUbyjD6/QyoRLPIg78aT+kEMPONmBudZNAwmJ5wTvNDZ+Ong/BUFeSA3Nm74SfhLbSVD/LlU7kyXW9BefBlfytZMWwWcx7Or+iRYRcHZe+bM8pEqRo7ycJ0+/Cvos/S3SKY9YmYHPk28DgLDZvDvRoV+C0gXO0cOpgZ7kLPU0jEjTOgSGnQprgwOzyHZIS3QF9VMD9JQOLS+Xv3O1/dC7gxXq4NxAUT5yQxeCk+0CISexfD+HE8W0rFhVGmFq/OEgiuXliH2MlrqqMvJAeSFwYhfmMOAUh6dcKTxnFy+hzSlVwkz8hyFjL9BrMAvfkQAscClEvaBTg/XM67nNABJQKYLS9Q/WNRHMCZLIfdU315ZfXX2xaRELMS7sf9fHmDaKxaVqW8neZm2hAaksS2R0nDe/zPYr6TB14JQHheNmcj59P9KMn7Mykdcmkhkue1HFEdvTFXjB9rYgr3yoqt/1RJFmEY0CKQMeFdQ/X/JiAvz9ncx27TsHfEAycZH25HSEvkgaV9QEp7j/CwpIGr004Gr4NyPavNp6bWB0dGqdJAYg35NUScjBDojkF5V6kzfq9BOxKAyCpGQvBXnXAAlsHnS37uxih7wQohunBRPvG6B5mkio+rJbzfofqRVGEDQwjQ6jnNqgOFjivQceZNouOHzLAfRcThk2vVwjqLxb3/zbHE/fEUkOof12/S0iHv9DFSOjKvgg1KdnfgrmjZ6jWUOdZrUiw88ZCl+xik4Q2yG3ccUdT9z/pdIB6VsXUpCaZqZ2su08b1jeJE8Qpp9pqQRYr00+qacMFPQOnK9A0+CwI7sM3rcOp2RvHpMCGvLiisOlsycVO+8hrGB43rF3ThTLci++qwXbWuyfo2kisPzKjtghnVbMFV5wn8Ot/FDn9keXoaB1ISaQKL0p7spDXlZSenMB7JMX0+CCmjFWuVNgT1CO2IwH3nX8spY9W2S+X8wt6DtdvjEsBmCR4PZ3aJIX7ZH9L/xHDnpQBmiyDv+u25dCDuFKoyhYAgP/92TkfaJsAQbjLzdcqlC0T9I6JOoQzhBjUXhaofYp0pGSI+hrRwvn23GcC0kBrPVUaHdqHe2FnRKZiWtvl9qOcTYAX1vnzitgZaB9kT/hsla8TfiAtxrPciPkjgKm2RMDffSNiW0az1U2zP36ht8PV3vRRjtKkm0QGmRjpAxNMNshhOciFibXH2lZHxS3wDE+yk3rWFjpco08w2nNPcj5XStojPwih/DqlGseY06nWSWRsK2UYFaEkJndihv1xPWwrwMEl6oGk3KFjtPmdObY4zf+9xKoGvZBY31FnOhOmAGat/AQ4cXNTdMZFM3Hl81u65ZpYpR/CFbwmimHQ46G6juZu+t4CyYYgB2eiLtXoMS2BDfUplevYBN8Kq/3rg72CyVfwIQnQAW0rcEsc8DoXw2fM4uj4+t2r7hHrH/asrhfE/SXA5Gw7HyHR/XJXZdjOP9in/mJG1OM9mhjGwJai3rzE9gWt4UKZe0IY+oriXyeMmlV0Stg4W5IhJiHuHcZwHAszwxloJpxAYJY0GQO5su3KeW3p1cu4Fpkx6aw1GijCOHFJWr/hGGzlGcZ9xLIa0UQ4miQdK8p+1I0ONMrfxOvR2s8zPnvm/ELJTTsVpKgXKrPJz9PUXTn+6DWcZPkgoNvlb3i4xTCJUQwA2FzKPGUN/xL2D+dufH/kW1I85ywGpueugYuuresurlhLRVKjVibpO4LAyqf70cl/+UBDS2p9DQ8f4IQe7Y0jUhKgn+6Zm3UTSrZBjXDiKdK5XPGneaCYW4qnknhqWYYecshKDQKiufqn7MDD8491dQwJrSQV5iB725Pkk9MjbzZQrNhkvl6QbTs++DkZjnm4vdwnBZz11JaXeRpn8T9DlAX+KD88ZiExnEYKnCs+c6cEgpplwbrBaIGwDR8MaXlLxEOS7xQEBRrfeMrxSqakAGuSZZhS/VmhYx0h8lU1r28R7LG/v7gmIidUVDT45BcBXy4XnU0xWViFIPOZibQ518L2pHS8GKaoqUxKg6u//+ITJQHjVnHFjku5FU51ANW3LFp3Cnsf7NaamQV/xbbsaszkDDScIV8kOcq4IJtktCc/3+RmRBvEXZsNav0ecvVvP2SzfWOCAcBQXmYG/HyhGuwvT3xhWgkZvBCfKbK/XYfiTRBTGkUYH5dsGqIoAXhAOiJvwE1zyqVJ42fGG+ylcLZajf92YrybooisvR+yuXrYgMn6U8APMfCsJoLUUoIogUVKyGgiC/Fxu7oP8g33D1X/2AUVRFSinYhR650LO7pdt6m71neIjYaQL0ax8RGRFmWSdVbDA1Nt8G2N4YyOTHban8510ZPjepFJbduttPCjW5bM7bcNHjER4QEsovlXaRCM3Hb8ybXtnCCqpGIuxFo7nDGCjfVDxqjqEhZXmAWMnf4aOvxbsXk8komdMr2U+kb0aiXD2RvBx7aHAmlsk+GwfcO0U8g+tgBI7om+5pKrYwR7ARkutOzdT0PP1O6F4P8MmC2tnqMjzkXVb4uk1jaUboTDj4oLxW6nXkxmPHUoJC7sM9a/5+ZKUTMX5bwRidyBiDZQ0l+Qkg5c+ovuxnBrSh86kMzm884rjxM5FZYwHGVmnnft+Tp3A0sMkt2X772Kw0BRL0a1fFzaoJXS8hOiSqh+n5c1olO0TpLJf1XdTQ4Ys6hJ8N1pfsx8b3iKhYV1ydPDOoiRZon5IjJs9Cnf1euQVCRJA7ESvgsd6WIJGs/EShEEX+qDV5I/CZxlyxnMO9Z1UWjNyI/rbPuUlFJnQwD1ucAfNyF21ZSikvR87tyYhMeASZsUHQ9wHA7q5UFJPUfxA8MZ5Ih0/VM8F+/eF4PzwqbUX2QtBGJn/dws9N2a+UKDibJsFBqdqQkT28xVyV13vnZm8O5f559BRHaxtJpmOlVFyq5MgKNvI1oOQkMGC6x2ONrpVTxnATmMss6FcV2BZ1Qcobj5HsWnBOfiYc0wzMYyAo9Dze3KPjGw4yPI0IY7ZtKhNK9t4UZQSMYodtk1mCZBKdXoucEl4BG+X+16ifr29Kv+s8wAeOOZQp8u5gfP8EFdzFEqY8AqQ0AT3tLmFk2XYnq2GTis9PDe5hUeSmKiuMY8kgilu6bVe1bd2EGOgST7d6+vwX18hZTdJxKXGMqp+/qWyLErH1uypHknrUBIwKDlLbKjoHM53YmKl7ktQ8dAN6xXjSnKMlId/0Bng8Yt/fV8Ot7CDb8n0BbDR8B9LwBW4D6q/wv8Yugra5/t+v4a7LNibsBD5LSfYczxBU0p4VR0+lMU86CCCbIcblkbCbrjs58H41XE6JOLpzewYGwhDPfTEvNb3CHHV1EZEuQPPbROatfb2bVlXoqdrNkqiMAeBOkhlZbvw9HUj88Cc4NnDN37/Be6b5wZBdvh7LrVEZ/3MUuoWMwGuKgvRtvUH0ZtwYRid121qJuLfEW9SNHcBcVleakgzLK+IymFiEspRj/bw9Xi0umolHlh5hqkFxztgo3OILXLNOGoS+tPgGpt6KBaZ5/8nRMyzk4UARpI0exbifuRfnYXH7KAyTb+IQ8yRvaQ2fCJ8p2s+8tiMWLZLJogQAwIKEFM2LKrmN/mZ+52J6ACBFvmbXZdH54XZIrYnnJ6BNOM0bKTglhkGJ8/DHls3zuVuEtXl9hDZ7dwIbaA9KzGjcAoft1K5JkGjPsvRWdrmxS1Bb3ru4FCyVC38S5zHBo/bckSoxbSTwkYVAyag7VgkRnU51+u6Rge0bTv2o+Z36LIuD+v4BQCVkTecscY4sFbSHenEQnfxL+DL3xpHcb2ksXXNL2bRwhpa6enck0tffvH9u6QpFMaJ+LzJaVutlvrW5WRT1mf75marp/K6iD2pNx1STVnkvrxmlNKLjjREUwyMWZ6FJHygUSRuGNZJq3bjcVehDtDT+6RGp9i6npb4kKnCvqQiFnzK5eZXThKq6DpKqPQk5UEPErSp89oJgUHQVmMH/uU3UOlxdzoheH58xLYkogVWfOz5y4spaZ6D3YFa0vSICQpITTd2ipjFNcSAH/9/c9EPUvqdHBe9caovY8UfnL1uM02rgNGxadg6aAcRIJu+Bz1jb7ex3B353Wc3wxZ2PtvvpkqhWw5g5obN8AglBe2vZq8F5z7Jr/P9h3fkpvbpEYDJVq45hYmGjwjqJ/y2plYrLTqrKG8TPqjjAZS9tcQhSfdeuWcAo6ZvQzTKE+o452dUPNTN4Xlm6BAz3RuzbSGnbo6AQBNfPfJw71KZbhVHVL8jBpIqVRwSEgf7XTR4xP1Ee2/h9gAAAAs7v0wDy9QAAAMwNI7VOjdPCZSOdxpWpaQK0El/KA+KGCcTsW3OqQPYg12Np46BVVmWD0MBtYJRWAAAAAAAADKAnOAAAAAA4U7IBRXEXvZCzHIu1TqQB5bosC7f0y8uIxxjzF/BUOB03ZNpvRzEPkTgkTOoa3M30E0GGKb1353YSMrd3/Ksh46NBjzW2dKhjqB/XPa/Bb3PJ37zv5l3qjZLBAAQFsg+rQ17WZgxEYa84QMyIJ8R6HKdgB2lgBcfRMo+4yI7vaxaMAsMxB8lTRlmADKWZNsfl28rzABWbdK+Gv5rdqRvhGmLCUMAR+iBZBmELs9LRvMiWuKvg6Teykv83SEArZwbzKnatViLrPIMylLNoSMmYhyMGHzjSItFyrLKILcTNzlwSUlfYFZIgTQI3df2P4HnuTKaMY07gdeXalURhUggCUiOP5vZZUtaDQ8jYC4ZviBtVzZuPx5S9IGruycSzUKCsxAOfPxjrB75/YPU0VcksoPyfl2WeBF4z0t6gMStK/QeGS0Ga+9hyrxLkfu0YXHZDRAbaKHr7T9lyPJ7c+Kg/5DubCjllwTvM3z3ubGJB1FXuPTQGRensWJfXJ022NOjK3rLYcEqDa3pH9mYASNWQcdVw2+DBoz4lKcZpodid0K7ZKei02pPD7yBvNvnBigUzcfEKrPLpmh6javotk6vWyP3MMRCuwSqCTrENlKwNeZavsXIaYqDj84MORhi2voqdIaa7fQoVUAQvTLKNDN0uRAs8aCS/0RQJeQEp6MQV0DIDJgX79vEa2xYQqgtMkTw7AEVMG4QVdqvRSSCh8o6PbTOs2OA8WbiHOwuR27h4fC/yxwbj05FTHVzhMlwgwViBJLJAIiBIi2WSDFa97eXyLgvo+Bb4I8Q8yd0YWImCcinwxMrnCYcqk/SwGBgsGVW/pV1zphaGatptcjO+AxwBcBn8ajgZkEG86Mj2EUWOLvdAT+6w4dpx2Y3R1jh5ejva6uxJm4n9hugxY55MI9N+TO05UXoj45gWe3JkHYUtqfr55TKmRYGw65W+Lqsh53/WRpzS0c4OIzUFM1g86JImt5PjdkyunXbzjM9CkDCij74lKXsoHGjOwcj6oZ6iMNL4EX6p2uw0kJeRd9DSxn40kNq3WOD2yc/mmR2uBWayMrPYhPESeTW7bw3fgvUmVUZBOvCB9X3klTU2NOtHRsRBoQD86CcBzEEzFYFbYZQznKsVMmREs3o5a/+Af/Hmj1C0qek+n7xIjtiI5lhZM8abUFvkVt4xTrwtYWzwUEIArmERnhVDNXvqL8HhYcBCSy2wsoXsM2yrrTM4ey09hSjcqLfFTgK8CbIWlHqq9HsrwVs7IJuaS6cH46icgSWautZQYPaCLmBdAfmrUpBIfJvvrwcfz9wbmRfJ3IJh7nGUkuOoDfPUKbNdK4vbucb4YevrC96UpnaVyBzfJmG/TAZO5Uw9prMtP9Zl6nsYMZ8KDXs7YfoBq0uUp8/SPym8XbxILNgmHzN/ZqlR/lBxHcOY8yaq0dyo+oYUNUqqWEXFZxkVAj1DKMtFplnQbyK109VuWPCBSi1/12x+DgD2cxNdvvWzmwVHRRQUNvZS3KHHnHVNtAAiLHbSLsHisKBHW+ij8PxyZ90gwuXpUC6hHosd2dH2pYgbh7FAI5eXufZR56vfbf4G27fGPxP9tqCTOKso+LC/Wl58mjYQueULzblcnvWN4hifUpMmKiiAK9Ug9CUdpKnQ0dGvOMjz83TP/b7IdwP5nRoRM+9YxGlYYsNOjCeHMUXoNVnQociETl9dglABWc4tRdKsbT+zS4g1dO6XHCa/2kyV7vgfl5ttCbfI+8y7IKvSSQ4XCL+1fqJkIPZYsGRrVaGd9rmqmjxrkQSHBhZn5qhdO1azO7jG4BljKRe3Mfy6TpzmYRRhUNawV+67iVOaQPRjzhFqlhmNrCV29GHfXBeWHlLzjoM+0Ocoo5+Aawwa+Xf5dwtEpwUR5RVASmiTMJHQyGgL4iBayFOYnylsSfa94N9k+KiUOtaFAaS3QY0ar5aPjSVNyzZ/62J4rlNvbjTo+PTcSRurr4kdQBorJVPxF9Swqlk50DlnyWHF2Ekpg++iMdieiFvf45PFWLxGkn/WJm01ct8/y8RSdF5+Eocu9ghzmq0RIN+GcwNAWDeBYKMdg5Tda3941wBURdEhBs+qzqzPLjRR2Cl4bomWuzvKuQhkW+DUFY+6j1/F5lJhHsCC7p67YluGuicGN/UYnm5WkAcN8Xrxkbd0kB+71CEE4bz2F/SIQw7vFSDcVNZFXXYHBI/ksk/qx/tRNum5d6P7hs3EoguuTBJT42ZsrAK9FJt0yGdBahRN4D36/yvncb3hDzPI7u+82dEayv4jzSIDhcgL5nxLz+ugC3G0VpiJsvNsTqlXxVYwWItjJgSyoJP469RXuAAwJKhxoraRz25crwB65eavULQyea8gg/Or48l3jJ43hIquzGd9IAbhwj1m8eFMPmiXPJNcnvLRpE6dZs6nJMQRQPM3Wh7O8+AMaPPSUJ16j1SlHnmzIWiG4KEcAhS9lj7Alywytf5diRPuj8E5mHlqdzDpLIdU5O4wAkswbgtG+VZw+9lzzQ6aRIdLHnpp/VdhkMNXluc9qShadNYn0CgVA7vdYxpLvjM8gqul0wbdABJPsm0ExjFxj09Jm2F+bBi6qWrHfgNafg7xgpuKE6yfJcIl0oDqvrdEK1pzLemoqd2KzR9svOqykhQzaXCh3UjWAMB7TMMQ5KZCObwd8SFUJOsZ8L9fluFUTFbeXNOqCHAAVO8uw20Ioz9YrCWPUapwsR8ORJQk9oARx2kEq8xR6ok3pVQ83VmJ/99H7GqSyYcM8jyWlHh3Mi5InreGExJ99PFZksE3e85MEMGZ0X03NrdFXUTiV7knL94wwHHlAoVj6xGl3fxfbAF5ERURjITsLL6hZ/KMxWKe4lyfND0SisVFc+NkxLx/AWEqngoUpXIsof1hFXmMzelYBWOdVIhRemgwgPcQWsiJ0CWmcZhFpe9on90OrUEi6Ai4h+YGMGPJ/+6AE8gNdqaDMfIrKGbYTItzyr9eWrBV48BL4SJMk4tD6ccltrzm8p5XzGahfv91AiKcYv14Hp/cum1fYAEQpAOfkCq1DvQtVJUnipWhfTelPMXkjQBgdXQAV0Vlzbe7X7dySPcOEqCBT9SYDfjusVFwl5FCSuL2UOrBbINSOLSi6uC96OPtw2GuuI8llXvvFsZucGn6cpEuIwgApYy0yaXyRhJVzLXh0wTdHCaMH4gRbffSLSQpacEXoHfAUAVVcBH6uzbUpaaJgqnP+73Ae+WhUYxIAFU+EPRWlgnqSncQnfloHP+J0HTk1cMA8LjQxw561NK963X0ACoPftPBMH/92LPdNyuj5ms1rTAs4BGKYsaFbQ63bO8sQM6iPaWqznsZxr84gCDHC0UQxsxee8OMGPT//sHya2rt/GsMfmnpFMIMP54WAHjYBUKiJHYAIDZEn9EAE/m08YuwN/bMIx7Nblqwq3X6tSFxF5iPw1oU5VYB+4M8u2FJgDtpu+NzRFEZclXRgIi5Vdk9oiqA9A6wflE/RHXpPBGAu3jeD6vzMo0hfIDuQCupOtESZCum7BXksB04WPL6FhsaVuxDAIJCQi7kH3G3udLlY49vdV425zAELxkS8AF8XwQF9xOa5ZUAu1eP2nl8M4qYvMWNuDGxO5a5fJJVRJ/tBIQ864mcoFBOrkgcrBX02KIKAdaJdMMXbasZtwHqP4yDM+OccjgAd+FabwKOivGUpFPbSn1GKb+Q+jQ46iowNnmCh2ACX9S5GSkSfDPMWMCyTqac6fTqcp8nBvMwdjYeF5lJeOFYAbBrsCiKpJdT5GFPz0J1p4DggF6y1ZR2wzXD7Ny0TF01BLVrxPn63zw7qm1d1WoXs7dO4r8YNbVnl/DlaBSrokigwLQZzi0dzp9RFdptk18fKwEa3VL7/aTi5mpzoqhJnbT6HY4URCFuROU8rnjJGn+wqadIPp2+kEEjrLZff4beLJQ3/4rdj6L2Zcc8pBJH8w5/+FIUy+NkgMxIb3a3zsibPN620kxA+lxhVCX2YxLHyOMhSa5hTg+knlXhCkZ7tSzhvl5DSb5jVSLAj4sJ9QdQkN47CjjOpGvw+ivaFgBJe9T0M8vIa4wMRon2+lUNoA3eJnVt4afz3lbi09gpnBSTWbGYcVgOgaTBCSOzvFG+niQLAv1mxgBPIsLDWieL+I2owYbRl/dMtYXdGvkyKqJYDDj7+CGM+Z+fSXqNyjIV7QhvehqdfkQTUHmOl9phVI9mxjelNaMaw1/mcWMXiUwNLSu0Ejrc8Ye546JMt7vT/QCObDslUHXU2SMf2aYTz+TDQeJG9MtKrwu3DO/zz0PkyvvuwzCHJ//4rV5sHGby466iOwU8zt9WL6UhaLNLv4DfG1nj+tCWeuJboG6TTRg74iRHazIBYzKPJSy27x36o2Ah/7keaBSHkBFDrwPt3uIn4JSF8AQf2XG/bkT25noVK2xh2tJnAlnUtBa8d3azut1dqpqHgNAO0CG9m5a6i/xqlfKmQ8rm5ZjzdA9ruJAvq/N5nlBx27SW7V/DUVrEsEeFF/z3IA6fIFfacTpdB8ffCdvkNtQncldBZEhRvHBpnlS9giWcGLfuJVbpmZCfq9MQXmSnYMdadeBF2gUYr2KZvp0d3BBa3wrLZYk/tp1gAyywa723CZXeLk+xqJoeVx3HU3JVw+3SwqDUtedaje2j4CvFvn8gLC+W96a0Qz1Hr1BfpBS9Qeq8JuJbs1zYkBK/XrFiLj8FEXMCYovX3990h4Klng+ndUzNX6D28LW96WF6v0T2eqg1gSfCuuag7ToC3js56B2WcwKnBHrMPUxZA1bykUrSQquCD0EU1QXunXxix2et4Bdg8frTAV6+vzpqO3s+kUrRVA6QtipMI4w7sOarfzpeRkXdm3w/nzWbndxXSUL9oibYJ4GRXD19xwiIetbE79SbQ6Farl4k54+IGSR/kC9naII4ywQYwNYMGrnnjTmzhHjIyhW0LGuH4p2snDN0PGydEqdg4jzvDNhodCFL4WY3Ur5VEcOoeoLnlljqCtWG8Xvj2FVB+hv/BzcQg7qssnJfdbBRck/WigilEELh/AF8FM/7umf4B2BXmfEa9NcLN2JRaKBUIHU5I+SYtViUm9K2GkwMM7CSCUbK1D4MGgRalasTmp2RK5pTEw35VaLddVi7D07vlvjM+XeLnRch4OzfoAVq2KdpSN3CN7Ryl4lwLcj9rDkPqrll5jAWfll0rgNfOBZ3DgKuISBjyybi3wHvKDHAGJg0KcfvidAcYXrnqwBSQHOYrXYEIzpL0AUtKNEqhbUPIvYDJPXEQd7oHWYtyGlVR7UWACULkwVi1IWfmOz/5iRhRvWg7b01y/KD0NmARS22+dEaGOrkt7ii5F0QjFobrYuq4aWBKpIpxRFCGso/JEuNR00EmeP4H9K0JrnumY5kcY+NNWA030G//VQR9KGEjBUhNMkLoQqxmm4eooqKQ3XL5XAX7P2pT7PUXrgD/RG746QpDRcWjJGZFJy43GevUnq+RTeI/fQx/si0T1ZzTHnweVUyhGj6+hASvKh4qzcx1Pxp5lm+lsToRtJ1hsKuolCFoLJ2ENLtG9ZCEo8fKIcA3B11yWJ2IqX+oHyYuSDZjB9P5wvDaKmM0kHisR3F1hNK4k2FerxVgDObzOveZ8pGFk/ajFP2CXOvoW4Ipsy0EkLUAZQFcIWp2ZR3FWhyHI2g81dzJXqf3sVVsZlbWLSAbc3a19/8DT2Q+MMfPcXYQUDeryG4AHl/2OoAXIalYw370YVg1VJ/8EKM8skmHrLndLmXutfm/H1IEe6k7t6ETFDyT3JNgkHIEmgDs82joAWwomCwPl39FJsFLkAoKYG3sSoLrQgMh5SUvRoBeMWzCkZ2dwKOK0L7w3OkPFC3QJ4DlVFg/UclI+M6SLOpsJLDoX4KITw34fd5za8E70X7iIwJ1OACQPV0BKRBhjiJVC0vNQRReHkG+YbJ0TkbOE4b6WSzjElA2bKD3noM1ZZjM1asKFU74scK4s+KrfoRc4yS4uW2wmJJwav0TEE41vJ9WpJKH1dfVbSAM/Sywouez5ixho152Oh63cXS9aNrNfN1gNQVruLvCT3ciffgEcx79jCMt20PLVqVJL4u9IB02k6UsbJqG0R039LZeYRMucwKgxQb0G2ufkvGjYxU1+WAxwqDf9KQ2ikJjbyTpCIip2CpyGaNuGzrKmz+lo/88/EcxD5I1jrd79XLPes+0IZjyFvTwzadTP5y44e0M3myK2ei3Gp3+Ne1kVcEtJ9+dgWZdHTEhUg2wHQr8tsHxTzYW30qKmrTvOp0fI6oh38S3LNXXsZ7fnr6+5W9HGLonIm4AVGazBoEPT/8TufxCF77ARdcsINIkaJPFzNUQnYz6D7OC2fatqN4+nEw4mTOM/9ywj3S1a+09/Mi1h1MYG+dP2xhcaToJKY8XEdQmlQ3KQ1VT94JjFtlF0iomR4uKlN+tKL4D9kaRE2nWXJO7tsqYIKZum5Ugm/RHvwVG7Gxy/W7Re4PqCFnTOUTW/9IPqDAbEJPIrVMwswSgU9JgePHUhSNQQFNV/hhVxWl8fbQDU2yTZisJqW06Y6PZAisqRchRJcd52lOGr1UaQ/XDREXkCFkRE8fUsz0M8faLgJpesUSRxaZAWaemQq1R92NjrJsZ/j1RRPz/95vH73d1FH6heX1CovhTMB7miyelTjzjXFK30rSvhWJeNGUyy+dyBI5kkUyYHwwpPeB5p92PPElKHaisDFIcBxgVkNG0kphepNGCTk9qAF9Rxp8/+XGJFurjyATZLfisPMr/Kx0VHBRugnBksYmZx/CQXAb9YDh7GuaYvvtSFBflR7NRuigwzqx5GMiWXizHsSC9mZMABnFb3HWuTuFZdfUeNThajEM5PyeAOTaSirfeM1AR2AU9Djj4Oz0gz/wijpMv9CukxkPc4TxA4JsNYg9WgL8cddCKHWV8WM14QDt0IFHXDGEX0QrPfgNOECSxymGbUEnrjlE/+jrvfsfPZOZeN0I6+hxOeWpucghzZG9ptKomE6+zs4noDAgBD24xlE8xfnwozibMdxdpx5h2JX04yz7HChjallkFs197IH4cgcutvO6sN3we3xdhMgsac5E93p9EuZfgTJP+RBJjQAQ3s4gMgxGbBDe0qtf2iW1lRj6h6XQ3OLdjMz8x5rFlN/FkZXECSEs6JagsyzEesz+vE8IBPDCMVQyumWHCf72qnoq/TZw0i18xKC/fQ2Qfh2libvdvZmOdIfvQaEoFGqVoudJouMRDqBkJTGkL7xj7D5YzTyrklpQ1z5I8Sk12PhchdA5jhsm05tGpD9WT2koDwSEU1CmrBUo3HAfZqROHydwU9Fix6O0kITKBy333vsULOL8rl0KZQZf5sIiv4Dz4idP4AF5l1/ao3ctpK/cSFQkoHBoG3/PCHesxNMG6KKCJsBorXuLCGeF0/2uwni3teTZOeJblVtlK7GHJnZUHEy6xZ60SmofMYg3eohmp+ADbcPMNUXvBAfGpqQARq3/9eNe1oQLPALzCvLzU8EBtpFJw+qkQZhauXaAZnAawowGPm0QRvW2X1et0qUXF7aHRJfAABnlUJxU766K9VhnEf23RHSwSdG4iIhHPSQYVZdKHQVLpHV1E8q5M9RqJJ7mj9iT6eiltOy5p0B7GIbWDhQqGHRA6bmvrQrLGhyAzsEtaGnI8NueTfJtyavOiudj0QCpErD3gtIbpMihtj7q3mJpPblk/hC9zY8Ank4N8KigfIChnNpFjrMmsqGZMRSPakAvvFUDzrbKOcW6YJ7pyIsg+f2xMvZ3jyU8kitZ4ihKp+fbA4ZfbkikR6Xc5zuhNwGGDDE9qaEks0HMBCAHxnnkWUbLMhqf+QVOBzzOBWj54+d15q5M+3U3IS0B4D/G0ckvARr8mlQ2CE+1NMH/JBcE41ISrRNV3+iNy3ulJZViLw64GvlCEAl2CffBOABj0EzyT/mW37Vxry+PZgAPcSPW9hl7uTPMWJInTslheIKXDbUyDrxk2okcyzYj9KjasRPi+KSkOe3t37mXNbjWQ1Dl5QwAAAA5U0jE34+3UrC8mKuBbtsGkJOZp5VBQ1BW00QTbqyrWpyjQS4rbuxlWOkYdSgRNG9WNx6xp3ysAyvTBPmw10kHn5XwGdD2+QOLa6OOsrSPKdSiRMvQ3WBVJuxrPDy3fCzN1w55MsViKDQaDeyrDhwrtCXpeXMaZa9QlxINQpfvs2+x8RCMYR2B31e2Sk90F9n25DQjpfGsv4qrMpgJVGnkRTNypNHdZZrONBEc3hDJsHBNLGj6yGbap22KfoHWL+UZSY2ZnR+QVOm6psIEkqPqCQUPWQ9Jb/ch/PEGFVoN2urTzkPK265hsd5xNrTgy6Hkcd8tULXYyt23DjUHqBOyqJaLrCxz2BqlrzurWEhuqujX9PEA/6Kc1JhqU1nr+junTXJsnEP2UfbMzGIWExhjkzM7e2mjwCmKTtKThM+7LwmkVX7A6PmIUbdksg7+YDO6PFZODPhDoMpz2uLdGVRxSqUl6k5FgVv55mzOD7rUtZy9ougayqBvn/5aFd7WIybeqs8/vXgPUKDMMCu9Ih7U4qJ4x0RAh5hxm4tMhmhgE8rjXtJp3QHHlIE5lHmNMXStrJZeLNqd1M6AcNCrIczN7npI84yPxgCOcv1fWXZJPAGNnu+Wr784rqmJyhzWCMsxNnw1FjsK4uK2DxgtPFzHE17zVSrq2b1JHGefucvVlfyBdRSxJbtj8QqTxN/83bztOyPvAFh+2iDcmzjiFGT5Fzeb1r0uB/WDYrVcpSqCcXyYS+vLFlBQTbk9fQ98eRtPjthE435jiWNOVwUypYf0JkwJ43ANxicquQowtHACEJrl2rsdYVl5BmjNyJR94NhvevUTrpPz3LpwfeQ9EZDr0pjVNaqlc2LcdGUxCNF/XL26Ax0kSOWsXDZMcCkl9KWKI5rbkA73qDKsnaInICSBk0CeQ5M3qhJZxiPJv7aqsgwK4NTxwPvF4z1l0c1WwhP+0qOvfE+dgLl9WcEig6mB4b9FO+W5yxYPLexj0a3z+ifY7oOUmEaKuMds6UCV9FLfcJetbc24JA7wkoLAgbmCZR2V5MTF++ABcGEEFpgXnn80/fCoo6TuRjG632pnVP4A8VCmojs2gO0q1txYl42HfXYWkVgNzOrBXjGMw9FrRbCaj9b6l6qp5squsJ8mf97WIzueiY0U8ouvy07gKVSGe8tmEKkZs9QiQUOGbbZLaOj6VxTctrRCZUYFlwkKrX8bhZX7GDNst6ZO+dSLyKPiApd7q/9y50moaSl59HOZoq/vcsUw7KyUOatCNiCmw43Ts71PQn51wDPU+BpgaqCCF9iIvfp6SBKYOrUIfENVYGKE2gyIrjk+Vt2cH6mnlkAGvfOuEVr5R5cRSzdz43YvYOqNxwHCmx1aY6mWzuqZRAeQFW/BuycJ0LyCQG9syRpEMOhf9hoghfqtHTn5ttyfG2Hst/q3r0FXHlUQp+DUIuWSu0Sk7sKN5DuSGN1ybcOiExbUh0iEyUtkJP5IJlMOe09shta7ob6w3yRVHmy3oVrau40LIt+uFQs1Q5rGN/uA1wHZXWQohcQ1ikqXqVKjeKSTWgmIJJjImqvZmxBNN8TVB26WMllwdlusxKZW9pLUDapfYCBWTxhCYE6a5XTrM9qRXA0IEyhZiVKd7JqhWuwyIcthEawLH5DGqHqbTROKyJPwELgi9P9iP22moOFPTbJ1fBqn6tXkppFS+q/0Vat2ILqWUsD4ahFDUa+WqVyrybTISx1id5Y8w3gLPk/KHXHNuXmJcgGD2qr+9nemV1QOfWZzpA1pbNFEnyH4c8I20x/KV6Mg37Mqc97wEIQJ6v26vpdz/K/k1U+rHF2+CR087OTvcMjCKfJZO7+YhQMzw7NnZj0tGBzeB5SsQRbeRdaeBO7ylIJL95bPXZWpAFnzWzDSUII0XAaAok++2OGqpk9kJMf0kBGonrt5cUuzNtFxMxjM/bErWPP8ufTyDJtqpz8GgdXCof8NtXp0zF37NnwYKQgES/gMNUxgiK1cHS+j1rXkg3/ZQ0nZOYVLJ2zVaFt4Vawtgm+RwLEJZepIRTXgUASoHNVxh6ZBz352YogpU9tc5Ffuai6x8cExyubdcpM1oT8cvdrKTlvYHcuam30R4eOBDMKzv2aNRtlVcNQZHr9OYFKCEjB34n7yN24OxYxvOk6uOb5fGONOhdIhUk/wVUFD+oKbXlrUodB0gZ9NdYNCLkM8nuEBgS5kB9G6qtFB1q/Ig2vsBKkw/z7KBJ7D9JCqjhLfALs/yg7vPpGwpc/ktyfiFhhk30Wzg68UK4usM0PFe4Qw4oqjfkkedKHGBlKbQz3mseUEHLymrfajaX22PJHaugiYT1eN4Jd5fqEqBGlwTjMsEo+/7LDfLkGdn9uKf/7C2JNdt14ayEzqU93RBAXQHjKS5fp0dqWeirfL/F90vK0c+81EZUn3IXuYdhcI9ozN0nApwBHi4RLbEFnicDq2j/uDUtl3Wnii1u+DDA+2pSVSbkXnuchmdKyAG4bLbmJfWFtI9oNl1Q+rAfytT+/IzwTc8gRBADD/5Jo3TPL8K7vA3M+CHPDWhjUFqyl+vdP8RQ8QWWJkBfqLkyP+utiWdnVWdZMCBx9EdfxPO/9equZ6b0aw0UEgpys8lbXs78Pz0ckJXaQBW2rMVfqdYgvHCghcBLEkDRuZ7HHJjiuLQKGLQOoWeeM8gRNyEomcYYiY4gxoTddszLYzHLKAOF0i6o7kt2dBeUBZXeJl8dJuaZ7tHGADmH3ArWHG2Z8gaVFAgJLX0RJbSzZe6SRKWOwB1Cb+dr7ScW9dU7BKKSYjHPNjJDcSRnt4mN5wHO9PXB6chrVaNxYWddQkRGHuNq8jHcn6YUR1mfom0d0adUyNsDZoJznc+p51H8tHPZGskV15tcVG5SrM+ff0pQM2rt4aO1fN9o69Ny82e8ooZ1q9D73w9DNZ4ftJcYAFSnxg4IHeV2MbadUkf1g/tp2zATa1ZtewO8YWRRVD5NDA5hPRsStFt8kJOS+BYBw/2mdnuRBuEFAShCTOncGPh07KHbkXVpbaMOOrpdOEdK4D5GyHTjU2yxo2sO9BDXojHD7XcjBX+Yswo9Y6V9d6yvfILyqgPtS8JbX1g2Uq8j1DJHIx27AszIxX8npx4EYD0YXjkPbBfJcH3h14TeCFaAYzQYzVdzwRFFtJWD6RbGYZpI+ViwkjzB2L1ikvvMeu8sacIS8yRpYXHwpEWWcGyqEOvXfU+P6RRQLcSYUrZ+KfSqIcY76FBkzW/ZIMv3SaR9eya4aznwnphAw3tWQvpV9RJ033lY8M0OoYx11nEsM6Kf73DxADRe3kxCCyLdeoQpI1756qMGZoPm12TKlJqqCIdYaO7pzwbD6r598yPOcs9ACtHnYPj/kb/wzvLJuRpojR04ngAV3EB3lhf+QrZ1Ls+LpChFFAD2iqKkPLgdLtybMMsONsjxL3o/UvNgg2epjhimAER517hfgFZpHusCBiqM73zRgaOHYlIQq0TygdLe+sKJbuCeqx62VmWumPzWPgzL7mPn0ZBppeAsof3mGo8E9K4yWGdIEJx+ECPmcsI7fJ4CphmwUSy1s4eUbNHsqk8MtCww/VXhfofF6Q/uUFO1L5Oh6coKIlJJFThUIu4SrwOegWqCEl49fFLx5pRbXXPLtBeNkL0e9qOtnSEsUIDQ1I5zp+9TFUnpOh3/J0C+dI9UAj6RoZVZbaG083sGM4A1hGfRA46QSREv2BTP6U3GtQ9QhtWGgQGd6dnJ1KkVetIBvQsnwl0/HtDmEgMXxZq59o2oXjTrR+LH7le1QBVyKGI7CKPN7Y5z+JtXN7A+aZXF1kAU+eyZCKd2EoiumAK2Y9NBW4x54vV0NxNTYosfgLRltFUO5s093ISZPDOsJHY9+bwn+MKhrwCIA1rJUJ9q7vCqVQXoxAwJ0qQbkrmsBd2nr6MAwALs8O2tMgfzXwfeDbYDuGK+AlVg+2KI+HOGCFnPTCZ40Z9Mh6Z62w3fJ75jkrOc1wF41TSwODiNtOgXHKr5YV60RZXII8wpfy/yEXDrbrVRQEF0FuzKpBHE8vBGDznGhHamiSqf4YyAs/AetGrHz9WZnbkpCvgOOAqQAupGEer7u9206YhyG/zOovWCkRjg8uUwBKoEad+8EXpBEQcpYvgeTqt25v7zKd1FFCtLyqf+sOQmkA+s5L3NhL0H8FGlTcn1aTAoxZvgo563OpwdiAoag8obMeyLuVoDMA2it7O/HAe735q3fp8Xgm0Sf24btDv7zTRvKQb2htF2bU1itKNlQNt+QBHELTWuoby3/rlz86e/q7IsjRpt7wP5TTo2YdnqCDwZ1GLDUvPddKYAo+4h2iaG6yY/VBMarwa1qH0n7etss2WGBra2GKmZhBp76By+J2KLhzEK5AkjlFt0hy8Z2ur9V42PUOaNI+3AktykMqBInoOYXLY3tkHx40YShXSEalRXQP+H9NPv8tQ5UoBQlaRpL/KHjCuAJvP1IXjhaiJ3btSDIhncvmCekFViOtWcxgrRcrRX8ulfIyr7yDy4ZCw1tMJqwi/RJ4LKWK7m79uWbEgKDIVGVSes/+bn8QNhu/G2tkLHpJkQwoSnbSZ3pff5VpddzQ9eOjx5wQMimpx9AcPFDcp4hPsxm2BWlNIfY19RgNt4OZ7zw5OGuD0h4o8k7ie/CHy6s8NEpcSRHH3eHWJzhNulD1HQwF/ZmmrdS23Cs9Enr9jAYspqyt/b8WjPpRRznRuVu89oP1l1EBo5iFZjMeOpJA/OamQjKORrzxDaM/nzQ1indwG/TeBYVYW9CcBlgbY6oZ9sXh4c4L7cVNHhmvCRs9Xnb5tJM+eSCNqMuUMP+LuJ4hi84tWciMuJccjfmvEyjYiF/ocS4yFhGo48+HQDsj20Q1ubID9XRSVQkznmfLL9pMGM8W0ihqh2iq29P7WEXJSkpz7nh/qMJ8dxQADo645BnbX7t6VmbD+7BeRHOgX6HvWIP+yPytRDLvXcIsoRg0nKyonDmNyd8wL5F7W71cXhssa6GOkGZX++4py5tsN24A+b09SmU7OtHlW1ukAPS/fK6J0gbQyByJPZHdwpE0tm7K5IJRru3i5iAMoriVVQGInSxhZfTDtsrux+4LUmsuldqw0gNtDN/iZ8jh5zRn1GtyABhN2S6BisvYvZvOQ8bHrHDEh0NpXSTNDRfSvDJSSE3o+wSKhGdNDpRU3bFCktIOfZ8l4S9lYfgmuHarnIX8kJa5Fh9ebHYanrfJkf0m615iiSTijf/t4GFxZAXFjUww3/LWsZDs0HWZ1o47zTlcmYrUTa1+3V3gre/q5IVFq2AGjb+/RLlINU2bPbl1CwWkMmbtQFV6oJBZCAwS2LhAPFgKuh2TTie35nLBZXa2nr39PKxuDWEw6cR1FwUHy+BL3VW9pK89Z3JgGbbkFwYjPf8awsZJm22ao3mQk8+rQ2RXngAwpU12UC3yCYE6lUbkFtqqILRLoxtcqGM46ojlCMrlV8ZgW4ZmR8NU39oXMpx/0SGbuWTHV4oiwLUFRMIJx04dizFIk0RbFNHm2gAHTaK8SqyKB01mQSIW9vFMVYNVlUJbpU57SshF/5IfQrg+DUMvqcYbFKyURBE58PjXQGnv3nBQKz8me+d+4Brk13bgum6t15ROVqv4xBLmdL7ioAscDwzrpanh8hcS/9ueR4ccRgb61QShS0aHa5Pcju9ixjVqVoo7s6dMMMnXfWYqi21hWQqpoDsEH+MHlh5i9/pXvtAEZs0NQdu75tvDNgDjh0VG42ZX3imKIrf87HLMxI8gZ05EpculTkT/xLf+Q7Sz6WHTkSOEompf9ta8dd9QGH7UJgQs/F7M+S21j3Ok5tTgIV+tWcr1w/lHMJw5661tYPDc+KFfiLwuyaFPpV1uGWVRBmCySecS2arkd8rvoXtRzenZ54+e3id4UyPnnUoDhTlACUnyA1wzWd/yriufq2/7G+eE9KVQeyqkph86q+3+8TzhiuZVGZVQCYMaRSczrttQP+6q9yd3NhXx5OzqcKX/PAnY6ZDm9gR4pejonUPRkz4h7EUGUwLJZnWJzp0BUGO4+Upq4+S8xzOanc4qCveXL6Hu8fGrWc76VZ/0RhG4AJuw9nRFIdtDMSV+k97MhTdjyX7thGkx2INdO/fkyCHzbLdHQnrMrCuwCWFwiPG/36y299m35a1ksVtKRc8+5vuFzbAgwame3MFuKcBB1oJFT3Pvp0Ycejylql4tIb/LlpMVEjQFPr1OGFQAXj0LW6GpVm6iqAlbehgfJRv1SIoLqtOXfYgqKg7wGTz+paWZZ+YTHvpTht0z0cjKe8vk3OV+9HQZVCPW9YONJq+tMhqX/XnRh9G07W7YQk01zeb8uz2jQmqJ3i/b7ifFjlVqF8p+ewG75Fbl/NJyW/Bjn4qduOQ32yRmHulBduGlUan1v2N+oGiukv+w7ueC30o8BtQi8eH16V4QQlKKDK0wz6nupBlclHXzXYmpCQlVjIWBedym8uxgabrM7ym3zFnwBEgANkADJ6fuFoyC5OQpTsf8eGR47YgZhnl5qqzOrCF1WIYd31cEtsL0pMvbZq4mDO5Hab/duWOu3s+USnbe93zy0wsCUq/cL9AYPzERDAL59aNRSasXQ3AOlhasBNft3ylHZ4WIcH4LQV1piqNEZuJBV/y50TL6WKe9rRotkvClmL3L6BQMn34UuMB4QLYBDTOskk3vSnnk8PB+yphcnv1f6cMWhEbySafz2/GOVRz8VHattE7139oiot9pPjLt0ymJCNMN2QEQefhH+S8Q4kpa74TrC/LyaiKyQ4p6zEk9e9LB4ZaxEoDvlchOwahDtZnnKsDBLGrP9EBmqtvCE/9oKZ44echRX+rtnF4nMSyy3j7CpO1rbqcNWfO7wdhFw/dtFapkGfzjBU3HmkG6WriYlfOaakexQQ15RW2B6aZ8IzjjUvB/9AQFcT4QLPnGyvPOTlsMG/VvXH3pWlUwz0WaQCPS7B5RR5LnRAj4tP905YSqf52rthoYZKBARuMo4iVxWfIYoKDyfVhGDdDeNgxZO1xKylAw7C30LiqvHJqINE2wAIYE5GuMuplDBD3vL5+3Ovvxe97wGQLhsjcbQHRct5OG645MKEF3pFEFE/MYOQuEVzyWMTbj8VUP6d3vNmhsr1Dw2gltO8LcM8YOWO2W426HKv+yUDr9IzLzy1NLsZy7gx1D2ZJ5egjR/sJHLTtVuAXWIQw5vazZHgusnGV0bOiQKnl2e4iB6h/pYd+ifQV46YsVhYVtI55T9txsdGw8JTOk7PEuYk9d25+UbW5RmDRCcrZ8xuhKH6NWf7IKivpA7zdntamy81wBeVrwma7gvs4YHNMGOOTBolfD1jSbJazzfZOqVmtXvHux0DgZJKx7WjoIzaoqZydXJBJFX/q2SDRkerji6xczMFGH6YM89/7kdBAT+g17mb6zgJlldQlsP1cI7SpP1iVahcCS4STHvP0s5eEkl+dnSs0JA9rnuPhJ4Im0QICxbVEOEj8qhKsESc4PLSi/kzY/vnUqI/pcS7p9UT1j5UUDEJ9E9+PqXp9lChLdxf2hqTM1rQH5sHjex4j+PpVmnXl/pseHP4EKf/yPLpI9J0nveQiWyn9LbLreo7clh4+7lvPpMD9A1rj/GNi7c7s67L1RVVYFWYN3ZAIZPgdQfPydh9tDMfrJOR81C/4rHBTmk8KQ9TNKO+y1YVFenbRr4JzryMgkyMN366250YYrIKmykJ6Ch3m2vl2fBUXw18n3T6lFmjiCzuJ+V4YbKI++hbxRUp9BwyJnZ+j//uXeZrUkZNzSNPXQXBdRXRuUzHuyeeycC6+0tmMMh+EodC1/hu7NbNFsU4ikPlLx4NCNC0V6xXodIf6C4RYLr9jfPIxCv2jfPL0RtXRsd6Qs1yxfXkppQ4CReUPNMFUKE2mMANCWv6udaIbXQFxZNp//rpWb+PGFnCbiIudf6Y6gKiMu9HS58Vs06c8DlEmp74Nv+tnkvTZEY3Cf/o2CE1cXs/RNDrABXVMNXKZle74HsZM80r7NNSAYLMI+Yz9b+YyxdzQ+jbKGF+Mo6v8SIWm/ikfo+qROTuRyNdZC8H84Q+aNEWdndN1owG9p1VFVXtxPLvqTArfwrwf7tttnCdU0osjpaNniEZq+FzAdosp3IzvLHGYrXmzFNL0mBz4hEhYHw/QmeJAMW8gRONBgCvqCotXDCrGQmYh1cC2pqjPCMCxvGaw24iQSkE2TQ6Z4m9Q8RgW5kXm1HRZ+SMNo0ERWQqYBOfJup5EkqpCMgRSmWY8Ly8C4cYw3NLKkT44lutv+RiLauIFY+P5EpMdUKhbHOMw9XDN1Q8aNUHmZ1U8/sw5d9BYfvMd/LfHoC5hQ9tXve0QMTfPqUs3HfjX4VjGLabi4FzYk+myZjvsY1wrLY5HRAI+B1dpPcGIGjLRpUOdk27NOxt1/2y1PgzXt6CycZncufwa1FvI3NfJrD6NEKvQfvCv67iyMTYC3SbhBwyTO3yMqz4hTrqe8wAeVQRtLmd0ood66ak6ozIvPfzZDGSKkjGUPqEvHQNpdUH//5LrypeRMyT5XsTWsdXqz0MpXUVUL3E+c+PE+arAkirAX9C51w9z2A8eRTrgtLgTc5soo0OM9JUV+TMGSineQmROBSGnscZ0/nImyavcj7lUrH8gyg8NAWnY9wMwpX0dyFhnefBLw12gsT/Mobpfk3gVqcFWieR+0UwfYvYB+9iVnJ7D+G7PSjtA76CQ4R6R1D+o6KCTF3U7s+3jwJQziVXctOgKx2L7liLfAhl8PnQTfpTBthH9XZEEsvTNS1huSkVhvADRVEcpWk4Bp/tcb0oY7KJ7Ye487Or8E+HET4uQaFThZpVutyx/+Pe7rluHWjQLvPi2avnvHhsJp6HAovWNpooAROJEn1jUrv0d/+24fATbjtR+PePx/4K6nsGSAMlzFP2tjQZuJRv22RnIIOyO8M3Q6Eluu7zAPNwZvDLVZ3lvi5ZsEuWgraWxMemHrmGkJXw6feJ1Pi4mK/jhThfopIh831l8tNUQOZFvmkQm77xqI8I4oxaAVTE57FVITChSiXgWjAFHWK46+eDe9kDn6zb/jJvNEv2N6sD5tuFK4q3QRcGA3lMDc7yTygV3C4Lml+poSCR/P5cObzv5JQsBpfIklHKmFPhWMuezSqqL+bZZqPWgJkKJSOXSvvlNdlHBRTAyuvnJ1wW8l6TVexq2WX09EkxlnP4AyjCViRZYLXH+kkcNpM5rlQIE2Y2Fx0nvkC1qMFZj7lfAzqVrSE0dduoX6hCcy/SgoQGsMrzAs8esaJedoBroCRYvM+d+/dUYvvCdJ336gI2yLd5j3SXrtqkG2MgHmppgV3cftNWRJhr2kxFsBAQhn9xGxtn62H298h6CgEKHEAquscpCy3JM6sw34r+4xFdIipC0X85lfAcjFqphDa9KuUTe6DOVYqWQGtMCMwJWCtFUQ9ZOg9mhzyfptSUj2ciGTp3ZtRGfcv/vpTVs1JVE/VgkmP5FTRutLxIzCmfZYXUmKLKcxkST09ArkBbGfimgLFuEq/DEgTZkCHmnk9r6c730HFww7bGrU3n0mzu+LA5cwmNlJ/TqFlJKwFWon8oFaj8+fDNVUUem8oCYpoSO4tJC8l/w9ouv35G3tSJVDnmY3Cz7bPWOq81rjanC9umL37a/hx2a4p4eYGZeFPruzgBJvz5KC4RPpfxkbtBzudtWwc9F2YdMH9bI4DEmtnIHsJSt/abuwMIeiehI4hh2STzXrcsCkAPn0V9+agsuS9ujpf0wF+Vsj+IM0jA2R+Y7qtrLxApWjhitkk0vvHO+ZOVLmAeixxqv9WVmX8CJfjInX1y2b6dMRTGdQN7kSMSGPEhrQ60iNrjy6Wlgrzj5c9AOXoLRTNyfwQ4NtKPcG2DDxvG6g9AM9rxALXQIoOFMEmxoVmUxe3FxDWw9dzD/9h9bhfmw4UUmFyCuvKKq70PEgAk2ABW/MeK45InZxVA2x4FMi4P4m4i24+L/o36VVag6bq7GDf8P+69DTuT9QoVD8fI1RUlQIj2eKnRFw6skCeec42+Pup/zE09qnGAeRUigSOPwAyAceb/yA5JG4PnKWyrDg4Sy0SQheqkXana9Ib0zuE5Ur0ahTlyEULyQyDJCbRr7St+toFItBQwj+CSjdIMAKQJYR4/xw28qsYXE0WcDqOPz0UPeNXE5g9e/J73HIJ8DC5GaGSr58P8Sm8QMsSWIS93VBsXB2JIVVRFYatR5T3sQyDYG6OMrPcA+l1hNrkNc6gaLOgWwtGm6bNWqE01TYSxo40nl+GO7QDHoQHojtxx2E6v5QKrJw4vqHoUc8dtQtSO2bBDU+pAHFOFpTgPKR98kGQuNMroF21MOQJGFsha9ECerJiRuRJH+pwjbEpf583CZCx8uGh5l8REuCRlOZh2yxDY8yt3RO44e1jjD4LJbEqa1KqEL22nW2NfPo6TF9reFwOFeV4fvn4SlrNWd2JS4RyHBYjp2gs3PiVl0Xs7Rjh7idPVFUBXgUkZ6apGFtulsGQLnpfotDr2FJBMbr1HF06SblgwF34jazhsOmU0S0VqQKnCjRUIfdj+55iw5E0rAGbiCdF5VHXF2u6yBGR4Tz3VQCkc6EO9yAIlEGKqDJwokcy2zNP601/lLGh6E9HxY0ckKh7F5hS2aj8ZLPCEO2Nocs+4CB7JjAWZdAw5mePijBhIW3k0nloiBKpWQzybxOYoSDc9eASzz3+Hs0Qb5CeQAhaK4lqCB00rLEn+9Wo6tSUzNrxX098QR5bSGF0vptUszANGWjtxOS30BxKZtry3HVZXvWimic4StfmNOL9/l6h83edSYCAQLxENFnQ9TCdglinzdK29FJ5zpHu1g1bnILIGjEYRJ+rH+BtMBsAfypijRGNwAPDCP/mERdUnK96ernu6NdC446VxNCQ+i6cH1qy5sgM3GLamZG2788o1IBhV9o4kn8I+cGaSOcCMvqyQv95hcoRlZxH++ZuV3YvkMAbf8i/EnxxMDUBC8705lDrmEI8/mbB/3bDYeKOYXJd/GSprgHn6XV0KrFkfWxrNyVgR4D72FamUNb13zWmaZpF4awKSk3fODktFPnWqyE9Kght1x4/FT1rkzKur8ALsPMIhBHFBdzk3cGzlwS7S8w7M7FxQlC9S7d/EoM+8i4leoPlHJEu4VRzvZLwKXkllV6koTaAFGhttAUDm5ILY/LuvMGHHh+dWE4myG3Guel8kKhR4gr+V+a7JqsSPaMV8/71VxlbeLWBUOMB4gjsFu5VNvLtedHU4FmsZmOhtGd0PSBSsZbwa7p4LqHOd2WBb+bPqZBbyxlqrNlU0ZhI1wyGFUKrU91hXc2y1/86pgW3iuojfesB0kFz/QpJQu0z5MKKZphSXLXApXfbqQDeG1ujE4k0JAEgF6cybldZDWBjLiPPOBQT0zHaBRtrPUMCbB69wzZCHTDFtNaUxjAqVdSYPmaEC7HALFqLPv51jHlX4GDfggpDdJveoeWO+yOMe8bsTA0h2AWPj0HkCH3nNrYwDasnVxi7BveW6eRDBthNjJi2TtTjNB8i3MiqX1X/4l0efbQ+Id+LD3f3f0Pcmowy7OuhXGAmuoHCUiUS1eBlV2McIYOLLDX936hYLD92xy8SH2cy7fUVx0dUNq+FHrd3PBV63wp2WOndGXt4ag10VSioKE/ZwK7UrFT7FhY684uAs51IAvdHeom+HdQACBc/9J7HgfXfs+YkUP6SNHeuQ7rKGU5k7YNa16B9X7ZsNr2NfI1Y+GkdbelJeINtor56g279B+L81lKzuykAPJFE6ai4cI8w5exuY8V8DF0eZ37kqam/i6HBwSCt+RnaTAgXgxXZHc0gYnsE+hOFOup+juBdAysb5+rLMOC37apUfB3fnPP8NMnP1L9jxiS+d20EMS5C/htK11f7thrIfTk+Sjz28rDh/6AG0rrqL28Atu+wChGW0Pghjlyf9dr9FVofvEmzBTG/DweckIZ+3IehwCnGF6NkSmKNysp765calyYcqpCVqOKKgEeg241vnVPh4KkPAiyjMLz8rlIL0H6ECkFnH95HxNfBoo0U+06bB8TGBDem2ky9PwVYu843GGcRmOjrf2DyWcbH+jj7Mlb4JFmoPKr4b6Hb5X74N9/uA55oAvFCx66zjb6gEf2AB2fk5tAL10apCh6tuv11/CHEH3gVaIvQpIvkMrLS3EjWCsV5qE875OZiM9xKergAJq8qoGtj6Yn5mVbMu2m1ri17zZSPpjPCrkfz0yxZY6q1rfvar1CNf/byLzhTKNZ73sOXlpZB143npfzTXb7xY8gMs1bK8lui5d1FCsQnLdaJtyZoh1AwaukXkk2zo67hy3ZXkZ5aUuHjw1GxQCQ6bbO3jRbx9nlp+GGmxnmRqlqth6Pk1n/qx2MMxNOBoGkvhvUGw//aR5jIMENcnPhPWsYRpaCd3HlveUwGOFvx4sRDuQG8Y4hb/RKywwkZX8oIHb1W4iV/2Gms3HNeFRaf3/dS2F+a5p7VQ9lBgv1AN87m8C/DQyvPdm0+AHcMZBfwXhhp/rl+FhtyaACPCacYAl4JThxCwSdzB729ZytZTjx4dabcq3txrtzTKJh1z5QN2WxTy/f0asSKg8NOToS3T6ssnqQOOb4Hi120sCjZrx/mELVEkxKmWG940Oa0FU82wE8wsL7CP9r/nEiNlXxBLnVyslUi6O8wPPOUxQRwj9DKYGeWR4plb6DaMem/WJNfFRTjudr+GAl1A/r0kGNL/Z68iHl6rCkEs/3eaJcGL37+0YrgZRPUv3/Ws9p+ViLBCDJGYF2nlo0Y0LNmA+MnJFlJnHR6P+wpK1Lysj+y3nN4fPyB8K9CpCczvSk2OmeH4HEGkTmm8aJvIACwDnNrHJiKpP3/rVrDrq/sOgymO2SAB9ZxFGEemOhYqRv/TkBSSH5IXtP5tE91EijBn2RddzSuTkRVAqd1kRjwONn10rv4qhtydCxDC/uunsPAez31jzAX8bVTkKARX4aGO2oTwchDJATR+zQr+jTNEhfoO+oYeNrUZDV8mMi61xPbgtBjtiWGLd9N5kpjk9z9+wKG5oAOlK6KWbcFq9hWuB83jCPaKhOgKv43HVtHGtZXV+iTfNnjv6YgFyiKGOU01ZKY3C2SjAtOoLyxZfJca1+hQSJjgVczOsMR8qEBOKoYWujC/78catc+J5bpJ25k50gNexA7QtakLmG/b8wHqzYa7+oGi5/U1zDWo2XaPgRwDhBzGF5AhhIJHPEbIkan4LLTk+b0LOIfRa5gVPYiJ9giyRi+e14pH9npDsCiRs5i/Rh98rLyDndNBwo0YLkvaxZwGwN6Dgn3HP4C69gWQnmaOvtVYgB7XhQbgykH63LuuR4DCZdJ44ctdEC5/Xvtaj8pUX8uCFjhQCfw27Y5PP4msu6dBrlJ6sktkOh/6HpkOowzsEhygcBWqlesCFobUN3ppmQbOrt8SGIy7bbUNaRCZaxkLlitHdIjwQgm66eP8c3CD9lyiSt0oxUIuVj165ljE5OpSf/Zxb1fpiIzugFqD8tXxpxq/K1+BSgEzxaJmlUQ14ui4D2KD4LWE65CQA9G/sM7AWHrHClj/eEvc7oKkYyW753TDEtYBOXNQXsW+EBR7goG9T9Qv3rSD3DebzazzB9/PrMje2KgCJYDe7dNamWWbU/rfIPFH9JpiWxSjmSrybytpaP6+blS4QWYVFAJMNPuiys8++8cuF5n8FbpeWVOJy4P1TS4rXKNBsI1RKF6VE55zVsrnbWs61mXKSMjtOgb7GaIthAFoEELdlJCzk32+btn2g22IrUgcrquXX8k16xO0qBS0ppebVygzBMWJVwwqXDhVwvLT7qtEF+VssrImsdFE8mBOa8SpHShss43VCWSYlMI5ed04yJs/KNODeLtlfYBkPDSD6gAsKZD140BFE7/fGlzTZBF2ODvuZ4vdXAr9GMDIlBc3DJnBlSxh0D65q4EZ2oV8hiCXz2K4vmcXL816lCwrX5cwz5Y+NktaYNAf7HGVc68fSHa31NgMg7CdCV+p7EIkgiFYSNjdDRWPwBASYrAQG1jynNYN1O/2UCLUGLuRNR2ZHA/Pc3JNMy9qNfVXKy6eux5nuoK3ZBFjPCTU1MFWBJxrTUtVIlu/mcK9RNih8a8fexDKfEK9TuzZGrl4/5KiLQiUOxoQJVQ36PkN5PzcnVJOSdeUhRAF9zgyRj6wQtQ1WiQ8ardxZer9TqukZyb+C9QVBrIkNeVUiQDjMMzmDN07BaifHQ/3PcX8mszY3OBADHpNVfpjrp0bRLWnxc47aWxgVY1RSeBfvOLML7dj3uTo4J915Pzr+BzAw6Yv8clKqKE5GRcuVlaCd1Xsu1N4my8E6hWmYNt3pZCOAyVYh1jmbZqUqAqAG2zJ8rtoEUbupAYUeBw59T1Pr89pV52M89SzD7sjZkSApnMkd35Yn7wmPXY7DOHjkvmdZDb1s94M26lg8A5ilPzc0EyRwPmbtT86cdRb4qYx10QoPGLkNyaKGv4nMYEWKDQvusvAJ2KETLU6nvZRVjY0l2mEH87RfiuaQwb9bw8BHFPn64dvd+xJIAlXclyEXiUgFNEgjwMUC21kecEsUz5IBWaRbbHiDy4f2D4xWQ7AuPdFtuUnQp9hX9NRq0nkyYaRd7Z0khBeoc/xPvk7/A75JyhEoFRdCJ/TZueXXHnEzz65pWdghdYOPL7rs3h/MkyuAY7nKNFhec6GnqJUsQA9zLIBHNn+JShbRADzvAj3JPmRWKmZIXESRXDp0ndRsDKULZli3GgdmfkgaGsuiWaTIxhNZbBgB84+2iA0ryfdsNvmQMjpuXgU56/zYBFwa9oAM9GADOpnKoy6w0nruMhMLbKfAiYWtDjOw7PumCxud4fgyzKhz0iUOCmC1ul3e6k2HRa2TJwuJbR672GY4nc8VbmT/5ITtKCF4cvAWE/wh2HYVodbsbZupdVcfZ8yF4MR8RmVD6NQIK7TEWw7AZ0qy1kEKiVMt/eF+PTtT+UtwTmqbOoZHxLg8FtuFLtKx1iBMm9nbNZcjXIyiF44Ym5e6YchR6U3xC1fBlxx97QNT2PQ96R2m6uda1oArOTtSGB1Fl3bRu2r3wZKczSrtF1GNB1z8/z8BtwGhQyBqobeUaRwR3i6m6U5lvQcfO5N+xIz1XQnMxCAofvYPmT6PLBX4PQaC94t3BcZXUIpeR/Y4/B735TMMkSTid90tHRGYT/dzeSuQOJjMiPH1QDXmaEOeEHRGrUaJYKvRjgmvNZs54wF0hSVZT2V83imlVbYQFTAhy7TnIMfO2ps+5bXgp8Z36S7c0RdMp/r1sRUMu9vZO2Pg7HnoA7+Kfn6yF9g41AtZrWATCqlRPUPpmOQ5qeVC57Armen7LwQH9Z2UpM/abMLKREsNthF45IGQCVivXKLCRM9OChkLR2G0mMI6QrBtLPRl85XTT/Y5AwiCDo6vXOAj92Dijs4e+jxL1WLpRYCIpLxHLsD96JuRFl1mI2x6b6WdZbEtPw7awv7Wq4y9AjP6dli0IuhGuSGLFeVw23LkIiRkmBHQubE4cq4vFPMEVc+7hxPKZkmCej9xrp5YzHdLGjSE4EVr5/1rrzsnp4/08n5d6AF1lkQJfbWcx2/lYP6QRXXUr3wrMuHdlwSiQ/puJcroekOO4DeyoBnP7CPDxU+ZN5+0Wqmrzw/v/his3yNhhPNK6Q8laGBSqQpqTqqobFsVKNGzE3mUFs2dGOufRq94Wuj+sRP+xbuVWSZVsF1a2JIF8Qh8iDVAX9mitc/Vw4qJkpFwKjrnfBImoP7/DbDZzqCbtDEbv7uiZYeRGIWZFfL52JqwUG1nvo+3o+q1Lj0j4dQAUUXcDfZ7rfnzaG5vTjr3AULEhlgbqw/Gj0nsjfp6Vg1ORTbcEmTrfmKnWywF115qgqqwCy0hCDxkdRHCFe7X8IPR+iyqkuVMDdjHwKS7qJR7Gk+hdGwLlZVotjmc4tM4l7D6ZeuYh8K1AyGd1XjTx/PfouPKKMnbfzK2oEM3dzV+1t+/DjzC5dTHmHffHI9Qa2TyrMCl6zJOn7wBGlPW7KpZCX2J0tIM+n+JBYvfznPxaA/u8jZUvgeBqsUISATSdvEuiaNg+1pkYRND1wuWLG0ktmOmMQLqODrCJfIxUpkzL0LRrHNAlQt19RZcOrHknVFL+SpCpU9eaXRh9d0QUu8SuqLKqAHrM0SsdRvPnP8B/9amQEOskoPDUsaQ0ULAg9Xi36g1HW2Ls1d4IJhnOblBtYKAXt99g5KANQkODrMoZzD/7Vry8cyD/vcdR+jve/qvtvegQaZQ+nh4M7JPWQKCtbzdiK2y8GLWuv0IwN+7FJSu1wkhYKujp0rLdIskCx5uBKnQMJmMWuz8w8HCpHgsAw+FngK/F7r1Xi9NeNVy35wJsDGZiSc4EWI1i2UdabrQVpd2vUT1JzSN2LG1m4UucCqVkX2dMCKppQFAYLc+q92zvnVgQ3ugiJVj/LMcJQG2YAHclLXvyQZLjMqmivwR0co5QBGh1VD5iFQ2VEpfI657oNUlQmRgWY0ySwd9Gnt//mV2E7x/i80jTP6Oixc2ckaF3dEpLWGKfEw8oHmJSib8Q0CB92nLEmJqoT0/8pAAaVdu3JzV7+kUhNZG9CfYqTp9+JE8ZvkFaKrfD08mFAZpWBhNtK3QxbpPc2fHsF6BY6pIYNsF92edEyQ2Cmo4bnV6JZZXbcDqmreIQDborF+JkzwM2hmYyEcXSZLsvpcSbrU4s3Kkk+sKvRFuLmwCXm7t1IAyXfn3rn2ipzzlEmY7DcOcZu5+sDe04XEnNa+u11D/DBHHw7k7gMUP73PKOfqh2jZK7jfDsI8h/rUevsIQnBaIH7eMxmD21pDSLHpV3iz4YRxLszsuDvyASMkHcztpI9hPuvWucVy7vKnvUgHyC8eVH4H2iw2tiDAp+biSUfJQ94hpvgr38KDJUAy0Na8oPiuUK8BHCbYo3OHfaYdMBBMBfRwopsCRZGkZ7lnPxAUaTWBrcryh7cydRsuYIOhT+N2Qtx/GUTtQLEcyy20lIBFF7CCh1fErCN4R5GwtL8Blyow7yvWTdCAoRAVPHFHhygiWMYXpcbtDAiYSHjwWz0TL8qkY2S8aOWNIqn1dIKwj943+hJa2raTi6IgAMcFHwYYgvI5CrLFtWuID8He2P8fAnrHCb8KfcNAtgm/2U+hsZ2uh3g4BWZQy5D+rm48DEtlyHSJw78IfjfdFmccABs/716fz39YRHrMhutvx4GpadlMhnSE2KGfeNQWzYNrWIxtTJEV3nYZQD/+w+TmHbbvl8AMRw5J09HSzTqwmUf1ShZNOp2FB+aJZfFl1m8E6mTT9seZCAbCceWkR3WQaYGsliSyKv56EgxSWAVTYmQhlZcTOJrVnuMLUrW/37oTzlerrJ0nOwpkUxlLcoQYzZbHa6ioR2d8iaODwFV0/jg8ysR+ySZXLsUs9i8kXSxbeYyK72e8DZhZgxjS2ufLKQJruXJB2gd9IgQhgXvGvJviFE53t8g35OYf985k2G88UYQCl2Ir/0Molf3ttI0LMx2Mgng0eEnjZ/OVWTDkUZAQadPsPR9YH72zPEZYEBtDY/HIB/2ZlI6F2cCIMD5FIqmHc4BUZAehSKiYSdi87T+fDMEQAJckhlSVk3AtyNfkt9kY4TIeuyehEpJ+5spjVuJOc3Ov9OuevTMCddCCqqT5KNR0tU2c5PYlzzWkLPgSx1rgcjJ2qn5dqquCEAX7pI9ragvTWoStZXnRArSgoawFKI1YCn4Bfh0mV0DkmWrPySu6nUim0mJSrL1afxBQgucHrqubgNMijwuag1GetWFUI1CaCpbqsLs/+WY50ZgJ1nWHPa/WeYeuVl0mBXNwFXMdA1hLupRrZRY1N88FQ+9PVcoxBdgtxpInk07LYSpNGLJMmGRdhDUpxF8C+tsZSYvpFNzwOi18gvhHGLPfvF8e053tgpgdDX1OCCuhnnxsOMuK2pGIgYRrv+aWk9Lfb8evkpTZ14IeNL2n5FVB+8MQ34Hh8oMvq6XYzuITnAUj/IyOeckT3oMubqGRrJI88qnBbvGh4xg8sGiwgKogTloIyJxD/DR8X9ibpU4lQ80cYXZ78bcMeO/eJz9eeuF2tR1qY42GwfitrWdCwe5QgKXLAUKWlpFCoeHfJHFqKShOL0X6Z0KvsNWwvcrsViYotcebuV6wQfiVVxLFr5zptWvkzQzvwrHrkr0n2nHlcLP20xg5q65v2R+UhumXKfYSsQu3GYikokuHlsSMo5gcGfpMPSBxwNpGPinxmdWeXQIGD9YQ58kdEhHtwiQ6wMTdHP/oO3MKySdmJ4+x3/jCPLQaH97gfQqMzeBYpj/Zqd+VGKSBFh6Zpt7/XFuIyFdf7VBr7m4s7UrNT+CIR4iodXxXpTxNyS8mInYiwafbdSByPD3BoDzSeOJqvWWHShB9K+gp8qdnpsbxjBd/STTxoX8tWo3So7JDWgUDiuZ237x90PDrvJ9DUxmzyi9i4nHc2oUxEKNJx+4blb7BZW5hVYPGWv/ODrSUDMh2Feo0GzLcehwmu+hKmI1/YsdkwKgWonUycnU1jfN3SmI5QYlRrkVIu2u/tc87j8BcgcC5ZAZDlhvKcoIZsZSuZR4yrdEyZKVoBMq0TaPmLIf2Itgp4Onh+w/96tN2+4y3H7TihQsukbBmv0FGWi3Er9DumkCwB7qcDDgYbE7hN5u39cDfXk78hVWLLI/3DFUjl5TM5G1dqtZhgycLGw9/MFgWS+SlTEPnS3uPbkjC8akcGngl54yVAV49pi+b3WXB5OkuA0TnMDtmX3s4HfdvWMohf/nTLwiZuH4PfvOOLlY9QUCkwTLDqayM0Vv/rJdYfZycoJbLo/I8TkSogf4FeD92sOO3mM7l8Z2neRsRu3O9O7ZmyOLXUqzkaC5wTa/O/nrfBjKZfXHQhcgKj/9JWBsrzZImWUx14Td2sTPw8QN4j6CAFqxUlBlT3/Izmk3P9Iv8rUVkSaqeMzpbESjyLFAb5jRxOYz0fDbflH+dOsnNXdryX7nsEWYnzGzSx6jRFd4c0+IO0/X0tjE/l6byX9TiXW7p4sqDUEDZEWafvOC01zG4yXhcUuUfpAT+9/20LHvAbq5PhJu6HNQNlVJ23Vrq4o6EEYBpIrai/ssrTYS4huHcXHT5oYvMLXOeteA0Pe2htgwvvEg+FNf0ggdVDr7qBhNVrxBOquT/zRm8XUtKFMYyAiKvraX4mm902ufMd6sUR4aXprbDh26CeadeQ9rqgDgivSWufapnNWvxTL/Z6tQg4cIqSAtfELDPlPuHDFmPs5x+fVYd/7dAlMzx5CYLb+7S+oB48vSCapMZfOQcG9yOGA/HTa1Nr6wzsamrAy9OdL8OAr0sakS9e2JARfvO5QxPVS2OKtoNINdWjT75d8GZiB5P49dunJ0/p+oGYPAIN4L9tnjC4yJpeehjdh1mxAcu5vdHbCoPc5aOHKCT6i0ww9h1lfSqcPFoHIfo8hbeJtNlOeeE8m7BB4i7bIvVvfaEeqJCWp8NGEIJL1BnhJLGykj2Xf5eKy4DFys4/HiLKE6UrOAJJoG8qRgFTHdYfUpJHukmm27r6raAN4/ayjeD4/tO0DsgF37DTBc36Y6BH8X0LX19sMnXTwDjvyTP7IESETPO3bkTcWshKXlRdtTfdQysO5PmVolAX9meD6kn1L0owVqiLhsorv6IrDxfgqP40E1bFsmysKxGHfiVnzUmerMSPt9tgNlr165Rba+V//0npNAMCjGuBt056U7F8aoK3hWvi4HMAuYE4JO2fmT/lTFnNIAhDmCrAOD/ToOJbk4EUv8DvlVPifGe78KxQuDaQF65lZsZV7ifswFPmzNMAD/Ogprwn/E0PkzqXQbS9BvRL00uJ6HPAcgaOBrScKi6X0FaEoelc1Hp34uuIF5GLfrRY+Piw4CB7K1JZgKE+UZ3Agx2Rl6MalUysMZdRGHLYiYAHHVh8RdPaDvmh/TmpxmNZit5BPuLVSCiLqP+65/hglRHK3DbOwe+m25PJvbOk1UAPYQLLnHIad6pnjHm/pMBmxbaDVe+m0D8i1xIlTZB0eVtebq6TO4VIOhM6eAU8D/toB3PuQlh8UvpHaxaPiunFss56E/f4Qc+IAoWSgtpNNtYLXxgJaIFbEXym3wjjW8qlN02BEl/koXGdq/Fd6P1I96eN/F8Q7gcuQmRIoVzqB3Qi3wX1kozkviShr5f2bk+3xxbyCpPKheR/XKKrcvqX8GjaethWebBO2HtzGGm8UnSon6cQ2/hpkizAs4gH1jKHEoW11oW6CWp7rtHp1KPF/mLmyEM1DJV+czKcNVXyziWqL2jgCtFAHuZhRkXSdWpHtuQSxANNkxVF0veFHQmZcB7xKA0oQStdYv7Yj0efLEcyC2asa5fR/DGvEMz+3efvkwltf32BlDMEcjhQkiQam6sXVVF+0BDwXul3w88zvDVkPlbvhzvC2DSAnCitG64nzX+UCKXdEgMyRTD5YeBAHZ3N4Gka6O3m6h1j0wusLV/5DB4mwprgQer3DH4w5wqq/NbXu5dY2wquo7Xo/57eFkXFs/bAUWZUd96tRaPit4vuNi3VI0yjvE801q3JmioyFfvh+GCwMMW7I5c6TKGq9NOBBBai9GZafEntU7jL+C0FAYyRCZCb94robZDPGEMcMy/U9P68y5MQIMLJCTsUoq4IwguYvHwIHPkBzc2gdD9+mlwCnPF/JbLMd8a+WqOfJRdeqx67nsuyTO74UnRsWT7wlVBVdfl4j7RQ4l6rESZ/8zwQQsMPUxON5wRED577g9ngPSARGZbSEJ7H5LPg1D4ecPsQg+SPO2cLQ4IsHpByiR1Zq2EY4gB3OVS0flszVD3q4fJtqQWJm2xrqv9aKJVFdWdk5YHrTYKr08iV5afk8UI/3q6wEmV6Kd3Qo9uLGlsOcfL0xFReNPG+O7uds3QhIKsJwhcsLttBVVxWchXyk2s8osDh64hMkoK3TBBMJ2UGuPkydcjBpzo+seV5dWeMx8S4Yv2ti2cozz69iLABfB9eFH60Cgixr/VwxuEM0Js5ZNiWmZuEjSj+dddQUlg9cYnCzk65OQByTpHrpT3MDAlpSBY6Q30Unv4a/vf3k0O+yWP/REih+FrcroVCez2Agv6740uUTZZRqIDTdkKBSq+s5GHHhzzzRVU7BGE3PJj+wPTL3eJys+nj8WTSudxPWt+moGQc0FmL9j+WFIFwbCKAt4aif4Xj4j19uUtwFPO/k/ivg0SNgT31F2NoN90QEat9tVONmNPKTCe6OlmQ9wfgyZ32z851Kt10zmriTKDZaBpb3CkUbGqA++yvOKAewEkYNQTCh7WDrtmrefaeYnAogzRPyZJy6z5oOAP8O7kMawAVFeJ+Z72c1wKCRGP5F0qp1EEVb51YMOug5IWP19vE98Bi5oUIBUuIzhH/yCc1l1xletH5YkGt0oxfDuMghybfQDjt1/gG08hn5TCZQxMfmexvKwvw1mqFCURXpN4aluP1rZ6Jksd/HBq0UxzraGFdgV1+X7/ihEcFM1REpF7YzVyKsVVZcjyIPjdb8SkjqFImIhK8ETbu+cZ1Xn1MO7g0jyMFCBeYVUpClZ13Kuxdf35KoqIY4ukWKR7lE+AKUr03Yl5bTikfxFc8tlkWlNu69xLi0MJtJO4zx0wHfeo3zFXOq4yj1iwEyUIKj8G3GM+5HUcD38gs4DduUZWqWoECXPbKXF2u7dQ7ADs/CX9r+HfNKI4f2Szj8OKEHJeIikXEKNMIfAGrKU0MR0tvnc1+PZx3iFsxNQ7/4dO52AZNTW86RwOXMorC/In7q/EHJLpJM2IHFtsv6pp2O14l2lXnfTaVFAri4sDz1ZiIVmEs4xQITOdU1exI1j6iheUf3gJOC4yZsNkFhCqnqglsPd9wFNY6HxuiLAK2a5i7HqvSiYmCQk5LyO4CwUG4LYgsrJPrrTBWhiD9hQudrdUJfu6Jzb6XykxgzCItIF695oZ7CZRtj/rEHplIRNGZMy8QGnlGBok82j+lL/feMdvi8hEoXPp6+XyionAp65CDgAmY9MJeIb99obL6KsNP6csB1qdIXOlDQj4xyCf29rmDR6mWKT/wRP2Dn1VO5y/W+BgsIioWgoh8cHXyDDn9HwO+vi9gL3gOyYu7uF2INfn3tzZrV+xNXZStc2DBiybE64RVXEN9qqYL/7E2Qlv5wvqfqLSutVs29pdL+uL0/K7MQfrftuYR01p5hJlMVRmFgn4mqPmCDyjZ3zKGquS1rLDXphD/FvouWHgB+AdlqgDFEf2f03h+LwbGQYh48nLFxHomsavOz+PL9tunC48e4Yof8IE8U7VtJ1iXHx8WeKh6t2RujumqNrA+RO1U1qK9zb6KD+37zMP/8pS2wKynBqaafeLhzUVeT9LC/ztRn3INqgc+HOxRrc5S1rPSoVzsoBN/iO0/9TrhLMwFtVcdWeb6yyGVoYHv70MVdYwHxOIw1hrhw+2eTadI7yd8SoLzdPoGojXTEmI0r5rUt+BrbCjOdIKgt4sYiVsxREYwApbNc+UR0bm5W43M+W12v0UL9Yvkj1XWbT1McgZ9fY+g7nSA+UgJ2Qd4B9I9X6jj5iQdC38M6X0FVbUHtHD42c9VX54JkOvfuU6a+aAFTvPJ2s7bWb4e3gbw7HG+TP9/QNq5xWWD4VMEj9AHjJNoa09QN90Ywk/tF5f54bmmcbRruvkWHNPJBu7tovLgG896HDPgB5u6leej6CkFD0XMvYSSsUoY6lGJ4Z+flR1TgQV/3SaKhvODmotDRcAVYRcb7gSIR2UeUk/hvkqU/AugGGdceQJfyN1r/vuWZO0JLNRAL+xIABFeCXaZ09VhVOs6uSzxs2PgUh62C00LUUmX/te8ZFNZBkCbaLVKJR9ZEVwRh0SfVr79NDTus/lkhE9qE8Unxd1pugAAdPWpMkeYdIqZs75OwufWzzyCDoZFbTSUteCO1M3+90kfhzCWMNZDRBJcVD6A7dOUDga+7tQe20cf9DYJlHvuA2JKm888m6zRGNEAIyd9ZW+a1k3p08u4D9vE7ZSunclQ2QAi+7JAdCBP+1YOSeNV/ug/5ueRBHBVryT5kcKcmQnMFJ+HBJTrkyJX7k3R1+K3I/EvFW4g4uIeuA8TYuaWxq7H5wAeMkaJCSlpKbS2LQsFlWXfgUvgaLByNYf6QZLGf5rZHtxPKhjNlUjQgjoUwZdC+JoE614Aat1m4IO4fg2r8mv60Q4XgI3u6V+i7WiM3GbVzZFUZ4vS9tgZfWKSOgLjpP0mt5fyKVt9K6+/y9Za3/L+wHBBYXrkpOdmK1PVbF9WDKZ5q7ELVLq6z8bL5IhzVTsuQ/xpCKVZT02Jgp2M/0oyjeSjqn3J+tRJTumo3cYtQklThPatGEznoLtvCSmJdbfKb2jAvJQKGISKDleu642uaghySNeZa8R0qw1GWuHhU8k1jtO802zyzpgmi5dkdWblYtww2N2jLjs7cVRJL9zg6TEW7d2zByXo6mPsWd1HPWaXBv9oJUZgcbaIgpEWlEQ8fTgfZ6+KTvFOCtnsV3yScLj3DWzshYO/+CeZHHb6OPZsAvdwYwXTRzXZK4lzbFCuCUB9oHwdU+xdm07MA9GEO5JFJXaqkcPwrvA/KJwnDOXhIUAo0kwtXG4x3OKQLHRgrMLd7CRct5j0YfCfqHSeCMHnS7vnyHh+Mrg4CXWe/4yqxnuqJPip2wgtOec9Mq6GlIno8B6zb9r8YVt6kLiJxBqBOEkuN4vDJjae5EyLhlKNonWcctSAqzcQyKnIp+Gcwzk0wIw2GB1eQ+oXxZcSAEiqbk7bOK+PdI+ohGK3GTNpjiFVpg17sF7PCP4e5swM8X7rjcqPd2hJA0UCAmvxEKJqbU0jbqXBELgTnb3NWAgT/Qh3yA4axn4gVtGpSB21c7AqYBlLzGZSo4cJET1RzUKXJFHn6eWSfKMovRFSigekS/YQMDcEHlIqMsSoK8Sjg6Gf2KtulNSwBOguv89c/XG5hzDE3tgI4yJTG4M9SObZRH8FJaTrPITpvjamgEcjfd9tVMWHTJO0mhwm6rrOKITHw5rzEcjmmG9ikxuIWP7N+UBtREfYFDheRGQV0S9vGstustGzT44TSxT+AtUx+dNWMWh6GlDhN1MBP2pa8EdqEhrOZq60xqiMLcySCC1kLTVSOqPIaBx3BBp2feeMd2f6cVrX2bq8KlwRiD8rb8ihvmPNcJCICAEAJLMbtgsgwqoBfRaJ+FocnPO8FGFLO5ZAFkOa70xWdzB5Eog6crwzm59B5RP81YWCuWr/JOqWkOgVN/l5Q2A7/unwDf4ztJFfv/R1RGFyMnKuYF1eZFMQkB3qFfukG5a4cQJPeiy63fSbsuF2TyNNmANrOA3Q+4KlOOjuQncLzZJmeTSWFyRs/gzmiVN8AXU/04eAi+Dqb7tAGmcCFSFi3TNhAz4J2AXB3CilR3kOSKefJdlONo9QzubfsHud68TorORk+IMCbuKf/YLYwhgnIdD/hPA1DSVTnaMvrDcrnmI9Opco/Pxh7fP/eeOxTGQWZ0o1SS5/pzgWWaNf9ALoXTvcQeak6+REJTssCWxVWlNijJWL2ELKTv9vlTK/FCh73Uu2fFXWGSjrpYdz8BfKmTmtLnxXuBRvziXqPRwX+zNQnMB8YLzdiA2Adl7r+DWA8TvWTw5S098jXhBxpI+mNqUkhXJOFdXD6YFajzlF25NWVQqucFt0XKeiS18S6pIrhLUckdo1aT5ZV0vHKKw7KAYTw4Rp9lGU87f3JKxsP6bMBUxQB/y33+3JEKCwl0PP4hxPq0giFoHhQGHVbcMZ0X2pagg8M18rK21jA6sCT65qoQOc6EyLpF76a3pfvguwNhYQCBNxn6voJW5v90d28MU7MYDFeQ1l9ivj8ecQNqhlgyuErCE15MNKvEQwMWusSxGbgzQ+nQ9RGt2OZFmIcPhAWZdbtpczKZBzcWiR0GHzoCHbGQqCHJ4YhCjqV0glJWrN1pFczGxmnJc4AVVgmPDQvjPgJ0agPMSTDfAKv+IjDL7T70EuL1pK0vLAyF9mHjWIbVUd3npPZAoK/1w3fc5VAAGK4oEazpPhStQRfsWv3LZjdjsZF2RSPatMv4FdsYauV0ejiq97PqMZNt4M5WsI7gyRbvGOJwM0ZBYFyAZrcs1fPh9PUbbgN0x7AdLtQttdivW94xy2bAm4K9wXFW0oMEEe1fR877PmWVWrpeFlmxadpVo6Xknaaaz6nx90IBMk4yK5p6Dp0RAWKzALttgozMOHDIwJMFr7BVG0QVZ9BjUygYj51jPYCQ02uefnM4OzH527olMtPoAFkj5Ihyuw+k6DTUxtlnWwSIcDMgpi4+VVMLBfNRSA/QJb71pWYcx6iXUDB/BiPndI+bMGAUzGLrSbTSGrjtS3vuzKxAR14Wwg/VUKFvFB9NXz2xl/WrvrmiUt3b7Hd4ij/LdvGsJq3hRGrHxgdd5h9EvGJ9g2GNmrQ4l6snRI3LjTrn3+muP1PlwtQuWwYuUfA7LtcYgDXE4T8hVma9YPO3soNIj/r6PrU8rrAM2G1Q737Ucl96Vy6TRQ551hY+BA6ypF7uESUwLOi8/QAM5FGp37+etCgYsVisjL5RdJtogxcD2A6rcxdEZ/ijIz1b9wfwSYgBooi/Je559xd+1sC63sQfzIHcrcPU1xB2L5X7sfSayZskwPfcZ+Nx/3NGudCacXddbGqIcTSiGn130CntQ3tj55eB2Slh9vLnOMGfuNucfgqzk9E5PwbaWF/SBqRVJCeQDtncrQknIp546L0rkCtvH5ws/VaSzS6GQ/KcJgiJelOqWpvbYsMn49Vre8MvLGm90v3zpw67TRY1zAcV7smqwCzsP+oDgb4A3fEhQmlqb0IDMDYWUuM64GjjUwwy233oTpb//Te8KgyB+5Tu9y7CWuPfb9NTXSUyxC9gicvK9KTCXI9vRQwAFiDVwumOsys0GIXnvhySGE110WTj1+HMnizPQ8cKPYvIl4QptZNtiBy6emyFtEqeTcYMsHt5xam/dv75FS+5lwd8reNzd6D5kteRPkzjRO15oCv5r/HmGFggnDTPxTGZj6MXBVhbNM5pIvd2BsxKWq3BdkzX1QOGHKdlzzgNTMaK6bdMGqCM9LKYjuof6wUEuq6XQQIvp8apTkwZ4rCwue4MQJzPVLtdJcID2V7jArrCbMJy4GWGydvac8O1Y1nB8AKK+AuqbkhZbF74yRHbtgdJx5ZvJJUTW1aHxXRiMla6fcZ2MPA98LonyuFy21p/+AOoeOD180Jj2OtosKfmJOb6USP7Gj8YhHqwGgVmpwEgoTgwVNhZKKc/QoAJAfI7xqkHVj9u6RQa5AxV+lcfn77jd2e4qTlF2IYkR2ySYFQKaR8iifs+YZcLlpH5QAJ6bypSCMkENPkiaCf15ErG0T8Sw2SGJ12WrOiuF3blJSXjd/NNe1vgYN+mwJlUhrxVnMtmk999Es0j0MWXYkrMVARdJvK/5Yoyl8mHx+TuJ9ZE08nSgOV/CLwqpnxemg20QA2jACQPgA+1qDBxJz6tdwAOKn/tyhm0/L8oKe+Ccwjsut8G3y0O19OOzY7Q2V/zfdOl9nAhkA0dsfle53Mc8Up57wUdg+6oP5aVPyxOVAEBD/DmsVqV6GHnGO9LDPtu32IHxkuCPIlXZP11QFWHRVSrqbsshR9dUBxfxgfoBcVA64b4Cy0VWT+LQPGJRqG8NZBhGlzEHH/T3XnL9qYsz8ak98DRrzD6bL6yxwCu2x13fA5qgXff/k1mdcmcm+46Af7sY/xsK7FVcbeHwXcXfOOEAj31W/mOXdGHh83+nmloAxbt60ZK/zZSS5f0D8zs2SRCCoDBdhBKtYI0TYK+dkN/95Hhpg29xUSzVgsThB3OeLo8iKqlQdoxYwBZE2l9VS20Faoer/E0vTnO3slPuOqf20OHehT0Gqe5++exmubboi7C9bMEQNujWwufz9w51oel1EgphKJDApQ8DIE43avsgHyDMQj43bt/pIt46+fJaROQde3DSOjh1pOCcvEvpXBpzx8bHDKQAlnypWNe9KMgxg1wz4VTZnlS//0q3FXcSxYPYBvx7LnvawxsgWDPkQUbL7NUXGqw44y9nI48BwCwtP6UYZH8LKZ2ce5cElt3nn+P/EcRZa4BLyQOuIQI8ijMEqW5P8qt8eNE37YfMl8drxmyfbuEy5TsVObFwCO403uu7+r3wYpYQpzklD84feVQRHuWPa5c68gWEkvQUjgoNqKPeNAELD/6ldryADTUzjfd4VPVCc+rLBIwK0N9QF+yzH8OoQz+r5nSbMp+U7RYCjeHaK6c6VvynsJLaKyeOI/okZuCesdgNYkDXWYmK5q+AtcFXpq7u/P9ueAhskse4rjiEgxwR495iFNXSnKezek6ecRm8fsWRycxIoD8k0cB2Np/0IxaY/xGhG8yFB/4xCVEun1K9WJ7FB6djBxpLt81ulrUNz8gb8acypdJLyU9jFXSPWsNi0208oQmk6l6w+ydFcbnxBML8PkYnRYmcE0blupnkH0chRHZhuM9ooqJnIQ4LBGyb0gCxRdCpTDrkSsDrRK5Jl97//AyTc9s6UK5xrnYXCUCOlpqwK4sm096fyxC7o/ZuU/VbhFIFpqjkaH0zJlR/0tSIoAfi3YvCpdTe6GQJHlsF9d85gXBXMo6g5t2HZFmWql5Ph8Ry/ySdZoytd1Nqy8p8dgpinAc3jTZeVk2rBkttOh4aHmsZC+4pR0u+cVv7LDrcueN2U70Dv/8a3RDE24E0DsrQUjgsEbJj8EgTQIFavkPgMLuegfKjt6syLFdHu4Kc6R1rzqrWObbaM51OGaF2TKuuqv6knQDbUYH3RYa89yuVhgrLuX5wqL0U1buh2eyvq0+QK9y92ll0AdyUylRIQ+t3EsCJLIaorrm8i2eiamXlwyxK7kCbKK26Yaqw35rH6R72x6CpkVWSq+heC0hu/CtjKsjW9gNxBPQtcUV6/yB04wV54KDI4AALBvaac1VFXEczOJISu2FPg+ep3dKP6luS8jNeAee3JxEvqOLQFgrI07Z+sr7inWbmwfiPGNZE08h2dzFTHRoLYyOOmn+GBcQXpQdw9d7IQISux00SR4UiSYfRL5C5xITQseWbeqe3m8ssnNMHDRyGU+saSGSEIq7MrFG73C1sxKCexiigNhRrtCwMrAa1445rEM1BdSVqjz0boFLapQvC456VZsskJbFE3S6oTh6yMwUArj1Nx0Iq/MZDg+69m5/ZbURGkbgB9LP9gbPB2EwRlleB5hAqx14DvQ/8iZd3B55QgCVZg6tM/mixhHxNF/xgOVPfg03HSJGCdlRWd3JfzQEDHlsuck7mztFKGBEi0eVCcevxULfoHg/ankCUCZPUIfoCEiHVUK/DtHfCD8B8KZADfRKEawXLGTTFgL2XvftCeZMhfR8mTtrAQNfB8Ah3yNHR9N6PB+JOq0+FVJH8+ad1rUeB4X26u4l2TNAwSo4nYF8EssUw3OtM3V7EBvSf2ALoQt6DCChrC1yqx3tAvLLmAjAKEVmkUCTL2W+I7f5ZFDS4k6Buodk5SG4yYxJQovx1eLakfsD1LXlHjyIGANUaFhPIJwKFc/wB7HXZcPbwlxm/VSSzl1Q04b5OdnBLKSo5/zoPhmhlluJsO0IuRXQdFX8xE0u5g043BNPM8++7bUfWIe/GcwlAnWzbFfk06Cs7X2t5AgUk6a+bu2jiWNaD7awoqWzi9750pRG1t+6gCn2GDONGonwbzzC0FqVquj6HA/MpbU1o9VAVjnUv1wR83UZdozy9pssStojr50BRuwcK56gcEHiq7cw5LAnpImZDFSyiCRiGAdTNh8qiLj9qhvcph0xgqRnZYW3KF/3QQk4OcKlWs1qKgb+FrhoXQ2n+QjLmL5ffHl2xRjL+cIh+sjxru6Y43gvs1VPjVB8Jsakb4xoFLigiI3cZWJRCuKjjGC+XmM/fbX2CNz4tlYFieEzIeexNhyiYb8zZzygmH9OpKQ0m+tgTFdLerIbErVdVsjxL9GxC1SwysXrkddrW/7BoB/1wrb+cNp9MWRJRJl4usziAgMKwE2j0pXBm+ikNzScl+e4k1gerapEsCuKOtU3Xm1PQsA8aCop2SdXZ0I2xGGgr3pcTlr3rfBLr1oQ5zWrG8ytiTvfZecTFoFnt3mek3Rb+fIlWkiWlnOJtbQmr7up8rTsZO8KI5GuIk5d/NdIlOAJuuPDF/QBBPI+j6rkn8a6SI2A4nEFA1LLJgXuhNV050ZPYsWmpCuwS98TvXYk5PMQI6Ipnoc1Ot0KbIBNgdMqNc2TewQuJmiVyw6h/C+mShj5GzkiuUht+itQzsm2WSULKTrxmD7Y2JLhNbCcvuM0lddWmZFSYtmAV6EA/18GQCMFjiq1K425Kz+JYhzq8RlJpwLtFbbc9UAGW5JPUeGbE14b4ZO2ecpTn+cIcB3EgWzuqIE2DQ5jJ5BdWZK2H8Z1P/BwmX+pPXBHP6gFqvP2EmjT1UbL4KpNx1Yfv4VViuDgzxZRpcOjQ77nMQZYvzCpLCxdM4/Fj5QaSco+l5yLeOheGYrlJUuTJpGCSHvppUEMac4dwOcwFfAzgBdJ8QJkd4Oq0vWvKtaA6oyec6o7OzRjWJDG3M3PssUlL/qNLMIu178mq6B3zPC7UufypQot9XiUx0hACnhNPnvek+InZRmV4UCEesyQq2RItBM4P5oc9zpkkhBEFUiwIVWR/GWZPC64HkD0i5ewzyef5x6McMxV4jmURsYgqaT1rgHpCQjWuy5ltYEMBj2j20L7Pr720M+/HizKqmQMnaSs3EOgTGFFSJFK9X6Ii1z08ZbVbI+y2f2VvjGJYLaTuQmY98cw5LhA5c7aaf+7+xjBngX4q5CGyf/dknv5YfzEpSXjRFFo9Q6IF05Pu1QcUg2QLeZUdLJ2EsVzMwJ+lj923vUBSVKoPxCp9fOBgA+MuEEFQf4gAEMU7N2AAAAAA==)"
      ],
      "metadata": {
        "id": "_KgP4ns7v9kM"
      }
    },
    {
      "cell_type": "markdown",
      "source": [
        "**5(c)(c) Compare the performance of the two models by using t test**"
      ],
      "metadata": {
        "id": "LsIpz-TbPzIH"
      }
    },
    {
      "cell_type": "code",
      "source": [
        "#T-test\n",
        "import statistics\n",
        "def T_test():\n",
        "  w1=direct_method1(X,y)\n",
        "  w2=direct_method2(X,y)\n",
        "\n",
        "  #Predicted Data1, Data2\n",
        "  actual1= np.dot(X,w1)\n",
        "  actual2= np.dot(X,w2[0:-1])\n",
        "\n",
        "  #Statistical quantities\n",
        "  n= actual1.shape[0]\n",
        "  m1= np.mean(actual1)\n",
        "  m2= np.mean(actual2)\n",
        "  s1= statistics.stdev(actual1)\n",
        "  s2= statistics.stdev(actual2)\n",
        "\n",
        "  num= m1-m2\n",
        "  den= (np.square(s1)+ np.square(s2))/n\n",
        "\n",
        "  value= num/ np.sqrt(den)\n",
        "  return value\n",
        "\n",
        "print('T-test Result of the two samples is:',T_test())"
      ],
      "metadata": {
        "id": "8Be1a11Ur3kt",
        "colab": {
          "base_uri": "https://localhost:8080/"
        },
        "outputId": "2578e6bf-8b72-4c19-ad1e-8e819f7c81e8"
      },
      "execution_count": null,
      "outputs": [
        {
          "output_type": "stream",
          "name": "stdout",
          "text": [
            "T-test Result of the two samples is: -44.441691823804085\n"
          ]
        }
      ]
    },
    {
      "cell_type": "markdown",
      "source": [
        "# **(6)Analyze DATA 4 using decession tree**"
      ],
      "metadata": {
        "id": "cFgj8DkFz0wA"
      }
    },
    {
      "cell_type": "markdown",
      "source": [
        "**Procedure for analyzing decision tree**\\\n",
        "The decision is constructed based on the entropy and gain information retained by each attribute in the dataset.\n",
        "\n",
        "    Entropy= Sum(probability(xi) * log(probability(xi))\n",
        "    Information gain= Entropy(y) - Entropy(y,xj)     \n",
        "                                              where xj is attribute of X\n",
        "\\\\\n",
        "The attribute having highest information gain is taken as the root note of the decision tree. Then this continuously repeated for all other attributes until the leaf nodes are output labels. This is the procedure and implementation of decision tree."
      ],
      "metadata": {
        "id": "M_f6v9nnT0aL"
      }
    },
    {
      "cell_type": "code",
      "source": [
        "data4= pd.read_csv('data4.csv',header= None)\n",
        "df4 = data4.copy()\n",
        "\n",
        "#Normalisation of data\n",
        "for col in df4:\n",
        "  df4[col]= df4[col]- df4[col].min()/ df4[col].max()- df4.min()\n",
        "\n",
        "data4.head()"
      ],
      "metadata": {
        "id": "xK-Yz7ZLEjfS",
        "colab": {
          "base_uri": "https://localhost:8080/",
          "height": 206
        },
        "outputId": "663e27f7-250e-4aad-8eaa-9a28622e59f1"
      },
      "execution_count": null,
      "outputs": [
        {
          "output_type": "execute_result",
          "data": {
            "text/plain": [
              "   0  1  2  3\n",
              "0  1  1  1  1\n",
              "1  1  1  2  1\n",
              "2  1  1  3  1\n",
              "3  1  1  5  1\n",
              "4  1  1  7  1"
            ],
            "text/html": [
              "\n",
              "  <div id=\"df-c33d169a-e391-4c2c-8b29-92d940b1b900\" class=\"colab-df-container\">\n",
              "    <div>\n",
              "<style scoped>\n",
              "    .dataframe tbody tr th:only-of-type {\n",
              "        vertical-align: middle;\n",
              "    }\n",
              "\n",
              "    .dataframe tbody tr th {\n",
              "        vertical-align: top;\n",
              "    }\n",
              "\n",
              "    .dataframe thead th {\n",
              "        text-align: right;\n",
              "    }\n",
              "</style>\n",
              "<table border=\"1\" class=\"dataframe\">\n",
              "  <thead>\n",
              "    <tr style=\"text-align: right;\">\n",
              "      <th></th>\n",
              "      <th>0</th>\n",
              "      <th>1</th>\n",
              "      <th>2</th>\n",
              "      <th>3</th>\n",
              "    </tr>\n",
              "  </thead>\n",
              "  <tbody>\n",
              "    <tr>\n",
              "      <th>0</th>\n",
              "      <td>1</td>\n",
              "      <td>1</td>\n",
              "      <td>1</td>\n",
              "      <td>1</td>\n",
              "    </tr>\n",
              "    <tr>\n",
              "      <th>1</th>\n",
              "      <td>1</td>\n",
              "      <td>1</td>\n",
              "      <td>2</td>\n",
              "      <td>1</td>\n",
              "    </tr>\n",
              "    <tr>\n",
              "      <th>2</th>\n",
              "      <td>1</td>\n",
              "      <td>1</td>\n",
              "      <td>3</td>\n",
              "      <td>1</td>\n",
              "    </tr>\n",
              "    <tr>\n",
              "      <th>3</th>\n",
              "      <td>1</td>\n",
              "      <td>1</td>\n",
              "      <td>5</td>\n",
              "      <td>1</td>\n",
              "    </tr>\n",
              "    <tr>\n",
              "      <th>4</th>\n",
              "      <td>1</td>\n",
              "      <td>1</td>\n",
              "      <td>7</td>\n",
              "      <td>1</td>\n",
              "    </tr>\n",
              "  </tbody>\n",
              "</table>\n",
              "</div>\n",
              "    <div class=\"colab-df-buttons\">\n",
              "\n",
              "  <div class=\"colab-df-container\">\n",
              "    <button class=\"colab-df-convert\" onclick=\"convertToInteractive('df-c33d169a-e391-4c2c-8b29-92d940b1b900')\"\n",
              "            title=\"Convert this dataframe to an interactive table.\"\n",
              "            style=\"display:none;\">\n",
              "\n",
              "  <svg xmlns=\"http://www.w3.org/2000/svg\" height=\"24px\" viewBox=\"0 -960 960 960\">\n",
              "    <path d=\"M120-120v-720h720v720H120Zm60-500h600v-160H180v160Zm220 220h160v-160H400v160Zm0 220h160v-160H400v160ZM180-400h160v-160H180v160Zm440 0h160v-160H620v160ZM180-180h160v-160H180v160Zm440 0h160v-160H620v160Z\"/>\n",
              "  </svg>\n",
              "    </button>\n",
              "\n",
              "  <style>\n",
              "    .colab-df-container {\n",
              "      display:flex;\n",
              "      gap: 12px;\n",
              "    }\n",
              "\n",
              "    .colab-df-convert {\n",
              "      background-color: #E8F0FE;\n",
              "      border: none;\n",
              "      border-radius: 50%;\n",
              "      cursor: pointer;\n",
              "      display: none;\n",
              "      fill: #1967D2;\n",
              "      height: 32px;\n",
              "      padding: 0 0 0 0;\n",
              "      width: 32px;\n",
              "    }\n",
              "\n",
              "    .colab-df-convert:hover {\n",
              "      background-color: #E2EBFA;\n",
              "      box-shadow: 0px 1px 2px rgba(60, 64, 67, 0.3), 0px 1px 3px 1px rgba(60, 64, 67, 0.15);\n",
              "      fill: #174EA6;\n",
              "    }\n",
              "\n",
              "    .colab-df-buttons div {\n",
              "      margin-bottom: 4px;\n",
              "    }\n",
              "\n",
              "    [theme=dark] .colab-df-convert {\n",
              "      background-color: #3B4455;\n",
              "      fill: #D2E3FC;\n",
              "    }\n",
              "\n",
              "    [theme=dark] .colab-df-convert:hover {\n",
              "      background-color: #434B5C;\n",
              "      box-shadow: 0px 1px 3px 1px rgba(0, 0, 0, 0.15);\n",
              "      filter: drop-shadow(0px 1px 2px rgba(0, 0, 0, 0.3));\n",
              "      fill: #FFFFFF;\n",
              "    }\n",
              "  </style>\n",
              "\n",
              "    <script>\n",
              "      const buttonEl =\n",
              "        document.querySelector('#df-c33d169a-e391-4c2c-8b29-92d940b1b900 button.colab-df-convert');\n",
              "      buttonEl.style.display =\n",
              "        google.colab.kernel.accessAllowed ? 'block' : 'none';\n",
              "\n",
              "      async function convertToInteractive(key) {\n",
              "        const element = document.querySelector('#df-c33d169a-e391-4c2c-8b29-92d940b1b900');\n",
              "        const dataTable =\n",
              "          await google.colab.kernel.invokeFunction('convertToInteractive',\n",
              "                                                    [key], {});\n",
              "        if (!dataTable) return;\n",
              "\n",
              "        const docLinkHtml = 'Like what you see? Visit the ' +\n",
              "          '<a target=\"_blank\" href=https://colab.research.google.com/notebooks/data_table.ipynb>data table notebook</a>'\n",
              "          + ' to learn more about interactive tables.';\n",
              "        element.innerHTML = '';\n",
              "        dataTable['output_type'] = 'display_data';\n",
              "        await google.colab.output.renderOutput(dataTable, element);\n",
              "        const docLink = document.createElement('div');\n",
              "        docLink.innerHTML = docLinkHtml;\n",
              "        element.appendChild(docLink);\n",
              "      }\n",
              "    </script>\n",
              "  </div>\n",
              "\n",
              "\n",
              "<div id=\"df-15a3c215-c5f2-4e7e-ba5d-01bf43e07808\">\n",
              "  <button class=\"colab-df-quickchart\" onclick=\"quickchart('df-15a3c215-c5f2-4e7e-ba5d-01bf43e07808')\"\n",
              "            title=\"Suggest charts\"\n",
              "            style=\"display:none;\">\n",
              "\n",
              "<svg xmlns=\"http://www.w3.org/2000/svg\" height=\"24px\"viewBox=\"0 0 24 24\"\n",
              "     width=\"24px\">\n",
              "    <g>\n",
              "        <path d=\"M19 3H5c-1.1 0-2 .9-2 2v14c0 1.1.9 2 2 2h14c1.1 0 2-.9 2-2V5c0-1.1-.9-2-2-2zM9 17H7v-7h2v7zm4 0h-2V7h2v10zm4 0h-2v-4h2v4z\"/>\n",
              "    </g>\n",
              "</svg>\n",
              "  </button>\n",
              "\n",
              "<style>\n",
              "  .colab-df-quickchart {\n",
              "      --bg-color: #E8F0FE;\n",
              "      --fill-color: #1967D2;\n",
              "      --hover-bg-color: #E2EBFA;\n",
              "      --hover-fill-color: #174EA6;\n",
              "      --disabled-fill-color: #AAA;\n",
              "      --disabled-bg-color: #DDD;\n",
              "  }\n",
              "\n",
              "  [theme=dark] .colab-df-quickchart {\n",
              "      --bg-color: #3B4455;\n",
              "      --fill-color: #D2E3FC;\n",
              "      --hover-bg-color: #434B5C;\n",
              "      --hover-fill-color: #FFFFFF;\n",
              "      --disabled-bg-color: #3B4455;\n",
              "      --disabled-fill-color: #666;\n",
              "  }\n",
              "\n",
              "  .colab-df-quickchart {\n",
              "    background-color: var(--bg-color);\n",
              "    border: none;\n",
              "    border-radius: 50%;\n",
              "    cursor: pointer;\n",
              "    display: none;\n",
              "    fill: var(--fill-color);\n",
              "    height: 32px;\n",
              "    padding: 0;\n",
              "    width: 32px;\n",
              "  }\n",
              "\n",
              "  .colab-df-quickchart:hover {\n",
              "    background-color: var(--hover-bg-color);\n",
              "    box-shadow: 0 1px 2px rgba(60, 64, 67, 0.3), 0 1px 3px 1px rgba(60, 64, 67, 0.15);\n",
              "    fill: var(--button-hover-fill-color);\n",
              "  }\n",
              "\n",
              "  .colab-df-quickchart-complete:disabled,\n",
              "  .colab-df-quickchart-complete:disabled:hover {\n",
              "    background-color: var(--disabled-bg-color);\n",
              "    fill: var(--disabled-fill-color);\n",
              "    box-shadow: none;\n",
              "  }\n",
              "\n",
              "  .colab-df-spinner {\n",
              "    border: 2px solid var(--fill-color);\n",
              "    border-color: transparent;\n",
              "    border-bottom-color: var(--fill-color);\n",
              "    animation:\n",
              "      spin 1s steps(1) infinite;\n",
              "  }\n",
              "\n",
              "  @keyframes spin {\n",
              "    0% {\n",
              "      border-color: transparent;\n",
              "      border-bottom-color: var(--fill-color);\n",
              "      border-left-color: var(--fill-color);\n",
              "    }\n",
              "    20% {\n",
              "      border-color: transparent;\n",
              "      border-left-color: var(--fill-color);\n",
              "      border-top-color: var(--fill-color);\n",
              "    }\n",
              "    30% {\n",
              "      border-color: transparent;\n",
              "      border-left-color: var(--fill-color);\n",
              "      border-top-color: var(--fill-color);\n",
              "      border-right-color: var(--fill-color);\n",
              "    }\n",
              "    40% {\n",
              "      border-color: transparent;\n",
              "      border-right-color: var(--fill-color);\n",
              "      border-top-color: var(--fill-color);\n",
              "    }\n",
              "    60% {\n",
              "      border-color: transparent;\n",
              "      border-right-color: var(--fill-color);\n",
              "    }\n",
              "    80% {\n",
              "      border-color: transparent;\n",
              "      border-right-color: var(--fill-color);\n",
              "      border-bottom-color: var(--fill-color);\n",
              "    }\n",
              "    90% {\n",
              "      border-color: transparent;\n",
              "      border-bottom-color: var(--fill-color);\n",
              "    }\n",
              "  }\n",
              "</style>\n",
              "\n",
              "  <script>\n",
              "    async function quickchart(key) {\n",
              "      const quickchartButtonEl =\n",
              "        document.querySelector('#' + key + ' button');\n",
              "      quickchartButtonEl.disabled = true;  // To prevent multiple clicks.\n",
              "      quickchartButtonEl.classList.add('colab-df-spinner');\n",
              "      try {\n",
              "        const charts = await google.colab.kernel.invokeFunction(\n",
              "            'suggestCharts', [key], {});\n",
              "      } catch (error) {\n",
              "        console.error('Error during call to suggestCharts:', error);\n",
              "      }\n",
              "      quickchartButtonEl.classList.remove('colab-df-spinner');\n",
              "      quickchartButtonEl.classList.add('colab-df-quickchart-complete');\n",
              "    }\n",
              "    (() => {\n",
              "      let quickchartButtonEl =\n",
              "        document.querySelector('#df-15a3c215-c5f2-4e7e-ba5d-01bf43e07808 button');\n",
              "      quickchartButtonEl.style.display =\n",
              "        google.colab.kernel.accessAllowed ? 'block' : 'none';\n",
              "    })();\n",
              "  </script>\n",
              "</div>\n",
              "    </div>\n",
              "  </div>\n"
            ]
          },
          "metadata": {},
          "execution_count": 55
        }
      ]
    },
    {
      "cell_type": "code",
      "source": [
        "#Data Preparation\n",
        "X = data4.iloc[:,:-1]\n",
        "y = data4.iloc[:,-1]\n",
        "\n",
        "#Data Splitting\n",
        "test_size= int(X.shape[0]/8)\n",
        "x_test= X[:test_size]\n",
        "y_test= y[:test_size]\n",
        "x_train= X[test_size:]\n",
        "y_train= y[test_size:]\n",
        "\n",
        "from sklearn import tree\n",
        "clf= tree.DecisionTreeClassifier()\n",
        "clf.fit(x_train,y_train)\n",
        "for i in tree.plot_tree(clf):\n",
        "  print(i,'\\n')\n"
      ],
      "metadata": {
        "id": "9H6K4lYlNbpT",
        "colab": {
          "base_uri": "https://localhost:8080/",
          "height": 1000
        },
        "outputId": "26ef3450-7774-4ea7-8021-0f059effb766"
      },
      "execution_count": null,
      "outputs": [
        {
          "output_type": "stream",
          "name": "stdout",
          "text": [
            "Annotation(0.602941, 0.928571, 'x[1] <= 3.5\\ngini = 0.462\\nsamples = 141\\nvalue = [90, 51]') \n",
            "\n",
            "Annotation(0.602941, 0.928571, 'x[0] <= 5.5\\ngini = 0.484\\nsamples = 83\\nvalue = [34, 49]') \n",
            "\n",
            "Annotation(0.382353, 0.785714, 'x[0] <= 3.5\\ngini = 0.245\\nsamples = 56\\nvalue = [8, 48]') \n",
            "\n",
            "Annotation(0.235294, 0.642857, 'x[1] <= 2.5\\ngini = 0.054\\nsamples = 36\\nvalue = [1, 35]') \n",
            "\n",
            "Annotation(0.117647, 0.5, 'gini = 0.0\\nsamples = 28\\nvalue = [0, 28]') \n",
            "\n",
            "Annotation(0.117647, 0.5, 'x[2] <= 4.5\\ngini = 0.219\\nsamples = 8\\nvalue = [1, 7]') \n",
            "\n",
            "Annotation(0.176471, 0.357143, 'x[0] <= 2.5\\ngini = 0.5\\nsamples = 2\\nvalue = [1, 1]') \n",
            "\n",
            "Annotation(0.117647, 0.214286, 'gini = 0.0\\nsamples = 1\\nvalue = [0, 1]') \n",
            "\n",
            "Annotation(0.117647, 0.214286, 'gini = 0.0\\nsamples = 1\\nvalue = [1, 0]') \n",
            "\n",
            "Annotation(0.176471, 0.357143, 'gini = 0.0\\nsamples = 6\\nvalue = [0, 6]') \n",
            "\n",
            "Annotation(0.235294, 0.642857, 'x[2] <= 3.5\\ngini = 0.455\\nsamples = 20\\nvalue = [7, 13]') \n",
            "\n",
            "Annotation(0.352941, 0.5, 'gini = 0.0\\nsamples = 5\\nvalue = [5, 0]') \n",
            "\n",
            "Annotation(0.352941, 0.5, 'x[1] <= 2.5\\ngini = 0.231\\nsamples = 15\\nvalue = [2, 13]') \n",
            "\n",
            "Annotation(0.411765, 0.357143, 'gini = 0.0\\nsamples = 11\\nvalue = [0, 11]') \n",
            "\n",
            "Annotation(0.411765, 0.357143, 'x[2] <= 6.5\\ngini = 0.5\\nsamples = 4\\nvalue = [2, 2]') \n",
            "\n",
            "Annotation(0.470588, 0.214286, 'gini = 0.0\\nsamples = 2\\nvalue = [2, 0]') \n",
            "\n",
            "Annotation(0.470588, 0.214286, 'gini = 0.0\\nsamples = 2\\nvalue = [0, 2]') \n",
            "\n",
            "Annotation(0.382353, 0.785714, 'x[2] <= 6.5\\ngini = 0.071\\nsamples = 27\\nvalue = [26, 1]') \n",
            "\n",
            "Annotation(0.529412, 0.642857, 'gini = 0.0\\nsamples = 22\\nvalue = [22, 0]') \n",
            "\n",
            "Annotation(0.529412, 0.642857, 'x[0] <= 6.5\\ngini = 0.32\\nsamples = 5\\nvalue = [4, 1]') \n",
            "\n",
            "Annotation(0.588235, 0.5, 'gini = 0.0\\nsamples = 1\\nvalue = [0, 1]') \n",
            "\n",
            "Annotation(0.588235, 0.5, 'gini = 0.0\\nsamples = 4\\nvalue = [4, 0]') \n",
            "\n",
            "Annotation(0.602941, 0.928571, 'x[2] <= 7.5\\ngini = 0.067\\nsamples = 58\\nvalue = [56, 2]') \n",
            "\n",
            "Annotation(0.823529, 0.785714, 'gini = 0.0\\nsamples = 49\\nvalue = [49, 0]') \n",
            "\n",
            "Annotation(0.823529, 0.785714, 'x[1] <= 4.5\\ngini = 0.346\\nsamples = 9\\nvalue = [7, 2]') \n",
            "\n",
            "Annotation(0.882353, 0.642857, 'x[0] <= 3.0\\ngini = 0.444\\nsamples = 3\\nvalue = [1, 2]') \n",
            "\n",
            "Annotation(0.823529, 0.5, 'gini = 0.0\\nsamples = 2\\nvalue = [0, 2]') \n",
            "\n",
            "Annotation(0.823529, 0.5, 'gini = 0.0\\nsamples = 1\\nvalue = [1, 0]') \n",
            "\n",
            "Annotation(0.882353, 0.642857, 'gini = 0.0\\nsamples = 6\\nvalue = [6, 0]') \n",
            "\n"
          ]
        },
        {
          "output_type": "display_data",
          "data": {
            "text/plain": [
              "<Figure size 640x480 with 1 Axes>"
            ],
            "image/png": "[encoded data removed]"
          },
          "metadata": {}
        }
      ]
    },
    {
      "cell_type": "markdown",
      "source": [
        "**6(b) Access the performance of the model**"
      ],
      "metadata": {
        "id": "q6HMv6MHR0t7"
      }
    },
    {
      "cell_type": "code",
      "source": [
        "#Performance of the model\n",
        "\n",
        "y_pred= clf.predict(x_test)\n",
        "def chi(y_pred,y_test):\n",
        "  return np.sqrt(np.sum((y_pred-y_test)/y_pred))\n",
        "\n",
        "print('The performance of the devised model using Chi-Square is',chi(y_pred,y_test))"
      ],
      "metadata": {
        "id": "6YR2ycfyRXSC",
        "colab": {
          "base_uri": "https://localhost:8080/"
        },
        "outputId": "457b1799-e7a0-443a-ffac-7e11678c0933"
      },
      "execution_count": null,
      "outputs": [
        {
          "output_type": "stream",
          "name": "stdout",
          "text": [
            "The performance of the devised model using Chi-Square is 2.0\n"
          ]
        }
      ]
    },
    {
      "cell_type": "markdown",
      "source": [
        "# **DATA 5**"
      ],
      "metadata": {
        "id": "d-pnqJjgTUrj"
      }
    },
    {
      "cell_type": "code",
      "source": [
        "data5= pd.read_csv('/content/drive/MyDrive/DM/assignment9/data5.csv',header= None)\n",
        "df5 = data5.copy()\n",
        "\n",
        "#Normalisation of data\n",
        "for col in df5:\n",
        "  df5[col]= df5[col]- df5[col].min()/ df5[col].max()- df5.min()\n",
        "\n",
        "data5.head()"
      ],
      "metadata": {
        "id": "iOlLGh61TY53",
        "colab": {
          "base_uri": "https://localhost:8080/",
          "height": 206
        },
        "outputId": "04609e9a-dce5-4867-d6a3-bdd827d4ae8e"
      },
      "execution_count": null,
      "outputs": [
        {
          "output_type": "execute_result",
          "data": {
            "text/plain": [
              "        0        1        2  3\n",
              "0 -48.780  -5.5458   2.4477 -1\n",
              "1 -48.612 -39.2840  12.7950 -1\n",
              "2 -46.885 -16.0340  -8.8351  1\n",
              "3 -46.384 -40.1080 -17.2380  1\n",
              "4 -46.007 -19.0540 -17.6810  1"
            ],
            "text/html": [
              "\n",
              "  <div id=\"df-41b72846-6a4c-407e-9b85-fff9cab43252\" class=\"colab-df-container\">\n",
              "    <div>\n",
              "<style scoped>\n",
              "    .dataframe tbody tr th:only-of-type {\n",
              "        vertical-align: middle;\n",
              "    }\n",
              "\n",
              "    .dataframe tbody tr th {\n",
              "        vertical-align: top;\n",
              "    }\n",
              "\n",
              "    .dataframe thead th {\n",
              "        text-align: right;\n",
              "    }\n",
              "</style>\n",
              "<table border=\"1\" class=\"dataframe\">\n",
              "  <thead>\n",
              "    <tr style=\"text-align: right;\">\n",
              "      <th></th>\n",
              "      <th>0</th>\n",
              "      <th>1</th>\n",
              "      <th>2</th>\n",
              "      <th>3</th>\n",
              "    </tr>\n",
              "  </thead>\n",
              "  <tbody>\n",
              "    <tr>\n",
              "      <th>0</th>\n",
              "      <td>-48.780</td>\n",
              "      <td>-5.5458</td>\n",
              "      <td>2.4477</td>\n",
              "      <td>-1</td>\n",
              "    </tr>\n",
              "    <tr>\n",
              "      <th>1</th>\n",
              "      <td>-48.612</td>\n",
              "      <td>-39.2840</td>\n",
              "      <td>12.7950</td>\n",
              "      <td>-1</td>\n",
              "    </tr>\n",
              "    <tr>\n",
              "      <th>2</th>\n",
              "      <td>-46.885</td>\n",
              "      <td>-16.0340</td>\n",
              "      <td>-8.8351</td>\n",
              "      <td>1</td>\n",
              "    </tr>\n",
              "    <tr>\n",
              "      <th>3</th>\n",
              "      <td>-46.384</td>\n",
              "      <td>-40.1080</td>\n",
              "      <td>-17.2380</td>\n",
              "      <td>1</td>\n",
              "    </tr>\n",
              "    <tr>\n",
              "      <th>4</th>\n",
              "      <td>-46.007</td>\n",
              "      <td>-19.0540</td>\n",
              "      <td>-17.6810</td>\n",
              "      <td>1</td>\n",
              "    </tr>\n",
              "  </tbody>\n",
              "</table>\n",
              "</div>\n",
              "    <div class=\"colab-df-buttons\">\n",
              "\n",
              "  <div class=\"colab-df-container\">\n",
              "    <button class=\"colab-df-convert\" onclick=\"convertToInteractive('df-41b72846-6a4c-407e-9b85-fff9cab43252')\"\n",
              "            title=\"Convert this dataframe to an interactive table.\"\n",
              "            style=\"display:none;\">\n",
              "\n",
              "  <svg xmlns=\"http://www.w3.org/2000/svg\" height=\"24px\" viewBox=\"0 -960 960 960\">\n",
              "    <path d=\"M120-120v-720h720v720H120Zm60-500h600v-160H180v160Zm220 220h160v-160H400v160Zm0 220h160v-160H400v160ZM180-400h160v-160H180v160Zm440 0h160v-160H620v160ZM180-180h160v-160H180v160Zm440 0h160v-160H620v160Z\"/>\n",
              "  </svg>\n",
              "    </button>\n",
              "\n",
              "  <style>\n",
              "    .colab-df-container {\n",
              "      display:flex;\n",
              "      gap: 12px;\n",
              "    }\n",
              "\n",
              "    .colab-df-convert {\n",
              "      background-color: #E8F0FE;\n",
              "      border: none;\n",
              "      border-radius: 50%;\n",
              "      cursor: pointer;\n",
              "      display: none;\n",
              "      fill: #1967D2;\n",
              "      height: 32px;\n",
              "      padding: 0 0 0 0;\n",
              "      width: 32px;\n",
              "    }\n",
              "\n",
              "    .colab-df-convert:hover {\n",
              "      background-color: #E2EBFA;\n",
              "      box-shadow: 0px 1px 2px rgba(60, 64, 67, 0.3), 0px 1px 3px 1px rgba(60, 64, 67, 0.15);\n",
              "      fill: #174EA6;\n",
              "    }\n",
              "\n",
              "    .colab-df-buttons div {\n",
              "      margin-bottom: 4px;\n",
              "    }\n",
              "\n",
              "    [theme=dark] .colab-df-convert {\n",
              "      background-color: #3B4455;\n",
              "      fill: #D2E3FC;\n",
              "    }\n",
              "\n",
              "    [theme=dark] .colab-df-convert:hover {\n",
              "      background-color: #434B5C;\n",
              "      box-shadow: 0px 1px 3px 1px rgba(0, 0, 0, 0.15);\n",
              "      filter: drop-shadow(0px 1px 2px rgba(0, 0, 0, 0.3));\n",
              "      fill: #FFFFFF;\n",
              "    }\n",
              "  </style>\n",
              "\n",
              "    <script>\n",
              "      const buttonEl =\n",
              "        document.querySelector('#df-41b72846-6a4c-407e-9b85-fff9cab43252 button.colab-df-convert');\n",
              "      buttonEl.style.display =\n",
              "        google.colab.kernel.accessAllowed ? 'block' : 'none';\n",
              "\n",
              "      async function convertToInteractive(key) {\n",
              "        const element = document.querySelector('#df-41b72846-6a4c-407e-9b85-fff9cab43252');\n",
              "        const dataTable =\n",
              "          await google.colab.kernel.invokeFunction('convertToInteractive',\n",
              "                                                    [key], {});\n",
              "        if (!dataTable) return;\n",
              "\n",
              "        const docLinkHtml = 'Like what you see? Visit the ' +\n",
              "          '<a target=\"_blank\" href=https://colab.research.google.com/notebooks/data_table.ipynb>data table notebook</a>'\n",
              "          + ' to learn more about interactive tables.';\n",
              "        element.innerHTML = '';\n",
              "        dataTable['output_type'] = 'display_data';\n",
              "        await google.colab.output.renderOutput(dataTable, element);\n",
              "        const docLink = document.createElement('div');\n",
              "        docLink.innerHTML = docLinkHtml;\n",
              "        element.appendChild(docLink);\n",
              "      }\n",
              "    </script>\n",
              "  </div>\n",
              "\n",
              "\n",
              "<div id=\"df-e07b090c-d652-4fd7-a148-7f2ddaf3b53e\">\n",
              "  <button class=\"colab-df-quickchart\" onclick=\"quickchart('df-e07b090c-d652-4fd7-a148-7f2ddaf3b53e')\"\n",
              "            title=\"Suggest charts\"\n",
              "            style=\"display:none;\">\n",
              "\n",
              "<svg xmlns=\"http://www.w3.org/2000/svg\" height=\"24px\"viewBox=\"0 0 24 24\"\n",
              "     width=\"24px\">\n",
              "    <g>\n",
              "        <path d=\"M19 3H5c-1.1 0-2 .9-2 2v14c0 1.1.9 2 2 2h14c1.1 0 2-.9 2-2V5c0-1.1-.9-2-2-2zM9 17H7v-7h2v7zm4 0h-2V7h2v10zm4 0h-2v-4h2v4z\"/>\n",
              "    </g>\n",
              "</svg>\n",
              "  </button>\n",
              "\n",
              "<style>\n",
              "  .colab-df-quickchart {\n",
              "      --bg-color: #E8F0FE;\n",
              "      --fill-color: #1967D2;\n",
              "      --hover-bg-color: #E2EBFA;\n",
              "      --hover-fill-color: #174EA6;\n",
              "      --disabled-fill-color: #AAA;\n",
              "      --disabled-bg-color: #DDD;\n",
              "  }\n",
              "\n",
              "  [theme=dark] .colab-df-quickchart {\n",
              "      --bg-color: #3B4455;\n",
              "      --fill-color: #D2E3FC;\n",
              "      --hover-bg-color: #434B5C;\n",
              "      --hover-fill-color: #FFFFFF;\n",
              "      --disabled-bg-color: #3B4455;\n",
              "      --disabled-fill-color: #666;\n",
              "  }\n",
              "\n",
              "  .colab-df-quickchart {\n",
              "    background-color: var(--bg-color);\n",
              "    border: none;\n",
              "    border-radius: 50%;\n",
              "    cursor: pointer;\n",
              "    display: none;\n",
              "    fill: var(--fill-color);\n",
              "    height: 32px;\n",
              "    padding: 0;\n",
              "    width: 32px;\n",
              "  }\n",
              "\n",
              "  .colab-df-quickchart:hover {\n",
              "    background-color: var(--hover-bg-color);\n",
              "    box-shadow: 0 1px 2px rgba(60, 64, 67, 0.3), 0 1px 3px 1px rgba(60, 64, 67, 0.15);\n",
              "    fill: var(--button-hover-fill-color);\n",
              "  }\n",
              "\n",
              "  .colab-df-quickchart-complete:disabled,\n",
              "  .colab-df-quickchart-complete:disabled:hover {\n",
              "    background-color: var(--disabled-bg-color);\n",
              "    fill: var(--disabled-fill-color);\n",
              "    box-shadow: none;\n",
              "  }\n",
              "\n",
              "  .colab-df-spinner {\n",
              "    border: 2px solid var(--fill-color);\n",
              "    border-color: transparent;\n",
              "    border-bottom-color: var(--fill-color);\n",
              "    animation:\n",
              "      spin 1s steps(1) infinite;\n",
              "  }\n",
              "\n",
              "  @keyframes spin {\n",
              "    0% {\n",
              "      border-color: transparent;\n",
              "      border-bottom-color: var(--fill-color);\n",
              "      border-left-color: var(--fill-color);\n",
              "    }\n",
              "    20% {\n",
              "      border-color: transparent;\n",
              "      border-left-color: var(--fill-color);\n",
              "      border-top-color: var(--fill-color);\n",
              "    }\n",
              "    30% {\n",
              "      border-color: transparent;\n",
              "      border-left-color: var(--fill-color);\n",
              "      border-top-color: var(--fill-color);\n",
              "      border-right-color: var(--fill-color);\n",
              "    }\n",
              "    40% {\n",
              "      border-color: transparent;\n",
              "      border-right-color: var(--fill-color);\n",
              "      border-top-color: var(--fill-color);\n",
              "    }\n",
              "    60% {\n",
              "      border-color: transparent;\n",
              "      border-right-color: var(--fill-color);\n",
              "    }\n",
              "    80% {\n",
              "      border-color: transparent;\n",
              "      border-right-color: var(--fill-color);\n",
              "      border-bottom-color: var(--fill-color);\n",
              "    }\n",
              "    90% {\n",
              "      border-color: transparent;\n",
              "      border-bottom-color: var(--fill-color);\n",
              "    }\n",
              "  }\n",
              "</style>\n",
              "\n",
              "  <script>\n",
              "    async function quickchart(key) {\n",
              "      const quickchartButtonEl =\n",
              "        document.querySelector('#' + key + ' button');\n",
              "      quickchartButtonEl.disabled = true;  // To prevent multiple clicks.\n",
              "      quickchartButtonEl.classList.add('colab-df-spinner');\n",
              "      try {\n",
              "        const charts = await google.colab.kernel.invokeFunction(\n",
              "            'suggestCharts', [key], {});\n",
              "      } catch (error) {\n",
              "        console.error('Error during call to suggestCharts:', error);\n",
              "      }\n",
              "      quickchartButtonEl.classList.remove('colab-df-spinner');\n",
              "      quickchartButtonEl.classList.add('colab-df-quickchart-complete');\n",
              "    }\n",
              "    (() => {\n",
              "      let quickchartButtonEl =\n",
              "        document.querySelector('#df-e07b090c-d652-4fd7-a148-7f2ddaf3b53e button');\n",
              "      quickchartButtonEl.style.display =\n",
              "        google.colab.kernel.accessAllowed ? 'block' : 'none';\n",
              "    })();\n",
              "  </script>\n",
              "</div>\n",
              "    </div>\n",
              "  </div>\n"
            ]
          },
          "metadata": {},
          "execution_count": 22
        }
      ]
    },
    {
      "cell_type": "code",
      "source": [
        "#Data Preparation\n",
        "X = data5.iloc[:,:-1]\n",
        "y = data5.iloc[:,-1]\n",
        "\n",
        "#Data Splitting\n",
        "test_size= int(X.shape[0]/8)\n",
        "x_test= X[:test_size]\n",
        "y_test= y[:test_size]\n",
        "x_train= X[test_size:]\n",
        "y_train= y[test_size:]\n",
        "\n",
        "from sklearn import tree\n",
        "clf= tree.DecisionTreeClassifier()\n",
        "clf.fit(x_train,y_train)\n",
        "for i in tree.plot_tree(clf):\n",
        "  print(i,'\\n')\n"
      ],
      "metadata": {
        "id": "-dSbPLNkTld9",
        "colab": {
          "base_uri": "https://localhost:8080/",
          "height": 1000
        },
        "outputId": "4d560c44-4b81-40d8-f7ea-7d5d00842888"
      },
      "execution_count": null,
      "outputs": [
        {
          "output_type": "stream",
          "name": "stdout",
          "text": [
            "Annotation(0.491071, 0.928571, 'x[2] <= 19.068\\ngini = 0.5\\nsamples = 183\\nvalue = [90, 93]') \n",
            "\n",
            "Annotation(0.491071, 0.928571, 'x[0] <= 15.351\\ngini = 0.486\\nsamples = 120\\nvalue = [70, 50]') \n",
            "\n",
            "Annotation(0.285714, 0.785714, 'x[1] <= -26.78\\ngini = 0.332\\nsamples = 57\\nvalue = [45, 12]') \n",
            "\n",
            "Annotation(0.142857, 0.642857, 'x[0] <= -15.39\\ngini = 0.494\\nsamples = 18\\nvalue = [8, 10]') \n",
            "\n",
            "Annotation(0.0714286, 0.5, 'gini = 0.0\\nsamples = 7\\nvalue = [0, 7]') \n",
            "\n",
            "Annotation(0.0714286, 0.5, 'x[2] <= -35.019\\ngini = 0.397\\nsamples = 11\\nvalue = [8, 3]') \n",
            "\n",
            "Annotation(0.107143, 0.357143, 'x[0] <= 3.691\\ngini = 0.375\\nsamples = 4\\nvalue = [1, 3]') \n",
            "\n",
            "Annotation(0.0714286, 0.214286, 'gini = 0.0\\nsamples = 3\\nvalue = [0, 3]') \n",
            "\n",
            "Annotation(0.0714286, 0.214286, 'gini = 0.0\\nsamples = 1\\nvalue = [1, 0]') \n",
            "\n",
            "Annotation(0.107143, 0.357143, 'gini = 0.0\\nsamples = 7\\nvalue = [7, 0]') \n",
            "\n",
            "Annotation(0.142857, 0.642857, 'x[2] <= -47.608\\ngini = 0.097\\nsamples = 39\\nvalue = [37, 2]') \n",
            "\n",
            "Annotation(0.214286, 0.5, 'gini = 0.0\\nsamples = 1\\nvalue = [0, 1]') \n",
            "\n",
            "Annotation(0.214286, 0.5, 'x[1] <= 43.513\\ngini = 0.051\\nsamples = 38\\nvalue = [37, 1]') \n",
            "\n",
            "Annotation(0.25, 0.357143, 'gini = 0.0\\nsamples = 35\\nvalue = [35, 0]') \n",
            "\n",
            "Annotation(0.25, 0.357143, 'x[0] <= -1.85\\ngini = 0.444\\nsamples = 3\\nvalue = [2, 1]') \n",
            "\n",
            "Annotation(0.285714, 0.214286, 'gini = 0.0\\nsamples = 2\\nvalue = [2, 0]') \n",
            "\n",
            "Annotation(0.285714, 0.214286, 'gini = 0.0\\nsamples = 1\\nvalue = [0, 1]') \n",
            "\n",
            "Annotation(0.285714, 0.785714, 'x[1] <= 2.98\\ngini = 0.479\\nsamples = 63\\nvalue = [25, 38]') \n",
            "\n",
            "Annotation(0.428571, 0.642857, 'x[2] <= 6.697\\ngini = 0.386\\nsamples = 23\\nvalue = [17, 6]') \n",
            "\n",
            "Annotation(0.357143, 0.5, 'gini = 0.0\\nsamples = 17\\nvalue = [17, 0]') \n",
            "\n",
            "Annotation(0.357143, 0.5, 'gini = 0.0\\nsamples = 6\\nvalue = [0, 6]') \n",
            "\n",
            "Annotation(0.428571, 0.642857, 'x[2] <= -2.579\\ngini = 0.32\\nsamples = 40\\nvalue = [8, 32]') \n",
            "\n",
            "Annotation(0.5, 0.5, 'x[2] <= -8.074\\ngini = 0.059\\nsamples = 33\\nvalue = [1, 32]') \n",
            "\n",
            "Annotation(0.464286, 0.357143, 'gini = 0.0\\nsamples = 29\\nvalue = [0, 29]') \n",
            "\n",
            "Annotation(0.464286, 0.357143, 'x[2] <= -7.64\\ngini = 0.375\\nsamples = 4\\nvalue = [1, 3]') \n",
            "\n",
            "Annotation(0.5, 0.214286, 'gini = 0.0\\nsamples = 1\\nvalue = [1, 0]') \n",
            "\n",
            "Annotation(0.5, 0.214286, 'gini = 0.0\\nsamples = 3\\nvalue = [0, 3]') \n",
            "\n",
            "Annotation(0.5, 0.5, 'gini = 0.0\\nsamples = 7\\nvalue = [7, 0]') \n",
            "\n",
            "Annotation(0.491071, 0.928571, 'x[0] <= -25.113\\ngini = 0.433\\nsamples = 63\\nvalue = [20, 43]') \n",
            "\n",
            "Annotation(0.696429, 0.785714, 'x[1] <= -7.22\\ngini = 0.111\\nsamples = 17\\nvalue = [1, 16]') \n",
            "\n",
            "Annotation(0.607143, 0.642857, 'gini = 0.0\\nsamples = 1\\nvalue = [1, 0]') \n",
            "\n",
            "Annotation(0.607143, 0.642857, 'gini = 0.0\\nsamples = 16\\nvalue = [0, 16]') \n",
            "\n",
            "Annotation(0.696429, 0.785714, 'x[1] <= -12.03\\ngini = 0.485\\nsamples = 46\\nvalue = [19, 27]') \n",
            "\n",
            "Annotation(0.785714, 0.642857, 'x[0] <= 2.085\\ngini = 0.287\\nsamples = 23\\nvalue = [4, 19]') \n",
            "\n",
            "Annotation(0.714286, 0.5, 'gini = 0.0\\nsamples = 4\\nvalue = [4, 0]') \n",
            "\n",
            "Annotation(0.714286, 0.5, 'gini = 0.0\\nsamples = 19\\nvalue = [0, 19]') \n",
            "\n",
            "Annotation(0.785714, 0.642857, 'x[0] <= -4.928\\ngini = 0.454\\nsamples = 23\\nvalue = [15, 8]') \n",
            "\n",
            "Annotation(0.857143, 0.5, 'gini = 0.0\\nsamples = 7\\nvalue = [0, 7]') \n",
            "\n",
            "Annotation(0.857143, 0.5, 'x[0] <= 40.668\\ngini = 0.117\\nsamples = 16\\nvalue = [15, 1]') \n",
            "\n",
            "Annotation(0.892857, 0.357143, 'gini = 0.0\\nsamples = 14\\nvalue = [14, 0]') \n",
            "\n",
            "Annotation(0.892857, 0.357143, 'x[0] <= 48.008\\ngini = 0.5\\nsamples = 2\\nvalue = [1, 1]') \n",
            "\n",
            "Annotation(0.928571, 0.214286, 'gini = 0.0\\nsamples = 1\\nvalue = [0, 1]') \n",
            "\n",
            "Annotation(0.928571, 0.214286, 'gini = 0.0\\nsamples = 1\\nvalue = [1, 0]') \n",
            "\n"
          ]
        },
        {
          "output_type": "display_data",
          "data": {
            "text/plain": [
              "<Figure size 640x480 with 1 Axes>"
            ],
            "image/png": "[encoded data removed]"
          },
          "metadata": {}
        }
      ]
    },
    {
      "cell_type": "code",
      "source": [
        "#Performance of the model\n",
        "\n",
        "y_pred= clf.predict(x_test)\n",
        "def chi(y_pred,y_test):\n",
        "  return np.sqrt(np.sum((y_pred-y_test)/y_pred))\n",
        "\n",
        "print('The performance of the devised model using Chi-Square is',chi(y_pred,y_test))"
      ],
      "metadata": {
        "id": "0HJOR9MtTu1o",
        "colab": {
          "base_uri": "https://localhost:8080/"
        },
        "outputId": "51c581a1-2982-461f-f828-5f511e55f25b"
      },
      "execution_count": null,
      "outputs": [
        {
          "output_type": "stream",
          "name": "stdout",
          "text": [
            "The performance of the devised model using Chi-Square is 4.0\n"
          ]
        }
      ]
    },
    {
      "cell_type": "markdown",
      "source": [
        "# **DATA 6**"
      ],
      "metadata": {
        "id": "vDucRBMpWI70"
      }
    },
    {
      "cell_type": "markdown",
      "source": [
        "**Preprocessing procedure**\\\n",
        "Huge amount of preprocessing work is done with this data. The first step taken is to build the dataset. This is done by finding the nth powers of data first attribute. And all these powered- attribute values are vertically stacked and the dataset of n-columns is prepared. \\\n",
        "\n",
        "\n",
        "\n",
        "**Validation procedure**\\\n",
        "The whole dataset is again further broken down into 2sets- \\\n",
        "namely\\\n",
        "      Training set,\\\n",
        "      Testing set\\\n",
        "The training set is used to find the coefficents of the model approximately such that the cost function is minimised.\n",
        "With those coefficients the generalisation error is determined.\n"
      ],
      "metadata": {
        "id": "7wXnoPprmd9Q"
      }
    },
    {
      "cell_type": "code",
      "source": [
        "data6= pd.read_csv('data6.csv',header= None)\n",
        "\n",
        "#Data Preparation\n",
        "X= data6.iloc[:,0]\n",
        "y= data6.iloc[:,-1]\n",
        "data6.head()"
      ],
      "metadata": {
        "id": "pV8Ox8daWMlR",
        "colab": {
          "base_uri": "https://localhost:8080/",
          "height": 206
        },
        "outputId": "8570aab4-1e8f-46a9-fe46-1e0e5a81fc45"
      },
      "execution_count": null,
      "outputs": [
        {
          "output_type": "execute_result",
          "data": {
            "text/plain": [
              "         0          1\n",
              "0  1.46210   8.527200\n",
              "1 -2.36450  12.077000\n",
              "2  1.08940   2.808600\n",
              "3 -0.22044  -0.088805\n",
              "4 -1.72700  15.003000"
            ],
            "text/html": [
              "\n",
              "  <div id=\"df-39c2d50d-dc9e-4dee-bce8-177b8b750e9d\" class=\"colab-df-container\">\n",
              "    <div>\n",
              "<style scoped>\n",
              "    .dataframe tbody tr th:only-of-type {\n",
              "        vertical-align: middle;\n",
              "    }\n",
              "\n",
              "    .dataframe tbody tr th {\n",
              "        vertical-align: top;\n",
              "    }\n",
              "\n",
              "    .dataframe thead th {\n",
              "        text-align: right;\n",
              "    }\n",
              "</style>\n",
              "<table border=\"1\" class=\"dataframe\">\n",
              "  <thead>\n",
              "    <tr style=\"text-align: right;\">\n",
              "      <th></th>\n",
              "      <th>0</th>\n",
              "      <th>1</th>\n",
              "    </tr>\n",
              "  </thead>\n",
              "  <tbody>\n",
              "    <tr>\n",
              "      <th>0</th>\n",
              "      <td>1.46210</td>\n",
              "      <td>8.527200</td>\n",
              "    </tr>\n",
              "    <tr>\n",
              "      <th>1</th>\n",
              "      <td>-2.36450</td>\n",
              "      <td>12.077000</td>\n",
              "    </tr>\n",
              "    <tr>\n",
              "      <th>2</th>\n",
              "      <td>1.08940</td>\n",
              "      <td>2.808600</td>\n",
              "    </tr>\n",
              "    <tr>\n",
              "      <th>3</th>\n",
              "      <td>-0.22044</td>\n",
              "      <td>-0.088805</td>\n",
              "    </tr>\n",
              "    <tr>\n",
              "      <th>4</th>\n",
              "      <td>-1.72700</td>\n",
              "      <td>15.003000</td>\n",
              "    </tr>\n",
              "  </tbody>\n",
              "</table>\n",
              "</div>\n",
              "    <div class=\"colab-df-buttons\">\n",
              "\n",
              "  <div class=\"colab-df-container\">\n",
              "    <button class=\"colab-df-convert\" onclick=\"convertToInteractive('df-39c2d50d-dc9e-4dee-bce8-177b8b750e9d')\"\n",
              "            title=\"Convert this dataframe to an interactive table.\"\n",
              "            style=\"display:none;\">\n",
              "\n",
              "  <svg xmlns=\"http://www.w3.org/2000/svg\" height=\"24px\" viewBox=\"0 -960 960 960\">\n",
              "    <path d=\"M120-120v-720h720v720H120Zm60-500h600v-160H180v160Zm220 220h160v-160H400v160Zm0 220h160v-160H400v160ZM180-400h160v-160H180v160Zm440 0h160v-160H620v160ZM180-180h160v-160H180v160Zm440 0h160v-160H620v160Z\"/>\n",
              "  </svg>\n",
              "    </button>\n",
              "\n",
              "  <style>\n",
              "    .colab-df-container {\n",
              "      display:flex;\n",
              "      gap: 12px;\n",
              "    }\n",
              "\n",
              "    .colab-df-convert {\n",
              "      background-color: #E8F0FE;\n",
              "      border: none;\n",
              "      border-radius: 50%;\n",
              "      cursor: pointer;\n",
              "      display: none;\n",
              "      fill: #1967D2;\n",
              "      height: 32px;\n",
              "      padding: 0 0 0 0;\n",
              "      width: 32px;\n",
              "    }\n",
              "\n",
              "    .colab-df-convert:hover {\n",
              "      background-color: #E2EBFA;\n",
              "      box-shadow: 0px 1px 2px rgba(60, 64, 67, 0.3), 0px 1px 3px 1px rgba(60, 64, 67, 0.15);\n",
              "      fill: #174EA6;\n",
              "    }\n",
              "\n",
              "    .colab-df-buttons div {\n",
              "      margin-bottom: 4px;\n",
              "    }\n",
              "\n",
              "    [theme=dark] .colab-df-convert {\n",
              "      background-color: #3B4455;\n",
              "      fill: #D2E3FC;\n",
              "    }\n",
              "\n",
              "    [theme=dark] .colab-df-convert:hover {\n",
              "      background-color: #434B5C;\n",
              "      box-shadow: 0px 1px 3px 1px rgba(0, 0, 0, 0.15);\n",
              "      filter: drop-shadow(0px 1px 2px rgba(0, 0, 0, 0.3));\n",
              "      fill: #FFFFFF;\n",
              "    }\n",
              "  </style>\n",
              "\n",
              "    <script>\n",
              "      const buttonEl =\n",
              "        document.querySelector('#df-39c2d50d-dc9e-4dee-bce8-177b8b750e9d button.colab-df-convert');\n",
              "      buttonEl.style.display =\n",
              "        google.colab.kernel.accessAllowed ? 'block' : 'none';\n",
              "\n",
              "      async function convertToInteractive(key) {\n",
              "        const element = document.querySelector('#df-39c2d50d-dc9e-4dee-bce8-177b8b750e9d');\n",
              "        const dataTable =\n",
              "          await google.colab.kernel.invokeFunction('convertToInteractive',\n",
              "                                                    [key], {});\n",
              "        if (!dataTable) return;\n",
              "\n",
              "        const docLinkHtml = 'Like what you see? Visit the ' +\n",
              "          '<a target=\"_blank\" href=https://colab.research.google.com/notebooks/data_table.ipynb>data table notebook</a>'\n",
              "          + ' to learn more about interactive tables.';\n",
              "        element.innerHTML = '';\n",
              "        dataTable['output_type'] = 'display_data';\n",
              "        await google.colab.output.renderOutput(dataTable, element);\n",
              "        const docLink = document.createElement('div');\n",
              "        docLink.innerHTML = docLinkHtml;\n",
              "        element.appendChild(docLink);\n",
              "      }\n",
              "    </script>\n",
              "  </div>\n",
              "\n",
              "\n",
              "<div id=\"df-acf4b206-19b9-4949-bf76-cb35285cc520\">\n",
              "  <button class=\"colab-df-quickchart\" onclick=\"quickchart('df-acf4b206-19b9-4949-bf76-cb35285cc520')\"\n",
              "            title=\"Suggest charts\"\n",
              "            style=\"display:none;\">\n",
              "\n",
              "<svg xmlns=\"http://www.w3.org/2000/svg\" height=\"24px\"viewBox=\"0 0 24 24\"\n",
              "     width=\"24px\">\n",
              "    <g>\n",
              "        <path d=\"M19 3H5c-1.1 0-2 .9-2 2v14c0 1.1.9 2 2 2h14c1.1 0 2-.9 2-2V5c0-1.1-.9-2-2-2zM9 17H7v-7h2v7zm4 0h-2V7h2v10zm4 0h-2v-4h2v4z\"/>\n",
              "    </g>\n",
              "</svg>\n",
              "  </button>\n",
              "\n",
              "<style>\n",
              "  .colab-df-quickchart {\n",
              "      --bg-color: #E8F0FE;\n",
              "      --fill-color: #1967D2;\n",
              "      --hover-bg-color: #E2EBFA;\n",
              "      --hover-fill-color: #174EA6;\n",
              "      --disabled-fill-color: #AAA;\n",
              "      --disabled-bg-color: #DDD;\n",
              "  }\n",
              "\n",
              "  [theme=dark] .colab-df-quickchart {\n",
              "      --bg-color: #3B4455;\n",
              "      --fill-color: #D2E3FC;\n",
              "      --hover-bg-color: #434B5C;\n",
              "      --hover-fill-color: #FFFFFF;\n",
              "      --disabled-bg-color: #3B4455;\n",
              "      --disabled-fill-color: #666;\n",
              "  }\n",
              "\n",
              "  .colab-df-quickchart {\n",
              "    background-color: var(--bg-color);\n",
              "    border: none;\n",
              "    border-radius: 50%;\n",
              "    cursor: pointer;\n",
              "    display: none;\n",
              "    fill: var(--fill-color);\n",
              "    height: 32px;\n",
              "    padding: 0;\n",
              "    width: 32px;\n",
              "  }\n",
              "\n",
              "  .colab-df-quickchart:hover {\n",
              "    background-color: var(--hover-bg-color);\n",
              "    box-shadow: 0 1px 2px rgba(60, 64, 67, 0.3), 0 1px 3px 1px rgba(60, 64, 67, 0.15);\n",
              "    fill: var(--button-hover-fill-color);\n",
              "  }\n",
              "\n",
              "  .colab-df-quickchart-complete:disabled,\n",
              "  .colab-df-quickchart-complete:disabled:hover {\n",
              "    background-color: var(--disabled-bg-color);\n",
              "    fill: var(--disabled-fill-color);\n",
              "    box-shadow: none;\n",
              "  }\n",
              "\n",
              "  .colab-df-spinner {\n",
              "    border: 2px solid var(--fill-color);\n",
              "    border-color: transparent;\n",
              "    border-bottom-color: var(--fill-color);\n",
              "    animation:\n",
              "      spin 1s steps(1) infinite;\n",
              "  }\n",
              "\n",
              "  @keyframes spin {\n",
              "    0% {\n",
              "      border-color: transparent;\n",
              "      border-bottom-color: var(--fill-color);\n",
              "      border-left-color: var(--fill-color);\n",
              "    }\n",
              "    20% {\n",
              "      border-color: transparent;\n",
              "      border-left-color: var(--fill-color);\n",
              "      border-top-color: var(--fill-color);\n",
              "    }\n",
              "    30% {\n",
              "      border-color: transparent;\n",
              "      border-left-color: var(--fill-color);\n",
              "      border-top-color: var(--fill-color);\n",
              "      border-right-color: var(--fill-color);\n",
              "    }\n",
              "    40% {\n",
              "      border-color: transparent;\n",
              "      border-right-color: var(--fill-color);\n",
              "      border-top-color: var(--fill-color);\n",
              "    }\n",
              "    60% {\n",
              "      border-color: transparent;\n",
              "      border-right-color: var(--fill-color);\n",
              "    }\n",
              "    80% {\n",
              "      border-color: transparent;\n",
              "      border-right-color: var(--fill-color);\n",
              "      border-bottom-color: var(--fill-color);\n",
              "    }\n",
              "    90% {\n",
              "      border-color: transparent;\n",
              "      border-bottom-color: var(--fill-color);\n",
              "    }\n",
              "  }\n",
              "</style>\n",
              "\n",
              "  <script>\n",
              "    async function quickchart(key) {\n",
              "      const quickchartButtonEl =\n",
              "        document.querySelector('#' + key + ' button');\n",
              "      quickchartButtonEl.disabled = true;  // To prevent multiple clicks.\n",
              "      quickchartButtonEl.classList.add('colab-df-spinner');\n",
              "      try {\n",
              "        const charts = await google.colab.kernel.invokeFunction(\n",
              "            'suggestCharts', [key], {});\n",
              "      } catch (error) {\n",
              "        console.error('Error during call to suggestCharts:', error);\n",
              "      }\n",
              "      quickchartButtonEl.classList.remove('colab-df-spinner');\n",
              "      quickchartButtonEl.classList.add('colab-df-quickchart-complete');\n",
              "    }\n",
              "    (() => {\n",
              "      let quickchartButtonEl =\n",
              "        document.querySelector('#df-acf4b206-19b9-4949-bf76-cb35285cc520 button');\n",
              "      quickchartButtonEl.style.display =\n",
              "        google.colab.kernel.accessAllowed ? 'block' : 'none';\n",
              "    })();\n",
              "  </script>\n",
              "</div>\n",
              "    </div>\n",
              "  </div>\n"
            ]
          },
          "metadata": {},
          "execution_count": 69
        }
      ]
    },
    {
      "cell_type": "code",
      "source": [
        "#5th degree polynomial models\n",
        "x=[]\n",
        "X5= np.zeros((X.shape[0],5))\n",
        "for i in range(X.shape[0]):\n",
        "  for j in range(1,6):\n",
        "    x.append(X[i] **j)\n",
        "x1= x[0:100]; x2=x[100:200]; x3=x[200:300];x4= x[300:400];x5=x[400:500]\n",
        "X_t= np.vstack((x1,x2,x3,x4,x5))\n",
        "Xp= X_t.T"
      ],
      "metadata": {
        "id": "1hdjwUYhXbEb"
      },
      "execution_count": null,
      "outputs": []
    },
    {
      "cell_type": "code",
      "source": [
        "#Data Splitting\n",
        "test_size= int(Xp.shape[0]/8)\n",
        "x_test= Xp[:test_size]\n",
        "y_test= y[:test_size]\n",
        "x_train= Xp[test_size:]\n",
        "y_train= y[test_size:]"
      ],
      "metadata": {
        "id": "s20ZQaCvlBDk"
      },
      "execution_count": null,
      "outputs": []
    },
    {
      "cell_type": "markdown",
      "source": [
        "**(b)Report the parameters of the model**"
      ],
      "metadata": {
        "id": "-7t0sV5RTBJm"
      }
    },
    {
      "cell_type": "code",
      "source": [
        "#Initial Conditions\n",
        "W = np.zeros(Xp.shape[1])\n",
        "W0 = 0\n",
        "\n",
        "#Cost Function\n",
        "def cost(x,y,w,w0,k):\n",
        "  pred = x.dot(w)\n",
        "  pred += np.full_like(pred, w0)\n",
        "  loss = pred - y\n",
        "  cost_value = ((1/2) * np.sum(np.square(loss))) + (k/2)*np.square(np.linalg.norm(w))\n",
        "  return cost_value\n",
        "\n",
        "#Gradient Function\n",
        "def grad(Xp,y,w,w0,lr,k,iter):\n",
        "  x=pd.DataFrame(Xp)\n",
        "  n = len(y)\n",
        "  cost_iter = np.zeros(iter)\n",
        "  for i in range(iter):\n",
        "    for j in range(n):\n",
        "      pred = x.iloc[j].dot(w)\n",
        "      pred += np.full_like(pred, w0)\n",
        "      loss = pred - y.iloc[j]\n",
        "      w0 = w0 - lr * loss\n",
        "      w = w * (1 - lr * k) - np.dot(lr * loss, x.iloc[j])\n",
        "    cost_iter[i] = cost(x,y,w,w0,k)\n",
        "  return w,w0,cost_iter\n",
        "\n",
        "W_final, W0_final,cost_values1= grad(Xp,y,W,W0,lr=0.0001,k=0.1,iter=10)\n",
        "print(f'The parameters of the model are: {W0}')\n",
        "for i in W_final:\n",
        "  print('%.2f'%i)"
      ],
      "metadata": {
        "id": "mM6g7WzDbTLA",
        "colab": {
          "base_uri": "https://localhost:8080/"
        },
        "outputId": "0327c2f8-333e-401e-a51e-380224fadd74"
      },
      "execution_count": null,
      "outputs": [
        {
          "output_type": "stream",
          "name": "stdout",
          "text": [
            "The parameters of the model are: 0\n",
            "10.36\n",
            "-2.34\n",
            "-5.16\n",
            "-6.60\n",
            "3.46\n"
          ]
        }
      ]
    },
    {
      "cell_type": "code",
      "source": [
        "#Performance Measure\n",
        "per=[]\n",
        "def rmse():\n",
        "  n= X.shape[0]\n",
        "  W_final, W0_final,cost_values= grad(Xp,y,W,W0,lr=0.0001,k=0.1,iter=10)\n",
        "  pred= x_test.dot(W_final)+W0_final\n",
        "  loss= pred-y_test\n",
        "  return np.sqrt(np.sum(np.square(loss)/n))\n",
        "rmse1=rmse()\n",
        "per.append(rmse1)\n",
        "print('\\nPerformance of the model: RMSE-','%.2f'%rmse1,'\\n')"
      ],
      "metadata": {
        "id": "Qu3MA9S5k8Ed",
        "colab": {
          "base_uri": "https://localhost:8080/"
        },
        "outputId": "89969864-1f9a-4533-8271-7adae390c73b"
      },
      "execution_count": null,
      "outputs": [
        {
          "output_type": "stream",
          "name": "stdout",
          "text": [
            "\n",
            "Performance of the model: RMSE- 146.70 \n",
            "\n"
          ]
        }
      ]
    },
    {
      "cell_type": "code",
      "source": [
        "#7th degree polynomial models\n",
        "x=[]\n",
        "X5= np.zeros((X.shape[0],7))\n",
        "for i in range(X.shape[0]):\n",
        "  for j in range(1,8):\n",
        "    x.append(X[i] **j)\n",
        "x1= x[0:100]; x2=x[100:200]; x3=x[200:300];x4= x[300:400];x5=x[400:500];x6=x[500:600];x7=x[600:700]\n",
        "X_t= np.vstack((x1,x2,x3,x4,x5,x6,x7))\n",
        "Xp= X_t.T"
      ],
      "metadata": {
        "id": "aPZdEV66xQl7"
      },
      "execution_count": null,
      "outputs": []
    },
    {
      "cell_type": "code",
      "source": [
        "#Data Splitting\n",
        "test_size= int(Xp.shape[0]/8)\n",
        "x_test= Xp[:test_size]\n",
        "y_test= y[:test_size]\n",
        "x_train= Xp[test_size:]\n",
        "y_train= y[test_size:]"
      ],
      "metadata": {
        "id": "dsG8M7lFx2Fa"
      },
      "execution_count": null,
      "outputs": []
    },
    {
      "cell_type": "code",
      "source": [
        "#Initial Conditions\n",
        "W = np.zeros(Xp.shape[1])\n",
        "W0 = 0\n",
        "\n",
        "#Cost Function\n",
        "def cost(x,y,w,w0,k):\n",
        "  pred = x.dot(w)\n",
        "  pred += np.full_like(pred, w0)\n",
        "  loss = pred - y\n",
        "  cost_value = ((1/2) * np.sum(np.square(loss))) + (k/2)*np.square(np.linalg.norm(w))\n",
        "  return cost_value\n",
        "\n",
        "#Gradient Function\n",
        "def grad(Xp,y,w,w0,lr,k,iter):\n",
        "  x=pd.DataFrame(Xp)\n",
        "  n = len(y)\n",
        "  cost_iter = np.zeros(iter)\n",
        "  for i in range(iter):\n",
        "    for j in range(n):\n",
        "      pred = x.iloc[j].dot(w)\n",
        "      pred += np.full_like(pred, w0)\n",
        "      loss = pred - y.iloc[j]\n",
        "      w0 = w0 - lr * loss\n",
        "      w = w * (1 - lr * k) - np.dot(lr * loss, x.iloc[j])\n",
        "    cost_iter[i] = cost(x,y,w,w0,k)\n",
        "  return w,w0,cost_iter\n",
        "\n",
        "W_final, W0_final,cost_values2= grad(Xp,y,W,W0,lr=0.000001,k=8,iter=10)\n",
        "print(f'The parameters of the model are: {W0}')\n",
        "for i in W_final:\n",
        "  print('%.2f'%i)"
      ],
      "metadata": {
        "id": "Upq203n0xe_0",
        "colab": {
          "base_uri": "https://localhost:8080/"
        },
        "outputId": "4f883920-ef5f-40a3-ae80-8b5cf5b6ea39"
      },
      "execution_count": null,
      "outputs": [
        {
          "output_type": "stream",
          "name": "stdout",
          "text": [
            "The parameters of the model are: 0\n",
            "0.05\n",
            "-0.06\n",
            "0.03\n",
            "-0.01\n",
            "-0.08\n",
            "-0.02\n",
            "-0.06\n"
          ]
        }
      ]
    },
    {
      "cell_type": "code",
      "source": [
        "#Performance Measure\n",
        "def rmse():\n",
        "  n= X.shape[0]\n",
        "  W_final, W0_final,cost_values= grad(Xp,y,W,W0,lr=0.000001,k=8,iter=10)\n",
        "  pred= x_test.dot(W_final)+W0_final\n",
        "  loss= pred-y_test\n",
        "  return np.sqrt(np.sum(np.square(loss)/n))\n",
        "rmse2=rmse()\n",
        "per.append(rmse2)\n",
        "print('\\nPerformance of the model: RMSE-','%.2f'%rmse2,'\\n')"
      ],
      "metadata": {
        "id": "VkN8tSSGxzSS",
        "colab": {
          "base_uri": "https://localhost:8080/"
        },
        "outputId": "0373896b-34a0-45c4-f214-145706c48891"
      },
      "execution_count": null,
      "outputs": [
        {
          "output_type": "stream",
          "name": "stdout",
          "text": [
            "\n",
            "Performance of the model: RMSE- 15.44 \n",
            "\n"
          ]
        }
      ]
    },
    {
      "cell_type": "code",
      "source": [
        "#8th degree polynomial models\n",
        "x=[]\n",
        "X5= np.zeros((X.shape[0],8))\n",
        "for i in range(X.shape[0]):\n",
        "  for j in range(1,9):\n",
        "    x.append(X[i] **j)\n",
        "x1= x[0:100]; x2=x[100:200]; x3=x[200:300];x4= x[300:400];x5=x[400:500];x6=x[500:600];x7=x[600:700];x8=x[700:800]\n",
        "X_t= np.vstack((x1,x2,x3,x4,x5,x6,x7,x8))\n",
        "Xp= X_t.T"
      ],
      "metadata": {
        "id": "MzArJT40z2ec"
      },
      "execution_count": null,
      "outputs": []
    },
    {
      "cell_type": "code",
      "source": [
        "#Data Splitting\n",
        "test_size= int(Xp.shape[0]/8)\n",
        "x_test= Xp[:test_size]\n",
        "y_test= y[:test_size]\n",
        "x_train= Xp[test_size:]\n",
        "y_train= y[test_size:]"
      ],
      "metadata": {
        "id": "i8mYEJN00Jg0"
      },
      "execution_count": null,
      "outputs": []
    },
    {
      "cell_type": "code",
      "source": [
        "#Initial Conditions\n",
        "W = np.zeros(Xp.shape[1])\n",
        "W0 = 0\n",
        "\n",
        "#Cost Function\n",
        "def cost(x,y,w,w0,k):\n",
        "  pred = x.dot(w)\n",
        "  pred += np.full_like(pred, w0)\n",
        "  loss = pred - y\n",
        "  cost_value = ((1/2) * np.sum(np.square(loss))) + (k/2)*np.square(np.linalg.norm(w))\n",
        "  return cost_value\n",
        "\n",
        "#Gradient Function\n",
        "def grad(Xp,y,w,w0,lr,k,iter):\n",
        "  x=pd.DataFrame(Xp)\n",
        "  n = len(y)\n",
        "  cost_iter = np.zeros(iter)\n",
        "  for i in range(iter):\n",
        "    for j in range(n):\n",
        "      pred = x.iloc[j].dot(w)\n",
        "      pred += np.full_like(pred, w0)\n",
        "      loss = pred - y.iloc[j]\n",
        "      w0 = w0 - lr * loss\n",
        "      w = w * (1 - lr * k) - np.dot(lr * loss, x.iloc[j])\n",
        "    cost_iter[i] = cost(x,y,w,w0,k)\n",
        "  return w,w0,cost_iter\n",
        "\n",
        "W_final, W0_final,cost_values3= grad(Xp,y,W,W0,lr=0.0000001,k=10,iter=80)\n",
        "print(f'The parameters of the model are: {W0}')\n",
        "for i in W_final:\n",
        "  print('%.2f'%i)"
      ],
      "metadata": {
        "id": "REupAJJs0KwT",
        "colab": {
          "base_uri": "https://localhost:8080/"
        },
        "outputId": "f7c20b36-0b54-44e2-b865-e6490c12fc4c"
      },
      "execution_count": null,
      "outputs": [
        {
          "output_type": "stream",
          "name": "stdout",
          "text": [
            "The parameters of the model are: 0\n",
            "0.02\n",
            "0.00\n",
            "0.02\n",
            "0.00\n",
            "0.03\n",
            "0.00\n",
            "-0.00\n",
            "0.00\n"
          ]
        }
      ]
    },
    {
      "cell_type": "code",
      "source": [
        "#Performance Measure\n",
        "def rmse():\n",
        "  n= X.shape[0]\n",
        "  W_final, W0_final,cost_values= grad(Xp,y,W,W0,lr=0.0000001,k=10,iter=80)\n",
        "  pred= x_test.dot(W_final)+W0_final\n",
        "  loss= pred-y_test\n",
        "  return np.sqrt(np.sum(np.square(loss)/n))\n",
        "rmse3=rmse()\n",
        "per.append(rmse3)\n",
        "print('\\nPerformance of the model: RMSE-','%.2f'%rmse3,'\\n')"
      ],
      "metadata": {
        "id": "e7YqppfL0maM",
        "colab": {
          "base_uri": "https://localhost:8080/"
        },
        "outputId": "97a2809c-63d5-4881-cbe1-27bb8032e436"
      },
      "execution_count": null,
      "outputs": [
        {
          "output_type": "stream",
          "name": "stdout",
          "text": [
            "\n",
            "Performance of the model: RMSE- 9.68 \n",
            "\n"
          ]
        }
      ]
    },
    {
      "cell_type": "code",
      "source": [
        "#Plotting the models\n",
        "#plt.plot(cost_values1,label='5th degree',c='black')\n",
        "plt.plot(cost_values2,label='7th degree',c='grey')\n",
        "plt.plot(cost_values3,label='8th degree',c='blue')\n",
        "plt.legend()\n",
        "plt.show()"
      ],
      "metadata": {
        "id": "UTK5Cd644wYb",
        "colab": {
          "base_uri": "https://localhost:8080/",
          "height": 430
        },
        "outputId": "f77acfc5-fd6b-41f8-8585-b6dfb35acef4"
      },
      "execution_count": null,
      "outputs": [
        {
          "output_type": "display_data",
          "data": {
            "text/plain": [
              "<Figure size 640x480 with 1 Axes>"
            ],
            "image/png": "[encoded data removed]"
          },
          "metadata": {}
        }
      ]
    },
    {
      "cell_type": "code",
      "source": [
        "#Comparision of performances of different models\n",
        "print('Performance Measures of 5th, 7th and 8th degreee polynomial expression models are-',per)\n",
        "print('Best performing model is:','%.3f'%per[np.argmin(per)])"
      ],
      "metadata": {
        "id": "RalagNV25NnE",
        "colab": {
          "base_uri": "https://localhost:8080/"
        },
        "outputId": "2f08dddb-bc28-4a02-b192-a6010f9ca868"
      },
      "execution_count": null,
      "outputs": [
        {
          "output_type": "stream",
          "name": "stdout",
          "text": [
            "Performance Measures of 5th, 7th and 8th degreee polynomial expression models are- [146.6995067218713, 15.444355362627475, 9.6829845056219]\n",
            "Best performing model is: 9.683\n"
          ]
        }
      ]
    },
    {
      "cell_type": "markdown",
      "source": [
        "# **DATA 7**"
      ],
      "metadata": {
        "id": "Q2tF3NS36VIr"
      }
    },
    {
      "cell_type": "markdown",
      "source": [
        "**KNN Algorithm** \\\n",
        "The whole data is firstly splitted into training set and testing set by applying cross validation technique in the ratio of 80:20.\\\n",
        "Then the testing data points are taken individually. Suppose A(xi,yi) is a datapoint taken from the testing dataset then,\\\n",
        "Euclidean distance/ Mahalonabis distance from point A to all the datapoints present in training dataset is determined. '**K**' is an arbitrary integer value choosen. Then these distances are written in non-decreasing order. The first k-distances and its corresponding classes and to be considered. \\\n",
        "Then the majority class is determined in those K classes. The datapoint A is also to be considered in that majority class."
      ],
      "metadata": {
        "id": "ANmoGWQw3uRl"
      }
    },
    {
      "cell_type": "code",
      "source": [
        "data7= pd.read_csv('data7.csv',header= None)\n",
        "data7.head()\n",
        "data7= data7.sample(frac=1).reset_index(drop=True)\n",
        "\n",
        "#Data Splitting\n",
        "X= data7.iloc[:,:-1]\n",
        "y= data7.iloc[:,-1]\n",
        "test_size= int(X.shape[0]/8)\n",
        "x_test= X[:test_size]\n",
        "x_train= X[test_size:]\n",
        "y_test= y[:test_size]\n",
        "y_train= y[test_size:]\n",
        "\n",
        "print(y.head())\n",
        "# print(len(y_train),len(y_test))\n",
        "# x_test.head()"
      ],
      "metadata": {
        "id": "nlDSPR8c6aHf",
        "colab": {
          "base_uri": "https://localhost:8080/"
        },
        "outputId": "f29789a7-f728-40f8-9dfb-d2ce0d86edb8"
      },
      "execution_count": null,
      "outputs": [
        {
          "output_type": "stream",
          "name": "stdout",
          "text": [
            "0    1\n",
            "1    0\n",
            "2    0\n",
            "3    0\n",
            "4    0\n",
            "Name: 3, dtype: int64\n"
          ]
        }
      ]
    },
    {
      "cell_type": "code",
      "source": [
        "print(y_test.shape)"
      ],
      "metadata": {
        "id": "poRQuw5f8NA9",
        "colab": {
          "base_uri": "https://localhost:8080/"
        },
        "outputId": "cbe83d9a-451a-4504-ed32-abb83b62b95f"
      },
      "execution_count": null,
      "outputs": [
        {
          "output_type": "stream",
          "name": "stdout",
          "text": [
            "(50,)\n"
          ]
        }
      ]
    },
    {
      "cell_type": "markdown",
      "source": [
        "**Mahalonabis Distance**\n",
        "\n",
        "\n",
        "![Screenshot 2023-11-11 130521.png](data:image/png;base64,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)\n",
        "\\\n",
        "**Manhattan Distance**\n",
        "\n",
        "\n",
        "\n",
        "![Screenshot 2023-11-11 130502.png](data:image/png;base64,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)\n",
        "\\\n",
        "**Euclidean Distance**\n",
        "\\\n",
        "\n",
        "![Screenshot 2023-11-11 130450.png](data:image/png;base64,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)"
      ],
      "metadata": {
        "id": "PxdeMMFB2cYh"
      }
    },
    {
      "cell_type": "code",
      "source": [
        "# KNN algorithm\n",
        "\n",
        "#Important metrics used in the distance measures\n",
        "mean= np.mean(X,axis=0)\n",
        "cov_i= np.linalg.inv(X.cov())\n",
        "\n",
        "def maha(x):\n",
        "  diff= x-mean\n",
        "  return np.sqrt(np.dot(np.dot(diff.T,cov_i),diff))"
      ],
      "metadata": {
        "id": "EbOCrhN27Otp"
      },
      "execution_count": null,
      "outputs": []
    },
    {
      "cell_type": "code",
      "source": [
        "m=[]\n",
        "for i in range(len(X)):\n",
        "  for j in range(len(x_test)):\n",
        "    m.append(maha(x_test.iloc[j]))\n",
        "print(len(m))"
      ],
      "metadata": {
        "colab": {
          "base_uri": "https://localhost:8080/"
        },
        "id": "iCnqJYCufwCT",
        "outputId": "8189bcc0-9f8d-4ea0-b90f-c24b94ce190c"
      },
      "execution_count": null,
      "outputs": [
        {
          "output_type": "stream",
          "name": "stdout",
          "text": [
            "20000\n"
          ]
        }
      ]
    },
    {
      "cell_type": "code",
      "source": [
        "\n",
        "def kmaha():\n",
        "  dis=[]\n",
        "  for i in range(x_test.shape[0]):\n",
        "      md= maha(x_test.iloc[i])\n",
        "      dis.append(md)\n",
        "  maj=[];inds=[]\n",
        "  k=25\n",
        "  temp= dis.copy()\n",
        "  temp.sort()\n",
        "  for index in range(len(temp)):\n",
        "      if index<k:\n",
        "          maj.append(temp[index])\n",
        "      else:\n",
        "        break\n",
        "  for i in range(len(dis)):\n",
        "    for j in range(len(maj)):\n",
        "      if(dis[i]==maj[j]):\n",
        "        inds.append(i)\n",
        "  classes=[]\n",
        "  c1=0; c0=0\n",
        "  for i in ((y[inds])):\n",
        "    if i==1:\n",
        "      c1+=1\n",
        "      classes.append(1)\n",
        "    else:\n",
        "      c0+=1\n",
        "      classes.append(0)\n",
        "  pred= np.bincount(classes).argmax()\n",
        "  # predictions=[]\n",
        "  return pred\n",
        "\n",
        "# for i\n",
        "\n",
        "#predictions.append(pred)\n",
        "#print('Actual class of Datapoint:',pred)\n",
        "#print('Predicted class of Datapoint:',y.iloc[j])\n",
        "#print(len(dis))\n",
        "y_pred= kmaha()"
      ],
      "metadata": {
        "id": "A24hfwdF6vVD"
      },
      "execution_count": null,
      "outputs": []
    },
    {
      "cell_type": "code",
      "source": [
        "#Euclidean Distance\n",
        "def euc(train,test):\n",
        "  return np.sqrt(np.sum(np.square(train-test)))\n",
        "\n",
        "ed=[]\n",
        "for i in range(len(x_test)):\n",
        "  for j in range(len(x_train)):\n",
        "    ed.append(euc(x_test.iloc[i],x_train.iloc[j]))\n",
        "print(len(ed))"
      ],
      "metadata": {
        "colab": {
          "base_uri": "https://localhost:8080/"
        },
        "id": "CU3o-9lfglOi",
        "outputId": "47fca3a5-d8ab-4146-e2b4-d1fd160b4491"
      },
      "execution_count": null,
      "outputs": [
        {
          "output_type": "stream",
          "name": "stdout",
          "text": [
            "17500\n"
          ]
        }
      ]
    },
    {
      "cell_type": "markdown",
      "source": [
        "# **CANCER DATASET**"
      ],
      "metadata": {
        "id": "28XDQEXokhEG"
      }
    },
    {
      "cell_type": "markdown",
      "source": [
        "**Preprocessing Techniques**\n",
        "\\\n",
        "*Data Cleaning:* The data has to be cleaned and filtered as the raw data is not compatible for data processing.\n",
        "\\\n",
        "*Attribute Discretization:* The attribute values that take different non-integer values has to discretized into integer-format. Then the data is ready for processing and analyzing.\n"
      ],
      "metadata": {
        "id": "U8blh0mKqCn6"
      }
    },
    {
      "cell_type": "code",
      "source": [
        "cancer= pd.read_csv('/content/data.csv',header=None)\n",
        "cancer.head()"
      ],
      "metadata": {
        "id": "yfZVwi7Ckn4H",
        "colab": {
          "base_uri": "https://localhost:8080/",
          "height": 273
        },
        "outputId": "fab737dd-820e-4254-de67-6ce7eb7a7f7f"
      },
      "execution_count": null,
      "outputs": [
        {
          "output_type": "execute_result",
          "data": {
            "text/plain": [
              "         0          1            2             3               4          5   \\\n",
              "0        id  diagnosis  radius_mean  texture_mean  perimeter_mean  area_mean   \n",
              "1    842302          M        17.99         10.38           122.8       1001   \n",
              "2    842517          M        20.57         17.77           132.9       1326   \n",
              "3  84300903          M        19.69         21.25             130       1203   \n",
              "4  84348301          M        11.42         20.38           77.58      386.1   \n",
              "\n",
              "                6                 7               8                    9   \\\n",
              "0  smoothness_mean  compactness_mean  concavity_mean  concave points_mean   \n",
              "1           0.1184            0.2776          0.3001               0.1471   \n",
              "2          0.08474           0.07864          0.0869              0.07017   \n",
              "3           0.1096            0.1599          0.1974               0.1279   \n",
              "4           0.1425            0.2839          0.2414               0.1052   \n",
              "\n",
              "   ...             23               24          25                26  \\\n",
              "0  ...  texture_worst  perimeter_worst  area_worst  smoothness_worst   \n",
              "1  ...          17.33            184.6        2019            0.1622   \n",
              "2  ...          23.41            158.8        1956            0.1238   \n",
              "3  ...          25.53            152.5        1709            0.1444   \n",
              "4  ...           26.5            98.87       567.7            0.2098   \n",
              "\n",
              "                  27               28                    29              30  \\\n",
              "0  compactness_worst  concavity_worst  concave points_worst  symmetry_worst   \n",
              "1             0.6656           0.7119                0.2654          0.4601   \n",
              "2             0.1866           0.2416                 0.186           0.275   \n",
              "3             0.4245           0.4504                 0.243          0.3613   \n",
              "4             0.8663           0.6869                0.2575          0.6638   \n",
              "\n",
              "                        31  32  \n",
              "0  fractal_dimension_worst NaN  \n",
              "1                   0.1189 NaN  \n",
              "2                  0.08902 NaN  \n",
              "3                  0.08758 NaN  \n",
              "4                    0.173 NaN  \n",
              "\n",
              "[5 rows x 33 columns]"
            ],
            "text/html": [
              "\n",
              "  <div id=\"df-64ec5312-82ea-4ad5-a43f-10cc29724e38\" class=\"colab-df-container\">\n",
              "    <div>\n",
              "<style scoped>\n",
              "    .dataframe tbody tr th:only-of-type {\n",
              "        vertical-align: middle;\n",
              "    }\n",
              "\n",
              "    .dataframe tbody tr th {\n",
              "        vertical-align: top;\n",
              "    }\n",
              "\n",
              "    .dataframe thead th {\n",
              "        text-align: right;\n",
              "    }\n",
              "</style>\n",
              "<table border=\"1\" class=\"dataframe\">\n",
              "  <thead>\n",
              "    <tr style=\"text-align: right;\">\n",
              "      <th></th>\n",
              "      <th>0</th>\n",
              "      <th>1</th>\n",
              "      <th>2</th>\n",
              "      <th>3</th>\n",
              "      <th>4</th>\n",
              "      <th>5</th>\n",
              "      <th>6</th>\n",
              "      <th>7</th>\n",
              "      <th>8</th>\n",
              "      <th>9</th>\n",
              "      <th>...</th>\n",
              "      <th>23</th>\n",
              "      <th>24</th>\n",
              "      <th>25</th>\n",
              "      <th>26</th>\n",
              "      <th>27</th>\n",
              "      <th>28</th>\n",
              "      <th>29</th>\n",
              "      <th>30</th>\n",
              "      <th>31</th>\n",
              "      <th>32</th>\n",
              "    </tr>\n",
              "  </thead>\n",
              "  <tbody>\n",
              "    <tr>\n",
              "      <th>0</th>\n",
              "      <td>id</td>\n",
              "      <td>diagnosis</td>\n",
              "      <td>radius_mean</td>\n",
              "      <td>texture_mean</td>\n",
              "      <td>perimeter_mean</td>\n",
              "      <td>area_mean</td>\n",
              "      <td>smoothness_mean</td>\n",
              "      <td>compactness_mean</td>\n",
              "      <td>concavity_mean</td>\n",
              "      <td>concave points_mean</td>\n",
              "      <td>...</td>\n",
              "      <td>texture_worst</td>\n",
              "      <td>perimeter_worst</td>\n",
              "      <td>area_worst</td>\n",
              "      <td>smoothness_worst</td>\n",
              "      <td>compactness_worst</td>\n",
              "      <td>concavity_worst</td>\n",
              "      <td>concave points_worst</td>\n",
              "      <td>symmetry_worst</td>\n",
              "      <td>fractal_dimension_worst</td>\n",
              "      <td>NaN</td>\n",
              "    </tr>\n",
              "    <tr>\n",
              "      <th>1</th>\n",
              "      <td>842302</td>\n",
              "      <td>M</td>\n",
              "      <td>17.99</td>\n",
              "      <td>10.38</td>\n",
              "      <td>122.8</td>\n",
              "      <td>1001</td>\n",
              "      <td>0.1184</td>\n",
              "      <td>0.2776</td>\n",
              "      <td>0.3001</td>\n",
              "      <td>0.1471</td>\n",
              "      <td>...</td>\n",
              "      <td>17.33</td>\n",
              "      <td>184.6</td>\n",
              "      <td>2019</td>\n",
              "      <td>0.1622</td>\n",
              "      <td>0.6656</td>\n",
              "      <td>0.7119</td>\n",
              "      <td>0.2654</td>\n",
              "      <td>0.4601</td>\n",
              "      <td>0.1189</td>\n",
              "      <td>NaN</td>\n",
              "    </tr>\n",
              "    <tr>\n",
              "      <th>2</th>\n",
              "      <td>842517</td>\n",
              "      <td>M</td>\n",
              "      <td>20.57</td>\n",
              "      <td>17.77</td>\n",
              "      <td>132.9</td>\n",
              "      <td>1326</td>\n",
              "      <td>0.08474</td>\n",
              "      <td>0.07864</td>\n",
              "      <td>0.0869</td>\n",
              "      <td>0.07017</td>\n",
              "      <td>...</td>\n",
              "      <td>23.41</td>\n",
              "      <td>158.8</td>\n",
              "      <td>1956</td>\n",
              "      <td>0.1238</td>\n",
              "      <td>0.1866</td>\n",
              "      <td>0.2416</td>\n",
              "      <td>0.186</td>\n",
              "      <td>0.275</td>\n",
              "      <td>0.08902</td>\n",
              "      <td>NaN</td>\n",
              "    </tr>\n",
              "    <tr>\n",
              "      <th>3</th>\n",
              "      <td>84300903</td>\n",
              "      <td>M</td>\n",
              "      <td>19.69</td>\n",
              "      <td>21.25</td>\n",
              "      <td>130</td>\n",
              "      <td>1203</td>\n",
              "      <td>0.1096</td>\n",
              "      <td>0.1599</td>\n",
              "      <td>0.1974</td>\n",
              "      <td>0.1279</td>\n",
              "      <td>...</td>\n",
              "      <td>25.53</td>\n",
              "      <td>152.5</td>\n",
              "      <td>1709</td>\n",
              "      <td>0.1444</td>\n",
              "      <td>0.4245</td>\n",
              "      <td>0.4504</td>\n",
              "      <td>0.243</td>\n",
              "      <td>0.3613</td>\n",
              "      <td>0.08758</td>\n",
              "      <td>NaN</td>\n",
              "    </tr>\n",
              "    <tr>\n",
              "      <th>4</th>\n",
              "      <td>84348301</td>\n",
              "      <td>M</td>\n",
              "      <td>11.42</td>\n",
              "      <td>20.38</td>\n",
              "      <td>77.58</td>\n",
              "      <td>386.1</td>\n",
              "      <td>0.1425</td>\n",
              "      <td>0.2839</td>\n",
              "      <td>0.2414</td>\n",
              "      <td>0.1052</td>\n",
              "      <td>...</td>\n",
              "      <td>26.5</td>\n",
              "      <td>98.87</td>\n",
              "      <td>567.7</td>\n",
              "      <td>0.2098</td>\n",
              "      <td>0.8663</td>\n",
              "      <td>0.6869</td>\n",
              "      <td>0.2575</td>\n",
              "      <td>0.6638</td>\n",
              "      <td>0.173</td>\n",
              "      <td>NaN</td>\n",
              "    </tr>\n",
              "  </tbody>\n",
              "</table>\n",
              "<p>5 rows × 33 columns</p>\n",
              "</div>\n",
              "    <div class=\"colab-df-buttons\">\n",
              "\n",
              "  <div class=\"colab-df-container\">\n",
              "    <button class=\"colab-df-convert\" onclick=\"convertToInteractive('df-64ec5312-82ea-4ad5-a43f-10cc29724e38')\"\n",
              "            title=\"Convert this dataframe to an interactive table.\"\n",
              "            style=\"display:none;\">\n",
              "\n",
              "  <svg xmlns=\"http://www.w3.org/2000/svg\" height=\"24px\" viewBox=\"0 -960 960 960\">\n",
              "    <path d=\"M120-120v-720h720v720H120Zm60-500h600v-160H180v160Zm220 220h160v-160H400v160Zm0 220h160v-160H400v160ZM180-400h160v-160H180v160Zm440 0h160v-160H620v160ZM180-180h160v-160H180v160Zm440 0h160v-160H620v160Z\"/>\n",
              "  </svg>\n",
              "    </button>\n",
              "\n",
              "  <style>\n",
              "    .colab-df-container {\n",
              "      display:flex;\n",
              "      gap: 12px;\n",
              "    }\n",
              "\n",
              "    .colab-df-convert {\n",
              "      background-color: #E8F0FE;\n",
              "      border: none;\n",
              "      border-radius: 50%;\n",
              "      cursor: pointer;\n",
              "      display: none;\n",
              "      fill: #1967D2;\n",
              "      height: 32px;\n",
              "      padding: 0 0 0 0;\n",
              "      width: 32px;\n",
              "    }\n",
              "\n",
              "    .colab-df-convert:hover {\n",
              "      background-color: #E2EBFA;\n",
              "      box-shadow: 0px 1px 2px rgba(60, 64, 67, 0.3), 0px 1px 3px 1px rgba(60, 64, 67, 0.15);\n",
              "      fill: #174EA6;\n",
              "    }\n",
              "\n",
              "    .colab-df-buttons div {\n",
              "      margin-bottom: 4px;\n",
              "    }\n",
              "\n",
              "    [theme=dark] .colab-df-convert {\n",
              "      background-color: #3B4455;\n",
              "      fill: #D2E3FC;\n",
              "    }\n",
              "\n",
              "    [theme=dark] .colab-df-convert:hover {\n",
              "      background-color: #434B5C;\n",
              "      box-shadow: 0px 1px 3px 1px rgba(0, 0, 0, 0.15);\n",
              "      filter: drop-shadow(0px 1px 2px rgba(0, 0, 0, 0.3));\n",
              "      fill: #FFFFFF;\n",
              "    }\n",
              "  </style>\n",
              "\n",
              "    <script>\n",
              "      const buttonEl =\n",
              "        document.querySelector('#df-64ec5312-82ea-4ad5-a43f-10cc29724e38 button.colab-df-convert');\n",
              "      buttonEl.style.display =\n",
              "        google.colab.kernel.accessAllowed ? 'block' : 'none';\n",
              "\n",
              "      async function convertToInteractive(key) {\n",
              "        const element = document.querySelector('#df-64ec5312-82ea-4ad5-a43f-10cc29724e38');\n",
              "        const dataTable =\n",
              "          await google.colab.kernel.invokeFunction('convertToInteractive',\n",
              "                                                    [key], {});\n",
              "        if (!dataTable) return;\n",
              "\n",
              "        const docLinkHtml = 'Like what you see? Visit the ' +\n",
              "          '<a target=\"_blank\" href=https://colab.research.google.com/notebooks/data_table.ipynb>data table notebook</a>'\n",
              "          + ' to learn more about interactive tables.';\n",
              "        element.innerHTML = '';\n",
              "        dataTable['output_type'] = 'display_data';\n",
              "        await google.colab.output.renderOutput(dataTable, element);\n",
              "        const docLink = document.createElement('div');\n",
              "        docLink.innerHTML = docLinkHtml;\n",
              "        element.appendChild(docLink);\n",
              "      }\n",
              "    </script>\n",
              "  </div>\n",
              "\n",
              "\n",
              "<div id=\"df-f92fda41-42f1-47a0-94f9-5a37fe4aa292\">\n",
              "  <button class=\"colab-df-quickchart\" onclick=\"quickchart('df-f92fda41-42f1-47a0-94f9-5a37fe4aa292')\"\n",
              "            title=\"Suggest charts\"\n",
              "            style=\"display:none;\">\n",
              "\n",
              "<svg xmlns=\"http://www.w3.org/2000/svg\" height=\"24px\"viewBox=\"0 0 24 24\"\n",
              "     width=\"24px\">\n",
              "    <g>\n",
              "        <path d=\"M19 3H5c-1.1 0-2 .9-2 2v14c0 1.1.9 2 2 2h14c1.1 0 2-.9 2-2V5c0-1.1-.9-2-2-2zM9 17H7v-7h2v7zm4 0h-2V7h2v10zm4 0h-2v-4h2v4z\"/>\n",
              "    </g>\n",
              "</svg>\n",
              "  </button>\n",
              "\n",
              "<style>\n",
              "  .colab-df-quickchart {\n",
              "      --bg-color: #E8F0FE;\n",
              "      --fill-color: #1967D2;\n",
              "      --hover-bg-color: #E2EBFA;\n",
              "      --hover-fill-color: #174EA6;\n",
              "      --disabled-fill-color: #AAA;\n",
              "      --disabled-bg-color: #DDD;\n",
              "  }\n",
              "\n",
              "  [theme=dark] .colab-df-quickchart {\n",
              "      --bg-color: #3B4455;\n",
              "      --fill-color: #D2E3FC;\n",
              "      --hover-bg-color: #434B5C;\n",
              "      --hover-fill-color: #FFFFFF;\n",
              "      --disabled-bg-color: #3B4455;\n",
              "      --disabled-fill-color: #666;\n",
              "  }\n",
              "\n",
              "  .colab-df-quickchart {\n",
              "    background-color: var(--bg-color);\n",
              "    border: none;\n",
              "    border-radius: 50%;\n",
              "    cursor: pointer;\n",
              "    display: none;\n",
              "    fill: var(--fill-color);\n",
              "    height: 32px;\n",
              "    padding: 0;\n",
              "    width: 32px;\n",
              "  }\n",
              "\n",
              "  .colab-df-quickchart:hover {\n",
              "    background-color: var(--hover-bg-color);\n",
              "    box-shadow: 0 1px 2px rgba(60, 64, 67, 0.3), 0 1px 3px 1px rgba(60, 64, 67, 0.15);\n",
              "    fill: var(--button-hover-fill-color);\n",
              "  }\n",
              "\n",
              "  .colab-df-quickchart-complete:disabled,\n",
              "  .colab-df-quickchart-complete:disabled:hover {\n",
              "    background-color: var(--disabled-bg-color);\n",
              "    fill: var(--disabled-fill-color);\n",
              "    box-shadow: none;\n",
              "  }\n",
              "\n",
              "  .colab-df-spinner {\n",
              "    border: 2px solid var(--fill-color);\n",
              "    border-color: transparent;\n",
              "    border-bottom-color: var(--fill-color);\n",
              "    animation:\n",
              "      spin 1s steps(1) infinite;\n",
              "  }\n",
              "\n",
              "  @keyframes spin {\n",
              "    0% {\n",
              "      border-color: transparent;\n",
              "      border-bottom-color: var(--fill-color);\n",
              "      border-left-color: var(--fill-color);\n",
              "    }\n",
              "    20% {\n",
              "      border-color: transparent;\n",
              "      border-left-color: var(--fill-color);\n",
              "      border-top-color: var(--fill-color);\n",
              "    }\n",
              "    30% {\n",
              "      border-color: transparent;\n",
              "      border-left-color: var(--fill-color);\n",
              "      border-top-color: var(--fill-color);\n",
              "      border-right-color: var(--fill-color);\n",
              "    }\n",
              "    40% {\n",
              "      border-color: transparent;\n",
              "      border-right-color: var(--fill-color);\n",
              "      border-top-color: var(--fill-color);\n",
              "    }\n",
              "    60% {\n",
              "      border-color: transparent;\n",
              "      border-right-color: var(--fill-color);\n",
              "    }\n",
              "    80% {\n",
              "      border-color: transparent;\n",
              "      border-right-color: var(--fill-color);\n",
              "      border-bottom-color: var(--fill-color);\n",
              "    }\n",
              "    90% {\n",
              "      border-color: transparent;\n",
              "      border-bottom-color: var(--fill-color);\n",
              "    }\n",
              "  }\n",
              "</style>\n",
              "\n",
              "  <script>\n",
              "    async function quickchart(key) {\n",
              "      const quickchartButtonEl =\n",
              "        document.querySelector('#' + key + ' button');\n",
              "      quickchartButtonEl.disabled = true;  // To prevent multiple clicks.\n",
              "      quickchartButtonEl.classList.add('colab-df-spinner');\n",
              "      try {\n",
              "        const charts = await google.colab.kernel.invokeFunction(\n",
              "            'suggestCharts', [key], {});\n",
              "      } catch (error) {\n",
              "        console.error('Error during call to suggestCharts:', error);\n",
              "      }\n",
              "      quickchartButtonEl.classList.remove('colab-df-spinner');\n",
              "      quickchartButtonEl.classList.add('colab-df-quickchart-complete');\n",
              "    }\n",
              "    (() => {\n",
              "      let quickchartButtonEl =\n",
              "        document.querySelector('#df-f92fda41-42f1-47a0-94f9-5a37fe4aa292 button');\n",
              "      quickchartButtonEl.style.display =\n",
              "        google.colab.kernel.accessAllowed ? 'block' : 'none';\n",
              "    })();\n",
              "  </script>\n",
              "</div>\n",
              "    </div>\n",
              "  </div>\n"
            ]
          },
          "metadata": {},
          "execution_count": 97
        }
      ]
    },
    {
      "cell_type": "code",
      "source": [
        "#Data Preparation\n",
        "X = cancer.iloc[:,:-1]\n",
        "y1= cancer.iloc[:,-1]\n",
        "m=(np.mean(y1))\n",
        "y= []\n",
        "for i in y1:\n",
        "  if i>m:\n",
        "    y.append(1)\n",
        "  else:\n",
        "    y.append(0)\n",
        "# print(y)\n",
        "\n",
        "#Data Splitting\n",
        "test_size= int(X.shape[0]/8)\n",
        "x_test= X[:test_size]\n",
        "y_test= y[:test_size]\n",
        "x_train= X[test_size:]\n",
        "y_train= y[test_size:]"
      ],
      "metadata": {
        "id": "T9wiPf2JrSK0"
      },
      "execution_count": null,
      "outputs": []
    },
    {
      "cell_type": "code",
      "source": [
        "#KNN\n",
        "def knn(x,y,)"
      ],
      "metadata": {
        "id": "olM2C0Lzt0Wo",
        "colab": {
          "base_uri": "https://localhost:8080/",
          "height": 140
        },
        "outputId": "ece3be2b-c0d6-4290-ab71-cd43997bef80"
      },
      "execution_count": null,
      "outputs": [
        {
          "output_type": "error",
          "ename": "SyntaxError",
          "evalue": "ignored",
          "traceback": [
            "\u001b[0;36m  File \u001b[0;32m\"<ipython-input-99-5a1ccddce4fd>\"\u001b[0;36m, line \u001b[0;32m2\u001b[0m\n\u001b[0;31m    def knn(x,y,)\u001b[0m\n\u001b[0m                 ^\u001b[0m\n\u001b[0;31mSyntaxError\u001b[0m\u001b[0;31m:\u001b[0m expected ':'\n"
          ]
        }
      ]
    },
    {
      "cell_type": "code",
      "source": [
        "#T-test\n",
        "import statistics\n",
        "def T_test():\n",
        "\n",
        "  #Predicted Data1, Data2\n",
        "\n",
        "  #Statistical quantities\n",
        "  n= actual1.shape[0]\n",
        "  m1= np.mean(actual1)\n",
        "  m2= np.mean(actual2)\n",
        "  s1= statistics.stdev(actual1)\n",
        "  s2= statistics.stdev(actual2)\n",
        "\n",
        "  num= m1-m2\n",
        "  den= (np.square(s1)+ np.square(s2))/n\n",
        "\n",
        "  value= num/ np.sqrt(den)\n",
        "  return value\n",
        "\n",
        "print('T-test Result of the two samples is:',T_test())"
      ],
      "metadata": {
        "id": "1Cz2Hx1suDLu"
      },
      "execution_count": null,
      "outputs": []
    },
    {
      "cell_type": "code",
      "source": [
        "#Decision Tree\n",
        "from sklearn import tree\n",
        "clf= tree.DecisionTreeClassifier()\n",
        "clf.fit(x_train,y_train)\n",
        "for i in tree.plot_tree(clf):\n",
        "  print(i,'\\n')"
      ],
      "metadata": {
        "id": "NVdI9jBJrrwB"
      },
      "execution_count": null,
      "outputs": []
    }
  ],
  "metadata": {
    "colab": {
      "provenance": []
    },
    "kernelspec": {
      "display_name": "Python 3",
      "name": "python3"
    },
    "language_info": {
      "name": "python"
    }
  },
  "nbformat": 4,
  "nbformat_minor": 0
}