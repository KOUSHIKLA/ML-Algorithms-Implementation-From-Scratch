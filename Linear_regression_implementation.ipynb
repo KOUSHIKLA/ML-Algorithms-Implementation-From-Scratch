{
  "nbformat": 4,
  "nbformat_minor": 0,
  "metadata": {
    "colab": {
      "provenance": []
    },
    "kernelspec": {
      "name": "python3",
      "display_name": "Python 3"
    },
    "language_info": {
      "name": "python"
    }
  },
  "cells": [
    {
      "cell_type": "markdown",
      "source": [
        "\n",
        "\n",
        "1.   **NAME-KOUSHIK LAYEK**\n",
        "2.   **STUDENT ID-SC23M007**\n",
        "\n"
      ],
      "metadata": {
        "id": "5KhBmNn9X8mD"
      }
    },
    {
      "cell_type": "code",
      "source": [
        "#import libries\n",
        "import numpy as np\n",
        "import pandas as pd\n",
        "import matplotlib.pyplot as plt\n",
        "from mpl_toolkits.mplot3d import Axes3D\n",
        "import warnings\n",
        "warnings.filterwarnings(\"ignore\")\n",
        "import time\n",
        "import tracemalloc\n",
        "\n",
        "\n",
        "\n"
      ],
      "metadata": {
        "id": "8TsdRN7NDyI5"
      },
      "execution_count": null,
      "outputs": []
    },
    {
      "cell_type": "markdown",
      "source": [
        "# **ANALYZE DATA_1**"
      ],
      "metadata": {
        "id": "vdfOnbmfmohJ"
      }
    },
    {
      "cell_type": "code",
      "execution_count": null,
      "metadata": {
        "id": "_ytW4K-C-j8a"
      },
      "outputs": [],
      "source": [
        "#entry the given data\n",
        "df=pd.read_csv('/content/data1.csv',header=None)\n",
        "\n",
        "#normalised the data\n",
        "for column in df.columns[0:2]:\n",
        "  df[column]=(df[column] - df[column].min()) / (df[column].max() - df[column].min())\n",
        "\n",
        "#slicing the data\n",
        "X=df.iloc[:,:-1]\n",
        "Y=(df.iloc[:,-1].values)\n",
        "Y2=Y.reshape(-1,1)\n",
        "X2 = np.c_[np.ones((X.shape[0],1)), X]\n",
        "total_rows=len(X2)\n",
        "\n",
        "#divided the data into training and testing data\n",
        "train_rows=int(0.8*total_rows)\n",
        "\n",
        "# Generate random indices for the training set\n",
        "train_indices = np.random.choice(total_rows, train_rows, replace=False)\n",
        "\n",
        "# Create the training set\n",
        "X2_train = X2[train_indices, :]\n",
        "Y2_train = Y2[train_indices, :]\n",
        "\n",
        "# Create the testing set by excluding the training indices\n",
        "X2_test = np.delete(X2, train_indices, axis=0)\n",
        "Y2_test = np.delete(Y2, train_indices, axis=0)"
      ]
    },
    {
      "cell_type": "code",
      "source": [
        "# Defining the cost function\n",
        "\n",
        "def cost_fnc(W, X2, Y2):\n",
        "\n",
        "    pred = X2.dot(W) #getting the prediction\n",
        "\n",
        "    cost = (1/2)*np.sum(np.square(Y2 - pred)) #calculating J(w)\n",
        "\n",
        "    return cost"
      ],
      "metadata": {
        "id": "si7YHB8ja1OK"
      },
      "execution_count": null,
      "outputs": []
    },
    {
      "cell_type": "code",
      "source": [
        "# Defining the gradient descent function\n",
        "\n",
        "def grad_desc_fnc(X2, Y2, W, alpha):\n",
        "\n",
        "    n = X2.shape[0] #number of datapoints\n",
        "    m = X2.shape[1] #number of attributes\n",
        "    iter = 1000\n",
        "\n",
        "    cost_iter = np.zeros(iter)\n",
        "    W_iter = np.zeros((iter, m))\n",
        "\n",
        "    for i in range(iter):\n",
        "        pred = X2.dot(W)\n",
        "        W = W - (alpha/n)*(X2.T.dot((pred - Y2)))\n",
        "        W_iter[i,:] = W.T\n",
        "        cost_iter[i] = cost_fnc(W, X2, Y2)\n",
        "\n",
        "    return W, cost_iter, W_iter, iter"
      ],
      "metadata": {
        "id": "5pN8KhaJNnFM"
      },
      "execution_count": null,
      "outputs": []
    },
    {
      "cell_type": "code",
      "source": [
        "def lr(x, y, alpha_opt):\n",
        "\n",
        "  # Setting parameters for Gradient Desecnt\n",
        "  m = x.shape[1]#gives the number of columns\n",
        "  W = np.zeros((m,1))\n",
        "\n",
        "  # Executing  by calling the gradient descent function\n",
        "  W, cost_iter, W_iter, iter = grad_desc_fnc(x, y, W, alpha_opt)\n",
        "\n",
        "  return W, cost_iter, W_iter, iter"
      ],
      "metadata": {
        "id": "2f0qioGbbG92"
      },
      "execution_count": null,
      "outputs": []
    },
    {
      "cell_type": "markdown",
      "source": [
        "#chose alpha value using Monte carlo"
      ],
      "metadata": {
        "id": "meDtYSFIqslm"
      }
    },
    {
      "cell_type": "code",
      "source": [
        "#define a range of alpha value\n",
        "alpha_values=[0.001,0.1,0.0001,0.00001]\n",
        "\n",
        "mse_value=[]\n",
        "\n",
        "#num_repetation=3\n",
        "for i in range(len(alpha_values)):\n",
        "  mse_total=0\n",
        "  for j in range(3):\n",
        "    W,cost_iter,W_iter,iter = lr(X2_train, Y2_train, alpha_values[i])\n",
        "#predicted value on testing data\n",
        "    Y2_test_predicted=X2_test.dot(W)\n",
        "    Y2_test_predicted\n",
        "# Avg. MSE = Avg(Y - Y_pred)\n",
        "    mse = np.sum(np.square(Y2_test - Y2_test_predicted))/Y2_test.shape[0]\n",
        "    mse_total+=mse\n",
        "  average_mse_for_each_alpha=mse_total/3\n",
        "  mse_value.append(average_mse_for_each_alpha)\n",
        "optimal_alpha = alpha_values[np.argmin(mse_value)]\n",
        "print('optimal_alpha=',optimal_alpha)\n",
        "\n",
        "\n",
        "\n",
        "\n"
      ],
      "metadata": {
        "colab": {
          "base_uri": "https://localhost:8080/"
        },
        "id": "z305eJa2q_SZ",
        "outputId": "5c938e76-09dd-4e4d-87b4-ccaac84966c9"
      },
      "execution_count": null,
      "outputs": [
        {
          "output_type": "stream",
          "name": "stdout",
          "text": [
            "optimal_alpha= 0.1\n"
          ]
        }
      ]
    },
    {
      "cell_type": "code",
      "source": [
        "#calling the function\n",
        "W, cost_iter, W_iter, iter = lr(X2_train, Y2_train, optimal_alpha)"
      ],
      "metadata": {
        "id": "pwDxOXmHbQO0"
      },
      "execution_count": null,
      "outputs": []
    },
    {
      "cell_type": "code",
      "source": [
        "W"
      ],
      "metadata": {
        "colab": {
          "base_uri": "https://localhost:8080/"
        },
        "id": "nBju54oqo21y",
        "outputId": "e4bd0534-70de-42c7-d58c-204cdc53f061"
      },
      "execution_count": null,
      "outputs": [
        {
          "output_type": "execute_result",
          "data": {
            "text/plain": [
              "array([[0.02145246],\n",
              "       [0.95629055]])"
            ]
          },
          "metadata": {},
          "execution_count": 146
        }
      ]
    },
    {
      "cell_type": "markdown",
      "source": [
        "**1(a)plot J(w) against iterations**"
      ],
      "metadata": {
        "id": "VxgtRuJtyVAR"
      }
    },
    {
      "cell_type": "code",
      "source": [
        "plt.plot(range(iter),cost_iter,color='green')\n",
        "plt.xlabel('iteration')\n",
        "plt.ylabel('J(w)')\n",
        "plt.show()"
      ],
      "metadata": {
        "colab": {
          "base_uri": "https://localhost:8080/",
          "height": 449
        },
        "id": "E6vIlFJDdYn0",
        "outputId": "da378fc9-42a0-4f80-b6d3-e47226642cd6"
      },
      "execution_count": null,
      "outputs": [
        {
          "output_type": "display_data",
          "data": {
            "text/plain": [
              "<Figure size 640x480 with 1 Axes>"
            ],
            "image/png": "[encoded data removed]"
          },
          "metadata": {}
        }
      ]
    },
    {
      "cell_type": "markdown",
      "source": [
        "**1(b)plot J(w) against w obtained in each iteration for data_1**"
      ],
      "metadata": {
        "id": "7luDayquyjAo"
      }
    },
    {
      "cell_type": "code",
      "source": [
        "fig = plt.figure()\n",
        "ax = fig.add_subplot(111, projection='3d')\n",
        "ax.scatter(W_iter[:,0],W_iter[:,1],cost_iter, cmap='viridis')\n",
        "plt.show()"
      ],
      "metadata": {
        "colab": {
          "base_uri": "https://localhost:8080/",
          "height": 414
        },
        "id": "yY1O26dCensy",
        "outputId": "2fe43779-1c63-4420-9cfe-165174cea01c"
      },
      "execution_count": null,
      "outputs": [
        {
          "output_type": "display_data",
          "data": {
            "text/plain": [
              "<Figure size 640x480 with 1 Axes>"
            ],
            "image/png": "[encoded data removed]"
          },
          "metadata": {}
        }
      ]
    },
    {
      "cell_type": "markdown",
      "source": [
        "**1(c)plot the hyperplane that generates the data_1**"
      ],
      "metadata": {
        "id": "WvFMMRzCyyxn"
      }
    },
    {
      "cell_type": "code",
      "source": [
        "X2_train"
      ],
      "metadata": {
        "id": "_C0CxXMfpQOd"
      },
      "execution_count": null,
      "outputs": []
    },
    {
      "cell_type": "code",
      "source": [
        "#calculate the value of y=w_1x+w_0 and put in as list\n",
        "y=X2_train.dot(W)\n",
        "\n",
        "#convert x into a array\n",
        "x=X2_train[:,1]\n",
        "\n",
        "\n",
        "#plot the graph x vs y\n",
        "plt.plot(x,y,color='green')\n",
        "plt.scatter(x, y, color='blue', marker='o', label='Data Points')\n",
        "plt.show()\n"
      ],
      "metadata": {
        "colab": {
          "base_uri": "https://localhost:8080/",
          "height": 430
        },
        "id": "qZTgbW782Mwj",
        "outputId": "269c2c9e-4092-467a-f376-0ebf5f79af4a"
      },
      "execution_count": null,
      "outputs": [
        {
          "output_type": "display_data",
          "data": {
            "text/plain": [
              "<Figure size 640x480 with 1 Axes>"
            ],
            "image/png": "[encoded data removed]"
          },
          "metadata": {}
        }
      ]
    },
    {
      "cell_type": "markdown",
      "source": [
        "**1(d)Describe the experimental procedure used**"
      ],
      "metadata": {
        "id": "v7jzKzDs8Pla"
      }
    },
    {
      "cell_type": "code",
      "source": [
        "#describe the experimental procedure\n",
        "experimental_procedure=print('Here I used Batch gradient descent algorithm')\n",
        "\n",
        "\n"
      ],
      "metadata": {
        "colab": {
          "base_uri": "https://localhost:8080/"
        },
        "id": "GCycDvrAnX2-",
        "outputId": "4558fda2-6995-4c1f-d387-9528f947cb34"
      },
      "execution_count": null,
      "outputs": [
        {
          "output_type": "stream",
          "name": "stdout",
          "text": [
            "Here I used Batch gradient descent algorithm\n"
          ]
        }
      ]
    },
    {
      "cell_type": "markdown",
      "source": [
        "**1(e)value of the parameter**"
      ],
      "metadata": {
        "id": "SqpyrVzkajfy"
      }
    },
    {
      "cell_type": "code",
      "source": [
        "#value of the parameter\n",
        "W.reshape(1,2)\n"
      ],
      "metadata": {
        "id": "oQ7zwekTojbq",
        "colab": {
          "base_uri": "https://localhost:8080/"
        },
        "outputId": "90c08387-2151-4351-85f9-0f7af7eb737b"
      },
      "execution_count": null,
      "outputs": [
        {
          "output_type": "execute_result",
          "data": {
            "text/plain": [
              "array([[0.01660909, 0.9660674 ]])"
            ]
          },
          "metadata": {},
          "execution_count": 96
        }
      ]
    },
    {
      "cell_type": "markdown",
      "source": [
        "## **ANALYZE DATA_2**"
      ],
      "metadata": {
        "id": "5lAbkfsra5U7"
      }
    },
    {
      "cell_type": "code",
      "source": [
        "#entry the given data\n",
        "df2=pd.read_csv('/content/data2.csv',header=None)\n",
        "\n",
        "#normalised the data\n",
        "for column in df2.columns[0:3]:\n",
        "  df2[column]=(df2[column] - df2[column].min()) / (df2[column].max() - df2[column].min())\n",
        "\n",
        "#slicing the data\n",
        "X=df2.iloc[:,:-1]\n",
        "Y=(df2.iloc[:,-1].values)\n",
        "Y2=Y.reshape(-1,1)\n",
        "X2 = np.c_[np.ones((X.shape[0],1)), X]\n",
        "total_rows=len(X2)\n",
        "\n",
        "#divided the data into training and testing data\n",
        "train_rows=int(0.8*total_rows)\n",
        "\n",
        "# Generate random indices for the training set\n",
        "train_indices = np.random.choice(total_rows, train_rows, replace=False)\n",
        "\n",
        "# Create the training set\n",
        "X2_train = X2[train_indices, :]\n",
        "Y2_train = Y2[train_indices, :]\n",
        "\n",
        "# Create the testing set by excluding the training indices\n",
        "X2_test = np.delete(X2, train_indices, axis=0)\n",
        "Y2_test = np.delete(Y2, train_indices, axis=0)\n"
      ],
      "metadata": {
        "id": "QmlzeQjEbBC7"
      },
      "execution_count": null,
      "outputs": []
    },
    {
      "cell_type": "code",
      "source": [
        "np.shape(X2_train)"
      ],
      "metadata": {
        "colab": {
          "base_uri": "https://localhost:8080/"
        },
        "id": "00Ideq6nqr3y",
        "outputId": "dfd0c8c8-e3e3-432e-f120-52d20b77ab11"
      },
      "execution_count": null,
      "outputs": [
        {
          "output_type": "execute_result",
          "data": {
            "text/plain": [
              "(160, 3)"
            ]
          },
          "metadata": {},
          "execution_count": 167
        }
      ]
    },
    {
      "cell_type": "code",
      "source": [
        "# Defining the cost function\n",
        "\n",
        "def cost_fnc(W, X2, Y2):\n",
        "    pred = X2.dot(W) #getting the prediction\n",
        "\n",
        "    cost = (1/2)*np.sum(np.square(Y2 - pred)) #calculating J(w)\n",
        "\n",
        "    return cost"
      ],
      "metadata": {
        "id": "oUnAWhJ1bVYk"
      },
      "execution_count": null,
      "outputs": []
    },
    {
      "cell_type": "code",
      "source": [
        "# Defining the gradient descent function\n",
        "\n",
        "def grad_desc_fnc(X2, Y2, W, alpha):\n",
        "\n",
        "    n = X2.shape[0] #number of observations\n",
        "    m = X2.shape[1] #number of features/attributes\n",
        "    iter = 800\n",
        "\n",
        "    cost_iter = np.zeros(iter)\n",
        "    W_iter = np.zeros((iter, m))\n",
        "\n",
        "    for i in range(iter):\n",
        "        pred = X2.dot(W)\n",
        "        W = W - (alpha/n)*(X2.T.dot((pred - Y2)))\n",
        "        W_iter[i,:] = W.T\n",
        "        cost_iter[i] = cost_fnc(W, X2, Y2)\n",
        "\n",
        "    return W, cost_iter, W_iter, iter"
      ],
      "metadata": {
        "id": "Pj9O5WLJbbaG"
      },
      "execution_count": null,
      "outputs": []
    },
    {
      "cell_type": "code",
      "source": [
        "def lr(x, y, alpha_opt):\n",
        "\n",
        "  # Setting parameters for Gradient Desecnt\n",
        "  m = x.shape[1]\n",
        "  W = np.zeros((m,1))\n",
        "\n",
        "  # Executing the Gradient Descent by calling the gradient descent function\n",
        "  W, cost_iter, W_iter, iter = grad_desc_fnc(x, y, W, alpha_opt)\n",
        "\n",
        "  return W, cost_iter, W_iter, iter"
      ],
      "metadata": {
        "id": "1iN10dgxdF7Q"
      },
      "execution_count": null,
      "outputs": []
    },
    {
      "cell_type": "markdown",
      "source": [
        "**chosing alpha using monte carlo**"
      ],
      "metadata": {
        "id": "dvh6XmSXOOQG"
      }
    },
    {
      "cell_type": "code",
      "source": [
        "#define a range of alpha value\n",
        "alpha_values=[0.1,0.01,0.0001,0.00001]\n",
        "\n",
        "mse_value=[]\n",
        "\n",
        "#num_repetation=3\n",
        "for i in range(len(alpha_values)):\n",
        "  mse_total=0\n",
        "  for j in range(3):\n",
        "    W,cost_iter,W_iter,iter = lr(X2_train, Y2_train, alpha_values[i])\n",
        "#predicted value on testing data\n",
        "    k=X2_test\n",
        "    p=W\n",
        "    Y2_test_predicted=k.dot(p)\n",
        "    Y2_test_predicted\n",
        "\n",
        "# Avg. MSE = Avg(Y - Y_pred)\n",
        "\n",
        "    mse = np.sum(np.square(Y2_test - Y2_test_predicted))/Y2_test.shape[0]\n",
        "    mse_total+=mse\n",
        "  average_mse_for_each_alpha=mse_total/3\n",
        "  mse_value.append(average_mse_for_each_alpha)\n",
        "optimal_alpha = alpha_values[np.argmin(mse_value)]\n",
        "print('optimal_alpha=',optimal_alpha)\n"
      ],
      "metadata": {
        "id": "_jnm0PBpdM6k",
        "colab": {
          "base_uri": "https://localhost:8080/"
        },
        "outputId": "0ee52eea-4e6c-484e-fffe-2aa190503018"
      },
      "execution_count": null,
      "outputs": [
        {
          "output_type": "stream",
          "name": "stdout",
          "text": [
            "optimal_alpha= 0.1\n"
          ]
        }
      ]
    },
    {
      "cell_type": "code",
      "source": [
        "#calling the function\n",
        "W, cost_iter, W_iter, iter = lr(X2_train, Y2_train, optimal_alpha)"
      ],
      "metadata": {
        "id": "SbrC9ahAdQ1G"
      },
      "execution_count": null,
      "outputs": []
    },
    {
      "cell_type": "markdown",
      "source": [
        "# **1(a)Plot J(w) against iteration**"
      ],
      "metadata": {
        "id": "e_HCLFR6ebMt"
      }
    },
    {
      "cell_type": "code",
      "source": [
        "plt.plot(range(iter),cost_iter,color='green')\n",
        "plt.xlabel('iteration')\n",
        "plt.ylabel('J(w)')\n",
        "plt.show()"
      ],
      "metadata": {
        "colab": {
          "base_uri": "https://localhost:8080/",
          "height": 451
        },
        "id": "eSbdjSY-dRt9",
        "outputId": "cfa31160-eb66-4bcf-8864-addc24d0af03"
      },
      "execution_count": null,
      "outputs": [
        {
          "output_type": "display_data",
          "data": {
            "text/plain": [
              "<Figure size 640x480 with 1 Axes>"
            ],
            "image/png": "[encoded data removed]"
          },
          "metadata": {}
        }
      ]
    },
    {
      "cell_type": "markdown",
      "source": [
        "# **1(c)plot the hyperplane that generates the data**"
      ],
      "metadata": {
        "id": "b9-iZSP1etF-"
      }
    },
    {
      "cell_type": "code",
      "source": [
        "#calculate the value of y=w_2x_2+w_1x_1+w_0 and put in as list\n",
        "y=X2_train.dot(W)\n",
        "\n",
        "#plot the graph x vs y\n",
        "fig = plt.figure()\n",
        "ax = fig.add_subplot(111, projection='3d')\n",
        "ax.scatter(X2_train[:,-2],X2_train[:,-1],y)\n",
        "\n",
        "#label the axes\n",
        "ax.set_xlabel('x_1')\n",
        "ax.set_ylabel('X_2')\n",
        "ax.set_title('linear regression hyperplane in 3D')\n",
        "plt.show()\n"
      ],
      "metadata": {
        "colab": {
          "base_uri": "https://localhost:8080/",
          "height": 438
        },
        "id": "edXK_PDkdYbD",
        "outputId": "b1aa664c-09ad-499d-cdef-e8a0109333f8"
      },
      "execution_count": null,
      "outputs": [
        {
          "output_type": "display_data",
          "data": {
            "text/plain": [
              "<Figure size 640x480 with 1 Axes>"
            ],
            "image/png": "[encoded data removed]"
          },
          "metadata": {}
        }
      ]
    },
    {
      "cell_type": "markdown",
      "source": [
        "# **1(d)Describe the experimental procedure used**"
      ],
      "metadata": {
        "id": "RCj28YCElzHd"
      }
    },
    {
      "cell_type": "code",
      "source": [
        "print('Here I used Batch Gradient descent method')"
      ],
      "metadata": {
        "colab": {
          "base_uri": "https://localhost:8080/"
        },
        "id": "kMXv4Tv9fHgi",
        "outputId": "14c434aa-f571-4640-ae5a-3425ad1773b1"
      },
      "execution_count": null,
      "outputs": [
        {
          "output_type": "stream",
          "name": "stdout",
          "text": [
            "Here I used Batch Gradient descent method\n"
          ]
        }
      ]
    },
    {
      "cell_type": "markdown",
      "source": [
        "# **1(e)Report the parameter of the model**"
      ],
      "metadata": {
        "id": "gmpwsMQcmKmU"
      }
    },
    {
      "cell_type": "code",
      "source": [
        "parameter=W.reshape(1,3)\n",
        "parameter"
      ],
      "metadata": {
        "colab": {
          "base_uri": "https://localhost:8080/"
        },
        "id": "GwrDwtzymIpK",
        "outputId": "757d4cf0-d5eb-4eb3-e335-f3c2f4fdf4f2"
      },
      "execution_count": null,
      "outputs": [
        {
          "output_type": "execute_result",
          "data": {
            "text/plain": [
              "array([[ 0.99438979, -0.99519193,  0.00594936]])"
            ]
          },
          "metadata": {},
          "execution_count": 177
        }
      ]
    },
    {
      "cell_type": "markdown",
      "source": [
        "# **ANALYZE DATA_3 USING LINEAR REGRESSION**"
      ],
      "metadata": {
        "id": "SLaWTdMRnGmu"
      }
    },
    {
      "cell_type": "code",
      "source": [
        "#entry the given data\n",
        "df3=pd.read_csv('/content/data3.csv',header=None)\n",
        "\n",
        "#normalised the data\n",
        "for column in df3.columns[0:51]:\n",
        "  df3[column]=(df3[column] - df3[column].min()) / (df3[column].max() - df3[column].min())\n",
        "\n",
        "#slicing the data\n",
        "X=df3.iloc[:,:-1]\n",
        "Y=(df3.iloc[:,-1].values)\n",
        "Y2=Y.reshape(-1,1)\n",
        "X2 = np.c_[np.ones((X.shape[0],1)), X]\n",
        "total_rows=len(X2)\n",
        "\n",
        "#divided the data into training and testing data\n",
        "train_rows=int(0.8*total_rows)\n",
        "\n",
        "# Generate random indices for the training set\n",
        "train_indices = np.random.choice(total_rows, train_rows, replace=False)\n",
        "\n",
        "# Create the training set\n",
        "X2_train = X2[train_indices, :]\n",
        "Y2_train = Y2[train_indices, :]\n",
        "\n",
        "# Create the testing set by excluding the training indices\n",
        "X2_test = np.delete(X2, train_indices, axis=0)\n",
        "Y2_test = np.delete(Y2, train_indices, axis=0)\n",
        "\n"
      ],
      "metadata": {
        "id": "I6YX2ZBQnPau"
      },
      "execution_count": null,
      "outputs": []
    },
    {
      "cell_type": "markdown",
      "source": [
        "# **2(a)Find the parameter using direct method and iterative method**"
      ],
      "metadata": {
        "id": "5QoRQnveoUZr"
      }
    },
    {
      "cell_type": "code",
      "source": [
        "#Find the parameter using direct method\n",
        "\n",
        "\n",
        "#direct method\n",
        "X_T_X=(X2.T.dot(X2))\n",
        "inverse_part=np.linalg.inv(X_T_X)\n",
        "X_T_Y=(X2.T.dot(Y2))\n",
        "\n",
        "#calculate weight(w)\n",
        "W_direct_method=inverse_part.dot(X_T_Y)\n",
        "print('W=',W_direct_method.reshape(1,51))\n",
        "\n",
        "\n",
        "\n",
        "\n"
      ],
      "metadata": {
        "id": "BsAlFksNnxnM",
        "colab": {
          "base_uri": "https://localhost:8080/"
        },
        "outputId": "8d43ef0f-7ef8-42c1-f10e-04ae6513788d"
      },
      "execution_count": null,
      "outputs": [
        {
          "output_type": "stream",
          "name": "stdout",
          "text": [
            "W= [[-2.71733147  0.03615938  0.15786671  0.06013245  0.09173116  0.12722907\n",
            "   0.21486356  0.15672859  0.17561753  0.03642319  0.15321616  0.25326768\n",
            "   0.05086404  0.15710114  0.03058537  0.10961965  0.18709581  0.03240867\n",
            "   0.19861451  0.1737768   0.24328497  0.18695047  0.10928743  0.16044336\n",
            "   0.1346809   0.02628632  0.16578363  0.24208039  0.11713739  0.19075899\n",
            "   0.14180716  0.06076273  0.15910835  0.04689662  0.21030626  0.05529417\n",
            "   0.04796783  0.24471129  0.07041322  0.05643851  0.15541631  0.08228961\n",
            "   0.08362933  0.23189984  0.08849915  0.04098738  0.05460978  0.09443089\n",
            "   0.21751512  0.16989217  0.07693597]]\n"
          ]
        }
      ]
    },
    {
      "cell_type": "code",
      "source": [
        "#Find the parameter using iterative method\n",
        "\n",
        "\n",
        "# Defining the cost function\n",
        "\n",
        "def cost_fnc(W, X2, Y2):\n",
        "\n",
        "    n = X2.shape[0] #number of observations\n",
        "    pred = X2.dot(W) #getting the prediction\n",
        "\n",
        "    cost = (1/2)*np.sum(np.square(Y2 - pred)) #calculating J(w)\n",
        "\n",
        "    return cost"
      ],
      "metadata": {
        "id": "f4iOEyCpvGT5"
      },
      "execution_count": null,
      "outputs": []
    },
    {
      "cell_type": "code",
      "source": [
        "# Defining the gradient descent function\n",
        "\n",
        "def grad_desc_fnc(X2, Y2, W, alpha):\n",
        "\n",
        "    n = X2.shape[0] #number of observations\n",
        "    m = X2.shape[1] #number of features/attributes\n",
        "    iter = 2000\n",
        "\n",
        "    cost_iter = np.zeros(iter)\n",
        "    W_iter = np.zeros((iter, m))\n",
        "\n",
        "    for i in range(iter):\n",
        "        pred = X2.dot(W)\n",
        "        W = W - (alpha/n)*(X2.T.dot((pred - Y2)))\n",
        "        W_iter[i,:] = W.T\n",
        "        cost_iter[i] = cost_fnc(W, X2, Y2)\n",
        "\n",
        "    return W, cost_iter, W_iter, iter"
      ],
      "metadata": {
        "id": "LqDCoJ6-xMuA"
      },
      "execution_count": null,
      "outputs": []
    },
    {
      "cell_type": "code",
      "source": [
        "def lr(x, y, alpha_opt):\n",
        "\n",
        "  # Setting parameters for Gradient Desecnt\n",
        "  m = x.shape[1]\n",
        "  W = np.zeros((m,1))\n",
        "\n",
        "  # Executing the Gradient Descent by calling the gradient descent function\n",
        "  W, cost_iter, W_iter, iter = grad_desc_fnc(x, y, W, alpha_opt)\n",
        "\n",
        "  return W, cost_iter, W_iter, iter"
      ],
      "metadata": {
        "id": "AGWLembzxWpz"
      },
      "execution_count": null,
      "outputs": []
    },
    {
      "cell_type": "markdown",
      "source": [
        "**Chosing alpha using monte carlo**"
      ],
      "metadata": {
        "id": "NICpSdCLNpxs"
      }
    },
    {
      "cell_type": "code",
      "source": [
        "#define a range of alpha value\n",
        "alpha_values=[0.001,1e-6,0.0001,0.00001]\n",
        "\n",
        "mse_value=[]\n",
        "\n",
        "#num_repetation=3\n",
        "for i in range(len(alpha_values)):\n",
        "  mse_total=0\n",
        "  for j in range(30):\n",
        "    W,cost_iter,W_iter,iter = lr(X2_train, Y2_train, alpha_values[i])\n",
        "#predicted value on testing data\n",
        "    k=X2_test\n",
        "    p=W\n",
        "    Y2_test_predicted=k.dot(p)\n",
        "    Y2_test_predicted\n",
        "\n",
        "# Avg. MSE = Avg(Y - Y_pred)\n",
        "\n",
        "    mse = np.sum(np.square(Y2_test - Y2_test_predicted))/Y2_test.shape[0]\n",
        "    mse_total+=mse\n",
        "  average_mse_for_each_alpha=mse_total/3\n",
        "  mse_value.append(average_mse_for_each_alpha)\n",
        "optimal_alpha = alpha_values[np.argmin(mse_value)]\n",
        "print('optimal_alpha=',optimal_alpha)\n"
      ],
      "metadata": {
        "id": "c2L0v8B1xb0F",
        "colab": {
          "base_uri": "https://localhost:8080/"
        },
        "outputId": "7e2c24d4-8766-4ecd-8d65-e76528ae9ac3"
      },
      "execution_count": null,
      "outputs": [
        {
          "output_type": "stream",
          "name": "stdout",
          "text": [
            "optimal_alpha= 0.001\n"
          ]
        }
      ]
    },
    {
      "cell_type": "code",
      "source": [
        "#calling the function\n",
        "W, cost_iter, W_iter, iter = lr(X2_train, Y2_train, optimal_alpha)\n"
      ],
      "metadata": {
        "id": "2VkO42xtxcO1"
      },
      "execution_count": null,
      "outputs": []
    },
    {
      "cell_type": "code",
      "source": [
        "W_iter"
      ],
      "metadata": {
        "colab": {
          "base_uri": "https://localhost:8080/"
        },
        "id": "mHpSOStkBvVW",
        "outputId": "2af82969-e436-41ee-8794-cfd2899e6fc5"
      },
      "execution_count": null,
      "outputs": [
        {
          "output_type": "execute_result",
          "data": {
            "text/plain": [
              "array([[0.00047273, 0.00024836, 0.00024033, ..., 0.00025008, 0.00022041,\n",
              "        0.00023895],\n",
              "       [0.00093904, 0.00049339, 0.00047744, ..., 0.00049684, 0.0004379 ,\n",
              "        0.00047462],\n",
              "       [0.00139902, 0.00073512, 0.0007114 , ..., 0.00074033, 0.00065252,\n",
              "        0.00070706],\n",
              "       ...,\n",
              "       [0.02248011, 0.01711382, 0.01950377, ..., 0.02306124, 0.02088735,\n",
              "        0.00772371],\n",
              "       [0.02247353, 0.01711307, 0.01950454, ..., 0.02306343, 0.02088955,\n",
              "        0.0077187 ],\n",
              "       [0.02246695, 0.01711233, 0.01950531, ..., 0.02306561, 0.02089175,\n",
              "        0.00771369]])"
            ]
          },
          "metadata": {},
          "execution_count": 186
        }
      ]
    },
    {
      "cell_type": "markdown",
      "source": [
        "# **2(b) Compare the time taken and space requirements of two approaches.**"
      ],
      "metadata": {
        "id": "eX2WouGL1KbL"
      }
    },
    {
      "cell_type": "markdown",
      "source": [
        "Time taken and space taken  for direct method"
      ],
      "metadata": {
        "id": "zMzsB02DChYb"
      }
    },
    {
      "cell_type": "code",
      "source": [
        "#time and space taken for direct method\n",
        "\n",
        "#starting the monitaring\n",
        "tracemalloc.start()\n",
        "\n",
        "\n",
        "#for counting time\n",
        "start_time=time.time()\n",
        "\n",
        "X_T_X=(X2.T.dot(X2))\n",
        "inverse_part=np.linalg.inv(X_T_X)\n",
        "X_T_Y=(X2.T.dot(Y2))\n",
        "\n",
        "#calculate weight(w)\n",
        "W_direct_method=inverse_part.dot(X_T_Y)\n",
        "\n",
        "#ending time\n",
        "end_time=time.time()\n",
        "\n",
        "#time diff calculating\n",
        "time_d=end_time-start_time\n",
        "\n",
        "print(\"space taken=\",tracemalloc.get_traced_memory())\n",
        "\n",
        "#stop monitaring\n",
        "tracemalloc.stop()\n",
        "\n",
        "\n",
        "print('time taken in the direct_method=',time_d)"
      ],
      "metadata": {
        "colab": {
          "base_uri": "https://localhost:8080/"
        },
        "id": "kkE671bFy25O",
        "outputId": "c52083f0-1b46-424e-dfbe-57b84bd09e8e"
      },
      "execution_count": null,
      "outputs": [
        {
          "output_type": "stream",
          "name": "stdout",
          "text": [
            "space taken= (64807, 102037)\n",
            "time taken in the direct_method= 0.011493206024169922\n"
          ]
        }
      ]
    },
    {
      "cell_type": "markdown",
      "source": [
        "Time and Space taken for iterative method"
      ],
      "metadata": {
        "id": "y5QX7IGwU5LE"
      }
    },
    {
      "cell_type": "code",
      "source": [
        "#time taken for iterative method\n",
        "start_time=time.time()\n",
        "W, cost_iter, W_iter, iter = lr(X2_train, Y2_train, optimal_alpha)\n",
        "\n",
        "end_time=time.time()\n",
        "\n",
        "time_difference=end_time-start_time\n",
        "print('time taken in iterative_method=',time_difference)\n"
      ],
      "metadata": {
        "colab": {
          "base_uri": "https://localhost:8080/"
        },
        "id": "XDpcr37MVCMg",
        "outputId": "ff07bd72-25b1-4644-fd4f-49849af017d7"
      },
      "execution_count": null,
      "outputs": [
        {
          "output_type": "stream",
          "name": "stdout",
          "text": [
            "time taken in iterative_method= 0.05368232727050781\n"
          ]
        }
      ]
    },
    {
      "cell_type": "markdown",
      "source": [
        "space taken by iterative method"
      ],
      "metadata": {
        "id": "jap5NizkWE41"
      }
    },
    {
      "cell_type": "code",
      "source": [
        "#starting the monitoring\n",
        "tracemalloc.start()\n",
        "\n",
        "#my function\n",
        "W, cost_iter, W_iter, iter = lr(X2_train, Y2_train, optimal_alpha)\n",
        "\n",
        "\n",
        "#display the memory\n",
        "print(\"space taken=\",tracemalloc.get_traced_memory())\n",
        "\n",
        "#stop the monitaring\n",
        "tracemalloc.stop()\n",
        "\n",
        "\n"
      ],
      "metadata": {
        "colab": {
          "base_uri": "https://localhost:8080/"
        },
        "id": "CbL6aO7gV4B5",
        "outputId": "08728579-af61-4eec-c86a-4a160757be0b"
      },
      "execution_count": null,
      "outputs": [
        {
          "output_type": "stream",
          "name": "stdout",
          "text": [
            "space taken= (834701, 845157)\n"
          ]
        }
      ]
    },
    {
      "cell_type": "markdown",
      "source": [
        "# **2(d)Report the values of the hyperparameters and parameters of the model**"
      ],
      "metadata": {
        "id": "0TqVv_ezUB9y"
      }
    },
    {
      "cell_type": "code",
      "source": [
        "np.shape(W)"
      ],
      "metadata": {
        "colab": {
          "base_uri": "https://localhost:8080/"
        },
        "id": "t-KC4qxVsVFl",
        "outputId": "62ae3f58-7a0a-45b6-800b-0a72132196c1"
      },
      "execution_count": null,
      "outputs": [
        {
          "output_type": "execute_result",
          "data": {
            "text/plain": [
              "(51, 1)"
            ]
          },
          "metadata": {},
          "execution_count": 64
        }
      ]
    },
    {
      "cell_type": "code",
      "source": [
        "#values of the parameters\n",
        "parameters_value=W.reshape(1,51)\n",
        "print('parameters_value for data3 are=',parameters_value)\n",
        "\n",
        "\n",
        "#values of the hyperparameters\n",
        "print('hyperparameter_value for data3 is =',optimal_alpha)\n"
      ],
      "metadata": {
        "colab": {
          "base_uri": "https://localhost:8080/"
        },
        "id": "BJ2aQI58NgQi",
        "outputId": "b90d9ed2-2ec1-47bd-a8c9-196cb06f6d9e"
      },
      "execution_count": null,
      "outputs": [
        {
          "output_type": "stream",
          "name": "stdout",
          "text": [
            "parameters_value for data3 are= [[-0.91857261  0.04590331  0.10888249 -0.01681123  0.09415452  0.06058478\n",
            "   0.23530478 -0.01818338  0.12741754 -0.04106954  0.08141161  0.08449418\n",
            "  -0.05025557  0.06571948 -0.09493154  0.11685326  0.11599997  0.06654766\n",
            "   0.10328757  0.05260406  0.31399368  0.10893228  0.16544851  0.01160129\n",
            "  -0.05422791 -0.11928069  0.09805588  0.20112098  0.02673835  0.13147563\n",
            "   0.05484149 -0.0661266   0.04804166 -0.07693514  0.13762721  0.09686691\n",
            "   0.03249649  0.01374524  0.02716535 -0.09654295  0.08941119 -0.00842612\n",
            "   0.06831655  0.19957991  0.07837215 -0.05224822  0.00568853 -0.02402658\n",
            "   0.16224627  0.19452956 -0.10914537]]\n",
            "hyperparameter_value for data3 is = 0.1\n"
          ]
        }
      ]
    },
    {
      "cell_type": "markdown",
      "source": [
        "### **2(e)Analyze the performance of the model**"
      ],
      "metadata": {
        "id": "hPpSv02aHn9J"
      }
    },
    {
      "cell_type": "markdown",
      "source": [
        "For iterative method"
      ],
      "metadata": {
        "id": "zs7T2kYSMk5G"
      }
    },
    {
      "cell_type": "code",
      "source": [
        "#predicted value on testing data\n",
        "min(mse_value)"
      ],
      "metadata": {
        "colab": {
          "base_uri": "https://localhost:8080/"
        },
        "id": "hggysh4zUUlI",
        "outputId": "746cbdd7-c587-421f-edf3-a362f7a2f694"
      },
      "execution_count": null,
      "outputs": [
        {
          "output_type": "execute_result",
          "data": {
            "text/plain": [
              "0.3718700255909823"
            ]
          },
          "metadata": {},
          "execution_count": 206
        }
      ]
    },
    {
      "cell_type": "markdown",
      "source": [
        "For direct method"
      ],
      "metadata": {
        "id": "BDnJ7qOaMs14"
      }
    },
    {
      "cell_type": "code",
      "source": [
        "# Getting prediction on the test data\n",
        "\n",
        "Y2_test_pred = X2_test.dot(W_direct_method)\n",
        "\n",
        "\n",
        "# Avg. MSE = Avg(Y - Y_pred)\n",
        "\n",
        "mse = np.sum(np.square(Y2_test - Y2_test_pred))/Y2_test.shape[0]\n",
        "\n",
        "print(\"MSE via direct method is \", mse)"
      ],
      "metadata": {
        "colab": {
          "base_uri": "https://localhost:8080/"
        },
        "id": "vy6C8syIzfoa",
        "outputId": "d00ab851-af3e-4a9c-caae-36c77126dc10"
      },
      "execution_count": null,
      "outputs": [
        {
          "output_type": "stream",
          "name": "stdout",
          "text": [
            "MSE via direct method is  1.4672716037785504e-11\n"
          ]
        }
      ]
    },
    {
      "cell_type": "code",
      "source": [],
      "metadata": {
        "id": "AkGhZJGldyhI"
      },
      "execution_count": null,
      "outputs": []
    }
  ]
}